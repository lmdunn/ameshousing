{
 "cells": [
  {
   "cell_type": "code",
   "execution_count": 2,
   "id": "3d92fd00-ec72-4782-8085-5ce4c1684979",
   "metadata": {},
   "outputs": [],
   "source": [
    "import numpy as np\n",
    "import pandas as pd\n",
    "import matplotlib.pyplot as plt\n",
    "import seaborn as sns\n",
    "\n",
    "from sklearn.preprocessing import PolynomialFeatures, StandardScaler\n",
    "from sklearn.model_selection import train_test_split, cross_val_score\n",
    "from sklearn.linear_model import LinearRegression, LogisticRegression\n",
    "from sklearn import metrics\n"
   ]
  },
  {
   "cell_type": "code",
   "execution_count": 6,
   "id": "5626d84f-10d5-4896-b204-10fe872381cd",
   "metadata": {},
   "outputs": [],
   "source": [
    "df = pd.read_csv('datasets/draft2_no_dummies_train.csv')"
   ]
  },
  {
   "cell_type": "code",
   "execution_count": 17,
   "id": "59b28426-ae18-4b19-a521-4b48e04b4506",
   "metadata": {},
   "outputs": [
    {
     "data": {
      "text/html": [
       "<div>\n",
       "<style scoped>\n",
       "    .dataframe tbody tr th:only-of-type {\n",
       "        vertical-align: middle;\n",
       "    }\n",
       "\n",
       "    .dataframe tbody tr th {\n",
       "        vertical-align: top;\n",
       "    }\n",
       "\n",
       "    .dataframe thead th {\n",
       "        text-align: right;\n",
       "    }\n",
       "</style>\n",
       "<table border=\"1\" class=\"dataframe\">\n",
       "  <thead>\n",
       "    <tr style=\"text-align: right;\">\n",
       "      <th></th>\n",
       "      <th>saleprice</th>\n",
       "    </tr>\n",
       "  </thead>\n",
       "  <tbody>\n",
       "    <tr>\n",
       "      <th>saleprice</th>\n",
       "      <td>1.000000</td>\n",
       "    </tr>\n",
       "    <tr>\n",
       "      <th>overall_qual</th>\n",
       "      <td>0.799028</td>\n",
       "    </tr>\n",
       "    <tr>\n",
       "      <th>exter_qual</th>\n",
       "      <td>0.710894</td>\n",
       "    </tr>\n",
       "    <tr>\n",
       "      <th>gr_liv_area</th>\n",
       "      <td>0.698160</td>\n",
       "    </tr>\n",
       "    <tr>\n",
       "      <th>kitchen_qual</th>\n",
       "      <td>0.691090</td>\n",
       "    </tr>\n",
       "  </tbody>\n",
       "</table>\n",
       "</div>"
      ],
      "text/plain": [
       "              saleprice\n",
       "saleprice      1.000000\n",
       "overall_qual   0.799028\n",
       "exter_qual     0.710894\n",
       "gr_liv_area    0.698160\n",
       "kitchen_qual   0.691090"
      ]
     },
     "execution_count": 17,
     "metadata": {},
     "output_type": "execute_result"
    }
   ],
   "source": [
    "correlations = pd.DataFrame(df.corr()['saleprice'].sort_values(ascending = False))\n",
    "correlations.head()"
   ]
  },
  {
   "cell_type": "code",
   "execution_count": 19,
   "id": "0136ea47-6547-42bc-b28d-c598ef93a339",
   "metadata": {},
   "outputs": [
    {
     "data": {
      "text/html": [
       "<div>\n",
       "<style scoped>\n",
       "    .dataframe tbody tr th:only-of-type {\n",
       "        vertical-align: middle;\n",
       "    }\n",
       "\n",
       "    .dataframe tbody tr th {\n",
       "        vertical-align: top;\n",
       "    }\n",
       "\n",
       "    .dataframe thead th {\n",
       "        text-align: right;\n",
       "    }\n",
       "</style>\n",
       "<table border=\"1\" class=\"dataframe\">\n",
       "  <thead>\n",
       "    <tr style=\"text-align: right;\">\n",
       "      <th></th>\n",
       "      <th>corr</th>\n",
       "    </tr>\n",
       "  </thead>\n",
       "  <tbody>\n",
       "    <tr>\n",
       "      <th>saleprice</th>\n",
       "      <td>1.000000</td>\n",
       "    </tr>\n",
       "    <tr>\n",
       "      <th>overall_qual</th>\n",
       "      <td>0.799028</td>\n",
       "    </tr>\n",
       "    <tr>\n",
       "      <th>exter_qual</th>\n",
       "      <td>0.710894</td>\n",
       "    </tr>\n",
       "    <tr>\n",
       "      <th>gr_liv_area</th>\n",
       "      <td>0.698160</td>\n",
       "    </tr>\n",
       "    <tr>\n",
       "      <th>kitchen_qual</th>\n",
       "      <td>0.691090</td>\n",
       "    </tr>\n",
       "  </tbody>\n",
       "</table>\n",
       "</div>"
      ],
      "text/plain": [
       "                  corr\n",
       "saleprice     1.000000\n",
       "overall_qual  0.799028\n",
       "exter_qual    0.710894\n",
       "gr_liv_area   0.698160\n",
       "kitchen_qual  0.691090"
      ]
     },
     "execution_count": 19,
     "metadata": {},
     "output_type": "execute_result"
    }
   ],
   "source": [
    "correlations.rename(columns = {'saleprice': 'corr'}, inplace = True)\n",
    "correlations.head()"
   ]
  },
  {
   "cell_type": "code",
   "execution_count": 32,
   "id": "f3f96d0b-188b-4c76-a41c-d6fef40c215d",
   "metadata": {},
   "outputs": [],
   "source": [
    "corr_above50 = correlations[correlations['corr']>.5].index.tolist()"
   ]
  },
  {
   "cell_type": "code",
   "execution_count": 34,
   "id": "62117886-032f-401d-b98f-5c898be32a28",
   "metadata": {},
   "outputs": [
    {
     "name": "stdout",
     "output_type": "stream",
     "text": [
      "<class 'list'>\n"
     ]
    },
    {
     "data": {
      "text/plain": [
       "['saleprice',\n",
       " 'overall_qual',\n",
       " 'exter_qual',\n",
       " 'gr_liv_area',\n",
       " 'kitchen_qual',\n",
       " 'total_bsmt_sf',\n",
       " '1st_flr_sf',\n",
       " 'year_built',\n",
       " 'year_remod/add',\n",
       " 'full_bath',\n",
       " 'mas_vnr_area',\n",
       " 'totrms_abvgrd']"
      ]
     },
     "execution_count": 34,
     "metadata": {},
     "output_type": "execute_result"
    }
   ],
   "source": [
    "print(type(corr_above50))\n",
    "corr_above50"
   ]
  },
  {
   "cell_type": "code",
   "execution_count": null,
   "id": "b53bee56-8377-453f-b872-59426ba83f89",
   "metadata": {},
   "outputs": [],
   "source": []
  }
 ],
 "metadata": {
  "kernelspec": {
   "display_name": "Python [conda env:dsi]",
   "language": "python",
   "name": "conda-env-dsi-py"
  },
  "language_info": {
   "codemirror_mode": {
    "name": "ipython",
    "version": 3
   },
   "file_extension": ".py",
   "mimetype": "text/x-python",
   "name": "python",
   "nbconvert_exporter": "python",
   "pygments_lexer": "ipython3",
   "version": "3.9.12"
  }
 },
 "nbformat": 4,
 "nbformat_minor": 5
}
