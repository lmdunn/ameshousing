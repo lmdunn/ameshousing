{
 "cells": [
  {
   "cell_type": "code",
   "execution_count": 173,
   "id": "0811b7fa-fb1a-4283-9726-6781ebc93c62",
   "metadata": {},
   "outputs": [],
   "source": [
    "import pandas as pd\n",
    "import matplotlib.pyplot as plt\n",
    "import seaborn as sns"
   ]
  },
  {
   "cell_type": "code",
   "execution_count": 174,
   "id": "e573bb4f-9f1a-4b91-ac93-f0a87ffa84ac",
   "metadata": {},
   "outputs": [],
   "source": [
    "df = pd.read_csv('datasets/draft1_cleaned_train.csv')"
   ]
  },
  {
   "cell_type": "code",
   "execution_count": 175,
   "id": "8c4ac9cf-d41c-4210-9198-c0fb8076fb3f",
   "metadata": {
    "tags": []
   },
   "outputs": [
    {
     "data": {
      "text/html": [
       "<div>\n",
       "<style scoped>\n",
       "    .dataframe tbody tr th:only-of-type {\n",
       "        vertical-align: middle;\n",
       "    }\n",
       "\n",
       "    .dataframe tbody tr th {\n",
       "        vertical-align: top;\n",
       "    }\n",
       "\n",
       "    .dataframe thead th {\n",
       "        text-align: right;\n",
       "    }\n",
       "</style>\n",
       "<table border=\"1\" class=\"dataframe\">\n",
       "  <thead>\n",
       "    <tr style=\"text-align: right;\">\n",
       "      <th></th>\n",
       "      <th>id</th>\n",
       "      <th>pid</th>\n",
       "      <th>ms_subclass</th>\n",
       "      <th>ms_zoning</th>\n",
       "      <th>lot_frontage</th>\n",
       "      <th>lot_area</th>\n",
       "      <th>street</th>\n",
       "      <th>alley</th>\n",
       "      <th>lot_shape</th>\n",
       "      <th>land_contour</th>\n",
       "      <th>...</th>\n",
       "      <th>screen_porch</th>\n",
       "      <th>pool_area</th>\n",
       "      <th>pool_qc</th>\n",
       "      <th>fence</th>\n",
       "      <th>misc_feature</th>\n",
       "      <th>misc_val</th>\n",
       "      <th>mo_sold</th>\n",
       "      <th>yr_sold</th>\n",
       "      <th>sale_type</th>\n",
       "      <th>saleprice</th>\n",
       "    </tr>\n",
       "  </thead>\n",
       "  <tbody>\n",
       "    <tr>\n",
       "      <th>0</th>\n",
       "      <td>109</td>\n",
       "      <td>533352170</td>\n",
       "      <td>60</td>\n",
       "      <td>RL</td>\n",
       "      <td>0.0</td>\n",
       "      <td>13517</td>\n",
       "      <td>Pave</td>\n",
       "      <td>None</td>\n",
       "      <td>IR1</td>\n",
       "      <td>Lvl</td>\n",
       "      <td>...</td>\n",
       "      <td>0</td>\n",
       "      <td>0</td>\n",
       "      <td>No Pool</td>\n",
       "      <td>No Fence</td>\n",
       "      <td>No Addl Features</td>\n",
       "      <td>0</td>\n",
       "      <td>3</td>\n",
       "      <td>2010</td>\n",
       "      <td>WD</td>\n",
       "      <td>130500</td>\n",
       "    </tr>\n",
       "    <tr>\n",
       "      <th>1</th>\n",
       "      <td>544</td>\n",
       "      <td>531379050</td>\n",
       "      <td>60</td>\n",
       "      <td>RL</td>\n",
       "      <td>43.0</td>\n",
       "      <td>11492</td>\n",
       "      <td>Pave</td>\n",
       "      <td>None</td>\n",
       "      <td>IR1</td>\n",
       "      <td>Lvl</td>\n",
       "      <td>...</td>\n",
       "      <td>0</td>\n",
       "      <td>0</td>\n",
       "      <td>No Pool</td>\n",
       "      <td>No Fence</td>\n",
       "      <td>No Addl Features</td>\n",
       "      <td>0</td>\n",
       "      <td>4</td>\n",
       "      <td>2009</td>\n",
       "      <td>WD</td>\n",
       "      <td>220000</td>\n",
       "    </tr>\n",
       "  </tbody>\n",
       "</table>\n",
       "<p>2 rows × 81 columns</p>\n",
       "</div>"
      ],
      "text/plain": [
       "    id        pid  ms_subclass ms_zoning  lot_frontage  lot_area street alley  \\\n",
       "0  109  533352170           60        RL           0.0     13517   Pave  None   \n",
       "1  544  531379050           60        RL          43.0     11492   Pave  None   \n",
       "\n",
       "  lot_shape land_contour  ... screen_porch pool_area  pool_qc     fence  \\\n",
       "0       IR1          Lvl  ...            0         0  No Pool  No Fence   \n",
       "1       IR1          Lvl  ...            0         0  No Pool  No Fence   \n",
       "\n",
       "       misc_feature misc_val mo_sold yr_sold  sale_type  saleprice  \n",
       "0  No Addl Features        0       3    2010        WD      130500  \n",
       "1  No Addl Features        0       4    2009        WD      220000  \n",
       "\n",
       "[2 rows x 81 columns]"
      ]
     },
     "execution_count": 175,
     "metadata": {},
     "output_type": "execute_result"
    }
   ],
   "source": [
    "df.head(2)"
   ]
  },
  {
   "cell_type": "markdown",
   "id": "809a4b15-5979-49fb-82d1-8a2991ceaa6c",
   "metadata": {},
   "source": [
    "I'm returning here to double check things that may need further cleaning, to see if they were correct or not correct in the 'draft1_cleaned_train.csv' file"
   ]
  },
  {
   "cell_type": "code",
   "execution_count": 176,
   "id": "44827072-b6b2-4063-b39f-f07fd85a5169",
   "metadata": {},
   "outputs": [
    {
     "data": {
      "text/plain": [
       "Pave    2021\n",
       "Grvl       7\n",
       "Name: street, dtype: int64"
      ]
     },
     "execution_count": 176,
     "metadata": {},
     "output_type": "execute_result"
    }
   ],
   "source": [
    "df['street'].value_counts()"
   ]
  },
  {
   "cell_type": "markdown",
   "id": "954eff32-761a-4f66-8218-ad662989caa0",
   "metadata": {},
   "source": [
    "Looking at the columns to consider what's most interesting to me. I want to create a 'has garage', 'has basement', 'has masonry vnr', and 'has pool' to see if there may be benefits to that versus all the details about those categories. I'd add 'Has Frontage' but I'm not certain that's what those NAs meant, so I don't want to turn that into a binary."
   ]
  },
  {
   "cell_type": "code",
   "execution_count": 177,
   "id": "4002fe04-db69-461f-a141-fd07980d2205",
   "metadata": {},
   "outputs": [
    {
     "data": {
      "text/plain": [
       "['id',\n",
       " 'pid',\n",
       " 'ms_subclass',\n",
       " 'ms_zoning',\n",
       " 'lot_frontage',\n",
       " 'lot_area',\n",
       " 'street',\n",
       " 'alley',\n",
       " 'lot_shape',\n",
       " 'land_contour',\n",
       " 'utilities',\n",
       " 'lot_config',\n",
       " 'land_slope',\n",
       " 'neighborhood',\n",
       " 'condition_1',\n",
       " 'condition_2',\n",
       " 'bldg_type',\n",
       " 'house_style',\n",
       " 'overall_qual',\n",
       " 'overall_cond',\n",
       " 'year_built',\n",
       " 'year_remod/add',\n",
       " 'roof_style',\n",
       " 'roof_matl',\n",
       " 'exterior_1st',\n",
       " 'exterior_2nd',\n",
       " 'mas_vnr_type',\n",
       " 'mas_vnr_area',\n",
       " 'exter_qual',\n",
       " 'exter_cond',\n",
       " 'foundation',\n",
       " 'bsmt_qual',\n",
       " 'bsmt_cond',\n",
       " 'bsmt_exposure',\n",
       " 'bsmtfin_type_1',\n",
       " 'bsmtfin_sf_1',\n",
       " 'bsmtfin_type_2',\n",
       " 'bsmtfin_sf_2',\n",
       " 'bsmt_unf_sf',\n",
       " 'total_bsmt_sf',\n",
       " 'heating',\n",
       " 'heating_qc',\n",
       " 'central_air',\n",
       " 'electrical',\n",
       " '1st_flr_sf',\n",
       " '2nd_flr_sf',\n",
       " 'low_qual_fin_sf',\n",
       " 'gr_liv_area',\n",
       " 'bsmt_full_bath',\n",
       " 'bsmt_half_bath',\n",
       " 'full_bath',\n",
       " 'half_bath',\n",
       " 'bedroom_abvgr',\n",
       " 'kitchen_abvgr',\n",
       " 'kitchen_qual',\n",
       " 'totrms_abvgrd',\n",
       " 'functional',\n",
       " 'fireplaces',\n",
       " 'fireplace_qu',\n",
       " 'garage_type',\n",
       " 'garage_yr_blt',\n",
       " 'garage_finish',\n",
       " 'garage_cars',\n",
       " 'garage_area',\n",
       " 'garage_qual',\n",
       " 'garage_cond',\n",
       " 'paved_drive',\n",
       " 'wood_deck_sf',\n",
       " 'open_porch_sf',\n",
       " 'enclosed_porch',\n",
       " '3ssn_porch',\n",
       " 'screen_porch',\n",
       " 'pool_area',\n",
       " 'pool_qc',\n",
       " 'fence',\n",
       " 'misc_feature',\n",
       " 'misc_val',\n",
       " 'mo_sold',\n",
       " 'yr_sold',\n",
       " 'sale_type',\n",
       " 'saleprice']"
      ]
     },
     "execution_count": 177,
     "metadata": {},
     "output_type": "execute_result"
    }
   ],
   "source": [
    "df.columns.tolist()"
   ]
  },
  {
   "cell_type": "code",
   "execution_count": 178,
   "id": "5c38bcdf-ef16-4cdc-a8cf-42ae69dff9db",
   "metadata": {},
   "outputs": [
    {
     "data": {
      "text/plain": [
       "TA             886\n",
       "Gd             849\n",
       "Ex             177\n",
       "Fa              60\n",
       "No Basement     55\n",
       "Po               1\n",
       "Name: bsmt_qual, dtype: int64"
      ]
     },
     "execution_count": 178,
     "metadata": {},
     "output_type": "execute_result"
    }
   ],
   "source": [
    "df['bsmt_qual'].value_counts()"
   ]
  },
  {
   "cell_type": "markdown",
   "id": "624900f8-00d3-4dd5-811d-0d85ed2b7e64",
   "metadata": {},
   "source": [
    "I found this `df.loc[(df.name == None) & (df.weight == 1), 'name'] = 'defaut'` at [this site](https://stackoverflow.com/questions/44641577/how-to-change-value-for-rows-that-meet-specific-conditions-in-pandas) and modified it to make the change I want."
   ]
  },
  {
   "cell_type": "code",
   "execution_count": 179,
   "id": "13fa9d22-59b4-4874-9d9f-cc0d36fdadef",
   "metadata": {},
   "outputs": [],
   "source": [
    "df['has_bsmt'] = 0\n",
    "\n",
    "df.loc[(df['bsmt_qual'] != 'No Basement'), 'has_bsmt'] = 1"
   ]
  },
  {
   "cell_type": "code",
   "execution_count": 180,
   "id": "190ba9e8-ae9c-4324-b881-563618d29a71",
   "metadata": {},
   "outputs": [
    {
     "data": {
      "text/plain": [
       "1    1973\n",
       "0      55\n",
       "Name: has_bsmt, dtype: int64"
      ]
     },
     "execution_count": 180,
     "metadata": {},
     "output_type": "execute_result"
    }
   ],
   "source": [
    "df['has_bsmt'].value_counts()"
   ]
  },
  {
   "cell_type": "code",
   "execution_count": 181,
   "id": "d46be554-98bd-4203-ac0b-035a30e1cb65",
   "metadata": {},
   "outputs": [
    {
     "data": {
      "text/plain": [
       "TA           1810\n",
       "No Garage     113\n",
       "Fa             82\n",
       "Gd             18\n",
       "Ex              3\n",
       "Po              2\n",
       "Name: garage_qual, dtype: int64"
      ]
     },
     "execution_count": 181,
     "metadata": {},
     "output_type": "execute_result"
    }
   ],
   "source": [
    "df['garage_qual'].value_counts()"
   ]
  },
  {
   "cell_type": "code",
   "execution_count": 182,
   "id": "3b40b8d8-0949-41fa-a6cf-a1731f5d60cb",
   "metadata": {},
   "outputs": [],
   "source": [
    "df['has_garage'] = 0\n",
    "\n",
    "df.loc[(df['garage_qual'] != 'No Garage'), 'has_garage']=1"
   ]
  },
  {
   "cell_type": "code",
   "execution_count": 183,
   "id": "532a23a9-8cb4-410e-bade-092fdb4680a8",
   "metadata": {},
   "outputs": [
    {
     "data": {
      "text/plain": [
       "1    1915\n",
       "0     113\n",
       "Name: has_garage, dtype: int64"
      ]
     },
     "execution_count": 183,
     "metadata": {},
     "output_type": "execute_result"
    }
   ],
   "source": [
    "df['has_garage'].value_counts()"
   ]
  },
  {
   "cell_type": "code",
   "execution_count": 184,
   "id": "7d1e75a8-2ec3-4247-ad33-5a727a9bd58a",
   "metadata": {},
   "outputs": [
    {
     "data": {
      "text/plain": [
       "None       1218\n",
       "BrkFace     629\n",
       "Stone       168\n",
       "BrkCmn       13\n",
       "Name: mas_vnr_type, dtype: int64"
      ]
     },
     "execution_count": 184,
     "metadata": {},
     "output_type": "execute_result"
    }
   ],
   "source": [
    "df['mas_vnr_type'].value_counts()"
   ]
  },
  {
   "cell_type": "code",
   "execution_count": 185,
   "id": "5b02efc3-4bd4-4e04-bbf6-e0d50c7e4714",
   "metadata": {},
   "outputs": [],
   "source": [
    "df['has_mas_vnr'] = 0\n",
    "\n",
    "df.loc[(df['mas_vnr_type'] != 'None'), 'has_mas_vnr'] = 1"
   ]
  },
  {
   "cell_type": "code",
   "execution_count": 186,
   "id": "263e847e-e6ec-4c64-a62a-b91e13b16965",
   "metadata": {},
   "outputs": [
    {
     "data": {
      "text/plain": [
       "0    1218\n",
       "1     810\n",
       "Name: has_mas_vnr, dtype: int64"
      ]
     },
     "execution_count": 186,
     "metadata": {},
     "output_type": "execute_result"
    }
   ],
   "source": [
    "df['has_mas_vnr'].value_counts()"
   ]
  },
  {
   "cell_type": "code",
   "execution_count": 187,
   "id": "bf59ac76-e73d-4505-a6ad-c5889da1adde",
   "metadata": {},
   "outputs": [
    {
     "data": {
      "text/plain": [
       "No Pool    2019\n",
       "Gd            4\n",
       "Fa            2\n",
       "TA            2\n",
       "Ex            1\n",
       "Name: pool_qc, dtype: int64"
      ]
     },
     "execution_count": 187,
     "metadata": {},
     "output_type": "execute_result"
    }
   ],
   "source": [
    "df['pool_qc'].value_counts()"
   ]
  },
  {
   "cell_type": "code",
   "execution_count": 188,
   "id": "2c298a1d-0f84-47a6-b982-7b1ca8cd7ba9",
   "metadata": {},
   "outputs": [],
   "source": [
    "df['has_pool'] = 0\n",
    "df.loc[(df['pool_qc'] != 'No Pool'), 'has_pool'] = 1"
   ]
  },
  {
   "cell_type": "code",
   "execution_count": 189,
   "id": "d42d8397-e66f-47e4-af07-b08edcba1058",
   "metadata": {},
   "outputs": [
    {
     "data": {
      "text/plain": [
       "0    2019\n",
       "1       9\n",
       "Name: has_pool, dtype: int64"
      ]
     },
     "execution_count": 189,
     "metadata": {},
     "output_type": "execute_result"
    }
   ],
   "source": [
    "df['has_pool'].value_counts()"
   ]
  },
  {
   "cell_type": "markdown",
   "id": "d12733db-a0d0-45d4-9ec2-43113fea4c46",
   "metadata": {},
   "source": [
    "I didn't remember offhand that you could use `plt.figure()` to resize a seaborn plot. I checked [this site](https://stackoverflow.com/questions/38913965/make-the-size-of-a-heatmap-bigger-with-seaborn). The second answer shows that solution to resizing it, which was necessary to make the figure legible."
   ]
  },
  {
   "cell_type": "code",
   "execution_count": 190,
   "id": "325019cf-3736-44bd-b2dd-fedbeb6444a0",
   "metadata": {},
   "outputs": [
    {
     "data": {
      "image/png": "[encoded data removed]",
      "text/plain": [
       "<Figure size 288x1152 with 2 Axes>"
      ]
     },
     "metadata": {
      "needs_background": "light"
     },
     "output_type": "display_data"
    }
   ],
   "source": [
    "plt.figure(figsize = (4,16))\n",
    "sns.heatmap(df.corr()[['saleprice']].sort_values(by = 'saleprice', ascending = False),\n",
    "           vmin = -1,\n",
    "           vmax = 1,\n",
    "           annot = True,\n",
    "           cmap = 'bone');"
   ]
  },
  {
   "cell_type": "markdown",
   "id": "8e089fa1-69ca-4272-8314-d7b2b426ec27",
   "metadata": {},
   "source": [
    "I'm interested in instantiating a model that takes into account the variables that show a correlation of above 0.5 or maybe 0.4, seeing what that looks like."
   ]
  },
  {
   "cell_type": "markdown",
   "id": "65a18bfc-78b2-418a-b77f-dc4a69288e4f",
   "metadata": {},
   "source": [
    "### Exploring Categorical Columns\n",
    "\n",
    "In order to start grasping what's going on in the categorical columns, I wanted to get to a list of categorical column names. I created a data frame with the column names (as index) and data types. I used that to create a dataframe that consisted only of the categorical variables. I then turned the index for that into a list, my list of categorical columns, which I could then pass through the data frame to look at those a little more carefully.\n",
    "\n",
    "NOTE: I returned up here repeatedly to clean out my categorical list when I recast things to numericals to make it easier to keep track of what I had left to work through."
   ]
  },
  {
   "cell_type": "code",
   "execution_count": 191,
   "id": "39eb293f-e0c5-44e5-83f5-c4ceea63b25b",
   "metadata": {},
   "outputs": [
    {
     "data": {
      "text/plain": [
       "dtype    object\n",
       "dtype: object"
      ]
     },
     "execution_count": 191,
     "metadata": {},
     "output_type": "execute_result"
    }
   ],
   "source": [
    "column_dtype = pd.DataFrame(df.dtypes, df.columns)\n",
    "column_dtype.rename(columns = {0: 'dtype'}, inplace = True)\n",
    "column_dtype.dtypes"
   ]
  },
  {
   "cell_type": "code",
   "execution_count": 192,
   "id": "98c18c9c-da4d-4f8b-9805-02a3d1f18785",
   "metadata": {},
   "outputs": [],
   "source": [
    "categorical_columns = column_dtype[(column_dtype['dtype'] != 'int64') & (column_dtype['dtype'] != 'float64')]\n"
   ]
  },
  {
   "cell_type": "code",
   "execution_count": 193,
   "id": "911d7a5b-d2ec-42e5-b3cd-f4109992cb4a",
   "metadata": {},
   "outputs": [
    {
     "data": {
      "text/html": [
       "<div>\n",
       "<style scoped>\n",
       "    .dataframe tbody tr th:only-of-type {\n",
       "        vertical-align: middle;\n",
       "    }\n",
       "\n",
       "    .dataframe tbody tr th {\n",
       "        vertical-align: top;\n",
       "    }\n",
       "\n",
       "    .dataframe thead th {\n",
       "        text-align: right;\n",
       "    }\n",
       "</style>\n",
       "<table border=\"1\" class=\"dataframe\">\n",
       "  <thead>\n",
       "    <tr style=\"text-align: right;\">\n",
       "      <th></th>\n",
       "      <th>ms_zoning</th>\n",
       "      <th>street</th>\n",
       "      <th>alley</th>\n",
       "      <th>lot_shape</th>\n",
       "      <th>land_contour</th>\n",
       "      <th>utilities</th>\n",
       "      <th>lot_config</th>\n",
       "      <th>land_slope</th>\n",
       "      <th>neighborhood</th>\n",
       "      <th>condition_1</th>\n",
       "      <th>...</th>\n",
       "      <th>garage_finish</th>\n",
       "      <th>garage_cars</th>\n",
       "      <th>garage_area</th>\n",
       "      <th>garage_qual</th>\n",
       "      <th>garage_cond</th>\n",
       "      <th>paved_drive</th>\n",
       "      <th>pool_qc</th>\n",
       "      <th>fence</th>\n",
       "      <th>misc_feature</th>\n",
       "      <th>sale_type</th>\n",
       "    </tr>\n",
       "  </thead>\n",
       "  <tbody>\n",
       "    <tr>\n",
       "      <th>0</th>\n",
       "      <td>RL</td>\n",
       "      <td>Pave</td>\n",
       "      <td>None</td>\n",
       "      <td>IR1</td>\n",
       "      <td>Lvl</td>\n",
       "      <td>AllPub</td>\n",
       "      <td>CulDSac</td>\n",
       "      <td>Gtl</td>\n",
       "      <td>Sawyer</td>\n",
       "      <td>RRAe</td>\n",
       "      <td>...</td>\n",
       "      <td>RFn</td>\n",
       "      <td>2.0</td>\n",
       "      <td>475.0</td>\n",
       "      <td>TA</td>\n",
       "      <td>TA</td>\n",
       "      <td>Y</td>\n",
       "      <td>No Pool</td>\n",
       "      <td>No Fence</td>\n",
       "      <td>No Addl Features</td>\n",
       "      <td>WD</td>\n",
       "    </tr>\n",
       "    <tr>\n",
       "      <th>1</th>\n",
       "      <td>RL</td>\n",
       "      <td>Pave</td>\n",
       "      <td>None</td>\n",
       "      <td>IR1</td>\n",
       "      <td>Lvl</td>\n",
       "      <td>AllPub</td>\n",
       "      <td>CulDSac</td>\n",
       "      <td>Gtl</td>\n",
       "      <td>SawyerW</td>\n",
       "      <td>Norm</td>\n",
       "      <td>...</td>\n",
       "      <td>RFn</td>\n",
       "      <td>2.0</td>\n",
       "      <td>559.0</td>\n",
       "      <td>TA</td>\n",
       "      <td>TA</td>\n",
       "      <td>Y</td>\n",
       "      <td>No Pool</td>\n",
       "      <td>No Fence</td>\n",
       "      <td>No Addl Features</td>\n",
       "      <td>WD</td>\n",
       "    </tr>\n",
       "    <tr>\n",
       "      <th>2</th>\n",
       "      <td>RL</td>\n",
       "      <td>Pave</td>\n",
       "      <td>None</td>\n",
       "      <td>Reg</td>\n",
       "      <td>Lvl</td>\n",
       "      <td>AllPub</td>\n",
       "      <td>Inside</td>\n",
       "      <td>Gtl</td>\n",
       "      <td>NAmes</td>\n",
       "      <td>Norm</td>\n",
       "      <td>...</td>\n",
       "      <td>Unf</td>\n",
       "      <td>1.0</td>\n",
       "      <td>246.0</td>\n",
       "      <td>TA</td>\n",
       "      <td>TA</td>\n",
       "      <td>Y</td>\n",
       "      <td>No Pool</td>\n",
       "      <td>No Fence</td>\n",
       "      <td>No Addl Features</td>\n",
       "      <td>WD</td>\n",
       "    </tr>\n",
       "    <tr>\n",
       "      <th>3</th>\n",
       "      <td>RL</td>\n",
       "      <td>Pave</td>\n",
       "      <td>None</td>\n",
       "      <td>Reg</td>\n",
       "      <td>Lvl</td>\n",
       "      <td>AllPub</td>\n",
       "      <td>Inside</td>\n",
       "      <td>Gtl</td>\n",
       "      <td>Timber</td>\n",
       "      <td>Norm</td>\n",
       "      <td>...</td>\n",
       "      <td>Fin</td>\n",
       "      <td>2.0</td>\n",
       "      <td>400.0</td>\n",
       "      <td>TA</td>\n",
       "      <td>TA</td>\n",
       "      <td>Y</td>\n",
       "      <td>No Pool</td>\n",
       "      <td>No Fence</td>\n",
       "      <td>No Addl Features</td>\n",
       "      <td>WD</td>\n",
       "    </tr>\n",
       "    <tr>\n",
       "      <th>4</th>\n",
       "      <td>RL</td>\n",
       "      <td>Pave</td>\n",
       "      <td>None</td>\n",
       "      <td>IR1</td>\n",
       "      <td>Lvl</td>\n",
       "      <td>AllPub</td>\n",
       "      <td>Inside</td>\n",
       "      <td>Gtl</td>\n",
       "      <td>SawyerW</td>\n",
       "      <td>Norm</td>\n",
       "      <td>...</td>\n",
       "      <td>Unf</td>\n",
       "      <td>2.0</td>\n",
       "      <td>484.0</td>\n",
       "      <td>TA</td>\n",
       "      <td>TA</td>\n",
       "      <td>N</td>\n",
       "      <td>No Pool</td>\n",
       "      <td>No Fence</td>\n",
       "      <td>No Addl Features</td>\n",
       "      <td>WD</td>\n",
       "    </tr>\n",
       "  </tbody>\n",
       "</table>\n",
       "<p>5 rows × 45 columns</p>\n",
       "</div>"
      ],
      "text/plain": [
       "  ms_zoning street alley lot_shape land_contour utilities lot_config  \\\n",
       "0        RL   Pave  None       IR1          Lvl    AllPub    CulDSac   \n",
       "1        RL   Pave  None       IR1          Lvl    AllPub    CulDSac   \n",
       "2        RL   Pave  None       Reg          Lvl    AllPub     Inside   \n",
       "3        RL   Pave  None       Reg          Lvl    AllPub     Inside   \n",
       "4        RL   Pave  None       IR1          Lvl    AllPub     Inside   \n",
       "\n",
       "  land_slope neighborhood condition_1  ... garage_finish garage_cars  \\\n",
       "0        Gtl       Sawyer        RRAe  ...           RFn         2.0   \n",
       "1        Gtl      SawyerW        Norm  ...           RFn         2.0   \n",
       "2        Gtl        NAmes        Norm  ...           Unf         1.0   \n",
       "3        Gtl       Timber        Norm  ...           Fin         2.0   \n",
       "4        Gtl      SawyerW        Norm  ...           Unf         2.0   \n",
       "\n",
       "  garage_area garage_qual garage_cond paved_drive  pool_qc     fence  \\\n",
       "0       475.0          TA          TA           Y  No Pool  No Fence   \n",
       "1       559.0          TA          TA           Y  No Pool  No Fence   \n",
       "2       246.0          TA          TA           Y  No Pool  No Fence   \n",
       "3       400.0          TA          TA           Y  No Pool  No Fence   \n",
       "4       484.0          TA          TA           N  No Pool  No Fence   \n",
       "\n",
       "       misc_feature sale_type  \n",
       "0  No Addl Features       WD   \n",
       "1  No Addl Features       WD   \n",
       "2  No Addl Features       WD   \n",
       "3  No Addl Features       WD   \n",
       "4  No Addl Features       WD   \n",
       "\n",
       "[5 rows x 45 columns]"
      ]
     },
     "execution_count": 193,
     "metadata": {},
     "output_type": "execute_result"
    }
   ],
   "source": [
    "categorical_col_list = list(categorical_columns.index)\n",
    "df[categorical_col_list].head()"
   ]
  },
  {
   "cell_type": "code",
   "execution_count": 194,
   "id": "ca46c8a9-ee5b-49e7-8528-70d89f36dce9",
   "metadata": {},
   "outputs": [
    {
     "data": {
      "text/plain": [
       "['ms_zoning',\n",
       " 'street',\n",
       " 'alley',\n",
       " 'lot_shape',\n",
       " 'land_contour',\n",
       " 'utilities',\n",
       " 'lot_config',\n",
       " 'land_slope',\n",
       " 'neighborhood',\n",
       " 'condition_1',\n",
       " 'condition_2',\n",
       " 'bldg_type',\n",
       " 'house_style',\n",
       " 'roof_style',\n",
       " 'roof_matl',\n",
       " 'exterior_1st',\n",
       " 'exterior_2nd',\n",
       " 'mas_vnr_type',\n",
       " 'exter_qual',\n",
       " 'exter_cond',\n",
       " 'foundation',\n",
       " 'bsmt_qual',\n",
       " 'bsmt_cond',\n",
       " 'bsmt_exposure',\n",
       " 'bsmtfin_type_1',\n",
       " 'bsmtfin_type_2',\n",
       " 'heating',\n",
       " 'heating_qc',\n",
       " 'central_air',\n",
       " 'electrical',\n",
       " 'kitchen_qual',\n",
       " 'functional',\n",
       " 'fireplace_qu',\n",
       " 'garage_type',\n",
       " 'garage_yr_blt',\n",
       " 'garage_finish',\n",
       " 'garage_cars',\n",
       " 'garage_area',\n",
       " 'garage_qual',\n",
       " 'garage_cond',\n",
       " 'paved_drive',\n",
       " 'pool_qc',\n",
       " 'fence',\n",
       " 'misc_feature',\n",
       " 'sale_type']"
      ]
     },
     "execution_count": 194,
     "metadata": {},
     "output_type": "execute_result"
    }
   ],
   "source": [
    "categorical_col_list"
   ]
  },
  {
   "cell_type": "markdown",
   "id": "401906bc-ef3e-47a4-b4a6-d15cab23baa7",
   "metadata": {},
   "source": [
    "## Notes on the Exploration of these Columns\n",
    "\n",
    "**Note: Month Sold is an additional categorical column that isn't included above because it's an integer datatype.**\n",
    "\n",
    "**I created these additional binary columns:** \n",
    "* 'has_alley' 'has_fireplace' *\n",
    "\n",
    "**I converted the following into 0s and 1s:**\n",
    "* 'street' to \"street_paved\", 1 is paved and 0 is gravel.\n",
    "* central_air to 1 == Y and 0 == N.\n",
    "\n",
    "**I turned the following into continuous, scaled variables:**\n",
    "* Lot shape: 0 is regular, 3 is extremely irregular, and irregularity falling on a spectrum in between. \n",
    "* Land slope: 0 is gentle, 1 is moderate, and 2 is severe. This would reduce the number of features and, I think, still be effective. \n",
    "* Exterior Quality: 0 is Poor through 4 is Excellent \n",
    "* Exterior Condition: 0 is Poor through 4 is Excellent\n",
    "* 'paved_drive': 0 is 'not paved', 1 is 'partially paved', and 2 is \"paved\".\n",
    "* Kitchen Quality: 0 is Poor through 4 is Excellent\n",
    "* Functionality ('Functional'): 0 is Typical, 1 is Minor Deductions 1, 2 is Minor Deductions 2, 3 is Moderate Deductions, 4 is Major Deductions 1, 5 is Major Deductions 2, 6 is Severely Damaged, 7 is Salvage only.\n",
    "* Pool Quality: 0 no pool, 1 is Fair through 4 is Excellent (NOTES: because of the 'no pool' option, it's debatable whether or not this should be turned into a scale, but I'm opting to try it. Also, this scale has no 'Poor' options)\n",
    "* Garage Quality: 0 no garage, 1 is poor through 5 is Excellent (NOTES: because of the 'no garage' option, it's debatable whether or not this should be turned into a scale, but I'm opting to try it.)\n",
    "* Garage Condition: 0 no garage, 1 is poor through 5 is Excellent (NOTES: because of the 'no garage' option, it's debatable whether or not this should be turned into a scale, but I'm opting to try it.)\n",
    "\n",
    "**I think the following categoricals are likely to be helpful:** \n",
    "* Neighborhood\n",
    "* Zoning\n",
    "* Lot Configuration\n",
    "* Condition 1\n",
    "* Condition 2\n",
    "* Building Type\n",
    "* House Style\n",
    "* Miscellaneous Features (which could possibly be cast as a 'has_misc' column, too -- not doing that for now because the various features are less comparable, in my opinion, but it's an option) \n",
    "* Month sold \n",
    "\n",
    "**I think the following categoricals _might_ be helpful:**\n",
    "* Masonry Veneer Type\n",
    "* Heating Type ('heating')\n",
    "* Garage details\n",
    "* Pool details\n",
    "* Land Contour\n",
    "* Roof Style\n",
    "* Roof Material\n",
    "* Foundation (type)\n",
    "* Electrical\n",
    "* Fence\n",
    "\n",
    "**I suspect the following would be unhelpful**\n",
    "* Sale Type (I wonder if this has predictive value or if it will simply correlate, meaning that certain kinds of properties are more likely to sell in a certain kind of sale -- and at a certain price, the features of the property being a confounder if there's a correlation between Sale Type and Sale Price). That said, I'm not eliminating it right now.\n",
    "\n",
    "**I eliminated Utilities**\n",
    "* The 'utilities' column only had 2 instances that aren't full utilities, which doesn't seem robust enough to have any predictive value.\n",
    "\n",
    "NOTE: I explored these values in the order they're in the list, then reordered the code based on what I decided to do with them."
   ]
  },
  {
   "cell_type": "markdown",
   "id": "7fb2d009-81c4-4d8a-977d-b65fb438d8bd",
   "metadata": {},
   "source": [
    "#### A Note on how I organized my work.\n",
    "I used the following code block to keep track of the categorical values I had left to decide how to deal with.\n",
    "\n",
    "I took the list of details about the \"has_(BLANK)\" categories I created out in order to make the list more manageable. I left in categorical columns that I haven't used at all in the list for easy reference.\n",
    "\n",
    "As I turned values into numericals (i.e. 0 = No, 1 = Yes; scaled ratings, etc.) and when I eliminated 'utilites', I took them out of the list to make it easier to keep track of which variables I needed to look at. \n",
    "\n",
    "As a result, I went back and forth to these next two blocks as I eliminated things I was working on, just to keep track.\n",
    "\n",
    "Also, this [stackoverflow](https://stackoverflow.com/questions/52797035/how-to-remove-an-item-from-a-list-in-python-with-substring-match) gave me the idea to use a list comprehension to do this, though I varied the actual code."
   ]
  },
  {
   "cell_type": "code",
   "execution_count": 195,
   "id": "0f8528ea-7e49-405f-a2cb-6a6123fbc87b",
   "metadata": {},
   "outputs": [
    {
     "data": {
      "text/plain": [
       "['ms_zoning',\n",
       " 'land_contour',\n",
       " 'lot_config',\n",
       " 'neighborhood',\n",
       " 'condition_1',\n",
       " 'condition_2',\n",
       " 'bldg_type',\n",
       " 'house_style',\n",
       " 'roof_style',\n",
       " 'roof_matl',\n",
       " 'mas_vnr_type',\n",
       " 'foundation',\n",
       " 'heating',\n",
       " 'electrical',\n",
       " 'fence',\n",
       " 'misc_feature',\n",
       " 'sale_type']"
      ]
     },
     "execution_count": 195,
     "metadata": {},
     "output_type": "execute_result"
    }
   ],
   "source": [
    "clean_categorical_col_list = [i for i in categorical_col_list if 'bsmt' not in i and 'garage' not in i\\\n",
    "                             and 'utilities' not in i and 'alley' not in i and 'pool' not in i\\\n",
    "                             and 'fireplace' not in i and 'street' not in i and 'lot_shape' not in i\\\n",
    "                             and 'land_slope' not in i and 'exter' not in i and 'paved_drive' not in i\\\n",
    "                             and 'central_air' not in i and 'heating_qc' not in i and 'kitchen_qual' not in i\\\n",
    "                             and 'functional' not in i]\n",
    "clean_categorical_col_list"
   ]
  },
  {
   "cell_type": "code",
   "execution_count": 196,
   "id": "9f6e889a-4197-4b95-b93b-8a067d1dd801",
   "metadata": {},
   "outputs": [
    {
     "data": {
      "text/html": [
       "<div>\n",
       "<style scoped>\n",
       "    .dataframe tbody tr th:only-of-type {\n",
       "        vertical-align: middle;\n",
       "    }\n",
       "\n",
       "    .dataframe tbody tr th {\n",
       "        vertical-align: top;\n",
       "    }\n",
       "\n",
       "    .dataframe thead th {\n",
       "        text-align: right;\n",
       "    }\n",
       "</style>\n",
       "<table border=\"1\" class=\"dataframe\">\n",
       "  <thead>\n",
       "    <tr style=\"text-align: right;\">\n",
       "      <th></th>\n",
       "      <th>ms_zoning</th>\n",
       "      <th>land_contour</th>\n",
       "      <th>lot_config</th>\n",
       "      <th>neighborhood</th>\n",
       "      <th>condition_1</th>\n",
       "      <th>condition_2</th>\n",
       "      <th>bldg_type</th>\n",
       "      <th>house_style</th>\n",
       "      <th>roof_style</th>\n",
       "      <th>roof_matl</th>\n",
       "      <th>mas_vnr_type</th>\n",
       "      <th>foundation</th>\n",
       "      <th>heating</th>\n",
       "      <th>electrical</th>\n",
       "      <th>fence</th>\n",
       "      <th>misc_feature</th>\n",
       "      <th>sale_type</th>\n",
       "    </tr>\n",
       "  </thead>\n",
       "  <tbody>\n",
       "    <tr>\n",
       "      <th>0</th>\n",
       "      <td>RL</td>\n",
       "      <td>Lvl</td>\n",
       "      <td>CulDSac</td>\n",
       "      <td>Sawyer</td>\n",
       "      <td>RRAe</td>\n",
       "      <td>Norm</td>\n",
       "      <td>1Fam</td>\n",
       "      <td>2Story</td>\n",
       "      <td>Gable</td>\n",
       "      <td>CompShg</td>\n",
       "      <td>BrkFace</td>\n",
       "      <td>CBlock</td>\n",
       "      <td>GasA</td>\n",
       "      <td>SBrkr</td>\n",
       "      <td>No Fence</td>\n",
       "      <td>No Addl Features</td>\n",
       "      <td>WD</td>\n",
       "    </tr>\n",
       "    <tr>\n",
       "      <th>1</th>\n",
       "      <td>RL</td>\n",
       "      <td>Lvl</td>\n",
       "      <td>CulDSac</td>\n",
       "      <td>SawyerW</td>\n",
       "      <td>Norm</td>\n",
       "      <td>Norm</td>\n",
       "      <td>1Fam</td>\n",
       "      <td>2Story</td>\n",
       "      <td>Gable</td>\n",
       "      <td>CompShg</td>\n",
       "      <td>BrkFace</td>\n",
       "      <td>PConc</td>\n",
       "      <td>GasA</td>\n",
       "      <td>SBrkr</td>\n",
       "      <td>No Fence</td>\n",
       "      <td>No Addl Features</td>\n",
       "      <td>WD</td>\n",
       "    </tr>\n",
       "    <tr>\n",
       "      <th>2</th>\n",
       "      <td>RL</td>\n",
       "      <td>Lvl</td>\n",
       "      <td>Inside</td>\n",
       "      <td>NAmes</td>\n",
       "      <td>Norm</td>\n",
       "      <td>Norm</td>\n",
       "      <td>1Fam</td>\n",
       "      <td>1Story</td>\n",
       "      <td>Gable</td>\n",
       "      <td>CompShg</td>\n",
       "      <td>None</td>\n",
       "      <td>CBlock</td>\n",
       "      <td>GasA</td>\n",
       "      <td>SBrkr</td>\n",
       "      <td>No Fence</td>\n",
       "      <td>No Addl Features</td>\n",
       "      <td>WD</td>\n",
       "    </tr>\n",
       "    <tr>\n",
       "      <th>3</th>\n",
       "      <td>RL</td>\n",
       "      <td>Lvl</td>\n",
       "      <td>Inside</td>\n",
       "      <td>Timber</td>\n",
       "      <td>Norm</td>\n",
       "      <td>Norm</td>\n",
       "      <td>1Fam</td>\n",
       "      <td>2Story</td>\n",
       "      <td>Gable</td>\n",
       "      <td>CompShg</td>\n",
       "      <td>None</td>\n",
       "      <td>PConc</td>\n",
       "      <td>GasA</td>\n",
       "      <td>SBrkr</td>\n",
       "      <td>No Fence</td>\n",
       "      <td>No Addl Features</td>\n",
       "      <td>WD</td>\n",
       "    </tr>\n",
       "    <tr>\n",
       "      <th>4</th>\n",
       "      <td>RL</td>\n",
       "      <td>Lvl</td>\n",
       "      <td>Inside</td>\n",
       "      <td>SawyerW</td>\n",
       "      <td>Norm</td>\n",
       "      <td>Norm</td>\n",
       "      <td>1Fam</td>\n",
       "      <td>1.5Fin</td>\n",
       "      <td>Gable</td>\n",
       "      <td>CompShg</td>\n",
       "      <td>None</td>\n",
       "      <td>PConc</td>\n",
       "      <td>GasA</td>\n",
       "      <td>SBrkr</td>\n",
       "      <td>No Fence</td>\n",
       "      <td>No Addl Features</td>\n",
       "      <td>WD</td>\n",
       "    </tr>\n",
       "  </tbody>\n",
       "</table>\n",
       "</div>"
      ],
      "text/plain": [
       "  ms_zoning land_contour lot_config neighborhood condition_1 condition_2  \\\n",
       "0        RL          Lvl    CulDSac       Sawyer        RRAe        Norm   \n",
       "1        RL          Lvl    CulDSac      SawyerW        Norm        Norm   \n",
       "2        RL          Lvl     Inside        NAmes        Norm        Norm   \n",
       "3        RL          Lvl     Inside       Timber        Norm        Norm   \n",
       "4        RL          Lvl     Inside      SawyerW        Norm        Norm   \n",
       "\n",
       "  bldg_type house_style roof_style roof_matl mas_vnr_type foundation heating  \\\n",
       "0      1Fam      2Story      Gable   CompShg      BrkFace     CBlock    GasA   \n",
       "1      1Fam      2Story      Gable   CompShg      BrkFace      PConc    GasA   \n",
       "2      1Fam      1Story      Gable   CompShg         None     CBlock    GasA   \n",
       "3      1Fam      2Story      Gable   CompShg         None      PConc    GasA   \n",
       "4      1Fam      1.5Fin      Gable   CompShg         None      PConc    GasA   \n",
       "\n",
       "  electrical     fence      misc_feature sale_type  \n",
       "0      SBrkr  No Fence  No Addl Features       WD   \n",
       "1      SBrkr  No Fence  No Addl Features       WD   \n",
       "2      SBrkr  No Fence  No Addl Features       WD   \n",
       "3      SBrkr  No Fence  No Addl Features       WD   \n",
       "4      SBrkr  No Fence  No Addl Features       WD   "
      ]
     },
     "execution_count": 196,
     "metadata": {},
     "output_type": "execute_result"
    }
   ],
   "source": [
    "df[clean_categorical_col_list].head()"
   ]
  },
  {
   "cell_type": "code",
   "execution_count": 197,
   "id": "abc4c135-714f-41ce-a0b9-0f693b24cb11",
   "metadata": {},
   "outputs": [],
   "source": [
    "df['has_alley'] = 0\n",
    "df.loc[(df['alley'] != 'None'), 'has_alley'] = 1"
   ]
  },
  {
   "cell_type": "code",
   "execution_count": 198,
   "id": "b4af7382-7839-495b-ad7d-8267a21c4fc3",
   "metadata": {},
   "outputs": [
    {
     "data": {
      "text/plain": [
       "0    1890\n",
       "1     138\n",
       "Name: has_alley, dtype: int64"
      ]
     },
     "execution_count": 198,
     "metadata": {},
     "output_type": "execute_result"
    }
   ],
   "source": [
    "df['has_alley'].value_counts()"
   ]
  },
  {
   "cell_type": "code",
   "execution_count": 199,
   "id": "5ce7afdc-e856-45f9-8992-9af20c8f7ccc",
   "metadata": {},
   "outputs": [
    {
     "data": {
      "text/plain": [
       "1    1036\n",
       "0     992\n",
       "Name: has_fireplace, dtype: int64"
      ]
     },
     "execution_count": 199,
     "metadata": {},
     "output_type": "execute_result"
    }
   ],
   "source": [
    "df['has_fireplace'] = 0\n",
    "df.loc[(df['fireplace_qu'] != 'No Fireplace'), 'has_fireplace'] = 1\n",
    "df['has_fireplace'].value_counts()"
   ]
  },
  {
   "cell_type": "markdown",
   "id": "b5ecc2d2-9809-4d7f-853e-255a3dafc69a",
   "metadata": {},
   "source": [
    "-----"
   ]
  },
  {
   "cell_type": "code",
   "execution_count": 200,
   "id": "24d5b8a0-d201-47b6-9257-c619e2ab6daf",
   "metadata": {},
   "outputs": [
    {
     "data": {
      "text/plain": [
       "Y    1887\n",
       "N     141\n",
       "Name: central_air, dtype: int64"
      ]
     },
     "execution_count": 200,
     "metadata": {},
     "output_type": "execute_result"
    }
   ],
   "source": [
    "df['central_air'].value_counts()"
   ]
  },
  {
   "cell_type": "code",
   "execution_count": 201,
   "id": "4603d71b-367f-455a-a666-e4146ac95a54",
   "metadata": {},
   "outputs": [
    {
     "data": {
      "text/plain": [
       "1    1887\n",
       "0     141\n",
       "Name: central_air, dtype: int64"
      ]
     },
     "execution_count": 201,
     "metadata": {},
     "output_type": "execute_result"
    }
   ],
   "source": [
    "df['central_air'] = df['central_air'].map({'Y':1, 'N': 0})\n",
    "df['central_air'].value_counts()"
   ]
  },
  {
   "cell_type": "markdown",
   "id": "6b07b0ef-8066-4b4a-8a18-7d6a757a5d5e",
   "metadata": {},
   "source": [
    "------"
   ]
  },
  {
   "cell_type": "code",
   "execution_count": 202,
   "id": "ca300321-6732-451a-a2ec-ccaf54a6ff39",
   "metadata": {},
   "outputs": [
    {
     "data": {
      "text/plain": [
       "Pave    2021\n",
       "Grvl       7\n",
       "Name: street, dtype: int64"
      ]
     },
     "execution_count": 202,
     "metadata": {},
     "output_type": "execute_result"
    }
   ],
   "source": [
    "df['street'].value_counts()"
   ]
  },
  {
   "cell_type": "code",
   "execution_count": 203,
   "id": "39cb208e-fdc3-45fd-8659-25ac630fe90b",
   "metadata": {},
   "outputs": [
    {
     "data": {
      "text/plain": [
       "0    1\n",
       "1    1\n",
       "2    1\n",
       "3    1\n",
       "4    1\n",
       "Name: street_surface, dtype: int64"
      ]
     },
     "execution_count": 203,
     "metadata": {},
     "output_type": "execute_result"
    }
   ],
   "source": [
    "df.rename(columns = {'street':'street_surface'}, inplace = True)\n",
    "df['street_surface'] = df['street_surface'].map({'Pave': 1, 'Grvl': 0})\n",
    "df['street_surface'].head()"
   ]
  },
  {
   "cell_type": "code",
   "execution_count": 204,
   "id": "e876ada0-d069-4f32-93a6-a1cf2a87b712",
   "metadata": {},
   "outputs": [
    {
     "data": {
      "text/plain": [
       "Y    1839\n",
       "N     150\n",
       "P      39\n",
       "Name: paved_drive, dtype: int64"
      ]
     },
     "execution_count": 204,
     "metadata": {},
     "output_type": "execute_result"
    }
   ],
   "source": [
    "df['paved_drive'].value_counts()"
   ]
  },
  {
   "cell_type": "code",
   "execution_count": 205,
   "id": "31e8570f-7110-4f16-b677-c929fd4ecb41",
   "metadata": {},
   "outputs": [],
   "source": [
    "df['paved_drive'] = df['paved_drive'].map({'N': 0, 'P': 1, 'Y': 2})"
   ]
  },
  {
   "cell_type": "code",
   "execution_count": 206,
   "id": "9af2460e-2c26-4540-94ea-faf9040b0c7e",
   "metadata": {},
   "outputs": [
    {
     "data": {
      "text/plain": [
       "2    1839\n",
       "0     150\n",
       "1      39\n",
       "Name: paved_drive, dtype: int64"
      ]
     },
     "execution_count": 206,
     "metadata": {},
     "output_type": "execute_result"
    }
   ],
   "source": [
    "df['paved_drive'].value_counts()"
   ]
  },
  {
   "cell_type": "markdown",
   "id": "a1b5bc09-a1e7-4b08-9733-0a1cfbd92f1d",
   "metadata": {},
   "source": [
    "------"
   ]
  },
  {
   "cell_type": "code",
   "execution_count": 207,
   "id": "f9f5a931-727d-4506-9ae6-35334f28431d",
   "metadata": {
    "tags": []
   },
   "outputs": [
    {
     "data": {
      "text/plain": [
       "Reg    1284\n",
       "IR1     681\n",
       "IR2      54\n",
       "IR3       9\n",
       "Name: lot_shape, dtype: int64"
      ]
     },
     "execution_count": 207,
     "metadata": {},
     "output_type": "execute_result"
    }
   ],
   "source": [
    "df['lot_shape'].value_counts()"
   ]
  },
  {
   "cell_type": "code",
   "execution_count": 208,
   "id": "66ced38d-6263-4d85-926d-0bf6a00ece42",
   "metadata": {},
   "outputs": [
    {
     "data": {
      "text/plain": [
       "0    1284\n",
       "1     681\n",
       "2      54\n",
       "3       9\n",
       "Name: lot_shape, dtype: int64"
      ]
     },
     "execution_count": 208,
     "metadata": {},
     "output_type": "execute_result"
    }
   ],
   "source": [
    "df['lot_shape'] = df['lot_shape'].map({'Reg': 0, 'IR1': 1, 'IR2': 2, 'IR3':3})\n",
    "df['lot_shape'].value_counts()"
   ]
  },
  {
   "cell_type": "code",
   "execution_count": 209,
   "id": "7f25357a-620a-4074-a03c-9c3296dfec3a",
   "metadata": {},
   "outputs": [
    {
     "data": {
      "text/plain": [
       "Gtl    1930\n",
       "Mod      88\n",
       "Sev      10\n",
       "Name: land_slope, dtype: int64"
      ]
     },
     "execution_count": 209,
     "metadata": {},
     "output_type": "execute_result"
    }
   ],
   "source": [
    "df['land_slope'].value_counts()"
   ]
  },
  {
   "cell_type": "code",
   "execution_count": 210,
   "id": "3ec04ba5-c147-4730-9e88-7a008b3db9bd",
   "metadata": {},
   "outputs": [
    {
     "data": {
      "text/plain": [
       "0    1930\n",
       "1      88\n",
       "2      10\n",
       "Name: land_slope, dtype: int64"
      ]
     },
     "execution_count": 210,
     "metadata": {},
     "output_type": "execute_result"
    }
   ],
   "source": [
    "df['land_slope'] = df['land_slope'].map({'Gtl':0, 'Mod':1, 'Sev':2})\n",
    "df['land_slope'].value_counts()"
   ]
  },
  {
   "cell_type": "code",
   "execution_count": 211,
   "id": "18ef3cf6-b00d-4c9b-8c8a-03d137e30584",
   "metadata": {},
   "outputs": [],
   "source": [
    "df['pool_qc'] = df['pool_qc'].map({'No Pool': 0, 'Fa': 1, 'TA': 2, 'Gd': 3, 'Ex':4})"
   ]
  },
  {
   "cell_type": "code",
   "execution_count": 212,
   "id": "6c269350-f529-48b5-9181-c7834f696057",
   "metadata": {},
   "outputs": [
    {
     "data": {
      "text/plain": [
       "0    2019\n",
       "3       4\n",
       "1       2\n",
       "2       2\n",
       "4       1\n",
       "Name: pool_qc, dtype: int64"
      ]
     },
     "execution_count": 212,
     "metadata": {},
     "output_type": "execute_result"
    }
   ],
   "source": [
    "df['pool_qc'].value_counts()"
   ]
  },
  {
   "cell_type": "code",
   "execution_count": 213,
   "id": "64b4f683-21c9-4e78-9347-9786eb3ed88c",
   "metadata": {},
   "outputs": [],
   "source": [
    "df['garage_qual'] = df['garage_qual'].map({'No Garage': 0, 'Po': 1, 'Fa': 2, 'TA': 3, 'Gd':4, 'Ex':5})"
   ]
  },
  {
   "cell_type": "code",
   "execution_count": 214,
   "id": "d7361243-1d5a-4f25-8244-6ebf74966562",
   "metadata": {},
   "outputs": [
    {
     "data": {
      "text/plain": [
       "3    1810\n",
       "0     113\n",
       "2      82\n",
       "4      18\n",
       "5       3\n",
       "1       2\n",
       "Name: garage_qual, dtype: int64"
      ]
     },
     "execution_count": 214,
     "metadata": {},
     "output_type": "execute_result"
    }
   ],
   "source": [
    "df['garage_qual'].value_counts()"
   ]
  },
  {
   "cell_type": "code",
   "execution_count": 215,
   "id": "51e40cb9-5710-430d-9a35-6186d2b4a660",
   "metadata": {},
   "outputs": [],
   "source": [
    "df['garage_cond'] = df['garage_cond'].map({'No Garage': 0, 'Po': 1, 'Fa': 2, 'TA': 3, 'Gd':4, 'Ex':5})"
   ]
  },
  {
   "cell_type": "code",
   "execution_count": 216,
   "id": "eb6736c9-8e16-4f4c-9938-ce23be4c7b39",
   "metadata": {},
   "outputs": [
    {
     "data": {
      "text/plain": [
       "3    1846\n",
       "0     113\n",
       "2      47\n",
       "4      12\n",
       "1       8\n",
       "5       2\n",
       "Name: garage_cond, dtype: int64"
      ]
     },
     "execution_count": 216,
     "metadata": {},
     "output_type": "execute_result"
    }
   ],
   "source": [
    "df['garage_cond'].value_counts()"
   ]
  },
  {
   "cell_type": "code",
   "execution_count": 217,
   "id": "84ebb268-29e3-42c4-b576-ffcb3c52db3e",
   "metadata": {},
   "outputs": [
    {
     "data": {
      "text/plain": [
       "TA    1755\n",
       "Gd     215\n",
       "Fa      49\n",
       "Ex       7\n",
       "Po       2\n",
       "Name: exter_cond, dtype: int64"
      ]
     },
     "execution_count": 217,
     "metadata": {},
     "output_type": "execute_result"
    }
   ],
   "source": [
    "df['exter_cond'].value_counts()"
   ]
  },
  {
   "cell_type": "code",
   "execution_count": 218,
   "id": "c7092bb3-3945-4ef9-ac39-610be4f26906",
   "metadata": {},
   "outputs": [],
   "source": [
    "df['exter_cond'] = df['exter_cond'].map({'Po': 0, 'Fa': 1, 'TA': 2, 'Gd': 3, 'Ex':4})"
   ]
  },
  {
   "cell_type": "code",
   "execution_count": 219,
   "id": "30cf3fa7-6052-4c6b-a329-9bc86d9b7d4b",
   "metadata": {},
   "outputs": [
    {
     "data": {
      "text/plain": [
       "2    1755\n",
       "3     215\n",
       "1      49\n",
       "4       7\n",
       "0       2\n",
       "Name: exter_cond, dtype: int64"
      ]
     },
     "execution_count": 219,
     "metadata": {},
     "output_type": "execute_result"
    }
   ],
   "source": [
    "df['exter_cond'].value_counts()"
   ]
  },
  {
   "cell_type": "code",
   "execution_count": 220,
   "id": "ef7abb93-4447-4254-9b72-0f16778e3523",
   "metadata": {},
   "outputs": [],
   "source": [
    "df['exter_qual'] = df['exter_qual'].map({'Po': 0, 'Fa': 1, 'TA': 2, 'Gd': 3, 'Ex':4})"
   ]
  },
  {
   "cell_type": "code",
   "execution_count": 221,
   "id": "25ced29e-e1d9-4d35-af4f-0287e725917f",
   "metadata": {},
   "outputs": [
    {
     "data": {
      "text/plain": [
       "2    1246\n",
       "3     676\n",
       "4      80\n",
       "1      26\n",
       "Name: exter_qual, dtype: int64"
      ]
     },
     "execution_count": 221,
     "metadata": {},
     "output_type": "execute_result"
    }
   ],
   "source": [
    "df['exter_qual'].value_counts()"
   ]
  },
  {
   "cell_type": "code",
   "execution_count": 222,
   "id": "2084daa9-8139-4bbb-ac00-656e0e829680",
   "metadata": {},
   "outputs": [
    {
     "data": {
      "text/plain": [
       "Ex    1043\n",
       "TA     596\n",
       "Gd     319\n",
       "Fa      67\n",
       "Po       3\n",
       "Name: heating_qc, dtype: int64"
      ]
     },
     "execution_count": 222,
     "metadata": {},
     "output_type": "execute_result"
    }
   ],
   "source": [
    "df['heating_qc'].value_counts()"
   ]
  },
  {
   "cell_type": "code",
   "execution_count": 223,
   "id": "433a6979-4923-40d8-9941-0063ee88c5e6",
   "metadata": {},
   "outputs": [],
   "source": [
    "df['heating_qc'] = df['heating_qc'].map({'Po': 0, 'Fa': 1, 'TA': 2, 'Gd': 3, 'Ex':4})"
   ]
  },
  {
   "cell_type": "code",
   "execution_count": 224,
   "id": "6128aec1-4f10-48f0-9285-8e73bf0c73d3",
   "metadata": {},
   "outputs": [
    {
     "data": {
      "text/plain": [
       "4    1043\n",
       "2     596\n",
       "3     319\n",
       "1      67\n",
       "0       3\n",
       "Name: heating_qc, dtype: int64"
      ]
     },
     "execution_count": 224,
     "metadata": {},
     "output_type": "execute_result"
    }
   ],
   "source": [
    "df['heating_qc'].value_counts()"
   ]
  },
  {
   "cell_type": "code",
   "execution_count": 225,
   "id": "a25a3f41-123a-4554-8302-d52dd52329e4",
   "metadata": {},
   "outputs": [
    {
     "data": {
      "text/plain": [
       "TA    1045\n",
       "Gd     789\n",
       "Ex     147\n",
       "Fa      47\n",
       "Name: kitchen_qual, dtype: int64"
      ]
     },
     "execution_count": 225,
     "metadata": {},
     "output_type": "execute_result"
    }
   ],
   "source": [
    "df['kitchen_qual'].value_counts()"
   ]
  },
  {
   "cell_type": "code",
   "execution_count": 226,
   "id": "739f3779-0825-4e4d-b0ca-e029f19f5067",
   "metadata": {},
   "outputs": [],
   "source": [
    "df['kitchen_qual'] = df['kitchen_qual'].map({'Po': 0, 'Fa': 1, 'TA': 2, 'Gd': 3, 'Ex':4})"
   ]
  },
  {
   "cell_type": "code",
   "execution_count": 227,
   "id": "b09fdd1e-3bba-455b-a25a-9fa63406937f",
   "metadata": {},
   "outputs": [
    {
     "data": {
      "text/plain": [
       "2    1045\n",
       "3     789\n",
       "4     147\n",
       "1      47\n",
       "Name: kitchen_qual, dtype: int64"
      ]
     },
     "execution_count": 227,
     "metadata": {},
     "output_type": "execute_result"
    }
   ],
   "source": [
    "df['kitchen_qual'].value_counts()"
   ]
  },
  {
   "cell_type": "markdown",
   "id": "fdeaa45f-ac16-4e9e-9145-2052f49cc526",
   "metadata": {},
   "source": [
    "0 is Typical, 1 is Minor Deductions 1, 2 is Minor Deductions 2, 3 is Moderate Deductions, 4 is Major Deductions 1, 5 is Major Deductions 2, 6 is Severely Damaged, 7 is Salvage only."
   ]
  },
  {
   "cell_type": "code",
   "execution_count": 228,
   "id": "21e99705-6930-4b3b-893d-4c9c44aad798",
   "metadata": {},
   "outputs": [
    {
     "data": {
      "text/plain": [
       "Typ     1893\n",
       "Min2      42\n",
       "Min1      42\n",
       "Mod       29\n",
       "Maj1      11\n",
       "Maj2       7\n",
       "Sev        2\n",
       "Sal        2\n",
       "Name: functional, dtype: int64"
      ]
     },
     "execution_count": 228,
     "metadata": {},
     "output_type": "execute_result"
    }
   ],
   "source": [
    "df['functional'].value_counts()"
   ]
  },
  {
   "cell_type": "code",
   "execution_count": 229,
   "id": "513f5457-eba6-4e75-82ef-6925ebc3828f",
   "metadata": {},
   "outputs": [],
   "source": [
    "df['functional'] = df['functional'].map({'Typ': 0, 'Min1': 1, 'Min2': 2, 'Mod': 3, 'Maj1': 4, \n",
    "                                         'Maj2': 5, 'Sev': 6, 'Sal':7})"
   ]
  },
  {
   "cell_type": "code",
   "execution_count": 230,
   "id": "a4c0ab3e-72e9-4dfb-8a4f-b62ac7656fe6",
   "metadata": {},
   "outputs": [
    {
     "data": {
      "text/plain": [
       "0    1893\n",
       "2      42\n",
       "1      42\n",
       "3      29\n",
       "4      11\n",
       "5       7\n",
       "6       2\n",
       "7       2\n",
       "Name: functional, dtype: int64"
      ]
     },
     "execution_count": 230,
     "metadata": {},
     "output_type": "execute_result"
    }
   ],
   "source": [
    "df['functional'].value_counts()"
   ]
  },
  {
   "cell_type": "markdown",
   "id": "6c98d55a-f9e7-4d90-a656-0f98945fe06a",
   "metadata": {},
   "source": [
    "-----"
   ]
  },
  {
   "cell_type": "code",
   "execution_count": 231,
   "id": "bf3449b9-9d5f-45dc-8d6c-62ee2e4d46d7",
   "metadata": {},
   "outputs": [
    {
     "data": {
      "text/plain": [
       "NAmes      310\n",
       "CollgCr    179\n",
       "OldTown    163\n",
       "Edwards    142\n",
       "Somerst    120\n",
       "NridgHt    119\n",
       "Sawyer     111\n",
       "Gilbert    111\n",
       "NWAmes      87\n",
       "SawyerW     86\n",
       "Mitchel     82\n",
       "BrkSide     76\n",
       "Crawfor     70\n",
       "IDOTRR      69\n",
       "NoRidge     48\n",
       "Timber      47\n",
       "StoneBr     38\n",
       "SWISU       32\n",
       "ClearCr     27\n",
       "MeadowV     24\n",
       "Blmngtn     22\n",
       "BrDale      19\n",
       "Veenker     17\n",
       "NPkVill     17\n",
       "Blueste      6\n",
       "Greens       3\n",
       "GrnHill      2\n",
       "Landmrk      1\n",
       "Name: neighborhood, dtype: int64"
      ]
     },
     "execution_count": 231,
     "metadata": {},
     "output_type": "execute_result"
    }
   ],
   "source": [
    "df['neighborhood'].value_counts()"
   ]
  },
  {
   "cell_type": "code",
   "execution_count": 232,
   "id": "b06da2a2-56c0-4943-bc9e-0ac30cbe75ff",
   "metadata": {},
   "outputs": [
    {
     "data": {
      "text/plain": [
       "RL         1582\n",
       "RM          316\n",
       "FV           94\n",
       "C (all)      19\n",
       "RH           14\n",
       "A (agr)       2\n",
       "I (all)       1\n",
       "Name: ms_zoning, dtype: int64"
      ]
     },
     "execution_count": 232,
     "metadata": {},
     "output_type": "execute_result"
    }
   ],
   "source": [
    "df['ms_zoning'].value_counts()"
   ]
  },
  {
   "cell_type": "code",
   "execution_count": 233,
   "id": "1c1f353b-b0fb-4516-b27d-727a5ab15901",
   "metadata": {},
   "outputs": [
    {
     "data": {
      "text/plain": [
       "Inside     1488\n",
       "Corner      343\n",
       "CulDSac     129\n",
       "FR2          59\n",
       "FR3           9\n",
       "Name: lot_config, dtype: int64"
      ]
     },
     "execution_count": 233,
     "metadata": {},
     "output_type": "execute_result"
    }
   ],
   "source": [
    "df['lot_config'].value_counts()"
   ]
  },
  {
   "cell_type": "code",
   "execution_count": 234,
   "id": "cd3dfa25-4bc2-4c42-bb96-4d5087985d48",
   "metadata": {},
   "outputs": [
    {
     "data": {
      "text/plain": [
       "Lvl    1821\n",
       "HLS      84\n",
       "Bnk      80\n",
       "Low      43\n",
       "Name: land_contour, dtype: int64"
      ]
     },
     "execution_count": 234,
     "metadata": {},
     "output_type": "execute_result"
    }
   ],
   "source": [
    "df['land_contour'].value_counts()"
   ]
  },
  {
   "cell_type": "code",
   "execution_count": 235,
   "id": "5fa482db-f4d1-45c1-bd99-e94da146ecd6",
   "metadata": {},
   "outputs": [
    {
     "data": {
      "text/plain": [
       "Norm      1749\n",
       "Feedr      107\n",
       "Artery      70\n",
       "RRAn        33\n",
       "PosN        27\n",
       "RRAe        21\n",
       "PosA        12\n",
       "RRNn         6\n",
       "RRNe         3\n",
       "Name: condition_1, dtype: int64"
      ]
     },
     "execution_count": 235,
     "metadata": {},
     "output_type": "execute_result"
    }
   ],
   "source": [
    "df['condition_1'].value_counts()"
   ]
  },
  {
   "cell_type": "code",
   "execution_count": 236,
   "id": "2e9dc029-319c-475d-9d0e-c854de1e811d",
   "metadata": {},
   "outputs": [
    {
     "data": {
      "text/plain": [
       "1Fam      1679\n",
       "TwnhsE     159\n",
       "Duplex      75\n",
       "Twnhs       69\n",
       "2fmCon      46\n",
       "Name: bldg_type, dtype: int64"
      ]
     },
     "execution_count": 236,
     "metadata": {},
     "output_type": "execute_result"
    }
   ],
   "source": [
    "df['bldg_type'].value_counts()"
   ]
  },
  {
   "cell_type": "code",
   "execution_count": 237,
   "id": "bd55368c-fa91-4f8d-a909-10c6e536a0f6",
   "metadata": {},
   "outputs": [
    {
     "data": {
      "text/plain": [
       "1Story    1046\n",
       "2Story     589\n",
       "1.5Fin     218\n",
       "SLvl        93\n",
       "SFoyer      50\n",
       "2.5Unf      14\n",
       "1.5Unf      12\n",
       "2.5Fin       6\n",
       "Name: house_style, dtype: int64"
      ]
     },
     "execution_count": 237,
     "metadata": {},
     "output_type": "execute_result"
    }
   ],
   "source": [
    "df['house_style'].value_counts()"
   ]
  },
  {
   "cell_type": "code",
   "execution_count": 238,
   "id": "0c13990f-eeac-4098-a9a6-34d8c935989a",
   "metadata": {},
   "outputs": [
    {
     "data": {
      "text/plain": [
       "CompShg    2002\n",
       "Tar&Grv      15\n",
       "WdShngl       5\n",
       "WdShake       4\n",
       "Membran       1\n",
       "ClyTile       1\n",
       "Name: roof_matl, dtype: int64"
      ]
     },
     "execution_count": 238,
     "metadata": {},
     "output_type": "execute_result"
    }
   ],
   "source": [
    "df['roof_matl'].value_counts()"
   ]
  },
  {
   "cell_type": "code",
   "execution_count": 239,
   "id": "c087d6d9-80de-4130-b411-5eb7e860e7e0",
   "metadata": {},
   "outputs": [
    {
     "data": {
      "text/plain": [
       "Gable      1600\n",
       "Hip         393\n",
       "Flat         13\n",
       "Gambrel      12\n",
       "Mansard       7\n",
       "Shed          3\n",
       "Name: roof_style, dtype: int64"
      ]
     },
     "execution_count": 239,
     "metadata": {},
     "output_type": "execute_result"
    }
   ],
   "source": [
    "df['roof_style'].value_counts()"
   ]
  },
  {
   "cell_type": "markdown",
   "id": "b8aa28d8-f5b1-449f-9cbd-00204261f4c5",
   "metadata": {},
   "source": [
    "-----"
   ]
  },
  {
   "cell_type": "code",
   "execution_count": 240,
   "id": "58b87911-18b7-441a-9c9a-c207b810a554",
   "metadata": {},
   "outputs": [
    {
     "data": {
      "text/plain": [
       "AllPub    2026\n",
       "NoSeWa       1\n",
       "NoSewr       1\n",
       "Name: utilities, dtype: int64"
      ]
     },
     "execution_count": 240,
     "metadata": {},
     "output_type": "execute_result"
    }
   ],
   "source": [
    "df['utilities'].value_counts()"
   ]
  },
  {
   "cell_type": "code",
   "execution_count": 241,
   "id": "4ac8b96c-c7e8-4a2c-88cc-0c28008c541f",
   "metadata": {},
   "outputs": [
    {
     "data": {
      "text/html": [
       "<div>\n",
       "<style scoped>\n",
       "    .dataframe tbody tr th:only-of-type {\n",
       "        vertical-align: middle;\n",
       "    }\n",
       "\n",
       "    .dataframe tbody tr th {\n",
       "        vertical-align: top;\n",
       "    }\n",
       "\n",
       "    .dataframe thead th {\n",
       "        text-align: right;\n",
       "    }\n",
       "</style>\n",
       "<table border=\"1\" class=\"dataframe\">\n",
       "  <thead>\n",
       "    <tr style=\"text-align: right;\">\n",
       "      <th></th>\n",
       "      <th>id</th>\n",
       "      <th>pid</th>\n",
       "      <th>ms_subclass</th>\n",
       "      <th>ms_zoning</th>\n",
       "      <th>lot_frontage</th>\n",
       "      <th>lot_area</th>\n",
       "      <th>street_surface</th>\n",
       "      <th>alley</th>\n",
       "      <th>lot_shape</th>\n",
       "      <th>land_contour</th>\n",
       "      <th>...</th>\n",
       "      <th>mo_sold</th>\n",
       "      <th>yr_sold</th>\n",
       "      <th>sale_type</th>\n",
       "      <th>saleprice</th>\n",
       "      <th>has_bsmt</th>\n",
       "      <th>has_garage</th>\n",
       "      <th>has_mas_vnr</th>\n",
       "      <th>has_pool</th>\n",
       "      <th>has_alley</th>\n",
       "      <th>has_fireplace</th>\n",
       "    </tr>\n",
       "  </thead>\n",
       "  <tbody>\n",
       "    <tr>\n",
       "      <th>553</th>\n",
       "      <td>956</td>\n",
       "      <td>916176030</td>\n",
       "      <td>20</td>\n",
       "      <td>RL</td>\n",
       "      <td>0.0</td>\n",
       "      <td>14375</td>\n",
       "      <td>1</td>\n",
       "      <td>None</td>\n",
       "      <td>1</td>\n",
       "      <td>Lvl</td>\n",
       "      <td>...</td>\n",
       "      <td>1</td>\n",
       "      <td>2009</td>\n",
       "      <td>COD</td>\n",
       "      <td>137500</td>\n",
       "      <td>1</td>\n",
       "      <td>1</td>\n",
       "      <td>1</td>\n",
       "      <td>0</td>\n",
       "      <td>0</td>\n",
       "      <td>1</td>\n",
       "    </tr>\n",
       "  </tbody>\n",
       "</table>\n",
       "<p>1 rows × 87 columns</p>\n",
       "</div>"
      ],
      "text/plain": [
       "      id        pid  ms_subclass ms_zoning  lot_frontage  lot_area  \\\n",
       "553  956  916176030           20        RL           0.0     14375   \n",
       "\n",
       "     street_surface alley  lot_shape land_contour  ... mo_sold yr_sold  \\\n",
       "553               1  None          1          Lvl  ...       1    2009   \n",
       "\n",
       "     sale_type saleprice has_bsmt has_garage has_mas_vnr has_pool  has_alley  \\\n",
       "553        COD    137500        1          1           1        0          0   \n",
       "\n",
       "     has_fireplace  \n",
       "553              1  \n",
       "\n",
       "[1 rows x 87 columns]"
      ]
     },
     "execution_count": 241,
     "metadata": {},
     "output_type": "execute_result"
    }
   ],
   "source": [
    "df[df['utilities'] == 'NoSeWa']"
   ]
  },
  {
   "cell_type": "code",
   "execution_count": 242,
   "id": "e5662153-ebcc-4345-bc96-c6d214f45e6a",
   "metadata": {},
   "outputs": [
    {
     "data": {
      "text/html": [
       "<div>\n",
       "<style scoped>\n",
       "    .dataframe tbody tr th:only-of-type {\n",
       "        vertical-align: middle;\n",
       "    }\n",
       "\n",
       "    .dataframe tbody tr th {\n",
       "        vertical-align: top;\n",
       "    }\n",
       "\n",
       "    .dataframe thead th {\n",
       "        text-align: right;\n",
       "    }\n",
       "</style>\n",
       "<table border=\"1\" class=\"dataframe\">\n",
       "  <thead>\n",
       "    <tr style=\"text-align: right;\">\n",
       "      <th></th>\n",
       "      <th>id</th>\n",
       "      <th>pid</th>\n",
       "      <th>ms_subclass</th>\n",
       "      <th>ms_zoning</th>\n",
       "      <th>lot_frontage</th>\n",
       "      <th>lot_area</th>\n",
       "      <th>street_surface</th>\n",
       "      <th>alley</th>\n",
       "      <th>lot_shape</th>\n",
       "      <th>land_contour</th>\n",
       "      <th>...</th>\n",
       "      <th>mo_sold</th>\n",
       "      <th>yr_sold</th>\n",
       "      <th>sale_type</th>\n",
       "      <th>saleprice</th>\n",
       "      <th>has_bsmt</th>\n",
       "      <th>has_garage</th>\n",
       "      <th>has_mas_vnr</th>\n",
       "      <th>has_pool</th>\n",
       "      <th>has_alley</th>\n",
       "      <th>has_fireplace</th>\n",
       "    </tr>\n",
       "  </thead>\n",
       "  <tbody>\n",
       "    <tr>\n",
       "      <th>573</th>\n",
       "      <td>946</td>\n",
       "      <td>912251110</td>\n",
       "      <td>30</td>\n",
       "      <td>I (all)</td>\n",
       "      <td>109.0</td>\n",
       "      <td>21780</td>\n",
       "      <td>0</td>\n",
       "      <td>None</td>\n",
       "      <td>0</td>\n",
       "      <td>Lvl</td>\n",
       "      <td>...</td>\n",
       "      <td>3</td>\n",
       "      <td>2009</td>\n",
       "      <td>ConLD</td>\n",
       "      <td>57625</td>\n",
       "      <td>0</td>\n",
       "      <td>1</td>\n",
       "      <td>0</td>\n",
       "      <td>0</td>\n",
       "      <td>0</td>\n",
       "      <td>0</td>\n",
       "    </tr>\n",
       "  </tbody>\n",
       "</table>\n",
       "<p>1 rows × 87 columns</p>\n",
       "</div>"
      ],
      "text/plain": [
       "      id        pid  ms_subclass ms_zoning  lot_frontage  lot_area  \\\n",
       "573  946  912251110           30   I (all)         109.0     21780   \n",
       "\n",
       "     street_surface alley  lot_shape land_contour  ... mo_sold yr_sold  \\\n",
       "573               0  None          0          Lvl  ...       3    2009   \n",
       "\n",
       "     sale_type saleprice has_bsmt has_garage has_mas_vnr has_pool  has_alley  \\\n",
       "573      ConLD     57625        0          1           0        0          0   \n",
       "\n",
       "     has_fireplace  \n",
       "573              0  \n",
       "\n",
       "[1 rows x 87 columns]"
      ]
     },
     "execution_count": 242,
     "metadata": {},
     "output_type": "execute_result"
    }
   ],
   "source": [
    "df[df['utilities'] == 'NoSewr']"
   ]
  },
  {
   "cell_type": "markdown",
   "id": "98cecf16-add4-42a3-86ed-3d7f211e3198",
   "metadata": {},
   "source": [
    "Deleting 'utilities'."
   ]
  },
  {
   "cell_type": "code",
   "execution_count": 243,
   "id": "8d5d4e34-2379-49b8-a79f-f8c226257474",
   "metadata": {},
   "outputs": [],
   "source": [
    "df.drop(columns = 'utilities', inplace = True)"
   ]
  },
  {
   "cell_type": "markdown",
   "id": "d46ba579-c2ea-4c74-992b-f3e6d34474ba",
   "metadata": {},
   "source": [
    "### Looking at Heatmap with New Numericals\n",
    "It appears that Exterior Quality and Kitchen Quality (both ratings converted to numericals) are highly correlated to sale price.\n",
    "\n",
    "As an observation, it's interesting to me that Exterior Quality is the second most highly correlated feature. **I wonder if it gives creedence to the importance of first impressions, that if a home creates a favorable impression when prospective buyers approach it, that creates a context in which they view the rest of the home more favorably (and are willing to pay more for it).**"
   ]
  },
  {
   "cell_type": "code",
   "execution_count": 244,
   "id": "f4fe6091-3208-4b19-af71-b657d7a1a1cf",
   "metadata": {},
   "outputs": [
    {
     "data": {
      "image/png": "[encoded data removed]",
      "text/plain": [
       "<Figure size 288x1152 with 2 Axes>"
      ]
     },
     "metadata": {
      "needs_background": "light"
     },
     "output_type": "display_data"
    }
   ],
   "source": [
    "plt.figure(figsize = (4,16))\n",
    "sns.heatmap(df.corr()[['saleprice']].sort_values(by = 'saleprice', ascending = False),\n",
    "           vmin = -1,\n",
    "           vmax = 1,\n",
    "           annot = True,\n",
    "           cmap = 'bone');"
   ]
  },
  {
   "cell_type": "code",
   "execution_count": 245,
   "id": "dfff8348-ff32-4c6b-9ffb-0b5f79405b92",
   "metadata": {},
   "outputs": [],
   "source": [
    "df.to_csv('datasets/draft2_no_dummies_train.csv', index = False)"
   ]
  }
 ],
 "metadata": {
  "kernelspec": {
   "display_name": "Python [conda env:dsi]",
   "language": "python",
   "name": "conda-env-dsi-py"
  },
  "language_info": {
   "codemirror_mode": {
    "name": "ipython",
    "version": 3
   },
   "file_extension": ".py",
   "mimetype": "text/x-python",
   "name": "python",
   "nbconvert_exporter": "python",
   "pygments_lexer": "ipython3",
   "version": "3.9.12"
  }
 },
 "nbformat": 4,
 "nbformat_minor": 5
}
