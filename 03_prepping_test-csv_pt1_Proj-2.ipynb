{
 "cells": [
  {
   "cell_type": "markdown",
   "id": "04d4f6f5-e35b-4575-9700-0f482ed60228",
   "metadata": {},
   "source": [
    "# Prepping the Test DataFrame\n",
    "The purpose of this notebook is to prepare the Test dataframe from test.csv (the one to be used for the Kaggle competition). This is a duplicate of the 'initial cleaning' notebook designed to get the Kaggle Test dataframe to the point where the features match the cleaned Training dataframe.\n",
    "\n",
    "I've left the notes from the original cleaning notebook to make it easier to follow the workflow."
   ]
  },
  {
   "cell_type": "code",
   "execution_count": 166,
   "id": "f6dd355c-9b20-4bd4-a8b1-4972504a04ab",
   "metadata": {},
   "outputs": [],
   "source": [
    "import pandas as pd\n",
    "import matplotlib.pyplot as plt\n",
    "import seaborn as sns"
   ]
  },
  {
   "cell_type": "code",
   "execution_count": 493,
   "id": "300af5cd-2ee8-43af-8f8d-409d2766ddb0",
   "metadata": {},
   "outputs": [],
   "source": [
    "df = pd.read_csv('./datasets/test.csv')"
   ]
  },
  {
   "cell_type": "code",
   "execution_count": 494,
   "id": "78cb32c2-d35b-4d81-9eb5-87a04a2298a6",
   "metadata": {},
   "outputs": [
    {
     "data": {
      "text/plain": [
       "(878, 80)"
      ]
     },
     "execution_count": 494,
     "metadata": {},
     "output_type": "execute_result"
    }
   ],
   "source": [
    "df.shape"
   ]
  },
  {
   "cell_type": "markdown",
   "id": "e7518f20-62b0-4bb4-af0e-29f648bad429",
   "metadata": {},
   "source": [
    "I'm adding in a 'saleprice' column with values == 0 to be sure that I can concatenate the final Kaggle Test dataframe with my training dataframe before creating dummy columns."
   ]
  },
  {
   "cell_type": "code",
   "execution_count": 495,
   "id": "ebaa8124-44fd-47b3-960a-e5473928362b",
   "metadata": {},
   "outputs": [
    {
     "data": {
      "text/plain": [
       "0    878\n",
       "Name: saleprice, dtype: int64"
      ]
     },
     "execution_count": 495,
     "metadata": {},
     "output_type": "execute_result"
    }
   ],
   "source": [
    "df['saleprice'] = 0\n",
    "df['saleprice'].value_counts()"
   ]
  },
  {
   "cell_type": "code",
   "execution_count": 496,
   "id": "ca4ff06e-334b-4ecc-a01c-eb4a85f90916",
   "metadata": {},
   "outputs": [
    {
     "data": {
      "text/plain": [
       "Id                0\n",
       "PID               0\n",
       "MS SubClass       0\n",
       "MS Zoning         0\n",
       "Lot Frontage    160\n",
       "               ... \n",
       "Misc Val          0\n",
       "Mo Sold           0\n",
       "Yr Sold           0\n",
       "Sale Type         0\n",
       "saleprice         0\n",
       "Length: 81, dtype: int64"
      ]
     },
     "execution_count": 496,
     "metadata": {},
     "output_type": "execute_result"
    }
   ],
   "source": [
    "df.isnull().sum()"
   ]
  },
  {
   "cell_type": "markdown",
   "id": "f9cd48ec-fa4d-4823-afc9-979126876c7f",
   "metadata": {},
   "source": [
    "Because there are so many columns, I wanted to identify only the columns that contain null values. I experimented and wasn't having any luck, so I did some research: this [stackoverflow](https://stackoverflow.com/questions/53137100/filter-pandas-dataframe-columns-with-null-data) showed me the approach I used below."
   ]
  },
  {
   "cell_type": "code",
   "execution_count": 497,
   "id": "6686de97-68b1-4816-8e30-8495b2eac832",
   "metadata": {},
   "outputs": [
    {
     "data": {
      "text/plain": [
       "['Lot Frontage',\n",
       " 'Alley',\n",
       " 'Mas Vnr Type',\n",
       " 'Mas Vnr Area',\n",
       " 'Bsmt Qual',\n",
       " 'Bsmt Cond',\n",
       " 'Bsmt Exposure',\n",
       " 'BsmtFin Type 1',\n",
       " 'BsmtFin Type 2',\n",
       " 'Electrical',\n",
       " 'Fireplace Qu',\n",
       " 'Garage Type',\n",
       " 'Garage Yr Blt',\n",
       " 'Garage Finish',\n",
       " 'Garage Qual',\n",
       " 'Garage Cond',\n",
       " 'Pool QC',\n",
       " 'Fence',\n",
       " 'Misc Feature']"
      ]
     },
     "execution_count": 497,
     "metadata": {},
     "output_type": "execute_result"
    }
   ],
   "source": [
    "df.columns[df.isna().any()].tolist()"
   ]
  },
  {
   "cell_type": "code",
   "execution_count": 498,
   "id": "1737cd13-5d65-4400-8762-0a6555a1131d",
   "metadata": {},
   "outputs": [],
   "source": [
    "df.columns = df.columns.str.replace(' ', '_').str.lower()"
   ]
  },
  {
   "cell_type": "code",
   "execution_count": 499,
   "id": "a17a8756-2e38-4e64-9131-e54c0a9961e6",
   "metadata": {},
   "outputs": [
    {
     "data": {
      "text/html": [
       "<div>\n",
       "<style scoped>\n",
       "    .dataframe tbody tr th:only-of-type {\n",
       "        vertical-align: middle;\n",
       "    }\n",
       "\n",
       "    .dataframe tbody tr th {\n",
       "        vertical-align: top;\n",
       "    }\n",
       "\n",
       "    .dataframe thead th {\n",
       "        text-align: right;\n",
       "    }\n",
       "</style>\n",
       "<table border=\"1\" class=\"dataframe\">\n",
       "  <thead>\n",
       "    <tr style=\"text-align: right;\">\n",
       "      <th></th>\n",
       "      <th>id</th>\n",
       "      <th>pid</th>\n",
       "      <th>ms_subclass</th>\n",
       "      <th>ms_zoning</th>\n",
       "      <th>lot_frontage</th>\n",
       "      <th>lot_area</th>\n",
       "      <th>street</th>\n",
       "      <th>alley</th>\n",
       "      <th>lot_shape</th>\n",
       "      <th>land_contour</th>\n",
       "      <th>...</th>\n",
       "      <th>screen_porch</th>\n",
       "      <th>pool_area</th>\n",
       "      <th>pool_qc</th>\n",
       "      <th>fence</th>\n",
       "      <th>misc_feature</th>\n",
       "      <th>misc_val</th>\n",
       "      <th>mo_sold</th>\n",
       "      <th>yr_sold</th>\n",
       "      <th>sale_type</th>\n",
       "      <th>saleprice</th>\n",
       "    </tr>\n",
       "  </thead>\n",
       "  <tbody>\n",
       "    <tr>\n",
       "      <th>0</th>\n",
       "      <td>2658</td>\n",
       "      <td>902301120</td>\n",
       "      <td>190</td>\n",
       "      <td>RM</td>\n",
       "      <td>69.0</td>\n",
       "      <td>9142</td>\n",
       "      <td>Pave</td>\n",
       "      <td>Grvl</td>\n",
       "      <td>Reg</td>\n",
       "      <td>Lvl</td>\n",
       "      <td>...</td>\n",
       "      <td>0</td>\n",
       "      <td>0</td>\n",
       "      <td>NaN</td>\n",
       "      <td>NaN</td>\n",
       "      <td>NaN</td>\n",
       "      <td>0</td>\n",
       "      <td>4</td>\n",
       "      <td>2006</td>\n",
       "      <td>WD</td>\n",
       "      <td>0</td>\n",
       "    </tr>\n",
       "    <tr>\n",
       "      <th>1</th>\n",
       "      <td>2718</td>\n",
       "      <td>905108090</td>\n",
       "      <td>90</td>\n",
       "      <td>RL</td>\n",
       "      <td>NaN</td>\n",
       "      <td>9662</td>\n",
       "      <td>Pave</td>\n",
       "      <td>NaN</td>\n",
       "      <td>IR1</td>\n",
       "      <td>Lvl</td>\n",
       "      <td>...</td>\n",
       "      <td>0</td>\n",
       "      <td>0</td>\n",
       "      <td>NaN</td>\n",
       "      <td>NaN</td>\n",
       "      <td>NaN</td>\n",
       "      <td>0</td>\n",
       "      <td>8</td>\n",
       "      <td>2006</td>\n",
       "      <td>WD</td>\n",
       "      <td>0</td>\n",
       "    </tr>\n",
       "  </tbody>\n",
       "</table>\n",
       "<p>2 rows × 81 columns</p>\n",
       "</div>"
      ],
      "text/plain": [
       "     id        pid  ms_subclass ms_zoning  lot_frontage  lot_area street  \\\n",
       "0  2658  902301120          190        RM          69.0      9142   Pave   \n",
       "1  2718  905108090           90        RL           NaN      9662   Pave   \n",
       "\n",
       "  alley lot_shape land_contour  ... screen_porch pool_area pool_qc fence  \\\n",
       "0  Grvl       Reg          Lvl  ...            0         0     NaN   NaN   \n",
       "1   NaN       IR1          Lvl  ...            0         0     NaN   NaN   \n",
       "\n",
       "  misc_feature misc_val mo_sold yr_sold  sale_type  saleprice  \n",
       "0          NaN        0       4    2006        WD           0  \n",
       "1          NaN        0       8    2006        WD           0  \n",
       "\n",
       "[2 rows x 81 columns]"
      ]
     },
     "execution_count": 499,
     "metadata": {},
     "output_type": "execute_result"
    }
   ],
   "source": [
    "df.head(2)"
   ]
  },
  {
   "cell_type": "markdown",
   "id": "4f2af4d6-18ed-4a21-b732-ed2a7ce4f4c2",
   "metadata": {},
   "source": [
    "### Sanity Check From EDA + Further Cleaning Notebook\n",
    "\n",
    "I'm returning to this point to be certain that I didn't accidentally create any of the oddities I'm finding during EDA."
   ]
  },
  {
   "cell_type": "code",
   "execution_count": 500,
   "id": "bfaf1f0d-764c-4be4-b507-680c443c3507",
   "metadata": {},
   "outputs": [
    {
     "data": {
      "text/plain": [
       "Pave    873\n",
       "Grvl      5\n",
       "Name: street, dtype: int64"
      ]
     },
     "execution_count": 500,
     "metadata": {},
     "output_type": "execute_result"
    }
   ],
   "source": [
    "df['street'].value_counts()"
   ]
  },
  {
   "cell_type": "markdown",
   "id": "95e06fa4-11f1-4f40-afcb-770c91ef3137",
   "metadata": {},
   "source": [
    "## Data Dictionary\n",
    "\n",
    "I reference the [data dictionary](http://jse.amstat.org/v19n3/decock/DataDocumentation.txt) a lot in the following."
   ]
  },
  {
   "cell_type": "markdown",
   "id": "6dad68c7-f104-42fc-8931-eb47f3fed6e4",
   "metadata": {},
   "source": [
    "### Alley - NaN --> 'None'"
   ]
  },
  {
   "cell_type": "code",
   "execution_count": 501,
   "id": "90b5825c-25c2-4d81-b130-af6e9aff453c",
   "metadata": {},
   "outputs": [
    {
     "data": {
      "text/plain": [
       "NaN     820\n",
       "Grvl     35\n",
       "Pave     23\n",
       "Name: alley, dtype: int64"
      ]
     },
     "execution_count": 501,
     "metadata": {},
     "output_type": "execute_result"
    }
   ],
   "source": [
    "df['alley'].value_counts(dropna = False)"
   ]
  },
  {
   "cell_type": "markdown",
   "id": "384f8bd4-e3e5-4033-ba0a-2e32b582654b",
   "metadata": {},
   "source": [
    "It appears that NaN means there is no alley. I'm going to replace NaN with 'None' for now. "
   ]
  },
  {
   "cell_type": "code",
   "execution_count": 502,
   "id": "3fe5ae94-f6fe-4ba7-bba0-2407419c5f2d",
   "metadata": {},
   "outputs": [
    {
     "data": {
      "text/plain": [
       "None    820\n",
       "Grvl     35\n",
       "Pave     23\n",
       "Name: alley, dtype: int64"
      ]
     },
     "execution_count": 502,
     "metadata": {},
     "output_type": "execute_result"
    }
   ],
   "source": [
    "df['alley'] = df['alley'].fillna('None')\n",
    "\n",
    "df['alley'].value_counts(dropna = False)"
   ]
  },
  {
   "cell_type": "markdown",
   "id": "659b0900-e83b-40ec-b46f-39b0c3b16b00",
   "metadata": {},
   "source": [
    "### Basements!"
   ]
  },
  {
   "cell_type": "markdown",
   "id": "abb52b25-12b4-4524-9192-483aea050482",
   "metadata": {},
   "source": [
    "I created this for-loop below to examine how many NAs existed in each basement column, to help me decide how to deal with them, since there's presumably at least some relationship betwen them. Rather than copying the code over and over again, I also returned to the for-loop to use as my sanity check as I cleaned the basement columns."
   ]
  },
  {
   "cell_type": "code",
   "execution_count": 503,
   "id": "85948bae-59d7-4937-b329-a650cd102a8f",
   "metadata": {},
   "outputs": [
    {
     "data": {
      "text/plain": [
       "['bsmt_qual',\n",
       " 'bsmt_cond',\n",
       " 'bsmt_exposure',\n",
       " 'bsmtfin_type_1',\n",
       " 'bsmtfin_sf_1',\n",
       " 'bsmtfin_type_2',\n",
       " 'bsmtfin_sf_2',\n",
       " 'bsmt_unf_sf',\n",
       " 'total_bsmt_sf',\n",
       " 'bsmt_full_bath',\n",
       " 'bsmt_half_bath']"
      ]
     },
     "execution_count": 503,
     "metadata": {},
     "output_type": "execute_result"
    }
   ],
   "source": [
    "bsmt_list = df.columns[df.columns.str.contains('bsmt')].tolist()\n",
    "\n",
    "bsmt_list"
   ]
  },
  {
   "cell_type": "code",
   "execution_count": 504,
   "id": "18c283e9-c9b6-4f52-babd-80aa9345896c",
   "metadata": {},
   "outputs": [
    {
     "name": "stdout",
     "output_type": "stream",
     "text": [
      "bsmt_qual has 25\n",
      "bsmt_cond has 25\n",
      "bsmt_exposure has 25\n",
      "bsmtfin_type_1 has 25\n",
      "bsmtfin_sf_1 has 0\n",
      "bsmtfin_type_2 has 25\n",
      "bsmtfin_sf_2 has 0\n",
      "bsmt_unf_sf has 0\n",
      "total_bsmt_sf has 0\n",
      "bsmt_full_bath has 0\n",
      "bsmt_half_bath has 0\n"
     ]
    }
   ],
   "source": [
    "for i in bsmt_list:\n",
    "    print(f'{i} has {df[i].isnull().sum()}')"
   ]
  },
  {
   "cell_type": "markdown",
   "id": "8a81b282-ff9b-4176-a0cf-9075161edff0",
   "metadata": {},
   "source": [
    "I was surprised by the variation on the number of NaNs. Knowing that some of the NaNs actually represent \"No Basement\", I thought there'd be a pretty consistent number.\n",
    "\n",
    "I decided to start by looking at the smaller values to see what's going on to start."
   ]
  },
  {
   "cell_type": "markdown",
   "id": "82f12a45-98ae-4405-abe5-d8683b2be50d",
   "metadata": {},
   "source": [
    "** I needed to find where I accidentally dropped a column, so I did a shape check and will do a few more **"
   ]
  },
  {
   "cell_type": "code",
   "execution_count": 505,
   "id": "db415292-1d59-431f-8272-48bff4c4f9f1",
   "metadata": {},
   "outputs": [
    {
     "data": {
      "text/plain": [
       "(878, 81)"
      ]
     },
     "execution_count": 505,
     "metadata": {},
     "output_type": "execute_result"
    }
   ],
   "source": [
    "df.shape"
   ]
  },
  {
   "cell_type": "markdown",
   "id": "2a67932d-5bef-4a58-bb0d-c91477a4c61a",
   "metadata": {
    "tags": []
   },
   "source": [
    "### Basement Full Bath and Half Bath"
   ]
  },
  {
   "cell_type": "code",
   "execution_count": 506,
   "id": "5d643e17-43d3-4bce-b92d-175c1ff837dd",
   "metadata": {},
   "outputs": [
    {
     "data": {
      "text/html": [
       "<div>\n",
       "<style scoped>\n",
       "    .dataframe tbody tr th:only-of-type {\n",
       "        vertical-align: middle;\n",
       "    }\n",
       "\n",
       "    .dataframe tbody tr th {\n",
       "        vertical-align: top;\n",
       "    }\n",
       "\n",
       "    .dataframe thead th {\n",
       "        text-align: right;\n",
       "    }\n",
       "</style>\n",
       "<table border=\"1\" class=\"dataframe\">\n",
       "  <thead>\n",
       "    <tr style=\"text-align: right;\">\n",
       "      <th></th>\n",
       "      <th>bsmt_qual</th>\n",
       "      <th>bsmt_cond</th>\n",
       "      <th>bsmt_exposure</th>\n",
       "      <th>bsmtfin_type_1</th>\n",
       "      <th>bsmtfin_sf_1</th>\n",
       "      <th>bsmtfin_type_2</th>\n",
       "      <th>bsmtfin_sf_2</th>\n",
       "      <th>bsmt_unf_sf</th>\n",
       "      <th>total_bsmt_sf</th>\n",
       "      <th>bsmt_full_bath</th>\n",
       "      <th>bsmt_half_bath</th>\n",
       "    </tr>\n",
       "  </thead>\n",
       "  <tbody>\n",
       "  </tbody>\n",
       "</table>\n",
       "</div>"
      ],
      "text/plain": [
       "Empty DataFrame\n",
       "Columns: [bsmt_qual, bsmt_cond, bsmt_exposure, bsmtfin_type_1, bsmtfin_sf_1, bsmtfin_type_2, bsmtfin_sf_2, bsmt_unf_sf, total_bsmt_sf, bsmt_full_bath, bsmt_half_bath]\n",
       "Index: []"
      ]
     },
     "execution_count": 506,
     "metadata": {},
     "output_type": "execute_result"
    }
   ],
   "source": [
    "df[df['bsmt_full_bath'].isna()][bsmt_list]"
   ]
  },
  {
   "cell_type": "code",
   "execution_count": 507,
   "id": "7aa02a27-58e8-4174-9645-7054a565c220",
   "metadata": {},
   "outputs": [
    {
     "data": {
      "text/plain": [
       "0    507\n",
       "1    356\n",
       "2     15\n",
       "Name: bsmt_full_bath, dtype: int64"
      ]
     },
     "execution_count": 507,
     "metadata": {},
     "output_type": "execute_result"
    }
   ],
   "source": [
    "df['bsmt_full_bath'].value_counts(dropna = False)"
   ]
  },
  {
   "cell_type": "markdown",
   "id": "469a865b-13c0-4002-924e-b5e8ab609222",
   "metadata": {},
   "source": [
    "I did the above two lines to get a sense of what was going on with these instances. It appears these NaNs should be 0.0, reflecting no basement. The same appears to be true for the half baths, which I checked below."
   ]
  },
  {
   "cell_type": "code",
   "execution_count": 508,
   "id": "9a5d8943-fc9f-4857-aadf-cf65949f80a2",
   "metadata": {},
   "outputs": [],
   "source": [
    "df['bsmt_full_bath'] = df['bsmt_full_bath'].fillna(0.0)"
   ]
  },
  {
   "cell_type": "code",
   "execution_count": 509,
   "id": "e8934609-80fb-4806-aa53-df475c27a76b",
   "metadata": {},
   "outputs": [
    {
     "data": {
      "text/plain": [
       "0    507\n",
       "1    356\n",
       "2     15\n",
       "Name: bsmt_full_bath, dtype: int64"
      ]
     },
     "execution_count": 509,
     "metadata": {},
     "output_type": "execute_result"
    }
   ],
   "source": [
    "df['bsmt_full_bath'].value_counts(dropna = False)"
   ]
  },
  {
   "cell_type": "code",
   "execution_count": 510,
   "id": "df65e323-ccc5-4063-8ffa-1517f43e3a01",
   "metadata": {},
   "outputs": [
    {
     "data": {
      "text/html": [
       "<div>\n",
       "<style scoped>\n",
       "    .dataframe tbody tr th:only-of-type {\n",
       "        vertical-align: middle;\n",
       "    }\n",
       "\n",
       "    .dataframe tbody tr th {\n",
       "        vertical-align: top;\n",
       "    }\n",
       "\n",
       "    .dataframe thead th {\n",
       "        text-align: right;\n",
       "    }\n",
       "</style>\n",
       "<table border=\"1\" class=\"dataframe\">\n",
       "  <thead>\n",
       "    <tr style=\"text-align: right;\">\n",
       "      <th></th>\n",
       "      <th>bsmt_qual</th>\n",
       "      <th>bsmt_cond</th>\n",
       "      <th>bsmt_exposure</th>\n",
       "      <th>bsmtfin_type_1</th>\n",
       "      <th>bsmtfin_sf_1</th>\n",
       "      <th>bsmtfin_type_2</th>\n",
       "      <th>bsmtfin_sf_2</th>\n",
       "      <th>bsmt_unf_sf</th>\n",
       "      <th>total_bsmt_sf</th>\n",
       "      <th>bsmt_full_bath</th>\n",
       "      <th>bsmt_half_bath</th>\n",
       "    </tr>\n",
       "  </thead>\n",
       "  <tbody>\n",
       "  </tbody>\n",
       "</table>\n",
       "</div>"
      ],
      "text/plain": [
       "Empty DataFrame\n",
       "Columns: [bsmt_qual, bsmt_cond, bsmt_exposure, bsmtfin_type_1, bsmtfin_sf_1, bsmtfin_type_2, bsmtfin_sf_2, bsmt_unf_sf, total_bsmt_sf, bsmt_full_bath, bsmt_half_bath]\n",
       "Index: []"
      ]
     },
     "execution_count": 510,
     "metadata": {},
     "output_type": "execute_result"
    }
   ],
   "source": [
    "df[df['bsmt_half_bath'].isna()][bsmt_list]"
   ]
  },
  {
   "cell_type": "code",
   "execution_count": 511,
   "id": "b9f0e5b9-eea5-4d6c-b30f-145200043531",
   "metadata": {},
   "outputs": [],
   "source": [
    "df['bsmt_half_bath'] = df['bsmt_half_bath'].fillna(0.0)"
   ]
  },
  {
   "cell_type": "code",
   "execution_count": 512,
   "id": "b22528f1-ffc8-4a5d-8bff-0f24fa4d99f7",
   "metadata": {},
   "outputs": [
    {
     "data": {
      "text/plain": [
       "0    829\n",
       "1     49\n",
       "Name: bsmt_half_bath, dtype: int64"
      ]
     },
     "execution_count": 512,
     "metadata": {},
     "output_type": "execute_result"
    }
   ],
   "source": [
    "df['bsmt_half_bath'].value_counts(dropna = False)"
   ]
  },
  {
   "cell_type": "markdown",
   "id": "1f0b7ca5-1d14-405f-a07c-39c9a7496e99",
   "metadata": {},
   "source": [
    "### Basement Sq Ft, Finished (both types) & Unfinished, Total"
   ]
  },
  {
   "cell_type": "code",
   "execution_count": 513,
   "id": "0c61ec70-b0cf-4c93-b40f-b47f4a90e53f",
   "metadata": {},
   "outputs": [
    {
     "data": {
      "text/html": [
       "<div>\n",
       "<style scoped>\n",
       "    .dataframe tbody tr th:only-of-type {\n",
       "        vertical-align: middle;\n",
       "    }\n",
       "\n",
       "    .dataframe tbody tr th {\n",
       "        vertical-align: top;\n",
       "    }\n",
       "\n",
       "    .dataframe thead th {\n",
       "        text-align: right;\n",
       "    }\n",
       "</style>\n",
       "<table border=\"1\" class=\"dataframe\">\n",
       "  <thead>\n",
       "    <tr style=\"text-align: right;\">\n",
       "      <th></th>\n",
       "      <th>bsmt_qual</th>\n",
       "      <th>bsmt_cond</th>\n",
       "      <th>bsmt_exposure</th>\n",
       "      <th>bsmtfin_type_1</th>\n",
       "      <th>bsmtfin_sf_1</th>\n",
       "      <th>bsmtfin_type_2</th>\n",
       "      <th>bsmtfin_sf_2</th>\n",
       "      <th>bsmt_unf_sf</th>\n",
       "      <th>total_bsmt_sf</th>\n",
       "      <th>bsmt_full_bath</th>\n",
       "      <th>bsmt_half_bath</th>\n",
       "    </tr>\n",
       "  </thead>\n",
       "  <tbody>\n",
       "  </tbody>\n",
       "</table>\n",
       "</div>"
      ],
      "text/plain": [
       "Empty DataFrame\n",
       "Columns: [bsmt_qual, bsmt_cond, bsmt_exposure, bsmtfin_type_1, bsmtfin_sf_1, bsmtfin_type_2, bsmtfin_sf_2, bsmt_unf_sf, total_bsmt_sf, bsmt_full_bath, bsmt_half_bath]\n",
       "Index: []"
      ]
     },
     "execution_count": 513,
     "metadata": {},
     "output_type": "execute_result"
    }
   ],
   "source": [
    "df[df['bsmt_unf_sf'].isna()][bsmt_list]"
   ]
  },
  {
   "cell_type": "markdown",
   "id": "794c2d62-cd14-4fbf-a2d2-3ea4d7f3b7a3",
   "metadata": {},
   "source": [
    "Having looked at values in other instances, it appears this also should be 0.0, for no basement, as well."
   ]
  },
  {
   "cell_type": "code",
   "execution_count": 514,
   "id": "a9b607d5-edae-415b-9ff5-fd455b9d963d",
   "metadata": {},
   "outputs": [
    {
     "data": {
      "text/plain": [
       "0"
      ]
     },
     "execution_count": 514,
     "metadata": {},
     "output_type": "execute_result"
    }
   ],
   "source": [
    "df['bsmt_unf_sf'] = df['bsmt_unf_sf'].fillna(0.0)\n",
    "df['bsmt_unf_sf'].isnull().sum()"
   ]
  },
  {
   "cell_type": "code",
   "execution_count": 515,
   "id": "5fc0afc3-9f00-421a-a138-ab47737f5d22",
   "metadata": {},
   "outputs": [
    {
     "data": {
      "text/html": [
       "<div>\n",
       "<style scoped>\n",
       "    .dataframe tbody tr th:only-of-type {\n",
       "        vertical-align: middle;\n",
       "    }\n",
       "\n",
       "    .dataframe tbody tr th {\n",
       "        vertical-align: top;\n",
       "    }\n",
       "\n",
       "    .dataframe thead th {\n",
       "        text-align: right;\n",
       "    }\n",
       "</style>\n",
       "<table border=\"1\" class=\"dataframe\">\n",
       "  <thead>\n",
       "    <tr style=\"text-align: right;\">\n",
       "      <th></th>\n",
       "      <th>bsmt_qual</th>\n",
       "      <th>bsmt_cond</th>\n",
       "      <th>bsmt_exposure</th>\n",
       "      <th>bsmtfin_type_1</th>\n",
       "      <th>bsmtfin_sf_1</th>\n",
       "      <th>bsmtfin_type_2</th>\n",
       "      <th>bsmtfin_sf_2</th>\n",
       "      <th>bsmt_unf_sf</th>\n",
       "      <th>total_bsmt_sf</th>\n",
       "      <th>bsmt_full_bath</th>\n",
       "      <th>bsmt_half_bath</th>\n",
       "    </tr>\n",
       "  </thead>\n",
       "  <tbody>\n",
       "  </tbody>\n",
       "</table>\n",
       "</div>"
      ],
      "text/plain": [
       "Empty DataFrame\n",
       "Columns: [bsmt_qual, bsmt_cond, bsmt_exposure, bsmtfin_type_1, bsmtfin_sf_1, bsmtfin_type_2, bsmtfin_sf_2, bsmt_unf_sf, total_bsmt_sf, bsmt_full_bath, bsmt_half_bath]\n",
       "Index: []"
      ]
     },
     "execution_count": 515,
     "metadata": {},
     "output_type": "execute_result"
    }
   ],
   "source": [
    "df[df['bsmtfin_sf_1'].isnull()][bsmt_list]"
   ]
  },
  {
   "cell_type": "code",
   "execution_count": 516,
   "id": "a9919ada-6fc7-4c66-a144-2d5a6e395fe6",
   "metadata": {},
   "outputs": [
    {
     "data": {
      "text/plain": [
       "0"
      ]
     },
     "execution_count": 516,
     "metadata": {},
     "output_type": "execute_result"
    }
   ],
   "source": [
    "df['bsmtfin_sf_1'] = df['bsmtfin_sf_1'].fillna(0.0)\n",
    "df['bsmtfin_sf_1'].isnull().sum()"
   ]
  },
  {
   "cell_type": "code",
   "execution_count": 517,
   "id": "77deebdf-e6e0-441b-951e-b1a70b799b69",
   "metadata": {},
   "outputs": [
    {
     "data": {
      "text/html": [
       "<div>\n",
       "<style scoped>\n",
       "    .dataframe tbody tr th:only-of-type {\n",
       "        vertical-align: middle;\n",
       "    }\n",
       "\n",
       "    .dataframe tbody tr th {\n",
       "        vertical-align: top;\n",
       "    }\n",
       "\n",
       "    .dataframe thead th {\n",
       "        text-align: right;\n",
       "    }\n",
       "</style>\n",
       "<table border=\"1\" class=\"dataframe\">\n",
       "  <thead>\n",
       "    <tr style=\"text-align: right;\">\n",
       "      <th></th>\n",
       "      <th>bsmt_qual</th>\n",
       "      <th>bsmt_cond</th>\n",
       "      <th>bsmt_exposure</th>\n",
       "      <th>bsmtfin_type_1</th>\n",
       "      <th>bsmtfin_sf_1</th>\n",
       "      <th>bsmtfin_type_2</th>\n",
       "      <th>bsmtfin_sf_2</th>\n",
       "      <th>bsmt_unf_sf</th>\n",
       "      <th>total_bsmt_sf</th>\n",
       "      <th>bsmt_full_bath</th>\n",
       "      <th>bsmt_half_bath</th>\n",
       "    </tr>\n",
       "  </thead>\n",
       "  <tbody>\n",
       "  </tbody>\n",
       "</table>\n",
       "</div>"
      ],
      "text/plain": [
       "Empty DataFrame\n",
       "Columns: [bsmt_qual, bsmt_cond, bsmt_exposure, bsmtfin_type_1, bsmtfin_sf_1, bsmtfin_type_2, bsmtfin_sf_2, bsmt_unf_sf, total_bsmt_sf, bsmt_full_bath, bsmt_half_bath]\n",
       "Index: []"
      ]
     },
     "execution_count": 517,
     "metadata": {},
     "output_type": "execute_result"
    }
   ],
   "source": [
    "df[df['bsmtfin_sf_2'].isnull()][bsmt_list]"
   ]
  },
  {
   "cell_type": "code",
   "execution_count": 518,
   "id": "b41dea79-df30-4c97-831f-525668590c69",
   "metadata": {},
   "outputs": [
    {
     "data": {
      "text/plain": [
       "0"
      ]
     },
     "execution_count": 518,
     "metadata": {},
     "output_type": "execute_result"
    }
   ],
   "source": [
    "df['bsmtfin_sf_2'] = df['bsmtfin_sf_2'].fillna(0.0)\n",
    "df['bsmtfin_sf_2'].isnull().sum()"
   ]
  },
  {
   "cell_type": "code",
   "execution_count": 519,
   "id": "9a72055b-a1e8-46cc-ad07-238e8f628f20",
   "metadata": {},
   "outputs": [
    {
     "data": {
      "text/html": [
       "<div>\n",
       "<style scoped>\n",
       "    .dataframe tbody tr th:only-of-type {\n",
       "        vertical-align: middle;\n",
       "    }\n",
       "\n",
       "    .dataframe tbody tr th {\n",
       "        vertical-align: top;\n",
       "    }\n",
       "\n",
       "    .dataframe thead th {\n",
       "        text-align: right;\n",
       "    }\n",
       "</style>\n",
       "<table border=\"1\" class=\"dataframe\">\n",
       "  <thead>\n",
       "    <tr style=\"text-align: right;\">\n",
       "      <th></th>\n",
       "      <th>bsmt_qual</th>\n",
       "      <th>bsmt_cond</th>\n",
       "      <th>bsmt_exposure</th>\n",
       "      <th>bsmtfin_type_1</th>\n",
       "      <th>bsmtfin_sf_1</th>\n",
       "      <th>bsmtfin_type_2</th>\n",
       "      <th>bsmtfin_sf_2</th>\n",
       "      <th>bsmt_unf_sf</th>\n",
       "      <th>total_bsmt_sf</th>\n",
       "      <th>bsmt_full_bath</th>\n",
       "      <th>bsmt_half_bath</th>\n",
       "    </tr>\n",
       "  </thead>\n",
       "  <tbody>\n",
       "  </tbody>\n",
       "</table>\n",
       "</div>"
      ],
      "text/plain": [
       "Empty DataFrame\n",
       "Columns: [bsmt_qual, bsmt_cond, bsmt_exposure, bsmtfin_type_1, bsmtfin_sf_1, bsmtfin_type_2, bsmtfin_sf_2, bsmt_unf_sf, total_bsmt_sf, bsmt_full_bath, bsmt_half_bath]\n",
       "Index: []"
      ]
     },
     "execution_count": 519,
     "metadata": {},
     "output_type": "execute_result"
    }
   ],
   "source": [
    "df[df['total_bsmt_sf'].isnull()][bsmt_list]"
   ]
  },
  {
   "cell_type": "code",
   "execution_count": 520,
   "id": "3e4bb4cf-c87d-4743-9eaa-f29a2f78f101",
   "metadata": {},
   "outputs": [
    {
     "data": {
      "text/plain": [
       "0"
      ]
     },
     "execution_count": 520,
     "metadata": {},
     "output_type": "execute_result"
    }
   ],
   "source": [
    "df['total_bsmt_sf'] = df['total_bsmt_sf'].fillna(0.0)\n",
    "df['total_bsmt_sf'].isnull().sum()"
   ]
  },
  {
   "cell_type": "markdown",
   "id": "9d2e8024-8878-42dd-87f3-5b67be83dc24",
   "metadata": {},
   "source": [
    "**still have 878 columns**"
   ]
  },
  {
   "cell_type": "code",
   "execution_count": 521,
   "id": "397c4473-be03-47d3-9fed-bdac14771dbc",
   "metadata": {},
   "outputs": [
    {
     "data": {
      "text/plain": [
       "(878, 81)"
      ]
     },
     "execution_count": 521,
     "metadata": {},
     "output_type": "execute_result"
    }
   ],
   "source": [
    "df.shape"
   ]
  },
  {
   "cell_type": "markdown",
   "id": "fa7faeb0-450c-49e4-80aa-6de1ae7d1def",
   "metadata": {
    "tags": []
   },
   "source": [
    "### Basement Quality"
   ]
  },
  {
   "cell_type": "markdown",
   "id": "9dd5f373-17b8-4678-ab4a-ea8be76b0333",
   "metadata": {},
   "source": [
    "The dictionary specifies that 'Na' is 'No Basement', so I'm going to cast it as such. This appears to bet true for the categorical basement elements."
   ]
  },
  {
   "cell_type": "code",
   "execution_count": 522,
   "id": "297cf2bc-e37b-4740-8938-d47bdef762de",
   "metadata": {},
   "outputs": [
    {
     "data": {
      "text/plain": [
       "TA     396\n",
       "Gd     355\n",
       "Ex      73\n",
       "Fa      28\n",
       "NaN     25\n",
       "Po       1\n",
       "Name: bsmt_qual, dtype: int64"
      ]
     },
     "execution_count": 522,
     "metadata": {},
     "output_type": "execute_result"
    }
   ],
   "source": [
    "df['bsmt_qual'].value_counts(dropna = False)"
   ]
  },
  {
   "cell_type": "code",
   "execution_count": 523,
   "id": "8c8a88b9-3600-4d99-bb17-e13c341ae01b",
   "metadata": {},
   "outputs": [],
   "source": [
    "df['bsmt_qual'] = df['bsmt_qual'].fillna('No Basement')"
   ]
  },
  {
   "cell_type": "code",
   "execution_count": 524,
   "id": "61ccb6ed-6ccc-4ece-a514-0f5e1f742579",
   "metadata": {},
   "outputs": [
    {
     "data": {
      "text/plain": [
       "TA             396\n",
       "Gd             355\n",
       "Ex              73\n",
       "Fa              28\n",
       "No Basement     25\n",
       "Po               1\n",
       "Name: bsmt_qual, dtype: int64"
      ]
     },
     "execution_count": 524,
     "metadata": {},
     "output_type": "execute_result"
    }
   ],
   "source": [
    "df['bsmt_qual'].value_counts(dropna = False)"
   ]
  },
  {
   "cell_type": "markdown",
   "id": "919ccb92-5227-4b41-ba7d-c8a813cb7f6f",
   "metadata": {
    "tags": []
   },
   "source": [
    "### Basement Condition"
   ]
  },
  {
   "cell_type": "markdown",
   "id": "97621529-3c93-4e2a-83ac-1aad16969f5f",
   "metadata": {},
   "source": [
    "The data dictionary says that 'Na' means None, so I'm making that explicit."
   ]
  },
  {
   "cell_type": "code",
   "execution_count": 525,
   "id": "665e3499-0d8e-4e62-b7b1-2cb732e370a3",
   "metadata": {},
   "outputs": [
    {
     "data": {
      "text/plain": [
       "0"
      ]
     },
     "execution_count": 525,
     "metadata": {},
     "output_type": "execute_result"
    }
   ],
   "source": [
    "df['bsmt_cond'] = df['bsmt_cond'].fillna('No Basement')\n",
    "df['bsmt_cond'].isnull().sum()"
   ]
  },
  {
   "cell_type": "code",
   "execution_count": 526,
   "id": "13a25010-774e-4d9a-99ef-8e7489595b49",
   "metadata": {},
   "outputs": [
    {
     "data": {
      "text/plain": [
       "TA             781\n",
       "Fa              39\n",
       "Gd              33\n",
       "No Basement     25\n",
       "Name: bsmt_cond, dtype: int64"
      ]
     },
     "execution_count": 526,
     "metadata": {},
     "output_type": "execute_result"
    }
   ],
   "source": [
    "df['bsmt_cond'].value_counts()"
   ]
  },
  {
   "cell_type": "markdown",
   "id": "a8c1c659-da1f-4074-912e-20945fa4a2ef",
   "metadata": {},
   "source": [
    "### Basement Exposure\n",
    "Dictionary says 'Na' means 'No Basement', so making that explicit."
   ]
  },
  {
   "cell_type": "code",
   "execution_count": 527,
   "id": "872efd18-7732-45cc-8a70-db52ce7980dd",
   "metadata": {},
   "outputs": [
    {
     "data": {
      "text/plain": [
       "0"
      ]
     },
     "execution_count": 527,
     "metadata": {},
     "output_type": "execute_result"
    }
   ],
   "source": [
    "df['bsmt_exposure'] = df['bsmt_exposure'].fillna('No Basement')\n",
    "df['bsmt_exposure'].isna().sum()"
   ]
  },
  {
   "cell_type": "code",
   "execution_count": 528,
   "id": "d73b2c51-3616-404a-b234-3ebf7ac7d59a",
   "metadata": {},
   "outputs": [
    {
     "data": {
      "text/plain": [
       "No             567\n",
       "Av             130\n",
       "Gd              80\n",
       "Mn              76\n",
       "No Basement     25\n",
       "Name: bsmt_exposure, dtype: int64"
      ]
     },
     "execution_count": 528,
     "metadata": {},
     "output_type": "execute_result"
    }
   ],
   "source": [
    "df['bsmt_exposure'].value_counts()"
   ]
  },
  {
   "cell_type": "markdown",
   "id": "c9f1e37e-5cb1-4fa2-9108-de85f09c9a96",
   "metadata": {},
   "source": [
    "### Basement Finish Type 1 and 2\n",
    "The dictionary sas 'Na' means 'No Basement', so making that explicit. There's one more Finish Type 2 than Type 1, so I looked into that before making the change to 'No Basement'."
   ]
  },
  {
   "cell_type": "code",
   "execution_count": 529,
   "id": "15a9e5f6-284d-42c4-b5bc-4b7fe44197d1",
   "metadata": {},
   "outputs": [
    {
     "data": {
      "text/plain": [
       "Unf            248\n",
       "GLQ            243\n",
       "ALQ            136\n",
       "Rec            105\n",
       "BLQ             69\n",
       "LwQ             52\n",
       "No Basement     25\n",
       "Name: bsmtfin_type_1, dtype: int64"
      ]
     },
     "execution_count": 529,
     "metadata": {},
     "output_type": "execute_result"
    }
   ],
   "source": [
    "df['bsmtfin_type_1'] = df['bsmtfin_type_1'].fillna('No Basement')\n",
    "df['bsmtfin_type_1'].value_counts()"
   ]
  },
  {
   "cell_type": "code",
   "execution_count": 530,
   "id": "3386f5ad-0a1c-4e77-9aaa-1fcf08e46180",
   "metadata": {},
   "outputs": [
    {
     "data": {
      "text/html": [
       "<div>\n",
       "<style scoped>\n",
       "    .dataframe tbody tr th:only-of-type {\n",
       "        vertical-align: middle;\n",
       "    }\n",
       "\n",
       "    .dataframe tbody tr th {\n",
       "        vertical-align: top;\n",
       "    }\n",
       "\n",
       "    .dataframe thead th {\n",
       "        text-align: right;\n",
       "    }\n",
       "</style>\n",
       "<table border=\"1\" class=\"dataframe\">\n",
       "  <thead>\n",
       "    <tr style=\"text-align: right;\">\n",
       "      <th></th>\n",
       "      <th>bsmt_qual</th>\n",
       "      <th>bsmt_cond</th>\n",
       "      <th>bsmt_exposure</th>\n",
       "      <th>bsmtfin_type_1</th>\n",
       "      <th>bsmtfin_sf_1</th>\n",
       "      <th>bsmtfin_type_2</th>\n",
       "      <th>bsmtfin_sf_2</th>\n",
       "      <th>bsmt_unf_sf</th>\n",
       "      <th>total_bsmt_sf</th>\n",
       "      <th>bsmt_full_bath</th>\n",
       "      <th>bsmt_half_bath</th>\n",
       "    </tr>\n",
       "  </thead>\n",
       "  <tbody>\n",
       "  </tbody>\n",
       "</table>\n",
       "</div>"
      ],
      "text/plain": [
       "Empty DataFrame\n",
       "Columns: [bsmt_qual, bsmt_cond, bsmt_exposure, bsmtfin_type_1, bsmtfin_sf_1, bsmtfin_type_2, bsmtfin_sf_2, bsmt_unf_sf, total_bsmt_sf, bsmt_full_bath, bsmt_half_bath]\n",
       "Index: []"
      ]
     },
     "execution_count": 530,
     "metadata": {},
     "output_type": "execute_result"
    }
   ],
   "source": [
    "df[(df['bsmtfin_type_2'].isnull()) & (df['bsmtfin_type_1'] != 'No Basement')][bsmt_list]"
   ]
  },
  {
   "cell_type": "markdown",
   "id": "26841332-31c1-4b0e-909a-ff57e4ed4f70",
   "metadata": {},
   "source": [
    "In the original data frame there's one instance that has a null 'basmtfin_type_2' that clearly has a basement based on the other entries. Since I have no way of speculating what type that should be, I'm deleting this instance."
   ]
  },
  {
   "cell_type": "code",
   "execution_count": 531,
   "id": "b9dc4b91-f72f-4982-9e21-4f164997c200",
   "metadata": {},
   "outputs": [],
   "source": [
    "df.drop(index = df[(df['bsmtfin_type_2'].isnull()) & (df['bsmtfin_type_1'] != 'No Basement')].index, inplace = True)"
   ]
  },
  {
   "cell_type": "code",
   "execution_count": 532,
   "id": "a627ecab-85a6-4812-af42-fb56150a9a2b",
   "metadata": {},
   "outputs": [
    {
     "data": {
      "text/html": [
       "<div>\n",
       "<style scoped>\n",
       "    .dataframe tbody tr th:only-of-type {\n",
       "        vertical-align: middle;\n",
       "    }\n",
       "\n",
       "    .dataframe tbody tr th {\n",
       "        vertical-align: top;\n",
       "    }\n",
       "\n",
       "    .dataframe thead th {\n",
       "        text-align: right;\n",
       "    }\n",
       "</style>\n",
       "<table border=\"1\" class=\"dataframe\">\n",
       "  <thead>\n",
       "    <tr style=\"text-align: right;\">\n",
       "      <th></th>\n",
       "      <th>bsmt_qual</th>\n",
       "      <th>bsmt_cond</th>\n",
       "      <th>bsmt_exposure</th>\n",
       "      <th>bsmtfin_type_1</th>\n",
       "      <th>bsmtfin_sf_1</th>\n",
       "      <th>bsmtfin_type_2</th>\n",
       "      <th>bsmtfin_sf_2</th>\n",
       "      <th>bsmt_unf_sf</th>\n",
       "      <th>total_bsmt_sf</th>\n",
       "      <th>bsmt_full_bath</th>\n",
       "      <th>bsmt_half_bath</th>\n",
       "    </tr>\n",
       "  </thead>\n",
       "  <tbody>\n",
       "  </tbody>\n",
       "</table>\n",
       "</div>"
      ],
      "text/plain": [
       "Empty DataFrame\n",
       "Columns: [bsmt_qual, bsmt_cond, bsmt_exposure, bsmtfin_type_1, bsmtfin_sf_1, bsmtfin_type_2, bsmtfin_sf_2, bsmt_unf_sf, total_bsmt_sf, bsmt_full_bath, bsmt_half_bath]\n",
       "Index: []"
      ]
     },
     "execution_count": 532,
     "metadata": {},
     "output_type": "execute_result"
    }
   ],
   "source": [
    "df[(df['bsmtfin_type_2'].isnull()) & (df['bsmtfin_type_1'] != 'No Basement')][bsmt_list]"
   ]
  },
  {
   "cell_type": "markdown",
   "id": "f01d1a4e-cfbc-43ba-a13d-f4b4485d6674",
   "metadata": {},
   "source": [
    "Now making the change to 'No Basement' on Finish Type 2"
   ]
  },
  {
   "cell_type": "code",
   "execution_count": 533,
   "id": "8927eec3-eacd-4d38-a799-f1b724b80e78",
   "metadata": {},
   "outputs": [
    {
     "data": {
      "text/plain": [
       "Unf            749\n",
       "LwQ             29\n",
       "Rec             26\n",
       "No Basement     25\n",
       "BLQ             20\n",
       "ALQ             18\n",
       "GLQ             11\n",
       "Name: bsmtfin_type_2, dtype: int64"
      ]
     },
     "execution_count": 533,
     "metadata": {},
     "output_type": "execute_result"
    }
   ],
   "source": [
    "df['bsmtfin_type_2'] = df['bsmtfin_type_2'].fillna('No Basement')\n",
    "df['bsmtfin_type_2'].value_counts()"
   ]
  },
  {
   "cell_type": "markdown",
   "id": "2edf82aa-75c9-4c5d-94c4-25c0bba6929a",
   "metadata": {},
   "source": [
    "Checking in on which columns still have Na's"
   ]
  },
  {
   "cell_type": "code",
   "execution_count": 534,
   "id": "3812e226-3a9f-417e-8d07-99a3dd47e723",
   "metadata": {},
   "outputs": [
    {
     "data": {
      "text/plain": [
       "['lot_frontage',\n",
       " 'mas_vnr_type',\n",
       " 'mas_vnr_area',\n",
       " 'electrical',\n",
       " 'fireplace_qu',\n",
       " 'garage_type',\n",
       " 'garage_yr_blt',\n",
       " 'garage_finish',\n",
       " 'garage_qual',\n",
       " 'garage_cond',\n",
       " 'pool_qc',\n",
       " 'fence',\n",
       " 'misc_feature']"
      ]
     },
     "execution_count": 534,
     "metadata": {},
     "output_type": "execute_result"
    }
   ],
   "source": [
    "df.columns[df.isnull().any()].tolist()"
   ]
  },
  {
   "cell_type": "markdown",
   "id": "bea63a5a-414f-44d6-9326-0b1701e1f6e2",
   "metadata": {
    "tags": []
   },
   "source": [
    "### Garage Columns"
   ]
  },
  {
   "cell_type": "code",
   "execution_count": 535,
   "id": "0a730e2c-d88b-45a1-a9cd-006b5d4f99de",
   "metadata": {
    "tags": []
   },
   "outputs": [
    {
     "data": {
      "text/plain": [
       "['garage_type',\n",
       " 'garage_yr_blt',\n",
       " 'garage_finish',\n",
       " 'garage_cars',\n",
       " 'garage_area',\n",
       " 'garage_qual',\n",
       " 'garage_cond']"
      ]
     },
     "execution_count": 535,
     "metadata": {},
     "output_type": "execute_result"
    }
   ],
   "source": [
    "garage_list = df.columns[df.columns.str.contains('garage')].tolist()\n",
    "garage_list"
   ]
  },
  {
   "cell_type": "markdown",
   "id": "cabba878-866c-44df-9848-4a6b2014c2e9",
   "metadata": {},
   "source": [
    "Again, I recycled the below for-loop as a final sanity check, returning to this line repeatedly as I worked, rather than rewriting the loop for every step I took."
   ]
  },
  {
   "cell_type": "code",
   "execution_count": 536,
   "id": "ad986571-9241-468d-b80e-3cf5faf72034",
   "metadata": {},
   "outputs": [
    {
     "name": "stdout",
     "output_type": "stream",
     "text": [
      "garage_type has 44 nulls\n",
      "garage_yr_blt has 45 nulls\n",
      "garage_finish has 45 nulls\n",
      "garage_cars has 0 nulls\n",
      "garage_area has 0 nulls\n",
      "garage_qual has 45 nulls\n",
      "garage_cond has 45 nulls\n"
     ]
    }
   ],
   "source": [
    "for i in garage_list:\n",
    "    print(f'{i} has {df[i].isnull().sum()} nulls')"
   ]
  },
  {
   "cell_type": "markdown",
   "id": "55c88a33-b233-4b05-bd75-c35a1c1c2dbe",
   "metadata": {},
   "source": [
    "I did a search to find the not null method for the following, which turned up the [pandas documentation](https://pandas.pydata.org/pandas-docs/stable/reference/api/pandas.notnull.html)."
   ]
  },
  {
   "cell_type": "code",
   "execution_count": 537,
   "id": "29994c61-6c09-4d02-8270-0187f6541827",
   "metadata": {},
   "outputs": [
    {
     "data": {
      "text/html": [
       "<div>\n",
       "<style scoped>\n",
       "    .dataframe tbody tr th:only-of-type {\n",
       "        vertical-align: middle;\n",
       "    }\n",
       "\n",
       "    .dataframe tbody tr th {\n",
       "        vertical-align: top;\n",
       "    }\n",
       "\n",
       "    .dataframe thead th {\n",
       "        text-align: right;\n",
       "    }\n",
       "</style>\n",
       "<table border=\"1\" class=\"dataframe\">\n",
       "  <thead>\n",
       "    <tr style=\"text-align: right;\">\n",
       "      <th></th>\n",
       "      <th>garage_type</th>\n",
       "      <th>garage_yr_blt</th>\n",
       "      <th>garage_finish</th>\n",
       "      <th>garage_cars</th>\n",
       "      <th>garage_area</th>\n",
       "      <th>garage_qual</th>\n",
       "      <th>garage_cond</th>\n",
       "    </tr>\n",
       "  </thead>\n",
       "  <tbody>\n",
       "    <tr>\n",
       "      <th>764</th>\n",
       "      <td>Detchd</td>\n",
       "      <td>NaN</td>\n",
       "      <td>NaN</td>\n",
       "      <td>1</td>\n",
       "      <td>360</td>\n",
       "      <td>NaN</td>\n",
       "      <td>NaN</td>\n",
       "    </tr>\n",
       "  </tbody>\n",
       "</table>\n",
       "</div>"
      ],
      "text/plain": [
       "    garage_type  garage_yr_blt garage_finish  garage_cars  garage_area  \\\n",
       "764      Detchd            NaN           NaN            1          360   \n",
       "\n",
       "    garage_qual garage_cond  \n",
       "764         NaN         NaN  "
      ]
     },
     "execution_count": 537,
     "metadata": {},
     "output_type": "execute_result"
    }
   ],
   "source": [
    "df[(df['garage_yr_blt'].isnull()) & (df['garage_type'].notnull())][garage_list]"
   ]
  },
  {
   "cell_type": "markdown",
   "id": "b74b8172-9ad7-4925-a903-d8dfe8258210",
   "metadata": {},
   "source": [
    "A garage_type is listed for this one instance, but NaN in a number of the other columns means 'No Garage' according to the dictionary, so I'm going to operate on the assumption that the garage type is in error, here and change it to 'No Garage'"
   ]
  },
  {
   "cell_type": "code",
   "execution_count": 538,
   "id": "be05460e-2a1d-417a-834f-8f5e5b15a72e",
   "metadata": {},
   "outputs": [
    {
     "data": {
      "text/html": [
       "<div>\n",
       "<style scoped>\n",
       "    .dataframe tbody tr th:only-of-type {\n",
       "        vertical-align: middle;\n",
       "    }\n",
       "\n",
       "    .dataframe tbody tr th {\n",
       "        vertical-align: top;\n",
       "    }\n",
       "\n",
       "    .dataframe thead th {\n",
       "        text-align: right;\n",
       "    }\n",
       "</style>\n",
       "<table border=\"1\" class=\"dataframe\">\n",
       "  <thead>\n",
       "    <tr style=\"text-align: right;\">\n",
       "      <th></th>\n",
       "      <th>index</th>\n",
       "      <th>id</th>\n",
       "      <th>pid</th>\n",
       "      <th>ms_subclass</th>\n",
       "      <th>ms_zoning</th>\n",
       "      <th>lot_frontage</th>\n",
       "      <th>lot_area</th>\n",
       "      <th>street</th>\n",
       "      <th>alley</th>\n",
       "      <th>lot_shape</th>\n",
       "      <th>...</th>\n",
       "      <th>screen_porch</th>\n",
       "      <th>pool_area</th>\n",
       "      <th>pool_qc</th>\n",
       "      <th>fence</th>\n",
       "      <th>misc_feature</th>\n",
       "      <th>misc_val</th>\n",
       "      <th>mo_sold</th>\n",
       "      <th>yr_sold</th>\n",
       "      <th>sale_type</th>\n",
       "      <th>saleprice</th>\n",
       "    </tr>\n",
       "  </thead>\n",
       "  <tbody>\n",
       "    <tr>\n",
       "      <th>0</th>\n",
       "      <td>0</td>\n",
       "      <td>2658</td>\n",
       "      <td>902301120</td>\n",
       "      <td>190</td>\n",
       "      <td>RM</td>\n",
       "      <td>69.0</td>\n",
       "      <td>9142</td>\n",
       "      <td>Pave</td>\n",
       "      <td>Grvl</td>\n",
       "      <td>Reg</td>\n",
       "      <td>...</td>\n",
       "      <td>0</td>\n",
       "      <td>0</td>\n",
       "      <td>NaN</td>\n",
       "      <td>NaN</td>\n",
       "      <td>NaN</td>\n",
       "      <td>0</td>\n",
       "      <td>4</td>\n",
       "      <td>2006</td>\n",
       "      <td>WD</td>\n",
       "      <td>0</td>\n",
       "    </tr>\n",
       "    <tr>\n",
       "      <th>1</th>\n",
       "      <td>1</td>\n",
       "      <td>2718</td>\n",
       "      <td>905108090</td>\n",
       "      <td>90</td>\n",
       "      <td>RL</td>\n",
       "      <td>NaN</td>\n",
       "      <td>9662</td>\n",
       "      <td>Pave</td>\n",
       "      <td>None</td>\n",
       "      <td>IR1</td>\n",
       "      <td>...</td>\n",
       "      <td>0</td>\n",
       "      <td>0</td>\n",
       "      <td>NaN</td>\n",
       "      <td>NaN</td>\n",
       "      <td>NaN</td>\n",
       "      <td>0</td>\n",
       "      <td>8</td>\n",
       "      <td>2006</td>\n",
       "      <td>WD</td>\n",
       "      <td>0</td>\n",
       "    </tr>\n",
       "    <tr>\n",
       "      <th>2</th>\n",
       "      <td>2</td>\n",
       "      <td>2414</td>\n",
       "      <td>528218130</td>\n",
       "      <td>60</td>\n",
       "      <td>RL</td>\n",
       "      <td>58.0</td>\n",
       "      <td>17104</td>\n",
       "      <td>Pave</td>\n",
       "      <td>None</td>\n",
       "      <td>IR1</td>\n",
       "      <td>...</td>\n",
       "      <td>0</td>\n",
       "      <td>0</td>\n",
       "      <td>NaN</td>\n",
       "      <td>NaN</td>\n",
       "      <td>NaN</td>\n",
       "      <td>0</td>\n",
       "      <td>9</td>\n",
       "      <td>2006</td>\n",
       "      <td>New</td>\n",
       "      <td>0</td>\n",
       "    </tr>\n",
       "    <tr>\n",
       "      <th>3</th>\n",
       "      <td>3</td>\n",
       "      <td>1989</td>\n",
       "      <td>902207150</td>\n",
       "      <td>30</td>\n",
       "      <td>RM</td>\n",
       "      <td>60.0</td>\n",
       "      <td>8520</td>\n",
       "      <td>Pave</td>\n",
       "      <td>None</td>\n",
       "      <td>Reg</td>\n",
       "      <td>...</td>\n",
       "      <td>0</td>\n",
       "      <td>0</td>\n",
       "      <td>NaN</td>\n",
       "      <td>NaN</td>\n",
       "      <td>NaN</td>\n",
       "      <td>0</td>\n",
       "      <td>7</td>\n",
       "      <td>2007</td>\n",
       "      <td>WD</td>\n",
       "      <td>0</td>\n",
       "    </tr>\n",
       "    <tr>\n",
       "      <th>4</th>\n",
       "      <td>4</td>\n",
       "      <td>625</td>\n",
       "      <td>535105100</td>\n",
       "      <td>20</td>\n",
       "      <td>RL</td>\n",
       "      <td>NaN</td>\n",
       "      <td>9500</td>\n",
       "      <td>Pave</td>\n",
       "      <td>None</td>\n",
       "      <td>IR1</td>\n",
       "      <td>...</td>\n",
       "      <td>185</td>\n",
       "      <td>0</td>\n",
       "      <td>NaN</td>\n",
       "      <td>NaN</td>\n",
       "      <td>NaN</td>\n",
       "      <td>0</td>\n",
       "      <td>7</td>\n",
       "      <td>2009</td>\n",
       "      <td>WD</td>\n",
       "      <td>0</td>\n",
       "    </tr>\n",
       "    <tr>\n",
       "      <th>...</th>\n",
       "      <td>...</td>\n",
       "      <td>...</td>\n",
       "      <td>...</td>\n",
       "      <td>...</td>\n",
       "      <td>...</td>\n",
       "      <td>...</td>\n",
       "      <td>...</td>\n",
       "      <td>...</td>\n",
       "      <td>...</td>\n",
       "      <td>...</td>\n",
       "      <td>...</td>\n",
       "      <td>...</td>\n",
       "      <td>...</td>\n",
       "      <td>...</td>\n",
       "      <td>...</td>\n",
       "      <td>...</td>\n",
       "      <td>...</td>\n",
       "      <td>...</td>\n",
       "      <td>...</td>\n",
       "      <td>...</td>\n",
       "      <td>...</td>\n",
       "    </tr>\n",
       "    <tr>\n",
       "      <th>873</th>\n",
       "      <td>873</td>\n",
       "      <td>1662</td>\n",
       "      <td>527377110</td>\n",
       "      <td>60</td>\n",
       "      <td>RL</td>\n",
       "      <td>80.0</td>\n",
       "      <td>8000</td>\n",
       "      <td>Pave</td>\n",
       "      <td>None</td>\n",
       "      <td>Reg</td>\n",
       "      <td>...</td>\n",
       "      <td>0</td>\n",
       "      <td>0</td>\n",
       "      <td>NaN</td>\n",
       "      <td>NaN</td>\n",
       "      <td>NaN</td>\n",
       "      <td>0</td>\n",
       "      <td>11</td>\n",
       "      <td>2007</td>\n",
       "      <td>WD</td>\n",
       "      <td>0</td>\n",
       "    </tr>\n",
       "    <tr>\n",
       "      <th>874</th>\n",
       "      <td>874</td>\n",
       "      <td>1234</td>\n",
       "      <td>535126140</td>\n",
       "      <td>60</td>\n",
       "      <td>RL</td>\n",
       "      <td>90.0</td>\n",
       "      <td>14670</td>\n",
       "      <td>Pave</td>\n",
       "      <td>None</td>\n",
       "      <td>Reg</td>\n",
       "      <td>...</td>\n",
       "      <td>0</td>\n",
       "      <td>0</td>\n",
       "      <td>NaN</td>\n",
       "      <td>MnPrv</td>\n",
       "      <td>NaN</td>\n",
       "      <td>0</td>\n",
       "      <td>8</td>\n",
       "      <td>2008</td>\n",
       "      <td>WD</td>\n",
       "      <td>0</td>\n",
       "    </tr>\n",
       "    <tr>\n",
       "      <th>875</th>\n",
       "      <td>875</td>\n",
       "      <td>1373</td>\n",
       "      <td>904100040</td>\n",
       "      <td>20</td>\n",
       "      <td>RL</td>\n",
       "      <td>55.0</td>\n",
       "      <td>8250</td>\n",
       "      <td>Pave</td>\n",
       "      <td>None</td>\n",
       "      <td>Reg</td>\n",
       "      <td>...</td>\n",
       "      <td>0</td>\n",
       "      <td>0</td>\n",
       "      <td>NaN</td>\n",
       "      <td>NaN</td>\n",
       "      <td>NaN</td>\n",
       "      <td>0</td>\n",
       "      <td>8</td>\n",
       "      <td>2008</td>\n",
       "      <td>WD</td>\n",
       "      <td>0</td>\n",
       "    </tr>\n",
       "    <tr>\n",
       "      <th>876</th>\n",
       "      <td>876</td>\n",
       "      <td>1672</td>\n",
       "      <td>527425140</td>\n",
       "      <td>20</td>\n",
       "      <td>RL</td>\n",
       "      <td>60.0</td>\n",
       "      <td>9000</td>\n",
       "      <td>Pave</td>\n",
       "      <td>None</td>\n",
       "      <td>Reg</td>\n",
       "      <td>...</td>\n",
       "      <td>0</td>\n",
       "      <td>0</td>\n",
       "      <td>NaN</td>\n",
       "      <td>GdWo</td>\n",
       "      <td>NaN</td>\n",
       "      <td>0</td>\n",
       "      <td>5</td>\n",
       "      <td>2007</td>\n",
       "      <td>WD</td>\n",
       "      <td>0</td>\n",
       "    </tr>\n",
       "    <tr>\n",
       "      <th>877</th>\n",
       "      <td>877</td>\n",
       "      <td>1939</td>\n",
       "      <td>535327160</td>\n",
       "      <td>20</td>\n",
       "      <td>RL</td>\n",
       "      <td>70.0</td>\n",
       "      <td>8400</td>\n",
       "      <td>Pave</td>\n",
       "      <td>None</td>\n",
       "      <td>Reg</td>\n",
       "      <td>...</td>\n",
       "      <td>0</td>\n",
       "      <td>0</td>\n",
       "      <td>NaN</td>\n",
       "      <td>GdWo</td>\n",
       "      <td>NaN</td>\n",
       "      <td>0</td>\n",
       "      <td>3</td>\n",
       "      <td>2007</td>\n",
       "      <td>WD</td>\n",
       "      <td>0</td>\n",
       "    </tr>\n",
       "  </tbody>\n",
       "</table>\n",
       "<p>878 rows × 82 columns</p>\n",
       "</div>"
      ],
      "text/plain": [
       "     index    id        pid  ms_subclass ms_zoning  lot_frontage  lot_area  \\\n",
       "0        0  2658  902301120          190        RM          69.0      9142   \n",
       "1        1  2718  905108090           90        RL           NaN      9662   \n",
       "2        2  2414  528218130           60        RL          58.0     17104   \n",
       "3        3  1989  902207150           30        RM          60.0      8520   \n",
       "4        4   625  535105100           20        RL           NaN      9500   \n",
       "..     ...   ...        ...          ...       ...           ...       ...   \n",
       "873    873  1662  527377110           60        RL          80.0      8000   \n",
       "874    874  1234  535126140           60        RL          90.0     14670   \n",
       "875    875  1373  904100040           20        RL          55.0      8250   \n",
       "876    876  1672  527425140           20        RL          60.0      9000   \n",
       "877    877  1939  535327160           20        RL          70.0      8400   \n",
       "\n",
       "    street alley lot_shape  ... screen_porch pool_area pool_qc  fence  \\\n",
       "0     Pave  Grvl       Reg  ...            0         0     NaN    NaN   \n",
       "1     Pave  None       IR1  ...            0         0     NaN    NaN   \n",
       "2     Pave  None       IR1  ...            0         0     NaN    NaN   \n",
       "3     Pave  None       Reg  ...            0         0     NaN    NaN   \n",
       "4     Pave  None       IR1  ...          185         0     NaN    NaN   \n",
       "..     ...   ...       ...  ...          ...       ...     ...    ...   \n",
       "873   Pave  None       Reg  ...            0         0     NaN    NaN   \n",
       "874   Pave  None       Reg  ...            0         0     NaN  MnPrv   \n",
       "875   Pave  None       Reg  ...            0         0     NaN    NaN   \n",
       "876   Pave  None       Reg  ...            0         0     NaN   GdWo   \n",
       "877   Pave  None       Reg  ...            0         0     NaN   GdWo   \n",
       "\n",
       "    misc_feature misc_val mo_sold yr_sold sale_type  saleprice  \n",
       "0            NaN        0       4    2006       WD           0  \n",
       "1            NaN        0       8    2006       WD           0  \n",
       "2            NaN        0       9    2006       New          0  \n",
       "3            NaN        0       7    2007       WD           0  \n",
       "4            NaN        0       7    2009       WD           0  \n",
       "..           ...      ...     ...     ...       ...        ...  \n",
       "873          NaN        0      11    2007       WD           0  \n",
       "874          NaN        0       8    2008       WD           0  \n",
       "875          NaN        0       8    2008       WD           0  \n",
       "876          NaN        0       5    2007       WD           0  \n",
       "877          NaN        0       3    2007       WD           0  \n",
       "\n",
       "[878 rows x 82 columns]"
      ]
     },
     "execution_count": 538,
     "metadata": {},
     "output_type": "execute_result"
    }
   ],
   "source": [
    "df.reset_index()"
   ]
  },
  {
   "cell_type": "code",
   "execution_count": 539,
   "id": "eae4b49b-26f1-4c1d-ad97-79b3755b3187",
   "metadata": {},
   "outputs": [
    {
     "data": {
      "text/plain": [
       "764    Detchd\n",
       "Name: garage_type, dtype: object"
      ]
     },
     "execution_count": 539,
     "metadata": {},
     "output_type": "execute_result"
    }
   ],
   "source": [
    "garage_index = df[(df['garage_yr_blt'].isnull()) & (df['garage_type'].notnull())].index\n",
    "\n",
    "df.iloc[garage_index]['garage_type'].map({'garage_type': 'No Basement'})\n",
    "\n",
    "df.iloc[garage_index]['garage_type']"
   ]
  },
  {
   "cell_type": "code",
   "execution_count": 540,
   "id": "1d86a1d7-4db9-4c7e-a252-28033d8374e6",
   "metadata": {},
   "outputs": [
    {
     "data": {
      "text/plain": [
       "(878, 81)"
      ]
     },
     "execution_count": 540,
     "metadata": {},
     "output_type": "execute_result"
    }
   ],
   "source": [
    "df.shape"
   ]
  },
  {
   "cell_type": "code",
   "execution_count": 541,
   "id": "52fcbbf9-5c6b-45df-8f87-9011eb76ff9f",
   "metadata": {},
   "outputs": [
    {
     "data": {
      "text/plain": [
       "Int64Index([764], dtype='int64')"
      ]
     },
     "execution_count": 541,
     "metadata": {},
     "output_type": "execute_result"
    }
   ],
   "source": [
    "garage_index.astype(int)"
   ]
  },
  {
   "cell_type": "code",
   "execution_count": 542,
   "id": "b1219ea3-b415-4b3c-90ee-499be88652bc",
   "metadata": {},
   "outputs": [
    {
     "data": {
      "text/plain": [
       "(878, 81)"
      ]
     },
     "execution_count": 542,
     "metadata": {},
     "output_type": "execute_result"
    }
   ],
   "source": [
    "df.shape"
   ]
  },
  {
   "cell_type": "markdown",
   "id": "c7ee3348-e818-41fc-9a6e-5ec15c7c3f7d",
   "metadata": {},
   "source": [
    "This code was left from before and it added a row because this index doesn't exist in the new dataframe"
   ]
  },
  {
   "cell_type": "code",
   "execution_count": 543,
   "id": "7f8145eb-2a0d-48fd-aa5f-bf080b36521a",
   "metadata": {},
   "outputs": [],
   "source": [
    "# df.at[1712, 'garage_type'] = 'No Garage'"
   ]
  },
  {
   "cell_type": "code",
   "execution_count": 544,
   "id": "9a461c53-8433-40da-aeed-8cf6a39bca2f",
   "metadata": {},
   "outputs": [
    {
     "data": {
      "text/plain": [
       "(878, 81)"
      ]
     },
     "execution_count": 544,
     "metadata": {},
     "output_type": "execute_result"
    }
   ],
   "source": [
    "df.shape"
   ]
  },
  {
   "cell_type": "code",
   "execution_count": 545,
   "id": "5e49abdc-5497-4c38-9ad9-e35ff5c01986",
   "metadata": {},
   "outputs": [
    {
     "data": {
      "text/html": [
       "<div>\n",
       "<style scoped>\n",
       "    .dataframe tbody tr th:only-of-type {\n",
       "        vertical-align: middle;\n",
       "    }\n",
       "\n",
       "    .dataframe tbody tr th {\n",
       "        vertical-align: top;\n",
       "    }\n",
       "\n",
       "    .dataframe thead th {\n",
       "        text-align: right;\n",
       "    }\n",
       "</style>\n",
       "<table border=\"1\" class=\"dataframe\">\n",
       "  <thead>\n",
       "    <tr style=\"text-align: right;\">\n",
       "      <th></th>\n",
       "      <th>garage_type</th>\n",
       "      <th>garage_yr_blt</th>\n",
       "      <th>garage_finish</th>\n",
       "      <th>garage_cars</th>\n",
       "      <th>garage_area</th>\n",
       "      <th>garage_qual</th>\n",
       "      <th>garage_cond</th>\n",
       "    </tr>\n",
       "  </thead>\n",
       "  <tbody>\n",
       "    <tr>\n",
       "      <th>764</th>\n",
       "      <td>Detchd</td>\n",
       "      <td>NaN</td>\n",
       "      <td>NaN</td>\n",
       "      <td>1</td>\n",
       "      <td>360</td>\n",
       "      <td>NaN</td>\n",
       "      <td>NaN</td>\n",
       "    </tr>\n",
       "  </tbody>\n",
       "</table>\n",
       "</div>"
      ],
      "text/plain": [
       "    garage_type  garage_yr_blt garage_finish  garage_cars  garage_area  \\\n",
       "764      Detchd            NaN           NaN            1          360   \n",
       "\n",
       "    garage_qual garage_cond  \n",
       "764         NaN         NaN  "
      ]
     },
     "execution_count": 545,
     "metadata": {},
     "output_type": "execute_result"
    }
   ],
   "source": [
    "df[(df['garage_yr_blt'].isnull()) & (df['garage_type'].notnull())][garage_list]"
   ]
  },
  {
   "cell_type": "code",
   "execution_count": 546,
   "id": "abd31453-d6a6-4480-b642-1b4ccb701799",
   "metadata": {},
   "outputs": [
    {
     "data": {
      "text/html": [
       "<div>\n",
       "<style scoped>\n",
       "    .dataframe tbody tr th:only-of-type {\n",
       "        vertical-align: middle;\n",
       "    }\n",
       "\n",
       "    .dataframe tbody tr th {\n",
       "        vertical-align: top;\n",
       "    }\n",
       "\n",
       "    .dataframe thead th {\n",
       "        text-align: right;\n",
       "    }\n",
       "</style>\n",
       "<table border=\"1\" class=\"dataframe\">\n",
       "  <thead>\n",
       "    <tr style=\"text-align: right;\">\n",
       "      <th></th>\n",
       "      <th>garage_type</th>\n",
       "      <th>garage_yr_blt</th>\n",
       "      <th>garage_finish</th>\n",
       "      <th>garage_cars</th>\n",
       "      <th>garage_area</th>\n",
       "      <th>garage_qual</th>\n",
       "      <th>garage_cond</th>\n",
       "    </tr>\n",
       "  </thead>\n",
       "  <tbody>\n",
       "    <tr>\n",
       "      <th>764</th>\n",
       "      <td>Detchd</td>\n",
       "      <td>NaN</td>\n",
       "      <td>NaN</td>\n",
       "      <td>1</td>\n",
       "      <td>360</td>\n",
       "      <td>NaN</td>\n",
       "      <td>NaN</td>\n",
       "    </tr>\n",
       "  </tbody>\n",
       "</table>\n",
       "</div>"
      ],
      "text/plain": [
       "    garage_type  garage_yr_blt garage_finish  garage_cars  garage_area  \\\n",
       "764      Detchd            NaN           NaN            1          360   \n",
       "\n",
       "    garage_qual garage_cond  \n",
       "764         NaN         NaN  "
      ]
     },
     "execution_count": 546,
     "metadata": {},
     "output_type": "execute_result"
    }
   ],
   "source": [
    "df.iloc[garage_index][garage_list]"
   ]
  },
  {
   "cell_type": "code",
   "execution_count": 547,
   "id": "60a909e8-4768-431d-816b-6a240132c90f",
   "metadata": {},
   "outputs": [
    {
     "data": {
      "text/html": [
       "<div>\n",
       "<style scoped>\n",
       "    .dataframe tbody tr th:only-of-type {\n",
       "        vertical-align: middle;\n",
       "    }\n",
       "\n",
       "    .dataframe tbody tr th {\n",
       "        vertical-align: top;\n",
       "    }\n",
       "\n",
       "    .dataframe thead th {\n",
       "        text-align: right;\n",
       "    }\n",
       "</style>\n",
       "<table border=\"1\" class=\"dataframe\">\n",
       "  <thead>\n",
       "    <tr style=\"text-align: right;\">\n",
       "      <th></th>\n",
       "      <th>garage_type</th>\n",
       "      <th>garage_yr_blt</th>\n",
       "      <th>garage_finish</th>\n",
       "      <th>garage_cars</th>\n",
       "      <th>garage_area</th>\n",
       "      <th>garage_qual</th>\n",
       "      <th>garage_cond</th>\n",
       "    </tr>\n",
       "  </thead>\n",
       "  <tbody>\n",
       "    <tr>\n",
       "      <th>764</th>\n",
       "      <td>Detchd</td>\n",
       "      <td>NaN</td>\n",
       "      <td>NaN</td>\n",
       "      <td>1</td>\n",
       "      <td>360</td>\n",
       "      <td>NaN</td>\n",
       "      <td>NaN</td>\n",
       "    </tr>\n",
       "  </tbody>\n",
       "</table>\n",
       "</div>"
      ],
      "text/plain": [
       "    garage_type  garage_yr_blt garage_finish  garage_cars  garage_area  \\\n",
       "764      Detchd            NaN           NaN            1          360   \n",
       "\n",
       "    garage_qual garage_cond  \n",
       "764         NaN         NaN  "
      ]
     },
     "execution_count": 547,
     "metadata": {},
     "output_type": "execute_result"
    }
   ],
   "source": [
    "df[(df['garage_yr_blt'].isnull()) & (df['garage_type'].notnull())][garage_list]"
   ]
  },
  {
   "cell_type": "code",
   "execution_count": 548,
   "id": "22df91f0-3054-4a6c-9103-76a76083cc87",
   "metadata": {},
   "outputs": [
    {
     "data": {
      "text/plain": [
       "0"
      ]
     },
     "execution_count": 548,
     "metadata": {},
     "output_type": "execute_result"
    }
   ],
   "source": [
    "df['garage_type'] = df['garage_type'].fillna('No Garage')\n",
    "   \n",
    "df['garage_type'].isnull().sum()"
   ]
  },
  {
   "cell_type": "code",
   "execution_count": 549,
   "id": "6bd2bbba-d4ed-43fa-ac22-3e452856b871",
   "metadata": {},
   "outputs": [
    {
     "data": {
      "text/plain": [
       "(878, 81)"
      ]
     },
     "execution_count": 549,
     "metadata": {},
     "output_type": "execute_result"
    }
   ],
   "source": [
    "df.shape"
   ]
  },
  {
   "cell_type": "markdown",
   "id": "fc20c37e-5048-4015-a93f-71fd0000d7fd",
   "metadata": {},
   "source": [
    "The dictionary spells out the below \"no_garage_list\" columns as NA = No Garage. This is the first place I copied the df because I wanted a backup in case I made a mistake filling the NAs in multiple columns in one block, as it's the first time I've done it that way. When I succeeded, I moved the copy_df code to afterwards to save it before my next experiment."
   ]
  },
  {
   "cell_type": "code",
   "execution_count": 550,
   "id": "aea55342-bf80-4e56-8f11-2ec882e58a26",
   "metadata": {},
   "outputs": [],
   "source": [
    "no_garage_list = ['garage_finish', 'garage_qual', 'garage_cond']\n",
    "\n",
    "df[no_garage_list] = df[no_garage_list].fillna('No Garage')"
   ]
  },
  {
   "cell_type": "code",
   "execution_count": 551,
   "id": "0dbd727e-cd90-4ed3-b0b1-1053cee9ecc8",
   "metadata": {},
   "outputs": [],
   "source": [
    "copy_df = df.copy()"
   ]
  },
  {
   "cell_type": "code",
   "execution_count": 552,
   "id": "b8bd36f5-8c6a-4312-853d-6bac01e54ab4",
   "metadata": {},
   "outputs": [
    {
     "data": {
      "text/html": [
       "<div>\n",
       "<style scoped>\n",
       "    .dataframe tbody tr th:only-of-type {\n",
       "        vertical-align: middle;\n",
       "    }\n",
       "\n",
       "    .dataframe tbody tr th {\n",
       "        vertical-align: top;\n",
       "    }\n",
       "\n",
       "    .dataframe thead th {\n",
       "        text-align: right;\n",
       "    }\n",
       "</style>\n",
       "<table border=\"1\" class=\"dataframe\">\n",
       "  <thead>\n",
       "    <tr style=\"text-align: right;\">\n",
       "      <th></th>\n",
       "      <th>garage_type</th>\n",
       "      <th>garage_yr_blt</th>\n",
       "      <th>garage_finish</th>\n",
       "      <th>garage_cars</th>\n",
       "      <th>garage_area</th>\n",
       "      <th>garage_qual</th>\n",
       "      <th>garage_cond</th>\n",
       "    </tr>\n",
       "  </thead>\n",
       "  <tbody>\n",
       "  </tbody>\n",
       "</table>\n",
       "</div>"
      ],
      "text/plain": [
       "Empty DataFrame\n",
       "Columns: [garage_type, garage_yr_blt, garage_finish, garage_cars, garage_area, garage_qual, garage_cond]\n",
       "Index: []"
      ]
     },
     "execution_count": 552,
     "metadata": {},
     "output_type": "execute_result"
    }
   ],
   "source": [
    "df[df['garage_cars'].isnull()][garage_list]"
   ]
  },
  {
   "cell_type": "code",
   "execution_count": 553,
   "id": "8cc630ad-4330-44ec-90e0-73534ad6f746",
   "metadata": {},
   "outputs": [],
   "source": [
    "no_garage_list2 = ['garage_yr_blt', 'garage_cars', 'garage_area']\n",
    "\n",
    "#this was an artifact of the original cleaning that would create a new row\n",
    "#df.at[1712, no_garage_list2] = 'No Garage'"
   ]
  },
  {
   "cell_type": "code",
   "execution_count": 554,
   "id": "1688105a-1439-4af6-bfc3-80892996b86b",
   "metadata": {},
   "outputs": [
    {
     "data": {
      "text/plain": [
       "(878, 81)"
      ]
     },
     "execution_count": 554,
     "metadata": {},
     "output_type": "execute_result"
    }
   ],
   "source": [
    "df.shape"
   ]
  },
  {
   "cell_type": "code",
   "execution_count": 555,
   "id": "c3913f17-d499-4ea8-830e-43b3f2dc04cf",
   "metadata": {},
   "outputs": [
    {
     "data": {
      "text/html": [
       "<div>\n",
       "<style scoped>\n",
       "    .dataframe tbody tr th:only-of-type {\n",
       "        vertical-align: middle;\n",
       "    }\n",
       "\n",
       "    .dataframe tbody tr th {\n",
       "        vertical-align: top;\n",
       "    }\n",
       "\n",
       "    .dataframe thead th {\n",
       "        text-align: right;\n",
       "    }\n",
       "</style>\n",
       "<table border=\"1\" class=\"dataframe\">\n",
       "  <thead>\n",
       "    <tr style=\"text-align: right;\">\n",
       "      <th></th>\n",
       "      <th>garage_type</th>\n",
       "      <th>garage_yr_blt</th>\n",
       "      <th>garage_finish</th>\n",
       "      <th>garage_cars</th>\n",
       "      <th>garage_area</th>\n",
       "      <th>garage_qual</th>\n",
       "      <th>garage_cond</th>\n",
       "    </tr>\n",
       "  </thead>\n",
       "  <tbody>\n",
       "  </tbody>\n",
       "</table>\n",
       "</div>"
      ],
      "text/plain": [
       "Empty DataFrame\n",
       "Columns: [garage_type, garage_yr_blt, garage_finish, garage_cars, garage_area, garage_qual, garage_cond]\n",
       "Index: []"
      ]
     },
     "execution_count": 555,
     "metadata": {},
     "output_type": "execute_result"
    }
   ],
   "source": [
    "df[df['garage_cars'].isnull()][garage_list]"
   ]
  },
  {
   "cell_type": "markdown",
   "id": "7c15ad00-f603-43f3-ad8e-5a5814343197",
   "metadata": {},
   "source": [
    "I've got to figure out what's going on with 'garage_yr_blt' because it seems possible some of these NAs may be for things other than \"No Garage\"."
   ]
  },
  {
   "cell_type": "code",
   "execution_count": 556,
   "id": "ab5a0990-4bef-443d-a8ee-ab188e8d543b",
   "metadata": {},
   "outputs": [
    {
     "data": {
      "text/html": [
       "<div>\n",
       "<style scoped>\n",
       "    .dataframe tbody tr th:only-of-type {\n",
       "        vertical-align: middle;\n",
       "    }\n",
       "\n",
       "    .dataframe tbody tr th {\n",
       "        vertical-align: top;\n",
       "    }\n",
       "\n",
       "    .dataframe thead th {\n",
       "        text-align: right;\n",
       "    }\n",
       "</style>\n",
       "<table border=\"1\" class=\"dataframe\">\n",
       "  <thead>\n",
       "    <tr style=\"text-align: right;\">\n",
       "      <th></th>\n",
       "      <th>garage_type</th>\n",
       "      <th>garage_yr_blt</th>\n",
       "      <th>garage_finish</th>\n",
       "      <th>garage_cars</th>\n",
       "      <th>garage_area</th>\n",
       "      <th>garage_qual</th>\n",
       "      <th>garage_cond</th>\n",
       "    </tr>\n",
       "  </thead>\n",
       "  <tbody>\n",
       "    <tr>\n",
       "      <th>29</th>\n",
       "      <td>No Garage</td>\n",
       "      <td>NaN</td>\n",
       "      <td>No Garage</td>\n",
       "      <td>0</td>\n",
       "      <td>0</td>\n",
       "      <td>No Garage</td>\n",
       "      <td>No Garage</td>\n",
       "    </tr>\n",
       "    <tr>\n",
       "      <th>45</th>\n",
       "      <td>No Garage</td>\n",
       "      <td>NaN</td>\n",
       "      <td>No Garage</td>\n",
       "      <td>0</td>\n",
       "      <td>0</td>\n",
       "      <td>No Garage</td>\n",
       "      <td>No Garage</td>\n",
       "    </tr>\n",
       "    <tr>\n",
       "      <th>66</th>\n",
       "      <td>No Garage</td>\n",
       "      <td>NaN</td>\n",
       "      <td>No Garage</td>\n",
       "      <td>0</td>\n",
       "      <td>0</td>\n",
       "      <td>No Garage</td>\n",
       "      <td>No Garage</td>\n",
       "    </tr>\n",
       "    <tr>\n",
       "      <th>68</th>\n",
       "      <td>No Garage</td>\n",
       "      <td>NaN</td>\n",
       "      <td>No Garage</td>\n",
       "      <td>0</td>\n",
       "      <td>0</td>\n",
       "      <td>No Garage</td>\n",
       "      <td>No Garage</td>\n",
       "    </tr>\n",
       "    <tr>\n",
       "      <th>105</th>\n",
       "      <td>No Garage</td>\n",
       "      <td>NaN</td>\n",
       "      <td>No Garage</td>\n",
       "      <td>0</td>\n",
       "      <td>0</td>\n",
       "      <td>No Garage</td>\n",
       "      <td>No Garage</td>\n",
       "    </tr>\n",
       "  </tbody>\n",
       "</table>\n",
       "</div>"
      ],
      "text/plain": [
       "    garage_type  garage_yr_blt garage_finish  garage_cars  garage_area  \\\n",
       "29    No Garage            NaN     No Garage            0            0   \n",
       "45    No Garage            NaN     No Garage            0            0   \n",
       "66    No Garage            NaN     No Garage            0            0   \n",
       "68    No Garage            NaN     No Garage            0            0   \n",
       "105   No Garage            NaN     No Garage            0            0   \n",
       "\n",
       "    garage_qual garage_cond  \n",
       "29    No Garage   No Garage  \n",
       "45    No Garage   No Garage  \n",
       "66    No Garage   No Garage  \n",
       "68    No Garage   No Garage  \n",
       "105   No Garage   No Garage  "
      ]
     },
     "execution_count": 556,
     "metadata": {},
     "output_type": "execute_result"
    }
   ],
   "source": [
    "df[df['garage_yr_blt'].isnull()].head()[garage_list]"
   ]
  },
  {
   "cell_type": "code",
   "execution_count": 557,
   "id": "cf33fdd3-253a-4487-a83a-49b570cb14c3",
   "metadata": {},
   "outputs": [
    {
     "data": {
      "text/html": [
       "<div>\n",
       "<style scoped>\n",
       "    .dataframe tbody tr th:only-of-type {\n",
       "        vertical-align: middle;\n",
       "    }\n",
       "\n",
       "    .dataframe tbody tr th {\n",
       "        vertical-align: top;\n",
       "    }\n",
       "\n",
       "    .dataframe thead th {\n",
       "        text-align: right;\n",
       "    }\n",
       "</style>\n",
       "<table border=\"1\" class=\"dataframe\">\n",
       "  <thead>\n",
       "    <tr style=\"text-align: right;\">\n",
       "      <th></th>\n",
       "      <th>id</th>\n",
       "      <th>pid</th>\n",
       "      <th>ms_subclass</th>\n",
       "      <th>ms_zoning</th>\n",
       "      <th>lot_frontage</th>\n",
       "      <th>lot_area</th>\n",
       "      <th>street</th>\n",
       "      <th>alley</th>\n",
       "      <th>lot_shape</th>\n",
       "      <th>land_contour</th>\n",
       "      <th>...</th>\n",
       "      <th>screen_porch</th>\n",
       "      <th>pool_area</th>\n",
       "      <th>pool_qc</th>\n",
       "      <th>fence</th>\n",
       "      <th>misc_feature</th>\n",
       "      <th>misc_val</th>\n",
       "      <th>mo_sold</th>\n",
       "      <th>yr_sold</th>\n",
       "      <th>sale_type</th>\n",
       "      <th>saleprice</th>\n",
       "    </tr>\n",
       "  </thead>\n",
       "  <tbody>\n",
       "  </tbody>\n",
       "</table>\n",
       "<p>0 rows × 81 columns</p>\n",
       "</div>"
      ],
      "text/plain": [
       "Empty DataFrame\n",
       "Columns: [id, pid, ms_subclass, ms_zoning, lot_frontage, lot_area, street, alley, lot_shape, land_contour, utilities, lot_config, land_slope, neighborhood, condition_1, condition_2, bldg_type, house_style, overall_qual, overall_cond, year_built, year_remod/add, roof_style, roof_matl, exterior_1st, exterior_2nd, mas_vnr_type, mas_vnr_area, exter_qual, exter_cond, foundation, bsmt_qual, bsmt_cond, bsmt_exposure, bsmtfin_type_1, bsmtfin_sf_1, bsmtfin_type_2, bsmtfin_sf_2, bsmt_unf_sf, total_bsmt_sf, heating, heating_qc, central_air, electrical, 1st_flr_sf, 2nd_flr_sf, low_qual_fin_sf, gr_liv_area, bsmt_full_bath, bsmt_half_bath, full_bath, half_bath, bedroom_abvgr, kitchen_abvgr, kitchen_qual, totrms_abvgrd, functional, fireplaces, fireplace_qu, garage_type, garage_yr_blt, garage_finish, garage_cars, garage_area, garage_qual, garage_cond, paved_drive, wood_deck_sf, open_porch_sf, enclosed_porch, 3ssn_porch, screen_porch, pool_area, pool_qc, fence, misc_feature, misc_val, mo_sold, yr_sold, sale_type, saleprice]\n",
       "Index: []\n",
       "\n",
       "[0 rows x 81 columns]"
      ]
     },
     "execution_count": 557,
     "metadata": {},
     "output_type": "execute_result"
    }
   ],
   "source": [
    "df[(df['garage_yr_blt'].isnull()) & (df['garage_finish'] != 'No Garage')]"
   ]
  },
  {
   "cell_type": "markdown",
   "id": "913d1941-68da-4cba-911b-710b259394f2",
   "metadata": {},
   "source": [
    "It appears all the garage_yr_built = NaN rows correspond to No Garage."
   ]
  },
  {
   "cell_type": "code",
   "execution_count": 558,
   "id": "9d434662-b3ef-4dc7-99f4-e28d4b29f70d",
   "metadata": {},
   "outputs": [],
   "source": [
    "df['garage_yr_blt'] = df['garage_yr_blt'].fillna('No Garage')"
   ]
  },
  {
   "cell_type": "code",
   "execution_count": 559,
   "id": "4aebc2d5-1a80-46bc-b9c9-1dd744c26b2b",
   "metadata": {},
   "outputs": [
    {
     "data": {
      "text/html": [
       "<div>\n",
       "<style scoped>\n",
       "    .dataframe tbody tr th:only-of-type {\n",
       "        vertical-align: middle;\n",
       "    }\n",
       "\n",
       "    .dataframe tbody tr th {\n",
       "        vertical-align: top;\n",
       "    }\n",
       "\n",
       "    .dataframe thead th {\n",
       "        text-align: right;\n",
       "    }\n",
       "</style>\n",
       "<table border=\"1\" class=\"dataframe\">\n",
       "  <thead>\n",
       "    <tr style=\"text-align: right;\">\n",
       "      <th></th>\n",
       "      <th>garage_type</th>\n",
       "      <th>garage_yr_blt</th>\n",
       "      <th>garage_finish</th>\n",
       "      <th>garage_cars</th>\n",
       "      <th>garage_area</th>\n",
       "      <th>garage_qual</th>\n",
       "      <th>garage_cond</th>\n",
       "    </tr>\n",
       "  </thead>\n",
       "  <tbody>\n",
       "  </tbody>\n",
       "</table>\n",
       "</div>"
      ],
      "text/plain": [
       "Empty DataFrame\n",
       "Columns: [garage_type, garage_yr_blt, garage_finish, garage_cars, garage_area, garage_qual, garage_cond]\n",
       "Index: []"
      ]
     },
     "execution_count": 559,
     "metadata": {},
     "output_type": "execute_result"
    }
   ],
   "source": [
    "df[df['garage_yr_blt'].isnull()].head()[garage_list]"
   ]
  },
  {
   "cell_type": "code",
   "execution_count": 560,
   "id": "af3ba379-6d7a-4daa-828a-91d167c1910b",
   "metadata": {},
   "outputs": [
    {
     "data": {
      "text/plain": [
       "(878, 81)"
      ]
     },
     "execution_count": 560,
     "metadata": {},
     "output_type": "execute_result"
    }
   ],
   "source": [
    "df.shape"
   ]
  },
  {
   "cell_type": "markdown",
   "id": "b075141b-fbf8-4faf-bd97-c7965a6a2791",
   "metadata": {},
   "source": [
    "I'm revisiting the null list to see what's left. I came back up to this one a few times, rather than rewriting it below, for additional sanity-check and to keep track of what's left."
   ]
  },
  {
   "cell_type": "code",
   "execution_count": 561,
   "id": "8f34631c-6ef3-4f16-a7bb-965c876c2d52",
   "metadata": {},
   "outputs": [
    {
     "data": {
      "text/plain": [
       "['lot_frontage',\n",
       " 'mas_vnr_type',\n",
       " 'mas_vnr_area',\n",
       " 'electrical',\n",
       " 'fireplace_qu',\n",
       " 'pool_qc',\n",
       " 'fence',\n",
       " 'misc_feature']"
      ]
     },
     "execution_count": 561,
     "metadata": {},
     "output_type": "execute_result"
    }
   ],
   "source": [
    "df.columns[df.isna().any()].tolist()"
   ]
  },
  {
   "cell_type": "markdown",
   "id": "fb515daa-777a-402b-9a95-e472e2b04412",
   "metadata": {
    "tags": []
   },
   "source": [
    "#### Lot Frontage"
   ]
  },
  {
   "cell_type": "code",
   "execution_count": 562,
   "id": "06686f62-4f96-483a-856b-dea118bc5e0d",
   "metadata": {},
   "outputs": [
    {
     "data": {
      "text/plain": [
       "NaN      160\n",
       "60.0      97\n",
       "80.0      43\n",
       "75.0      37\n",
       "70.0      37\n",
       "        ... \n",
       "168.0      1\n",
       "31.0       1\n",
       "150.0      1\n",
       "122.0      1\n",
       "182.0      1\n",
       "Name: lot_frontage, Length: 105, dtype: int64"
      ]
     },
     "execution_count": 562,
     "metadata": {},
     "output_type": "execute_result"
    }
   ],
   "source": [
    "df['lot_frontage'].value_counts(dropna = False)"
   ]
  },
  {
   "cell_type": "code",
   "execution_count": 563,
   "id": "c27421f8-f98b-45da-acf1-e94da15359c3",
   "metadata": {},
   "outputs": [
    {
     "data": {
      "text/plain": [
       "0.18223234624145787"
      ]
     },
     "execution_count": 563,
     "metadata": {},
     "output_type": "execute_result"
    }
   ],
   "source": [
    "df['lot_frontage'].isna().sum()/len(df)"
   ]
  },
  {
   "cell_type": "markdown",
   "id": "c2b3c3f4-7821-43cb-885c-25c70b4ab8f1",
   "metadata": {},
   "source": [
    "16% of the data seems like a lot to drop."
   ]
  },
  {
   "cell_type": "code",
   "execution_count": 564,
   "id": "913eab3e-66b7-4622-9023-e19018ac490a",
   "metadata": {},
   "outputs": [
    {
     "data": {
      "text/html": [
       "<div>\n",
       "<style scoped>\n",
       "    .dataframe tbody tr th:only-of-type {\n",
       "        vertical-align: middle;\n",
       "    }\n",
       "\n",
       "    .dataframe tbody tr th {\n",
       "        vertical-align: top;\n",
       "    }\n",
       "\n",
       "    .dataframe thead th {\n",
       "        text-align: right;\n",
       "    }\n",
       "</style>\n",
       "<table border=\"1\" class=\"dataframe\">\n",
       "  <thead>\n",
       "    <tr style=\"text-align: right;\">\n",
       "      <th></th>\n",
       "      <th>id</th>\n",
       "      <th>pid</th>\n",
       "      <th>ms_subclass</th>\n",
       "      <th>ms_zoning</th>\n",
       "      <th>lot_frontage</th>\n",
       "      <th>lot_area</th>\n",
       "      <th>street</th>\n",
       "      <th>alley</th>\n",
       "      <th>lot_shape</th>\n",
       "      <th>land_contour</th>\n",
       "      <th>...</th>\n",
       "      <th>screen_porch</th>\n",
       "      <th>pool_area</th>\n",
       "      <th>pool_qc</th>\n",
       "      <th>fence</th>\n",
       "      <th>misc_feature</th>\n",
       "      <th>misc_val</th>\n",
       "      <th>mo_sold</th>\n",
       "      <th>yr_sold</th>\n",
       "      <th>sale_type</th>\n",
       "      <th>saleprice</th>\n",
       "    </tr>\n",
       "  </thead>\n",
       "  <tbody>\n",
       "  </tbody>\n",
       "</table>\n",
       "<p>0 rows × 81 columns</p>\n",
       "</div>"
      ],
      "text/plain": [
       "Empty DataFrame\n",
       "Columns: [id, pid, ms_subclass, ms_zoning, lot_frontage, lot_area, street, alley, lot_shape, land_contour, utilities, lot_config, land_slope, neighborhood, condition_1, condition_2, bldg_type, house_style, overall_qual, overall_cond, year_built, year_remod/add, roof_style, roof_matl, exterior_1st, exterior_2nd, mas_vnr_type, mas_vnr_area, exter_qual, exter_cond, foundation, bsmt_qual, bsmt_cond, bsmt_exposure, bsmtfin_type_1, bsmtfin_sf_1, bsmtfin_type_2, bsmtfin_sf_2, bsmt_unf_sf, total_bsmt_sf, heating, heating_qc, central_air, electrical, 1st_flr_sf, 2nd_flr_sf, low_qual_fin_sf, gr_liv_area, bsmt_full_bath, bsmt_half_bath, full_bath, half_bath, bedroom_abvgr, kitchen_abvgr, kitchen_qual, totrms_abvgrd, functional, fireplaces, fireplace_qu, garage_type, garage_yr_blt, garage_finish, garage_cars, garage_area, garage_qual, garage_cond, paved_drive, wood_deck_sf, open_porch_sf, enclosed_porch, 3ssn_porch, screen_porch, pool_area, pool_qc, fence, misc_feature, misc_val, mo_sold, yr_sold, sale_type, saleprice]\n",
       "Index: []\n",
       "\n",
       "[0 rows x 81 columns]"
      ]
     },
     "execution_count": 564,
     "metadata": {},
     "output_type": "execute_result"
    }
   ],
   "source": [
    "df[df['lot_frontage'] == 0.0]"
   ]
  },
  {
   "cell_type": "code",
   "execution_count": 565,
   "id": "aa22e4a7-6834-4804-b4ac-53dd5a8eb1f8",
   "metadata": {},
   "outputs": [
    {
     "data": {
      "text/html": [
       "<div>\n",
       "<style scoped>\n",
       "    .dataframe tbody tr th:only-of-type {\n",
       "        vertical-align: middle;\n",
       "    }\n",
       "\n",
       "    .dataframe tbody tr th {\n",
       "        vertical-align: top;\n",
       "    }\n",
       "\n",
       "    .dataframe thead th {\n",
       "        text-align: right;\n",
       "    }\n",
       "</style>\n",
       "<table border=\"1\" class=\"dataframe\">\n",
       "  <thead>\n",
       "    <tr style=\"text-align: right;\">\n",
       "      <th></th>\n",
       "      <th>id</th>\n",
       "      <th>pid</th>\n",
       "      <th>ms_subclass</th>\n",
       "      <th>ms_zoning</th>\n",
       "      <th>lot_frontage</th>\n",
       "      <th>lot_area</th>\n",
       "      <th>street</th>\n",
       "      <th>alley</th>\n",
       "      <th>lot_shape</th>\n",
       "      <th>land_contour</th>\n",
       "      <th>...</th>\n",
       "      <th>screen_porch</th>\n",
       "      <th>pool_area</th>\n",
       "      <th>pool_qc</th>\n",
       "      <th>fence</th>\n",
       "      <th>misc_feature</th>\n",
       "      <th>misc_val</th>\n",
       "      <th>mo_sold</th>\n",
       "      <th>yr_sold</th>\n",
       "      <th>sale_type</th>\n",
       "      <th>saleprice</th>\n",
       "    </tr>\n",
       "  </thead>\n",
       "  <tbody>\n",
       "    <tr>\n",
       "      <th>5</th>\n",
       "      <td>333</td>\n",
       "      <td>923228370</td>\n",
       "      <td>160</td>\n",
       "      <td>RM</td>\n",
       "      <td>21.0</td>\n",
       "      <td>1890</td>\n",
       "      <td>Pave</td>\n",
       "      <td>None</td>\n",
       "      <td>Reg</td>\n",
       "      <td>Lvl</td>\n",
       "      <td>...</td>\n",
       "      <td>0</td>\n",
       "      <td>0</td>\n",
       "      <td>NaN</td>\n",
       "      <td>NaN</td>\n",
       "      <td>NaN</td>\n",
       "      <td>0</td>\n",
       "      <td>6</td>\n",
       "      <td>2010</td>\n",
       "      <td>WD</td>\n",
       "      <td>0</td>\n",
       "    </tr>\n",
       "    <tr>\n",
       "      <th>45</th>\n",
       "      <td>979</td>\n",
       "      <td>923228150</td>\n",
       "      <td>160</td>\n",
       "      <td>RM</td>\n",
       "      <td>21.0</td>\n",
       "      <td>1533</td>\n",
       "      <td>Pave</td>\n",
       "      <td>None</td>\n",
       "      <td>Reg</td>\n",
       "      <td>Lvl</td>\n",
       "      <td>...</td>\n",
       "      <td>0</td>\n",
       "      <td>0</td>\n",
       "      <td>NaN</td>\n",
       "      <td>NaN</td>\n",
       "      <td>NaN</td>\n",
       "      <td>0</td>\n",
       "      <td>5</td>\n",
       "      <td>2009</td>\n",
       "      <td>WD</td>\n",
       "      <td>0</td>\n",
       "    </tr>\n",
       "    <tr>\n",
       "      <th>117</th>\n",
       "      <td>1679</td>\n",
       "      <td>527451020</td>\n",
       "      <td>160</td>\n",
       "      <td>RM</td>\n",
       "      <td>24.0</td>\n",
       "      <td>2016</td>\n",
       "      <td>Pave</td>\n",
       "      <td>None</td>\n",
       "      <td>Reg</td>\n",
       "      <td>Lvl</td>\n",
       "      <td>...</td>\n",
       "      <td>0</td>\n",
       "      <td>0</td>\n",
       "      <td>NaN</td>\n",
       "      <td>NaN</td>\n",
       "      <td>NaN</td>\n",
       "      <td>0</td>\n",
       "      <td>4</td>\n",
       "      <td>2007</td>\n",
       "      <td>WD</td>\n",
       "      <td>0</td>\n",
       "    </tr>\n",
       "    <tr>\n",
       "      <th>134</th>\n",
       "      <td>1167</td>\n",
       "      <td>533213120</td>\n",
       "      <td>160</td>\n",
       "      <td>FV</td>\n",
       "      <td>24.0</td>\n",
       "      <td>2280</td>\n",
       "      <td>Pave</td>\n",
       "      <td>Pave</td>\n",
       "      <td>Reg</td>\n",
       "      <td>Lvl</td>\n",
       "      <td>...</td>\n",
       "      <td>0</td>\n",
       "      <td>0</td>\n",
       "      <td>NaN</td>\n",
       "      <td>NaN</td>\n",
       "      <td>NaN</td>\n",
       "      <td>0</td>\n",
       "      <td>4</td>\n",
       "      <td>2008</td>\n",
       "      <td>WD</td>\n",
       "      <td>0</td>\n",
       "    </tr>\n",
       "    <tr>\n",
       "      <th>156</th>\n",
       "      <td>332</td>\n",
       "      <td>923228270</td>\n",
       "      <td>160</td>\n",
       "      <td>RM</td>\n",
       "      <td>21.0</td>\n",
       "      <td>1900</td>\n",
       "      <td>Pave</td>\n",
       "      <td>None</td>\n",
       "      <td>Reg</td>\n",
       "      <td>Lvl</td>\n",
       "      <td>...</td>\n",
       "      <td>0</td>\n",
       "      <td>0</td>\n",
       "      <td>NaN</td>\n",
       "      <td>NaN</td>\n",
       "      <td>NaN</td>\n",
       "      <td>0</td>\n",
       "      <td>6</td>\n",
       "      <td>2010</td>\n",
       "      <td>WD</td>\n",
       "      <td>0</td>\n",
       "    </tr>\n",
       "    <tr>\n",
       "      <th>173</th>\n",
       "      <td>2509</td>\n",
       "      <td>533212120</td>\n",
       "      <td>160</td>\n",
       "      <td>FV</td>\n",
       "      <td>24.0</td>\n",
       "      <td>2544</td>\n",
       "      <td>Pave</td>\n",
       "      <td>Pave</td>\n",
       "      <td>Reg</td>\n",
       "      <td>Lvl</td>\n",
       "      <td>...</td>\n",
       "      <td>0</td>\n",
       "      <td>0</td>\n",
       "      <td>NaN</td>\n",
       "      <td>NaN</td>\n",
       "      <td>NaN</td>\n",
       "      <td>0</td>\n",
       "      <td>7</td>\n",
       "      <td>2006</td>\n",
       "      <td>WD</td>\n",
       "      <td>0</td>\n",
       "    </tr>\n",
       "    <tr>\n",
       "      <th>178</th>\n",
       "      <td>2921</td>\n",
       "      <td>923228310</td>\n",
       "      <td>160</td>\n",
       "      <td>RM</td>\n",
       "      <td>21.0</td>\n",
       "      <td>1894</td>\n",
       "      <td>Pave</td>\n",
       "      <td>None</td>\n",
       "      <td>Reg</td>\n",
       "      <td>Lvl</td>\n",
       "      <td>...</td>\n",
       "      <td>0</td>\n",
       "      <td>0</td>\n",
       "      <td>NaN</td>\n",
       "      <td>NaN</td>\n",
       "      <td>NaN</td>\n",
       "      <td>0</td>\n",
       "      <td>4</td>\n",
       "      <td>2006</td>\n",
       "      <td>WD</td>\n",
       "      <td>0</td>\n",
       "    </tr>\n",
       "    <tr>\n",
       "      <th>206</th>\n",
       "      <td>2378</td>\n",
       "      <td>527455100</td>\n",
       "      <td>160</td>\n",
       "      <td>RL</td>\n",
       "      <td>24.0</td>\n",
       "      <td>2179</td>\n",
       "      <td>Pave</td>\n",
       "      <td>None</td>\n",
       "      <td>Reg</td>\n",
       "      <td>Lvl</td>\n",
       "      <td>...</td>\n",
       "      <td>0</td>\n",
       "      <td>0</td>\n",
       "      <td>NaN</td>\n",
       "      <td>NaN</td>\n",
       "      <td>NaN</td>\n",
       "      <td>0</td>\n",
       "      <td>7</td>\n",
       "      <td>2006</td>\n",
       "      <td>WD</td>\n",
       "      <td>0</td>\n",
       "    </tr>\n",
       "    <tr>\n",
       "      <th>231</th>\n",
       "      <td>331</td>\n",
       "      <td>923226320</td>\n",
       "      <td>180</td>\n",
       "      <td>RM</td>\n",
       "      <td>21.0</td>\n",
       "      <td>1491</td>\n",
       "      <td>Pave</td>\n",
       "      <td>None</td>\n",
       "      <td>Reg</td>\n",
       "      <td>Lvl</td>\n",
       "      <td>...</td>\n",
       "      <td>0</td>\n",
       "      <td>0</td>\n",
       "      <td>NaN</td>\n",
       "      <td>NaN</td>\n",
       "      <td>NaN</td>\n",
       "      <td>0</td>\n",
       "      <td>5</td>\n",
       "      <td>2010</td>\n",
       "      <td>WD</td>\n",
       "      <td>0</td>\n",
       "    </tr>\n",
       "    <tr>\n",
       "      <th>262</th>\n",
       "      <td>1677</td>\n",
       "      <td>527450150</td>\n",
       "      <td>160</td>\n",
       "      <td>RM</td>\n",
       "      <td>21.0</td>\n",
       "      <td>1890</td>\n",
       "      <td>Pave</td>\n",
       "      <td>None</td>\n",
       "      <td>Reg</td>\n",
       "      <td>Lvl</td>\n",
       "      <td>...</td>\n",
       "      <td>0</td>\n",
       "      <td>0</td>\n",
       "      <td>NaN</td>\n",
       "      <td>NaN</td>\n",
       "      <td>NaN</td>\n",
       "      <td>0</td>\n",
       "      <td>5</td>\n",
       "      <td>2007</td>\n",
       "      <td>WD</td>\n",
       "      <td>0</td>\n",
       "    </tr>\n",
       "    <tr>\n",
       "      <th>287</th>\n",
       "      <td>2367</td>\n",
       "      <td>527450210</td>\n",
       "      <td>160</td>\n",
       "      <td>RM</td>\n",
       "      <td>21.0</td>\n",
       "      <td>1953</td>\n",
       "      <td>Pave</td>\n",
       "      <td>None</td>\n",
       "      <td>Reg</td>\n",
       "      <td>Lvl</td>\n",
       "      <td>...</td>\n",
       "      <td>0</td>\n",
       "      <td>0</td>\n",
       "      <td>NaN</td>\n",
       "      <td>NaN</td>\n",
       "      <td>NaN</td>\n",
       "      <td>0</td>\n",
       "      <td>6</td>\n",
       "      <td>2006</td>\n",
       "      <td>WD</td>\n",
       "      <td>0</td>\n",
       "    </tr>\n",
       "    <tr>\n",
       "      <th>292</th>\n",
       "      <td>2291</td>\n",
       "      <td>923228390</td>\n",
       "      <td>160</td>\n",
       "      <td>RM</td>\n",
       "      <td>21.0</td>\n",
       "      <td>1890</td>\n",
       "      <td>Pave</td>\n",
       "      <td>None</td>\n",
       "      <td>Reg</td>\n",
       "      <td>Lvl</td>\n",
       "      <td>...</td>\n",
       "      <td>0</td>\n",
       "      <td>0</td>\n",
       "      <td>NaN</td>\n",
       "      <td>GdWo</td>\n",
       "      <td>NaN</td>\n",
       "      <td>0</td>\n",
       "      <td>4</td>\n",
       "      <td>2007</td>\n",
       "      <td>COD</td>\n",
       "      <td>0</td>\n",
       "    </tr>\n",
       "    <tr>\n",
       "      <th>352</th>\n",
       "      <td>2370</td>\n",
       "      <td>527451380</td>\n",
       "      <td>160</td>\n",
       "      <td>RM</td>\n",
       "      <td>21.0</td>\n",
       "      <td>1680</td>\n",
       "      <td>Pave</td>\n",
       "      <td>None</td>\n",
       "      <td>Reg</td>\n",
       "      <td>Lvl</td>\n",
       "      <td>...</td>\n",
       "      <td>0</td>\n",
       "      <td>0</td>\n",
       "      <td>NaN</td>\n",
       "      <td>NaN</td>\n",
       "      <td>NaN</td>\n",
       "      <td>0</td>\n",
       "      <td>5</td>\n",
       "      <td>2006</td>\n",
       "      <td>WD</td>\n",
       "      <td>0</td>\n",
       "    </tr>\n",
       "    <tr>\n",
       "      <th>371</th>\n",
       "      <td>1042</td>\n",
       "      <td>527450520</td>\n",
       "      <td>160</td>\n",
       "      <td>RM</td>\n",
       "      <td>21.0</td>\n",
       "      <td>1890</td>\n",
       "      <td>Pave</td>\n",
       "      <td>None</td>\n",
       "      <td>Reg</td>\n",
       "      <td>Lvl</td>\n",
       "      <td>...</td>\n",
       "      <td>0</td>\n",
       "      <td>0</td>\n",
       "      <td>NaN</td>\n",
       "      <td>NaN</td>\n",
       "      <td>NaN</td>\n",
       "      <td>0</td>\n",
       "      <td>4</td>\n",
       "      <td>2008</td>\n",
       "      <td>WD</td>\n",
       "      <td>0</td>\n",
       "    </tr>\n",
       "    <tr>\n",
       "      <th>390</th>\n",
       "      <td>31</td>\n",
       "      <td>527451330</td>\n",
       "      <td>160</td>\n",
       "      <td>RM</td>\n",
       "      <td>21.0</td>\n",
       "      <td>1680</td>\n",
       "      <td>Pave</td>\n",
       "      <td>None</td>\n",
       "      <td>Reg</td>\n",
       "      <td>Lvl</td>\n",
       "      <td>...</td>\n",
       "      <td>0</td>\n",
       "      <td>0</td>\n",
       "      <td>NaN</td>\n",
       "      <td>NaN</td>\n",
       "      <td>NaN</td>\n",
       "      <td>0</td>\n",
       "      <td>3</td>\n",
       "      <td>2010</td>\n",
       "      <td>WD</td>\n",
       "      <td>0</td>\n",
       "    </tr>\n",
       "    <tr>\n",
       "      <th>460</th>\n",
       "      <td>934</td>\n",
       "      <td>909451100</td>\n",
       "      <td>160</td>\n",
       "      <td>RM</td>\n",
       "      <td>24.0</td>\n",
       "      <td>1488</td>\n",
       "      <td>Pave</td>\n",
       "      <td>None</td>\n",
       "      <td>Reg</td>\n",
       "      <td>Lvl</td>\n",
       "      <td>...</td>\n",
       "      <td>0</td>\n",
       "      <td>0</td>\n",
       "      <td>NaN</td>\n",
       "      <td>GdPrv</td>\n",
       "      <td>NaN</td>\n",
       "      <td>0</td>\n",
       "      <td>10</td>\n",
       "      <td>2009</td>\n",
       "      <td>WD</td>\n",
       "      <td>0</td>\n",
       "    </tr>\n",
       "    <tr>\n",
       "      <th>482</th>\n",
       "      <td>2917</td>\n",
       "      <td>923228130</td>\n",
       "      <td>180</td>\n",
       "      <td>RM</td>\n",
       "      <td>21.0</td>\n",
       "      <td>1533</td>\n",
       "      <td>Pave</td>\n",
       "      <td>None</td>\n",
       "      <td>Reg</td>\n",
       "      <td>Lvl</td>\n",
       "      <td>...</td>\n",
       "      <td>0</td>\n",
       "      <td>0</td>\n",
       "      <td>NaN</td>\n",
       "      <td>NaN</td>\n",
       "      <td>NaN</td>\n",
       "      <td>0</td>\n",
       "      <td>8</td>\n",
       "      <td>2006</td>\n",
       "      <td>WD</td>\n",
       "      <td>0</td>\n",
       "    </tr>\n",
       "    <tr>\n",
       "      <th>511</th>\n",
       "      <td>2366</td>\n",
       "      <td>527450080</td>\n",
       "      <td>160</td>\n",
       "      <td>RM</td>\n",
       "      <td>24.0</td>\n",
       "      <td>2160</td>\n",
       "      <td>Pave</td>\n",
       "      <td>None</td>\n",
       "      <td>Reg</td>\n",
       "      <td>Lvl</td>\n",
       "      <td>...</td>\n",
       "      <td>0</td>\n",
       "      <td>0</td>\n",
       "      <td>NaN</td>\n",
       "      <td>NaN</td>\n",
       "      <td>NaN</td>\n",
       "      <td>0</td>\n",
       "      <td>6</td>\n",
       "      <td>2006</td>\n",
       "      <td>WD</td>\n",
       "      <td>0</td>\n",
       "    </tr>\n",
       "    <tr>\n",
       "      <th>530</th>\n",
       "      <td>418</td>\n",
       "      <td>527455090</td>\n",
       "      <td>120</td>\n",
       "      <td>RL</td>\n",
       "      <td>24.0</td>\n",
       "      <td>2104</td>\n",
       "      <td>Pave</td>\n",
       "      <td>None</td>\n",
       "      <td>Reg</td>\n",
       "      <td>Lvl</td>\n",
       "      <td>...</td>\n",
       "      <td>0</td>\n",
       "      <td>0</td>\n",
       "      <td>NaN</td>\n",
       "      <td>NaN</td>\n",
       "      <td>NaN</td>\n",
       "      <td>0</td>\n",
       "      <td>10</td>\n",
       "      <td>2009</td>\n",
       "      <td>WD</td>\n",
       "      <td>0</td>\n",
       "    </tr>\n",
       "    <tr>\n",
       "      <th>536</th>\n",
       "      <td>2919</td>\n",
       "      <td>923228210</td>\n",
       "      <td>160</td>\n",
       "      <td>RM</td>\n",
       "      <td>21.0</td>\n",
       "      <td>1526</td>\n",
       "      <td>Pave</td>\n",
       "      <td>None</td>\n",
       "      <td>Reg</td>\n",
       "      <td>Lvl</td>\n",
       "      <td>...</td>\n",
       "      <td>0</td>\n",
       "      <td>0</td>\n",
       "      <td>NaN</td>\n",
       "      <td>GdPrv</td>\n",
       "      <td>NaN</td>\n",
       "      <td>0</td>\n",
       "      <td>6</td>\n",
       "      <td>2006</td>\n",
       "      <td>WD</td>\n",
       "      <td>0</td>\n",
       "    </tr>\n",
       "    <tr>\n",
       "      <th>542</th>\n",
       "      <td>978</td>\n",
       "      <td>923228110</td>\n",
       "      <td>180</td>\n",
       "      <td>RM</td>\n",
       "      <td>21.0</td>\n",
       "      <td>1477</td>\n",
       "      <td>Pave</td>\n",
       "      <td>None</td>\n",
       "      <td>Reg</td>\n",
       "      <td>Lvl</td>\n",
       "      <td>...</td>\n",
       "      <td>0</td>\n",
       "      <td>0</td>\n",
       "      <td>NaN</td>\n",
       "      <td>NaN</td>\n",
       "      <td>NaN</td>\n",
       "      <td>0</td>\n",
       "      <td>4</td>\n",
       "      <td>2009</td>\n",
       "      <td>WD</td>\n",
       "      <td>0</td>\n",
       "    </tr>\n",
       "    <tr>\n",
       "      <th>548</th>\n",
       "      <td>2373</td>\n",
       "      <td>527451520</td>\n",
       "      <td>160</td>\n",
       "      <td>RM</td>\n",
       "      <td>21.0</td>\n",
       "      <td>1680</td>\n",
       "      <td>Pave</td>\n",
       "      <td>None</td>\n",
       "      <td>Reg</td>\n",
       "      <td>Lvl</td>\n",
       "      <td>...</td>\n",
       "      <td>0</td>\n",
       "      <td>0</td>\n",
       "      <td>NaN</td>\n",
       "      <td>NaN</td>\n",
       "      <td>NaN</td>\n",
       "      <td>0</td>\n",
       "      <td>6</td>\n",
       "      <td>2006</td>\n",
       "      <td>WD</td>\n",
       "      <td>0</td>\n",
       "    </tr>\n",
       "    <tr>\n",
       "      <th>557</th>\n",
       "      <td>410</td>\n",
       "      <td>527453050</td>\n",
       "      <td>160</td>\n",
       "      <td>RL</td>\n",
       "      <td>24.0</td>\n",
       "      <td>2308</td>\n",
       "      <td>Pave</td>\n",
       "      <td>None</td>\n",
       "      <td>Reg</td>\n",
       "      <td>Lvl</td>\n",
       "      <td>...</td>\n",
       "      <td>0</td>\n",
       "      <td>0</td>\n",
       "      <td>NaN</td>\n",
       "      <td>NaN</td>\n",
       "      <td>NaN</td>\n",
       "      <td>0</td>\n",
       "      <td>9</td>\n",
       "      <td>2009</td>\n",
       "      <td>WD</td>\n",
       "      <td>0</td>\n",
       "    </tr>\n",
       "    <tr>\n",
       "      <th>628</th>\n",
       "      <td>350</td>\n",
       "      <td>527127100</td>\n",
       "      <td>120</td>\n",
       "      <td>RL</td>\n",
       "      <td>28.0</td>\n",
       "      <td>7296</td>\n",
       "      <td>Pave</td>\n",
       "      <td>None</td>\n",
       "      <td>IR1</td>\n",
       "      <td>Lvl</td>\n",
       "      <td>...</td>\n",
       "      <td>0</td>\n",
       "      <td>0</td>\n",
       "      <td>NaN</td>\n",
       "      <td>NaN</td>\n",
       "      <td>NaN</td>\n",
       "      <td>0</td>\n",
       "      <td>11</td>\n",
       "      <td>2009</td>\n",
       "      <td>WD</td>\n",
       "      <td>0</td>\n",
       "    </tr>\n",
       "    <tr>\n",
       "      <th>636</th>\n",
       "      <td>2831</td>\n",
       "      <td>908188130</td>\n",
       "      <td>160</td>\n",
       "      <td>RM</td>\n",
       "      <td>24.0</td>\n",
       "      <td>2522</td>\n",
       "      <td>Pave</td>\n",
       "      <td>None</td>\n",
       "      <td>Reg</td>\n",
       "      <td>Lvl</td>\n",
       "      <td>...</td>\n",
       "      <td>0</td>\n",
       "      <td>0</td>\n",
       "      <td>NaN</td>\n",
       "      <td>NaN</td>\n",
       "      <td>NaN</td>\n",
       "      <td>0</td>\n",
       "      <td>4</td>\n",
       "      <td>2006</td>\n",
       "      <td>WD</td>\n",
       "      <td>0</td>\n",
       "    </tr>\n",
       "    <tr>\n",
       "      <th>647</th>\n",
       "      <td>103</td>\n",
       "      <td>533223020</td>\n",
       "      <td>160</td>\n",
       "      <td>FV</td>\n",
       "      <td>24.0</td>\n",
       "      <td>2572</td>\n",
       "      <td>Pave</td>\n",
       "      <td>None</td>\n",
       "      <td>Reg</td>\n",
       "      <td>Lvl</td>\n",
       "      <td>...</td>\n",
       "      <td>0</td>\n",
       "      <td>0</td>\n",
       "      <td>NaN</td>\n",
       "      <td>NaN</td>\n",
       "      <td>NaN</td>\n",
       "      <td>0</td>\n",
       "      <td>5</td>\n",
       "      <td>2010</td>\n",
       "      <td>WD</td>\n",
       "      <td>0</td>\n",
       "    </tr>\n",
       "    <tr>\n",
       "      <th>717</th>\n",
       "      <td>574</td>\n",
       "      <td>533236050</td>\n",
       "      <td>160</td>\n",
       "      <td>FV</td>\n",
       "      <td>24.0</td>\n",
       "      <td>2645</td>\n",
       "      <td>Pave</td>\n",
       "      <td>Pave</td>\n",
       "      <td>Reg</td>\n",
       "      <td>Lvl</td>\n",
       "      <td>...</td>\n",
       "      <td>0</td>\n",
       "      <td>0</td>\n",
       "      <td>NaN</td>\n",
       "      <td>NaN</td>\n",
       "      <td>NaN</td>\n",
       "      <td>0</td>\n",
       "      <td>8</td>\n",
       "      <td>2009</td>\n",
       "      <td>WD</td>\n",
       "      <td>0</td>\n",
       "    </tr>\n",
       "    <tr>\n",
       "      <th>723</th>\n",
       "      <td>408</td>\n",
       "      <td>527451650</td>\n",
       "      <td>160</td>\n",
       "      <td>RM</td>\n",
       "      <td>21.0</td>\n",
       "      <td>1680</td>\n",
       "      <td>Pave</td>\n",
       "      <td>None</td>\n",
       "      <td>Reg</td>\n",
       "      <td>Lvl</td>\n",
       "      <td>...</td>\n",
       "      <td>0</td>\n",
       "      <td>0</td>\n",
       "      <td>NaN</td>\n",
       "      <td>NaN</td>\n",
       "      <td>NaN</td>\n",
       "      <td>0</td>\n",
       "      <td>2</td>\n",
       "      <td>2009</td>\n",
       "      <td>WD</td>\n",
       "      <td>0</td>\n",
       "    </tr>\n",
       "    <tr>\n",
       "      <th>752</th>\n",
       "      <td>36</td>\n",
       "      <td>527454200</td>\n",
       "      <td>160</td>\n",
       "      <td>RL</td>\n",
       "      <td>24.0</td>\n",
       "      <td>2280</td>\n",
       "      <td>Pave</td>\n",
       "      <td>None</td>\n",
       "      <td>Reg</td>\n",
       "      <td>Lvl</td>\n",
       "      <td>...</td>\n",
       "      <td>0</td>\n",
       "      <td>0</td>\n",
       "      <td>NaN</td>\n",
       "      <td>NaN</td>\n",
       "      <td>NaN</td>\n",
       "      <td>0</td>\n",
       "      <td>7</td>\n",
       "      <td>2010</td>\n",
       "      <td>WD</td>\n",
       "      <td>0</td>\n",
       "    </tr>\n",
       "    <tr>\n",
       "      <th>755</th>\n",
       "      <td>1678</td>\n",
       "      <td>527450220</td>\n",
       "      <td>160</td>\n",
       "      <td>RM</td>\n",
       "      <td>21.0</td>\n",
       "      <td>2058</td>\n",
       "      <td>Pave</td>\n",
       "      <td>None</td>\n",
       "      <td>Reg</td>\n",
       "      <td>Lvl</td>\n",
       "      <td>...</td>\n",
       "      <td>0</td>\n",
       "      <td>0</td>\n",
       "      <td>NaN</td>\n",
       "      <td>NaN</td>\n",
       "      <td>NaN</td>\n",
       "      <td>0</td>\n",
       "      <td>12</td>\n",
       "      <td>2007</td>\n",
       "      <td>WD</td>\n",
       "      <td>0</td>\n",
       "    </tr>\n",
       "    <tr>\n",
       "      <th>787</th>\n",
       "      <td>1543</td>\n",
       "      <td>909451020</td>\n",
       "      <td>160</td>\n",
       "      <td>RM</td>\n",
       "      <td>24.0</td>\n",
       "      <td>1879</td>\n",
       "      <td>Pave</td>\n",
       "      <td>None</td>\n",
       "      <td>Reg</td>\n",
       "      <td>Lvl</td>\n",
       "      <td>...</td>\n",
       "      <td>0</td>\n",
       "      <td>0</td>\n",
       "      <td>NaN</td>\n",
       "      <td>GdPrv</td>\n",
       "      <td>NaN</td>\n",
       "      <td>0</td>\n",
       "      <td>12</td>\n",
       "      <td>2008</td>\n",
       "      <td>WD</td>\n",
       "      <td>0</td>\n",
       "    </tr>\n",
       "    <tr>\n",
       "      <th>824</th>\n",
       "      <td>1174</td>\n",
       "      <td>533217060</td>\n",
       "      <td>160</td>\n",
       "      <td>FV</td>\n",
       "      <td>24.0</td>\n",
       "      <td>2160</td>\n",
       "      <td>Pave</td>\n",
       "      <td>Pave</td>\n",
       "      <td>Reg</td>\n",
       "      <td>Lvl</td>\n",
       "      <td>...</td>\n",
       "      <td>0</td>\n",
       "      <td>0</td>\n",
       "      <td>NaN</td>\n",
       "      <td>NaN</td>\n",
       "      <td>NaN</td>\n",
       "      <td>0</td>\n",
       "      <td>6</td>\n",
       "      <td>2008</td>\n",
       "      <td>WD</td>\n",
       "      <td>0</td>\n",
       "    </tr>\n",
       "    <tr>\n",
       "      <th>848</th>\n",
       "      <td>933</td>\n",
       "      <td>909451040</td>\n",
       "      <td>160</td>\n",
       "      <td>RM</td>\n",
       "      <td>24.0</td>\n",
       "      <td>1733</td>\n",
       "      <td>Pave</td>\n",
       "      <td>None</td>\n",
       "      <td>Reg</td>\n",
       "      <td>Lvl</td>\n",
       "      <td>...</td>\n",
       "      <td>0</td>\n",
       "      <td>0</td>\n",
       "      <td>NaN</td>\n",
       "      <td>GdPrv</td>\n",
       "      <td>NaN</td>\n",
       "      <td>0</td>\n",
       "      <td>5</td>\n",
       "      <td>2009</td>\n",
       "      <td>WD</td>\n",
       "      <td>0</td>\n",
       "    </tr>\n",
       "    <tr>\n",
       "      <th>857</th>\n",
       "      <td>976</td>\n",
       "      <td>923226270</td>\n",
       "      <td>180</td>\n",
       "      <td>RM</td>\n",
       "      <td>21.0</td>\n",
       "      <td>1526</td>\n",
       "      <td>Pave</td>\n",
       "      <td>None</td>\n",
       "      <td>Reg</td>\n",
       "      <td>Lvl</td>\n",
       "      <td>...</td>\n",
       "      <td>0</td>\n",
       "      <td>0</td>\n",
       "      <td>NaN</td>\n",
       "      <td>NaN</td>\n",
       "      <td>NaN</td>\n",
       "      <td>0</td>\n",
       "      <td>5</td>\n",
       "      <td>2009</td>\n",
       "      <td>WD</td>\n",
       "      <td>0</td>\n",
       "    </tr>\n",
       "    <tr>\n",
       "      <th>862</th>\n",
       "      <td>404</td>\n",
       "      <td>527451110</td>\n",
       "      <td>160</td>\n",
       "      <td>RM</td>\n",
       "      <td>24.0</td>\n",
       "      <td>2368</td>\n",
       "      <td>Pave</td>\n",
       "      <td>None</td>\n",
       "      <td>Reg</td>\n",
       "      <td>Lvl</td>\n",
       "      <td>...</td>\n",
       "      <td>0</td>\n",
       "      <td>0</td>\n",
       "      <td>NaN</td>\n",
       "      <td>NaN</td>\n",
       "      <td>NaN</td>\n",
       "      <td>0</td>\n",
       "      <td>5</td>\n",
       "      <td>2009</td>\n",
       "      <td>WD</td>\n",
       "      <td>0</td>\n",
       "    </tr>\n",
       "  </tbody>\n",
       "</table>\n",
       "<p>35 rows × 81 columns</p>\n",
       "</div>"
      ],
      "text/plain": [
       "       id        pid  ms_subclass ms_zoning  lot_frontage  lot_area street  \\\n",
       "5     333  923228370          160        RM          21.0      1890   Pave   \n",
       "45    979  923228150          160        RM          21.0      1533   Pave   \n",
       "117  1679  527451020          160        RM          24.0      2016   Pave   \n",
       "134  1167  533213120          160        FV          24.0      2280   Pave   \n",
       "156   332  923228270          160        RM          21.0      1900   Pave   \n",
       "173  2509  533212120          160        FV          24.0      2544   Pave   \n",
       "178  2921  923228310          160        RM          21.0      1894   Pave   \n",
       "206  2378  527455100          160        RL          24.0      2179   Pave   \n",
       "231   331  923226320          180        RM          21.0      1491   Pave   \n",
       "262  1677  527450150          160        RM          21.0      1890   Pave   \n",
       "287  2367  527450210          160        RM          21.0      1953   Pave   \n",
       "292  2291  923228390          160        RM          21.0      1890   Pave   \n",
       "352  2370  527451380          160        RM          21.0      1680   Pave   \n",
       "371  1042  527450520          160        RM          21.0      1890   Pave   \n",
       "390    31  527451330          160        RM          21.0      1680   Pave   \n",
       "460   934  909451100          160        RM          24.0      1488   Pave   \n",
       "482  2917  923228130          180        RM          21.0      1533   Pave   \n",
       "511  2366  527450080          160        RM          24.0      2160   Pave   \n",
       "530   418  527455090          120        RL          24.0      2104   Pave   \n",
       "536  2919  923228210          160        RM          21.0      1526   Pave   \n",
       "542   978  923228110          180        RM          21.0      1477   Pave   \n",
       "548  2373  527451520          160        RM          21.0      1680   Pave   \n",
       "557   410  527453050          160        RL          24.0      2308   Pave   \n",
       "628   350  527127100          120        RL          28.0      7296   Pave   \n",
       "636  2831  908188130          160        RM          24.0      2522   Pave   \n",
       "647   103  533223020          160        FV          24.0      2572   Pave   \n",
       "717   574  533236050          160        FV          24.0      2645   Pave   \n",
       "723   408  527451650          160        RM          21.0      1680   Pave   \n",
       "752    36  527454200          160        RL          24.0      2280   Pave   \n",
       "755  1678  527450220          160        RM          21.0      2058   Pave   \n",
       "787  1543  909451020          160        RM          24.0      1879   Pave   \n",
       "824  1174  533217060          160        FV          24.0      2160   Pave   \n",
       "848   933  909451040          160        RM          24.0      1733   Pave   \n",
       "857   976  923226270          180        RM          21.0      1526   Pave   \n",
       "862   404  527451110          160        RM          24.0      2368   Pave   \n",
       "\n",
       "    alley lot_shape land_contour  ... screen_porch pool_area pool_qc  fence  \\\n",
       "5    None       Reg          Lvl  ...            0         0     NaN    NaN   \n",
       "45   None       Reg          Lvl  ...            0         0     NaN    NaN   \n",
       "117  None       Reg          Lvl  ...            0         0     NaN    NaN   \n",
       "134  Pave       Reg          Lvl  ...            0         0     NaN    NaN   \n",
       "156  None       Reg          Lvl  ...            0         0     NaN    NaN   \n",
       "173  Pave       Reg          Lvl  ...            0         0     NaN    NaN   \n",
       "178  None       Reg          Lvl  ...            0         0     NaN    NaN   \n",
       "206  None       Reg          Lvl  ...            0         0     NaN    NaN   \n",
       "231  None       Reg          Lvl  ...            0         0     NaN    NaN   \n",
       "262  None       Reg          Lvl  ...            0         0     NaN    NaN   \n",
       "287  None       Reg          Lvl  ...            0         0     NaN    NaN   \n",
       "292  None       Reg          Lvl  ...            0         0     NaN   GdWo   \n",
       "352  None       Reg          Lvl  ...            0         0     NaN    NaN   \n",
       "371  None       Reg          Lvl  ...            0         0     NaN    NaN   \n",
       "390  None       Reg          Lvl  ...            0         0     NaN    NaN   \n",
       "460  None       Reg          Lvl  ...            0         0     NaN  GdPrv   \n",
       "482  None       Reg          Lvl  ...            0         0     NaN    NaN   \n",
       "511  None       Reg          Lvl  ...            0         0     NaN    NaN   \n",
       "530  None       Reg          Lvl  ...            0         0     NaN    NaN   \n",
       "536  None       Reg          Lvl  ...            0         0     NaN  GdPrv   \n",
       "542  None       Reg          Lvl  ...            0         0     NaN    NaN   \n",
       "548  None       Reg          Lvl  ...            0         0     NaN    NaN   \n",
       "557  None       Reg          Lvl  ...            0         0     NaN    NaN   \n",
       "628  None       IR1          Lvl  ...            0         0     NaN    NaN   \n",
       "636  None       Reg          Lvl  ...            0         0     NaN    NaN   \n",
       "647  None       Reg          Lvl  ...            0         0     NaN    NaN   \n",
       "717  Pave       Reg          Lvl  ...            0         0     NaN    NaN   \n",
       "723  None       Reg          Lvl  ...            0         0     NaN    NaN   \n",
       "752  None       Reg          Lvl  ...            0         0     NaN    NaN   \n",
       "755  None       Reg          Lvl  ...            0         0     NaN    NaN   \n",
       "787  None       Reg          Lvl  ...            0         0     NaN  GdPrv   \n",
       "824  Pave       Reg          Lvl  ...            0         0     NaN    NaN   \n",
       "848  None       Reg          Lvl  ...            0         0     NaN  GdPrv   \n",
       "857  None       Reg          Lvl  ...            0         0     NaN    NaN   \n",
       "862  None       Reg          Lvl  ...            0         0     NaN    NaN   \n",
       "\n",
       "    misc_feature misc_val mo_sold yr_sold  sale_type  saleprice  \n",
       "5            NaN        0       6    2010        WD           0  \n",
       "45           NaN        0       5    2009        WD           0  \n",
       "117          NaN        0       4    2007        WD           0  \n",
       "134          NaN        0       4    2008        WD           0  \n",
       "156          NaN        0       6    2010        WD           0  \n",
       "173          NaN        0       7    2006        WD           0  \n",
       "178          NaN        0       4    2006        WD           0  \n",
       "206          NaN        0       7    2006        WD           0  \n",
       "231          NaN        0       5    2010        WD           0  \n",
       "262          NaN        0       5    2007        WD           0  \n",
       "287          NaN        0       6    2006        WD           0  \n",
       "292          NaN        0       4    2007        COD          0  \n",
       "352          NaN        0       5    2006        WD           0  \n",
       "371          NaN        0       4    2008        WD           0  \n",
       "390          NaN        0       3    2010        WD           0  \n",
       "460          NaN        0      10    2009        WD           0  \n",
       "482          NaN        0       8    2006        WD           0  \n",
       "511          NaN        0       6    2006        WD           0  \n",
       "530          NaN        0      10    2009        WD           0  \n",
       "536          NaN        0       6    2006        WD           0  \n",
       "542          NaN        0       4    2009        WD           0  \n",
       "548          NaN        0       6    2006        WD           0  \n",
       "557          NaN        0       9    2009        WD           0  \n",
       "628          NaN        0      11    2009        WD           0  \n",
       "636          NaN        0       4    2006        WD           0  \n",
       "647          NaN        0       5    2010        WD           0  \n",
       "717          NaN        0       8    2009        WD           0  \n",
       "723          NaN        0       2    2009        WD           0  \n",
       "752          NaN        0       7    2010        WD           0  \n",
       "755          NaN        0      12    2007        WD           0  \n",
       "787          NaN        0      12    2008        WD           0  \n",
       "824          NaN        0       6    2008        WD           0  \n",
       "848          NaN        0       5    2009        WD           0  \n",
       "857          NaN        0       5    2009        WD           0  \n",
       "862          NaN        0       5    2009        WD           0  \n",
       "\n",
       "[35 rows x 81 columns]"
      ]
     },
     "execution_count": 565,
     "metadata": {},
     "output_type": "execute_result"
    }
   ],
   "source": [
    "df[df['lot_frontage'] < 30.0]"
   ]
  },
  {
   "cell_type": "markdown",
   "id": "00ffb3b3-4d98-44fc-893c-eb0a329d2fd1",
   "metadata": {},
   "source": [
    "It appears possible that NaN means no frontage because there are no 0.0 lots. In fact, there's nothing less than 21.0 feet of frontage. In reading a little about \"flag lots\" [here](https://www.city-data.com/forum/real-estate/1735402-value-land-without-road-frontage.html), it seems plausible that's what these are, and while 21 feet seems a little small from that reading, it seems possible these smaller lot frontages represent lots that include a path to the road in the property (as opposed to an easement across someone else's property). For now, I'm going to cast those as 0.0."
   ]
  },
  {
   "cell_type": "code",
   "execution_count": 566,
   "id": "c7b13894-117a-4f83-8915-9ac93d642599",
   "metadata": {},
   "outputs": [
    {
     "data": {
      "text/plain": [
       "0"
      ]
     },
     "execution_count": 566,
     "metadata": {},
     "output_type": "execute_result"
    }
   ],
   "source": [
    "df['lot_frontage'] = df['lot_frontage'].fillna(0.0)\n",
    "\n",
    "df['lot_frontage'].isna().sum()"
   ]
  },
  {
   "cell_type": "markdown",
   "id": "9e76e738-b6c4-4ec7-b099-ab8085e24ed9",
   "metadata": {},
   "source": [
    "### Fireplace Quality\n",
    "\n",
    "The dictionary spells out that NA == no fireplace."
   ]
  },
  {
   "cell_type": "code",
   "execution_count": 567,
   "id": "dc28f2c8-195c-46c4-a82e-f9497f14dfcd",
   "metadata": {},
   "outputs": [
    {
     "data": {
      "text/plain": [
       "0"
      ]
     },
     "execution_count": 567,
     "metadata": {},
     "output_type": "execute_result"
    }
   ],
   "source": [
    "df['fireplace_qu'] = df['fireplace_qu'].fillna('No Fireplace')\n",
    "\n",
    "df['fireplace_qu'].isna().sum()"
   ]
  },
  {
   "cell_type": "markdown",
   "id": "19140c69-230d-42c8-8fc7-2731eea383de",
   "metadata": {},
   "source": [
    "### Pool Quality\n",
    "\n",
    "The dictionary spells out that NA == no pool."
   ]
  },
  {
   "cell_type": "code",
   "execution_count": 568,
   "id": "a15312ab-a11c-4187-b752-63e1b3f1008e",
   "metadata": {},
   "outputs": [
    {
     "data": {
      "text/plain": [
       "0"
      ]
     },
     "execution_count": 568,
     "metadata": {},
     "output_type": "execute_result"
    }
   ],
   "source": [
    "df['pool_qc'] = df['pool_qc'].fillna('No Pool')\n",
    "\n",
    "df['fireplace_qu'].isna().sum()"
   ]
  },
  {
   "cell_type": "markdown",
   "id": "336a2326-fd5d-4422-b060-c95520cbb7cd",
   "metadata": {},
   "source": [
    "### Fence\n",
    "\n",
    "The dictionary spells out that NA == no fence."
   ]
  },
  {
   "cell_type": "code",
   "execution_count": 569,
   "id": "428da5b8-e1b7-4da7-bdd3-741b5f16708f",
   "metadata": {},
   "outputs": [
    {
     "data": {
      "text/plain": [
       "0"
      ]
     },
     "execution_count": 569,
     "metadata": {},
     "output_type": "execute_result"
    }
   ],
   "source": [
    "df['fence'] = df['fence'].fillna('No Fence')\n",
    "\n",
    "df['fence'].isna().sum()"
   ]
  },
  {
   "cell_type": "markdown",
   "id": "341b4da3-3bbc-4b03-8748-582fea4bec82",
   "metadata": {},
   "source": [
    "### Misc Features\n",
    "\n",
    "The dictionary spells out that NA == no additional features"
   ]
  },
  {
   "cell_type": "code",
   "execution_count": 570,
   "id": "55d64adf-051c-492f-9230-f844b12331c8",
   "metadata": {},
   "outputs": [
    {
     "data": {
      "text/plain": [
       "0"
      ]
     },
     "execution_count": 570,
     "metadata": {},
     "output_type": "execute_result"
    }
   ],
   "source": [
    "df['misc_feature'] = df['misc_feature'].fillna('No Addl Features')\n",
    "df['misc_feature'].isna().sum()"
   ]
  },
  {
   "cell_type": "code",
   "execution_count": 571,
   "id": "1483e5a6-39ea-42ac-a7f2-b9b3f2ef84e3",
   "metadata": {},
   "outputs": [
    {
     "data": {
      "text/plain": [
       "(878, 81)"
      ]
     },
     "execution_count": 571,
     "metadata": {},
     "output_type": "execute_result"
    }
   ],
   "source": [
    "df.shape"
   ]
  },
  {
   "cell_type": "markdown",
   "id": "a9e6bfb9-ca69-44dd-ba27-e952ca846a3a",
   "metadata": {},
   "source": [
    "### Masonry Veneer Type"
   ]
  },
  {
   "cell_type": "markdown",
   "id": "3eef39ad-46ef-4e02-b953-34e77e8a2d42",
   "metadata": {},
   "source": [
    "I examined these initially, and wasn't sure about how to handle them. I leaned toward dropping the 22 NaN since it's clear None is another category and hard to know how these NaN should be interpreted. With only 22 instances, I decided to drop these data."
   ]
  },
  {
   "cell_type": "code",
   "execution_count": 572,
   "id": "675559cc-ba0c-4491-a586-dc28b231ec8a",
   "metadata": {},
   "outputs": [
    {
     "data": {
      "text/plain": [
       "None       534\n",
       "BrkFace    250\n",
       "Stone       80\n",
       "BrkCmn      12\n",
       "CBlock       1\n",
       "NaN          1\n",
       "Name: mas_vnr_type, dtype: int64"
      ]
     },
     "execution_count": 572,
     "metadata": {},
     "output_type": "execute_result"
    }
   ],
   "source": [
    "df['mas_vnr_type'].value_counts(dropna = False)"
   ]
  },
  {
   "cell_type": "code",
   "execution_count": 573,
   "id": "06a3f0a9-6716-42e0-ac2f-8a20dce41632",
   "metadata": {},
   "outputs": [
    {
     "data": {
      "text/html": [
       "<div>\n",
       "<style scoped>\n",
       "    .dataframe tbody tr th:only-of-type {\n",
       "        vertical-align: middle;\n",
       "    }\n",
       "\n",
       "    .dataframe tbody tr th {\n",
       "        vertical-align: top;\n",
       "    }\n",
       "\n",
       "    .dataframe thead th {\n",
       "        text-align: right;\n",
       "    }\n",
       "</style>\n",
       "<table border=\"1\" class=\"dataframe\">\n",
       "  <thead>\n",
       "    <tr style=\"text-align: right;\">\n",
       "      <th></th>\n",
       "      <th>id</th>\n",
       "      <th>pid</th>\n",
       "      <th>ms_subclass</th>\n",
       "      <th>ms_zoning</th>\n",
       "      <th>lot_frontage</th>\n",
       "      <th>lot_area</th>\n",
       "      <th>street</th>\n",
       "      <th>alley</th>\n",
       "      <th>lot_shape</th>\n",
       "      <th>land_contour</th>\n",
       "      <th>...</th>\n",
       "      <th>screen_porch</th>\n",
       "      <th>pool_area</th>\n",
       "      <th>pool_qc</th>\n",
       "      <th>fence</th>\n",
       "      <th>misc_feature</th>\n",
       "      <th>misc_val</th>\n",
       "      <th>mo_sold</th>\n",
       "      <th>yr_sold</th>\n",
       "      <th>sale_type</th>\n",
       "      <th>saleprice</th>\n",
       "    </tr>\n",
       "  </thead>\n",
       "  <tbody>\n",
       "    <tr>\n",
       "      <th>865</th>\n",
       "      <td>868</td>\n",
       "      <td>907260030</td>\n",
       "      <td>60</td>\n",
       "      <td>RL</td>\n",
       "      <td>70.0</td>\n",
       "      <td>8749</td>\n",
       "      <td>Pave</td>\n",
       "      <td>None</td>\n",
       "      <td>Reg</td>\n",
       "      <td>Lvl</td>\n",
       "      <td>...</td>\n",
       "      <td>0</td>\n",
       "      <td>0</td>\n",
       "      <td>No Pool</td>\n",
       "      <td>No Fence</td>\n",
       "      <td>No Addl Features</td>\n",
       "      <td>0</td>\n",
       "      <td>11</td>\n",
       "      <td>2009</td>\n",
       "      <td>WD</td>\n",
       "      <td>0</td>\n",
       "    </tr>\n",
       "  </tbody>\n",
       "</table>\n",
       "<p>1 rows × 81 columns</p>\n",
       "</div>"
      ],
      "text/plain": [
       "      id        pid  ms_subclass ms_zoning  lot_frontage  lot_area street  \\\n",
       "865  868  907260030           60        RL          70.0      8749   Pave   \n",
       "\n",
       "    alley lot_shape land_contour  ... screen_porch pool_area  pool_qc  \\\n",
       "865  None       Reg          Lvl  ...            0         0  No Pool   \n",
       "\n",
       "        fence      misc_feature misc_val mo_sold yr_sold  sale_type  saleprice  \n",
       "865  No Fence  No Addl Features        0      11    2009        WD           0  \n",
       "\n",
       "[1 rows x 81 columns]"
      ]
     },
     "execution_count": 573,
     "metadata": {},
     "output_type": "execute_result"
    }
   ],
   "source": [
    "df[df['mas_vnr_type'].isna()]"
   ]
  },
  {
   "cell_type": "markdown",
   "id": "88ad37c8-03e2-4f69-aff5-eecc5503cde2",
   "metadata": {},
   "source": [
    "### Masonry Veneer Area"
   ]
  },
  {
   "cell_type": "code",
   "execution_count": 574,
   "id": "4ad58385-1ddf-4a6b-bcac-669a466e052f",
   "metadata": {},
   "outputs": [
    {
     "data": {
      "text/plain": [
       "0.0      532\n",
       "216.0      7\n",
       "80.0       5\n",
       "420.0      5\n",
       "196.0      5\n",
       "        ... \n",
       "281.0      1\n",
       "95.0       1\n",
       "481.0      1\n",
       "459.0      1\n",
       "410.0      1\n",
       "Name: mas_vnr_area, Length: 233, dtype: int64"
      ]
     },
     "execution_count": 574,
     "metadata": {},
     "output_type": "execute_result"
    }
   ],
   "source": [
    "df['mas_vnr_area'].value_counts(dropna = False)"
   ]
  },
  {
   "cell_type": "code",
   "execution_count": 575,
   "id": "fa0bc8df-be01-4b07-acfe-229b7ae509b7",
   "metadata": {},
   "outputs": [
    {
     "data": {
      "text/plain": [
       "1"
      ]
     },
     "execution_count": 575,
     "metadata": {},
     "output_type": "execute_result"
    }
   ],
   "source": [
    "len(df[(df['mas_vnr_type'].isna()) & (df['mas_vnr_area'].isna())])"
   ]
  },
  {
   "cell_type": "markdown",
   "id": "1e896eb9-0d9a-4d17-8490-ec0c671eb175",
   "metadata": {},
   "source": [
    "The nulls from Masonry Veneer Type and Area are the same ones."
   ]
  },
  {
   "cell_type": "markdown",
   "id": "d68e62b3-c5da-4400-9a4c-8b465665b756",
   "metadata": {},
   "source": [
    "I dropped the row that had null values when I cleaned my training dataset, but I can't do that here without messing up the Kaggle data, which needs 878 rows. Instead, I'm going to assume this means there is not masonry, so type is none and area is 0"
   ]
  },
  {
   "cell_type": "code",
   "execution_count": 584,
   "id": "51883093-0e13-4249-9252-35018a54d37c",
   "metadata": {},
   "outputs": [],
   "source": [
    "df['mas_vnr_type'] = df['mas_vnr_type'].fillna('None')\n",
    "df['mas_vnr_area'] = df['mas_vnr_area'].fillna(0.0)"
   ]
  },
  {
   "cell_type": "code",
   "execution_count": 585,
   "id": "e00e9a69-1e34-4b8e-9c67-f7aedcd984c2",
   "metadata": {},
   "outputs": [],
   "source": [
    "# this is an artifact of the original cleaning that removes a row, throwing of the count of rows\n",
    "# for the kaggle competition\n",
    "\n",
    "# df.dropna(subset = 'mas_vnr_type', inplace = True)"
   ]
  },
  {
   "cell_type": "code",
   "execution_count": 586,
   "id": "d84c6895-8748-4bf8-a4fa-fa51f9a618f4",
   "metadata": {},
   "outputs": [
    {
     "data": {
      "text/plain": [
       "0"
      ]
     },
     "execution_count": 586,
     "metadata": {},
     "output_type": "execute_result"
    }
   ],
   "source": [
    "len(df[(df['mas_vnr_type'].isna()) & (df['mas_vnr_area'].isna())])"
   ]
  },
  {
   "cell_type": "code",
   "execution_count": 587,
   "id": "9d156817-5888-42e8-976c-e93c93879349",
   "metadata": {},
   "outputs": [
    {
     "data": {
      "text/plain": [
       "(878, 81)"
      ]
     },
     "execution_count": 587,
     "metadata": {},
     "output_type": "execute_result"
    }
   ],
   "source": [
    "df.shape"
   ]
  },
  {
   "cell_type": "code",
   "execution_count": 588,
   "id": "db43b0d5-07f2-413f-8cf4-2a19ff775235",
   "metadata": {},
   "outputs": [],
   "source": [
    "df.to_csv('datasets/draft1_cleaned_kaggle_test.csv', index = False)"
   ]
  }
 ],
 "metadata": {
  "kernelspec": {
   "display_name": "Python [conda env:dsi]",
   "language": "python",
   "name": "conda-env-dsi-py"
  },
  "language_info": {
   "codemirror_mode": {
    "name": "ipython",
    "version": 3
   },
   "file_extension": ".py",
   "mimetype": "text/x-python",
   "name": "python",
   "nbconvert_exporter": "python",
   "pygments_lexer": "ipython3",
   "version": "3.9.12"
  }
 },
 "nbformat": 4,
 "nbformat_minor": 5
}
