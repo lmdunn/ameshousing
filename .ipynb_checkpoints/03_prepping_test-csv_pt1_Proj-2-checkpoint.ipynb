{
 "cells": [
  {
   "cell_type": "code",
   "execution_count": 296,
   "id": "f6dd355c-9b20-4bd4-a8b1-4972504a04ab",
   "metadata": {},
   "outputs": [],
   "source": [
    "import pandas as pd\n",
    "import matplotlib.pyplot as plt\n",
    "import seaborn as sns"
   ]
  },
  {
   "cell_type": "code",
   "execution_count": 297,
   "id": "300af5cd-2ee8-43af-8f8d-409d2766ddb0",
   "metadata": {},
   "outputs": [],
   "source": [
    "df = pd.read_csv('./datasets/train.csv')"
   ]
  },
  {
   "cell_type": "code",
   "execution_count": 298,
   "id": "78cb32c2-d35b-4d81-9eb5-87a04a2298a6",
   "metadata": {},
   "outputs": [
    {
     "data": {
      "text/plain": [
       "(2051, 81)"
      ]
     },
     "execution_count": 298,
     "metadata": {},
     "output_type": "execute_result"
    }
   ],
   "source": [
    "df.shape"
   ]
  },
  {
   "cell_type": "code",
   "execution_count": 299,
   "id": "ca4ff06e-334b-4ecc-a01c-eb4a85f90916",
   "metadata": {},
   "outputs": [
    {
     "data": {
      "text/plain": [
       "Id                0\n",
       "PID               0\n",
       "MS SubClass       0\n",
       "MS Zoning         0\n",
       "Lot Frontage    330\n",
       "               ... \n",
       "Misc Val          0\n",
       "Mo Sold           0\n",
       "Yr Sold           0\n",
       "Sale Type         0\n",
       "SalePrice         0\n",
       "Length: 81, dtype: int64"
      ]
     },
     "execution_count": 299,
     "metadata": {},
     "output_type": "execute_result"
    }
   ],
   "source": [
    "df.isnull().sum()"
   ]
  },
  {
   "cell_type": "markdown",
   "id": "f9cd48ec-fa4d-4823-afc9-979126876c7f",
   "metadata": {},
   "source": [
    "Because there are so many columns, I wanted to identify only the columns that contain null values. I experimented and wasn't having any luck, so I did some research: this [stackoverflow](https://stackoverflow.com/questions/53137100/filter-pandas-dataframe-columns-with-null-data) showed me the approach I used below."
   ]
  },
  {
   "cell_type": "code",
   "execution_count": 300,
   "id": "6686de97-68b1-4816-8e30-8495b2eac832",
   "metadata": {},
   "outputs": [
    {
     "data": {
      "text/plain": [
       "['Lot Frontage',\n",
       " 'Alley',\n",
       " 'Mas Vnr Type',\n",
       " 'Mas Vnr Area',\n",
       " 'Bsmt Qual',\n",
       " 'Bsmt Cond',\n",
       " 'Bsmt Exposure',\n",
       " 'BsmtFin Type 1',\n",
       " 'BsmtFin SF 1',\n",
       " 'BsmtFin Type 2',\n",
       " 'BsmtFin SF 2',\n",
       " 'Bsmt Unf SF',\n",
       " 'Total Bsmt SF',\n",
       " 'Bsmt Full Bath',\n",
       " 'Bsmt Half Bath',\n",
       " 'Fireplace Qu',\n",
       " 'Garage Type',\n",
       " 'Garage Yr Blt',\n",
       " 'Garage Finish',\n",
       " 'Garage Cars',\n",
       " 'Garage Area',\n",
       " 'Garage Qual',\n",
       " 'Garage Cond',\n",
       " 'Pool QC',\n",
       " 'Fence',\n",
       " 'Misc Feature']"
      ]
     },
     "execution_count": 300,
     "metadata": {},
     "output_type": "execute_result"
    }
   ],
   "source": [
    "df.columns[df.isna().any()].tolist()"
   ]
  },
  {
   "cell_type": "code",
   "execution_count": 301,
   "id": "1737cd13-5d65-4400-8762-0a6555a1131d",
   "metadata": {},
   "outputs": [],
   "source": [
    "df.columns = df.columns.str.replace(' ', '_').str.lower()"
   ]
  },
  {
   "cell_type": "code",
   "execution_count": 302,
   "id": "a17a8756-2e38-4e64-9131-e54c0a9961e6",
   "metadata": {},
   "outputs": [
    {
     "data": {
      "text/html": [
       "<div>\n",
       "<style scoped>\n",
       "    .dataframe tbody tr th:only-of-type {\n",
       "        vertical-align: middle;\n",
       "    }\n",
       "\n",
       "    .dataframe tbody tr th {\n",
       "        vertical-align: top;\n",
       "    }\n",
       "\n",
       "    .dataframe thead th {\n",
       "        text-align: right;\n",
       "    }\n",
       "</style>\n",
       "<table border=\"1\" class=\"dataframe\">\n",
       "  <thead>\n",
       "    <tr style=\"text-align: right;\">\n",
       "      <th></th>\n",
       "      <th>id</th>\n",
       "      <th>pid</th>\n",
       "      <th>ms_subclass</th>\n",
       "      <th>ms_zoning</th>\n",
       "      <th>lot_frontage</th>\n",
       "      <th>lot_area</th>\n",
       "      <th>street</th>\n",
       "      <th>alley</th>\n",
       "      <th>lot_shape</th>\n",
       "      <th>land_contour</th>\n",
       "      <th>...</th>\n",
       "      <th>screen_porch</th>\n",
       "      <th>pool_area</th>\n",
       "      <th>pool_qc</th>\n",
       "      <th>fence</th>\n",
       "      <th>misc_feature</th>\n",
       "      <th>misc_val</th>\n",
       "      <th>mo_sold</th>\n",
       "      <th>yr_sold</th>\n",
       "      <th>sale_type</th>\n",
       "      <th>saleprice</th>\n",
       "    </tr>\n",
       "  </thead>\n",
       "  <tbody>\n",
       "    <tr>\n",
       "      <th>0</th>\n",
       "      <td>109</td>\n",
       "      <td>533352170</td>\n",
       "      <td>60</td>\n",
       "      <td>RL</td>\n",
       "      <td>NaN</td>\n",
       "      <td>13517</td>\n",
       "      <td>Pave</td>\n",
       "      <td>NaN</td>\n",
       "      <td>IR1</td>\n",
       "      <td>Lvl</td>\n",
       "      <td>...</td>\n",
       "      <td>0</td>\n",
       "      <td>0</td>\n",
       "      <td>NaN</td>\n",
       "      <td>NaN</td>\n",
       "      <td>NaN</td>\n",
       "      <td>0</td>\n",
       "      <td>3</td>\n",
       "      <td>2010</td>\n",
       "      <td>WD</td>\n",
       "      <td>130500</td>\n",
       "    </tr>\n",
       "    <tr>\n",
       "      <th>1</th>\n",
       "      <td>544</td>\n",
       "      <td>531379050</td>\n",
       "      <td>60</td>\n",
       "      <td>RL</td>\n",
       "      <td>43.0</td>\n",
       "      <td>11492</td>\n",
       "      <td>Pave</td>\n",
       "      <td>NaN</td>\n",
       "      <td>IR1</td>\n",
       "      <td>Lvl</td>\n",
       "      <td>...</td>\n",
       "      <td>0</td>\n",
       "      <td>0</td>\n",
       "      <td>NaN</td>\n",
       "      <td>NaN</td>\n",
       "      <td>NaN</td>\n",
       "      <td>0</td>\n",
       "      <td>4</td>\n",
       "      <td>2009</td>\n",
       "      <td>WD</td>\n",
       "      <td>220000</td>\n",
       "    </tr>\n",
       "  </tbody>\n",
       "</table>\n",
       "<p>2 rows × 81 columns</p>\n",
       "</div>"
      ],
      "text/plain": [
       "    id        pid  ms_subclass ms_zoning  lot_frontage  lot_area street alley  \\\n",
       "0  109  533352170           60        RL           NaN     13517   Pave   NaN   \n",
       "1  544  531379050           60        RL          43.0     11492   Pave   NaN   \n",
       "\n",
       "  lot_shape land_contour  ... screen_porch pool_area pool_qc fence  \\\n",
       "0       IR1          Lvl  ...            0         0     NaN   NaN   \n",
       "1       IR1          Lvl  ...            0         0     NaN   NaN   \n",
       "\n",
       "  misc_feature misc_val mo_sold yr_sold  sale_type  saleprice  \n",
       "0          NaN        0       3    2010        WD      130500  \n",
       "1          NaN        0       4    2009        WD      220000  \n",
       "\n",
       "[2 rows x 81 columns]"
      ]
     },
     "execution_count": 302,
     "metadata": {},
     "output_type": "execute_result"
    }
   ],
   "source": [
    "df.head(2)"
   ]
  },
  {
   "cell_type": "markdown",
   "id": "4f2af4d6-18ed-4a21-b732-ed2a7ce4f4c2",
   "metadata": {},
   "source": [
    "### Sanity Check From EDA + Further Cleaning Notebook\n",
    "\n",
    "I'm returning to this point to be certain that I didn't accidentally create any of the oddities I'm finding during EDA."
   ]
  },
  {
   "cell_type": "code",
   "execution_count": 397,
   "id": "bfaf1f0d-764c-4be4-b507-680c443c3507",
   "metadata": {},
   "outputs": [
    {
     "data": {
      "text/plain": [
       "Pave    2021\n",
       "Grvl       7\n",
       "Name: street, dtype: int64"
      ]
     },
     "execution_count": 397,
     "metadata": {},
     "output_type": "execute_result"
    }
   ],
   "source": [
    "df['street'].value_counts()"
   ]
  },
  {
   "cell_type": "markdown",
   "id": "95e06fa4-11f1-4f40-afcb-770c91ef3137",
   "metadata": {},
   "source": [
    "## Data Dictionary\n",
    "\n",
    "I reference the [data dictionary](http://jse.amstat.org/v19n3/decock/DataDocumentation.txt) a lot in the following."
   ]
  },
  {
   "cell_type": "markdown",
   "id": "6dad68c7-f104-42fc-8931-eb47f3fed6e4",
   "metadata": {},
   "source": [
    "### Alley - NaN --> 'None'"
   ]
  },
  {
   "cell_type": "code",
   "execution_count": 305,
   "id": "90b5825c-25c2-4d81-b130-af6e9aff453c",
   "metadata": {},
   "outputs": [
    {
     "data": {
      "text/plain": [
       "NaN     1911\n",
       "Grvl      85\n",
       "Pave      55\n",
       "Name: alley, dtype: int64"
      ]
     },
     "execution_count": 305,
     "metadata": {},
     "output_type": "execute_result"
    }
   ],
   "source": [
    "df['alley'].value_counts(dropna = False)"
   ]
  },
  {
   "cell_type": "markdown",
   "id": "384f8bd4-e3e5-4033-ba0a-2e32b582654b",
   "metadata": {},
   "source": [
    "It appears that NaN means there is no alley. I'm going to replace NaN with 'None' for now. "
   ]
  },
  {
   "cell_type": "code",
   "execution_count": 306,
   "id": "3fe5ae94-f6fe-4ba7-bba0-2407419c5f2d",
   "metadata": {},
   "outputs": [
    {
     "data": {
      "text/plain": [
       "None    1911\n",
       "Grvl      85\n",
       "Pave      55\n",
       "Name: alley, dtype: int64"
      ]
     },
     "execution_count": 306,
     "metadata": {},
     "output_type": "execute_result"
    }
   ],
   "source": [
    "df['alley'] = df['alley'].fillna('None')\n",
    "\n",
    "df['alley'].value_counts(dropna = False)"
   ]
  },
  {
   "cell_type": "markdown",
   "id": "659b0900-e83b-40ec-b46f-39b0c3b16b00",
   "metadata": {},
   "source": [
    "### Basements!"
   ]
  },
  {
   "cell_type": "markdown",
   "id": "abb52b25-12b4-4524-9192-483aea050482",
   "metadata": {},
   "source": [
    "I created this for-loop below to examine how many NAs existed in each basement column, to help me decide how to deal with them, since there's presumably at least some relationship betwen them. Rather than copying the code over and over again, I also returned to the for-loop to use as my sanity check as I cleaned the basement columns."
   ]
  },
  {
   "cell_type": "code",
   "execution_count": 311,
   "id": "85948bae-59d7-4937-b329-a650cd102a8f",
   "metadata": {},
   "outputs": [
    {
     "data": {
      "text/plain": [
       "['bsmt_qual',\n",
       " 'bsmt_cond',\n",
       " 'bsmt_exposure',\n",
       " 'bsmtfin_type_1',\n",
       " 'bsmtfin_sf_1',\n",
       " 'bsmtfin_type_2',\n",
       " 'bsmtfin_sf_2',\n",
       " 'bsmt_unf_sf',\n",
       " 'total_bsmt_sf',\n",
       " 'bsmt_full_bath',\n",
       " 'bsmt_half_bath']"
      ]
     },
     "execution_count": 311,
     "metadata": {},
     "output_type": "execute_result"
    }
   ],
   "source": [
    "bsmt_list = df.columns[df.columns.str.contains('bsmt')].tolist()\n",
    "\n",
    "bsmt_list"
   ]
  },
  {
   "cell_type": "code",
   "execution_count": 367,
   "id": "18c283e9-c9b6-4f52-babd-80aa9345896c",
   "metadata": {},
   "outputs": [
    {
     "name": "stdout",
     "output_type": "stream",
     "text": [
      "bsmt_qual has 0\n",
      "bsmt_cond has 0\n",
      "bsmt_exposure has 0\n",
      "bsmtfin_type_1 has 0\n",
      "bsmtfin_sf_1 has 0\n",
      "bsmtfin_type_2 has 0\n",
      "bsmtfin_sf_2 has 0\n",
      "bsmt_unf_sf has 0\n",
      "total_bsmt_sf has 0\n",
      "bsmt_full_bath has 0\n",
      "bsmt_half_bath has 0\n"
     ]
    }
   ],
   "source": [
    "for i in bsmt_list:\n",
    "    print(f'{i} has {df[i].isnull().sum()}')"
   ]
  },
  {
   "cell_type": "markdown",
   "id": "8a81b282-ff9b-4176-a0cf-9075161edff0",
   "metadata": {},
   "source": [
    "I was surprised by the variation on the number of NaNs. Knowing that some of the NaNs actually represent \"No Basement\", I thought there'd be a pretty consistent number.\n",
    "\n",
    "I decided to start by looking at the smaller values to see what's going on to start."
   ]
  },
  {
   "cell_type": "markdown",
   "id": "2a67932d-5bef-4a58-bb0d-c91477a4c61a",
   "metadata": {
    "tags": []
   },
   "source": [
    "### Basement Full Bath and Half Bath"
   ]
  },
  {
   "cell_type": "code",
   "execution_count": 313,
   "id": "5d643e17-43d3-4bce-b92d-175c1ff837dd",
   "metadata": {},
   "outputs": [
    {
     "data": {
      "text/html": [
       "<div>\n",
       "<style scoped>\n",
       "    .dataframe tbody tr th:only-of-type {\n",
       "        vertical-align: middle;\n",
       "    }\n",
       "\n",
       "    .dataframe tbody tr th {\n",
       "        vertical-align: top;\n",
       "    }\n",
       "\n",
       "    .dataframe thead th {\n",
       "        text-align: right;\n",
       "    }\n",
       "</style>\n",
       "<table border=\"1\" class=\"dataframe\">\n",
       "  <thead>\n",
       "    <tr style=\"text-align: right;\">\n",
       "      <th></th>\n",
       "      <th>bsmt_qual</th>\n",
       "      <th>bsmt_cond</th>\n",
       "      <th>bsmt_exposure</th>\n",
       "      <th>bsmtfin_type_1</th>\n",
       "      <th>bsmtfin_sf_1</th>\n",
       "      <th>bsmtfin_type_2</th>\n",
       "      <th>bsmtfin_sf_2</th>\n",
       "      <th>bsmt_unf_sf</th>\n",
       "      <th>total_bsmt_sf</th>\n",
       "      <th>bsmt_full_bath</th>\n",
       "      <th>bsmt_half_bath</th>\n",
       "    </tr>\n",
       "  </thead>\n",
       "  <tbody>\n",
       "    <tr>\n",
       "      <th>616</th>\n",
       "      <td>NaN</td>\n",
       "      <td>NaN</td>\n",
       "      <td>NaN</td>\n",
       "      <td>NaN</td>\n",
       "      <td>0.0</td>\n",
       "      <td>NaN</td>\n",
       "      <td>0.0</td>\n",
       "      <td>0.0</td>\n",
       "      <td>0.0</td>\n",
       "      <td>NaN</td>\n",
       "      <td>NaN</td>\n",
       "    </tr>\n",
       "    <tr>\n",
       "      <th>1327</th>\n",
       "      <td>NaN</td>\n",
       "      <td>NaN</td>\n",
       "      <td>NaN</td>\n",
       "      <td>NaN</td>\n",
       "      <td>NaN</td>\n",
       "      <td>NaN</td>\n",
       "      <td>NaN</td>\n",
       "      <td>NaN</td>\n",
       "      <td>NaN</td>\n",
       "      <td>NaN</td>\n",
       "      <td>NaN</td>\n",
       "    </tr>\n",
       "  </tbody>\n",
       "</table>\n",
       "</div>"
      ],
      "text/plain": [
       "     bsmt_qual bsmt_cond bsmt_exposure bsmtfin_type_1  bsmtfin_sf_1  \\\n",
       "616        NaN       NaN           NaN            NaN           0.0   \n",
       "1327       NaN       NaN           NaN            NaN           NaN   \n",
       "\n",
       "     bsmtfin_type_2  bsmtfin_sf_2  bsmt_unf_sf  total_bsmt_sf  bsmt_full_bath  \\\n",
       "616             NaN           0.0          0.0            0.0             NaN   \n",
       "1327            NaN           NaN          NaN            NaN             NaN   \n",
       "\n",
       "      bsmt_half_bath  \n",
       "616              NaN  \n",
       "1327             NaN  "
      ]
     },
     "execution_count": 313,
     "metadata": {},
     "output_type": "execute_result"
    }
   ],
   "source": [
    "df[df['bsmt_full_bath'].isna()][bsmt_list]"
   ]
  },
  {
   "cell_type": "code",
   "execution_count": 314,
   "id": "7aa02a27-58e8-4174-9645-7054a565c220",
   "metadata": {},
   "outputs": [
    {
     "data": {
      "text/plain": [
       "0.0    1200\n",
       "1.0     824\n",
       "2.0      23\n",
       "NaN       2\n",
       "3.0       2\n",
       "Name: bsmt_full_bath, dtype: int64"
      ]
     },
     "execution_count": 314,
     "metadata": {},
     "output_type": "execute_result"
    }
   ],
   "source": [
    "df['bsmt_full_bath'].value_counts(dropna = False)"
   ]
  },
  {
   "cell_type": "markdown",
   "id": "469a865b-13c0-4002-924e-b5e8ab609222",
   "metadata": {},
   "source": [
    "I did the above two lines to get a sense of what was going on with these instances. It appears these NaNs should be 0.0, reflecting no basement. The same appears to be true for the half baths, which I checked below."
   ]
  },
  {
   "cell_type": "code",
   "execution_count": 315,
   "id": "9a5d8943-fc9f-4857-aadf-cf65949f80a2",
   "metadata": {},
   "outputs": [],
   "source": [
    "df['bsmt_full_bath'] = df['bsmt_full_bath'].fillna(0.0)"
   ]
  },
  {
   "cell_type": "code",
   "execution_count": 316,
   "id": "e8934609-80fb-4806-aa53-df475c27a76b",
   "metadata": {},
   "outputs": [
    {
     "data": {
      "text/plain": [
       "0.0    1202\n",
       "1.0     824\n",
       "2.0      23\n",
       "3.0       2\n",
       "Name: bsmt_full_bath, dtype: int64"
      ]
     },
     "execution_count": 316,
     "metadata": {},
     "output_type": "execute_result"
    }
   ],
   "source": [
    "df['bsmt_full_bath'].value_counts(dropna = False)"
   ]
  },
  {
   "cell_type": "code",
   "execution_count": 317,
   "id": "df65e323-ccc5-4063-8ffa-1517f43e3a01",
   "metadata": {},
   "outputs": [
    {
     "data": {
      "text/html": [
       "<div>\n",
       "<style scoped>\n",
       "    .dataframe tbody tr th:only-of-type {\n",
       "        vertical-align: middle;\n",
       "    }\n",
       "\n",
       "    .dataframe tbody tr th {\n",
       "        vertical-align: top;\n",
       "    }\n",
       "\n",
       "    .dataframe thead th {\n",
       "        text-align: right;\n",
       "    }\n",
       "</style>\n",
       "<table border=\"1\" class=\"dataframe\">\n",
       "  <thead>\n",
       "    <tr style=\"text-align: right;\">\n",
       "      <th></th>\n",
       "      <th>bsmt_qual</th>\n",
       "      <th>bsmt_cond</th>\n",
       "      <th>bsmt_exposure</th>\n",
       "      <th>bsmtfin_type_1</th>\n",
       "      <th>bsmtfin_sf_1</th>\n",
       "      <th>bsmtfin_type_2</th>\n",
       "      <th>bsmtfin_sf_2</th>\n",
       "      <th>bsmt_unf_sf</th>\n",
       "      <th>total_bsmt_sf</th>\n",
       "      <th>bsmt_full_bath</th>\n",
       "      <th>bsmt_half_bath</th>\n",
       "    </tr>\n",
       "  </thead>\n",
       "  <tbody>\n",
       "    <tr>\n",
       "      <th>616</th>\n",
       "      <td>NaN</td>\n",
       "      <td>NaN</td>\n",
       "      <td>NaN</td>\n",
       "      <td>NaN</td>\n",
       "      <td>0.0</td>\n",
       "      <td>NaN</td>\n",
       "      <td>0.0</td>\n",
       "      <td>0.0</td>\n",
       "      <td>0.0</td>\n",
       "      <td>0.0</td>\n",
       "      <td>NaN</td>\n",
       "    </tr>\n",
       "    <tr>\n",
       "      <th>1327</th>\n",
       "      <td>NaN</td>\n",
       "      <td>NaN</td>\n",
       "      <td>NaN</td>\n",
       "      <td>NaN</td>\n",
       "      <td>NaN</td>\n",
       "      <td>NaN</td>\n",
       "      <td>NaN</td>\n",
       "      <td>NaN</td>\n",
       "      <td>NaN</td>\n",
       "      <td>0.0</td>\n",
       "      <td>NaN</td>\n",
       "    </tr>\n",
       "  </tbody>\n",
       "</table>\n",
       "</div>"
      ],
      "text/plain": [
       "     bsmt_qual bsmt_cond bsmt_exposure bsmtfin_type_1  bsmtfin_sf_1  \\\n",
       "616        NaN       NaN           NaN            NaN           0.0   \n",
       "1327       NaN       NaN           NaN            NaN           NaN   \n",
       "\n",
       "     bsmtfin_type_2  bsmtfin_sf_2  bsmt_unf_sf  total_bsmt_sf  bsmt_full_bath  \\\n",
       "616             NaN           0.0          0.0            0.0             0.0   \n",
       "1327            NaN           NaN          NaN            NaN             0.0   \n",
       "\n",
       "      bsmt_half_bath  \n",
       "616              NaN  \n",
       "1327             NaN  "
      ]
     },
     "execution_count": 317,
     "metadata": {},
     "output_type": "execute_result"
    }
   ],
   "source": [
    "df[df['bsmt_half_bath'].isna()][bsmt_list]"
   ]
  },
  {
   "cell_type": "code",
   "execution_count": 318,
   "id": "b9f0e5b9-eea5-4d6c-b30f-145200043531",
   "metadata": {},
   "outputs": [],
   "source": [
    "df['bsmt_half_bath'] = df['bsmt_half_bath'].fillna(0.0)"
   ]
  },
  {
   "cell_type": "code",
   "execution_count": 319,
   "id": "b22528f1-ffc8-4a5d-8bff-0f24fa4d99f7",
   "metadata": {},
   "outputs": [
    {
     "data": {
      "text/plain": [
       "0.0    1925\n",
       "1.0     122\n",
       "2.0       4\n",
       "Name: bsmt_half_bath, dtype: int64"
      ]
     },
     "execution_count": 319,
     "metadata": {},
     "output_type": "execute_result"
    }
   ],
   "source": [
    "df['bsmt_half_bath'].value_counts(dropna = False)"
   ]
  },
  {
   "cell_type": "markdown",
   "id": "1f0b7ca5-1d14-405f-a07c-39c9a7496e99",
   "metadata": {},
   "source": [
    "### Basement Sq Ft, Finished (both types) & Unfinished, Total"
   ]
  },
  {
   "cell_type": "code",
   "execution_count": 320,
   "id": "0c61ec70-b0cf-4c93-b40f-b47f4a90e53f",
   "metadata": {},
   "outputs": [
    {
     "data": {
      "text/html": [
       "<div>\n",
       "<style scoped>\n",
       "    .dataframe tbody tr th:only-of-type {\n",
       "        vertical-align: middle;\n",
       "    }\n",
       "\n",
       "    .dataframe tbody tr th {\n",
       "        vertical-align: top;\n",
       "    }\n",
       "\n",
       "    .dataframe thead th {\n",
       "        text-align: right;\n",
       "    }\n",
       "</style>\n",
       "<table border=\"1\" class=\"dataframe\">\n",
       "  <thead>\n",
       "    <tr style=\"text-align: right;\">\n",
       "      <th></th>\n",
       "      <th>bsmt_qual</th>\n",
       "      <th>bsmt_cond</th>\n",
       "      <th>bsmt_exposure</th>\n",
       "      <th>bsmtfin_type_1</th>\n",
       "      <th>bsmtfin_sf_1</th>\n",
       "      <th>bsmtfin_type_2</th>\n",
       "      <th>bsmtfin_sf_2</th>\n",
       "      <th>bsmt_unf_sf</th>\n",
       "      <th>total_bsmt_sf</th>\n",
       "      <th>bsmt_full_bath</th>\n",
       "      <th>bsmt_half_bath</th>\n",
       "    </tr>\n",
       "  </thead>\n",
       "  <tbody>\n",
       "    <tr>\n",
       "      <th>1327</th>\n",
       "      <td>NaN</td>\n",
       "      <td>NaN</td>\n",
       "      <td>NaN</td>\n",
       "      <td>NaN</td>\n",
       "      <td>NaN</td>\n",
       "      <td>NaN</td>\n",
       "      <td>NaN</td>\n",
       "      <td>NaN</td>\n",
       "      <td>NaN</td>\n",
       "      <td>0.0</td>\n",
       "      <td>0.0</td>\n",
       "    </tr>\n",
       "  </tbody>\n",
       "</table>\n",
       "</div>"
      ],
      "text/plain": [
       "     bsmt_qual bsmt_cond bsmt_exposure bsmtfin_type_1  bsmtfin_sf_1  \\\n",
       "1327       NaN       NaN           NaN            NaN           NaN   \n",
       "\n",
       "     bsmtfin_type_2  bsmtfin_sf_2  bsmt_unf_sf  total_bsmt_sf  bsmt_full_bath  \\\n",
       "1327            NaN           NaN          NaN            NaN             0.0   \n",
       "\n",
       "      bsmt_half_bath  \n",
       "1327             0.0  "
      ]
     },
     "execution_count": 320,
     "metadata": {},
     "output_type": "execute_result"
    }
   ],
   "source": [
    "df[df['bsmt_unf_sf'].isna()][bsmt_list]"
   ]
  },
  {
   "cell_type": "markdown",
   "id": "794c2d62-cd14-4fbf-a2d2-3ea4d7f3b7a3",
   "metadata": {},
   "source": [
    "Having looked at values in other instances, it appears this also should be 0.0, for no basement, as well."
   ]
  },
  {
   "cell_type": "code",
   "execution_count": 321,
   "id": "a9b607d5-edae-415b-9ff5-fd455b9d963d",
   "metadata": {},
   "outputs": [
    {
     "data": {
      "text/plain": [
       "0"
      ]
     },
     "execution_count": 321,
     "metadata": {},
     "output_type": "execute_result"
    }
   ],
   "source": [
    "df['bsmt_unf_sf'] = df['bsmt_unf_sf'].fillna(0.0)\n",
    "df['bsmt_unf_sf'].isnull().sum()"
   ]
  },
  {
   "cell_type": "code",
   "execution_count": 322,
   "id": "5fc0afc3-9f00-421a-a138-ab47737f5d22",
   "metadata": {},
   "outputs": [
    {
     "data": {
      "text/html": [
       "<div>\n",
       "<style scoped>\n",
       "    .dataframe tbody tr th:only-of-type {\n",
       "        vertical-align: middle;\n",
       "    }\n",
       "\n",
       "    .dataframe tbody tr th {\n",
       "        vertical-align: top;\n",
       "    }\n",
       "\n",
       "    .dataframe thead th {\n",
       "        text-align: right;\n",
       "    }\n",
       "</style>\n",
       "<table border=\"1\" class=\"dataframe\">\n",
       "  <thead>\n",
       "    <tr style=\"text-align: right;\">\n",
       "      <th></th>\n",
       "      <th>bsmt_qual</th>\n",
       "      <th>bsmt_cond</th>\n",
       "      <th>bsmt_exposure</th>\n",
       "      <th>bsmtfin_type_1</th>\n",
       "      <th>bsmtfin_sf_1</th>\n",
       "      <th>bsmtfin_type_2</th>\n",
       "      <th>bsmtfin_sf_2</th>\n",
       "      <th>bsmt_unf_sf</th>\n",
       "      <th>total_bsmt_sf</th>\n",
       "      <th>bsmt_full_bath</th>\n",
       "      <th>bsmt_half_bath</th>\n",
       "    </tr>\n",
       "  </thead>\n",
       "  <tbody>\n",
       "    <tr>\n",
       "      <th>1327</th>\n",
       "      <td>NaN</td>\n",
       "      <td>NaN</td>\n",
       "      <td>NaN</td>\n",
       "      <td>NaN</td>\n",
       "      <td>NaN</td>\n",
       "      <td>NaN</td>\n",
       "      <td>NaN</td>\n",
       "      <td>0.0</td>\n",
       "      <td>NaN</td>\n",
       "      <td>0.0</td>\n",
       "      <td>0.0</td>\n",
       "    </tr>\n",
       "  </tbody>\n",
       "</table>\n",
       "</div>"
      ],
      "text/plain": [
       "     bsmt_qual bsmt_cond bsmt_exposure bsmtfin_type_1  bsmtfin_sf_1  \\\n",
       "1327       NaN       NaN           NaN            NaN           NaN   \n",
       "\n",
       "     bsmtfin_type_2  bsmtfin_sf_2  bsmt_unf_sf  total_bsmt_sf  bsmt_full_bath  \\\n",
       "1327            NaN           NaN          0.0            NaN             0.0   \n",
       "\n",
       "      bsmt_half_bath  \n",
       "1327             0.0  "
      ]
     },
     "execution_count": 322,
     "metadata": {},
     "output_type": "execute_result"
    }
   ],
   "source": [
    "df[df['bsmtfin_sf_1'].isnull()][bsmt_list]"
   ]
  },
  {
   "cell_type": "code",
   "execution_count": 323,
   "id": "a9919ada-6fc7-4c66-a144-2d5a6e395fe6",
   "metadata": {},
   "outputs": [
    {
     "data": {
      "text/plain": [
       "0"
      ]
     },
     "execution_count": 323,
     "metadata": {},
     "output_type": "execute_result"
    }
   ],
   "source": [
    "df['bsmtfin_sf_1'] = df['bsmtfin_sf_1'].fillna(0.0)\n",
    "df['bsmtfin_sf_1'].isnull().sum()"
   ]
  },
  {
   "cell_type": "code",
   "execution_count": 324,
   "id": "77deebdf-e6e0-441b-951e-b1a70b799b69",
   "metadata": {},
   "outputs": [
    {
     "data": {
      "text/html": [
       "<div>\n",
       "<style scoped>\n",
       "    .dataframe tbody tr th:only-of-type {\n",
       "        vertical-align: middle;\n",
       "    }\n",
       "\n",
       "    .dataframe tbody tr th {\n",
       "        vertical-align: top;\n",
       "    }\n",
       "\n",
       "    .dataframe thead th {\n",
       "        text-align: right;\n",
       "    }\n",
       "</style>\n",
       "<table border=\"1\" class=\"dataframe\">\n",
       "  <thead>\n",
       "    <tr style=\"text-align: right;\">\n",
       "      <th></th>\n",
       "      <th>bsmt_qual</th>\n",
       "      <th>bsmt_cond</th>\n",
       "      <th>bsmt_exposure</th>\n",
       "      <th>bsmtfin_type_1</th>\n",
       "      <th>bsmtfin_sf_1</th>\n",
       "      <th>bsmtfin_type_2</th>\n",
       "      <th>bsmtfin_sf_2</th>\n",
       "      <th>bsmt_unf_sf</th>\n",
       "      <th>total_bsmt_sf</th>\n",
       "      <th>bsmt_full_bath</th>\n",
       "      <th>bsmt_half_bath</th>\n",
       "    </tr>\n",
       "  </thead>\n",
       "  <tbody>\n",
       "    <tr>\n",
       "      <th>1327</th>\n",
       "      <td>NaN</td>\n",
       "      <td>NaN</td>\n",
       "      <td>NaN</td>\n",
       "      <td>NaN</td>\n",
       "      <td>0.0</td>\n",
       "      <td>NaN</td>\n",
       "      <td>NaN</td>\n",
       "      <td>0.0</td>\n",
       "      <td>NaN</td>\n",
       "      <td>0.0</td>\n",
       "      <td>0.0</td>\n",
       "    </tr>\n",
       "  </tbody>\n",
       "</table>\n",
       "</div>"
      ],
      "text/plain": [
       "     bsmt_qual bsmt_cond bsmt_exposure bsmtfin_type_1  bsmtfin_sf_1  \\\n",
       "1327       NaN       NaN           NaN            NaN           0.0   \n",
       "\n",
       "     bsmtfin_type_2  bsmtfin_sf_2  bsmt_unf_sf  total_bsmt_sf  bsmt_full_bath  \\\n",
       "1327            NaN           NaN          0.0            NaN             0.0   \n",
       "\n",
       "      bsmt_half_bath  \n",
       "1327             0.0  "
      ]
     },
     "execution_count": 324,
     "metadata": {},
     "output_type": "execute_result"
    }
   ],
   "source": [
    "df[df['bsmtfin_sf_2'].isnull()][bsmt_list]"
   ]
  },
  {
   "cell_type": "code",
   "execution_count": 325,
   "id": "b41dea79-df30-4c97-831f-525668590c69",
   "metadata": {},
   "outputs": [
    {
     "data": {
      "text/plain": [
       "0"
      ]
     },
     "execution_count": 325,
     "metadata": {},
     "output_type": "execute_result"
    }
   ],
   "source": [
    "df['bsmtfin_sf_2'] = df['bsmtfin_sf_2'].fillna(0.0)\n",
    "df['bsmtfin_sf_2'].isnull().sum()"
   ]
  },
  {
   "cell_type": "code",
   "execution_count": 326,
   "id": "9a72055b-a1e8-46cc-ad07-238e8f628f20",
   "metadata": {},
   "outputs": [
    {
     "data": {
      "text/html": [
       "<div>\n",
       "<style scoped>\n",
       "    .dataframe tbody tr th:only-of-type {\n",
       "        vertical-align: middle;\n",
       "    }\n",
       "\n",
       "    .dataframe tbody tr th {\n",
       "        vertical-align: top;\n",
       "    }\n",
       "\n",
       "    .dataframe thead th {\n",
       "        text-align: right;\n",
       "    }\n",
       "</style>\n",
       "<table border=\"1\" class=\"dataframe\">\n",
       "  <thead>\n",
       "    <tr style=\"text-align: right;\">\n",
       "      <th></th>\n",
       "      <th>bsmt_qual</th>\n",
       "      <th>bsmt_cond</th>\n",
       "      <th>bsmt_exposure</th>\n",
       "      <th>bsmtfin_type_1</th>\n",
       "      <th>bsmtfin_sf_1</th>\n",
       "      <th>bsmtfin_type_2</th>\n",
       "      <th>bsmtfin_sf_2</th>\n",
       "      <th>bsmt_unf_sf</th>\n",
       "      <th>total_bsmt_sf</th>\n",
       "      <th>bsmt_full_bath</th>\n",
       "      <th>bsmt_half_bath</th>\n",
       "    </tr>\n",
       "  </thead>\n",
       "  <tbody>\n",
       "    <tr>\n",
       "      <th>1327</th>\n",
       "      <td>NaN</td>\n",
       "      <td>NaN</td>\n",
       "      <td>NaN</td>\n",
       "      <td>NaN</td>\n",
       "      <td>0.0</td>\n",
       "      <td>NaN</td>\n",
       "      <td>0.0</td>\n",
       "      <td>0.0</td>\n",
       "      <td>NaN</td>\n",
       "      <td>0.0</td>\n",
       "      <td>0.0</td>\n",
       "    </tr>\n",
       "  </tbody>\n",
       "</table>\n",
       "</div>"
      ],
      "text/plain": [
       "     bsmt_qual bsmt_cond bsmt_exposure bsmtfin_type_1  bsmtfin_sf_1  \\\n",
       "1327       NaN       NaN           NaN            NaN           0.0   \n",
       "\n",
       "     bsmtfin_type_2  bsmtfin_sf_2  bsmt_unf_sf  total_bsmt_sf  bsmt_full_bath  \\\n",
       "1327            NaN           0.0          0.0            NaN             0.0   \n",
       "\n",
       "      bsmt_half_bath  \n",
       "1327             0.0  "
      ]
     },
     "execution_count": 326,
     "metadata": {},
     "output_type": "execute_result"
    }
   ],
   "source": [
    "df[df['total_bsmt_sf'].isnull()][bsmt_list]"
   ]
  },
  {
   "cell_type": "code",
   "execution_count": 327,
   "id": "3e4bb4cf-c87d-4743-9eaa-f29a2f78f101",
   "metadata": {},
   "outputs": [
    {
     "data": {
      "text/plain": [
       "0"
      ]
     },
     "execution_count": 327,
     "metadata": {},
     "output_type": "execute_result"
    }
   ],
   "source": [
    "df['total_bsmt_sf'] = df['total_bsmt_sf'].fillna(0.0)\n",
    "df['total_bsmt_sf'].isnull().sum()"
   ]
  },
  {
   "cell_type": "markdown",
   "id": "fa7faeb0-450c-49e4-80aa-6de1ae7d1def",
   "metadata": {
    "tags": []
   },
   "source": [
    "### Basement Quality"
   ]
  },
  {
   "cell_type": "markdown",
   "id": "9dd5f373-17b8-4678-ab4a-ea8be76b0333",
   "metadata": {},
   "source": [
    "The dictionary specifies that 'Na' is 'No Basement', so I'm going to cast it as such. This appears to bet true for the categorical basement elements."
   ]
  },
  {
   "cell_type": "code",
   "execution_count": 328,
   "id": "297cf2bc-e37b-4740-8938-d47bdef762de",
   "metadata": {},
   "outputs": [
    {
     "data": {
      "text/plain": [
       "TA     887\n",
       "Gd     864\n",
       "Ex     184\n",
       "Fa      60\n",
       "NaN     55\n",
       "Po       1\n",
       "Name: bsmt_qual, dtype: int64"
      ]
     },
     "execution_count": 328,
     "metadata": {},
     "output_type": "execute_result"
    }
   ],
   "source": [
    "df['bsmt_qual'].value_counts(dropna = False)"
   ]
  },
  {
   "cell_type": "code",
   "execution_count": 329,
   "id": "8c8a88b9-3600-4d99-bb17-e13c341ae01b",
   "metadata": {},
   "outputs": [],
   "source": [
    "df['bsmt_qual'] = df['bsmt_qual'].fillna('No Basement')"
   ]
  },
  {
   "cell_type": "code",
   "execution_count": 330,
   "id": "61ccb6ed-6ccc-4ece-a514-0f5e1f742579",
   "metadata": {},
   "outputs": [
    {
     "data": {
      "text/plain": [
       "TA             887\n",
       "Gd             864\n",
       "Ex             184\n",
       "Fa              60\n",
       "No Basement     55\n",
       "Po               1\n",
       "Name: bsmt_qual, dtype: int64"
      ]
     },
     "execution_count": 330,
     "metadata": {},
     "output_type": "execute_result"
    }
   ],
   "source": [
    "df['bsmt_qual'].value_counts(dropna = False)"
   ]
  },
  {
   "cell_type": "markdown",
   "id": "919ccb92-5227-4b41-ba7d-c8a813cb7f6f",
   "metadata": {
    "tags": []
   },
   "source": [
    "### Basement Condition"
   ]
  },
  {
   "cell_type": "markdown",
   "id": "97621529-3c93-4e2a-83ac-1aad16969f5f",
   "metadata": {},
   "source": [
    "The data dictionary says that 'Na' means None, so I'm making that explicit."
   ]
  },
  {
   "cell_type": "code",
   "execution_count": 331,
   "id": "665e3499-0d8e-4e62-b7b1-2cb732e370a3",
   "metadata": {},
   "outputs": [
    {
     "data": {
      "text/plain": [
       "0"
      ]
     },
     "execution_count": 331,
     "metadata": {},
     "output_type": "execute_result"
    }
   ],
   "source": [
    "df['bsmt_cond'] = df['bsmt_cond'].fillna('No Basement')\n",
    "df['bsmt_cond'].isnull().sum()"
   ]
  },
  {
   "cell_type": "code",
   "execution_count": 332,
   "id": "13a25010-774e-4d9a-99ef-8e7489595b49",
   "metadata": {},
   "outputs": [
    {
     "data": {
      "text/plain": [
       "TA             1834\n",
       "Gd               89\n",
       "Fa               65\n",
       "No Basement      55\n",
       "Po                5\n",
       "Ex                3\n",
       "Name: bsmt_cond, dtype: int64"
      ]
     },
     "execution_count": 332,
     "metadata": {},
     "output_type": "execute_result"
    }
   ],
   "source": [
    "df['bsmt_cond'].value_counts()"
   ]
  },
  {
   "cell_type": "markdown",
   "id": "a8c1c659-da1f-4074-912e-20945fa4a2ef",
   "metadata": {},
   "source": [
    "### Basement Exposure\n",
    "Dictionary says 'Na' means 'No Basement', so making that explicit."
   ]
  },
  {
   "cell_type": "code",
   "execution_count": 333,
   "id": "872efd18-7732-45cc-8a70-db52ce7980dd",
   "metadata": {},
   "outputs": [
    {
     "data": {
      "text/plain": [
       "0"
      ]
     },
     "execution_count": 333,
     "metadata": {},
     "output_type": "execute_result"
    }
   ],
   "source": [
    "df['bsmt_exposure'] = df['bsmt_exposure'].fillna('No Basement')\n",
    "df['bsmt_exposure'].isna().sum()"
   ]
  },
  {
   "cell_type": "code",
   "execution_count": 334,
   "id": "d73b2c51-3616-404a-b234-3ebf7ac7d59a",
   "metadata": {},
   "outputs": [
    {
     "data": {
      "text/plain": [
       "No             1339\n",
       "Av              288\n",
       "Gd              203\n",
       "Mn              163\n",
       "No Basement      58\n",
       "Name: bsmt_exposure, dtype: int64"
      ]
     },
     "execution_count": 334,
     "metadata": {},
     "output_type": "execute_result"
    }
   ],
   "source": [
    "df['bsmt_exposure'].value_counts()"
   ]
  },
  {
   "cell_type": "markdown",
   "id": "c9f1e37e-5cb1-4fa2-9108-de85f09c9a96",
   "metadata": {},
   "source": [
    "### Basement Finish Type 1 and 2\n",
    "The dictionary sas 'Na' means 'No Basement', so making that explicit. There's one more Finish Type 2 than Type 1, so I looked into that before making the change to 'No Basement'."
   ]
  },
  {
   "cell_type": "code",
   "execution_count": 335,
   "id": "15a9e5f6-284d-42c4-b5bc-4b7fe44197d1",
   "metadata": {},
   "outputs": [
    {
     "data": {
      "text/plain": [
       "GLQ            615\n",
       "Unf            603\n",
       "ALQ            293\n",
       "BLQ            200\n",
       "Rec            183\n",
       "LwQ            102\n",
       "No Basement     55\n",
       "Name: bsmtfin_type_1, dtype: int64"
      ]
     },
     "execution_count": 335,
     "metadata": {},
     "output_type": "execute_result"
    }
   ],
   "source": [
    "df['bsmtfin_type_1'] = df['bsmtfin_type_1'].fillna('No Basement')\n",
    "df['bsmtfin_type_1'].value_counts()"
   ]
  },
  {
   "cell_type": "code",
   "execution_count": 336,
   "id": "3386f5ad-0a1c-4e77-9aaa-1fcf08e46180",
   "metadata": {},
   "outputs": [
    {
     "data": {
      "text/html": [
       "<div>\n",
       "<style scoped>\n",
       "    .dataframe tbody tr th:only-of-type {\n",
       "        vertical-align: middle;\n",
       "    }\n",
       "\n",
       "    .dataframe tbody tr th {\n",
       "        vertical-align: top;\n",
       "    }\n",
       "\n",
       "    .dataframe thead th {\n",
       "        text-align: right;\n",
       "    }\n",
       "</style>\n",
       "<table border=\"1\" class=\"dataframe\">\n",
       "  <thead>\n",
       "    <tr style=\"text-align: right;\">\n",
       "      <th></th>\n",
       "      <th>bsmt_qual</th>\n",
       "      <th>bsmt_cond</th>\n",
       "      <th>bsmt_exposure</th>\n",
       "      <th>bsmtfin_type_1</th>\n",
       "      <th>bsmtfin_sf_1</th>\n",
       "      <th>bsmtfin_type_2</th>\n",
       "      <th>bsmtfin_sf_2</th>\n",
       "      <th>bsmt_unf_sf</th>\n",
       "      <th>total_bsmt_sf</th>\n",
       "      <th>bsmt_full_bath</th>\n",
       "      <th>bsmt_half_bath</th>\n",
       "    </tr>\n",
       "  </thead>\n",
       "  <tbody>\n",
       "    <tr>\n",
       "      <th>1147</th>\n",
       "      <td>Gd</td>\n",
       "      <td>TA</td>\n",
       "      <td>No</td>\n",
       "      <td>GLQ</td>\n",
       "      <td>1124.0</td>\n",
       "      <td>NaN</td>\n",
       "      <td>479.0</td>\n",
       "      <td>1603.0</td>\n",
       "      <td>3206.0</td>\n",
       "      <td>1.0</td>\n",
       "      <td>0.0</td>\n",
       "    </tr>\n",
       "  </tbody>\n",
       "</table>\n",
       "</div>"
      ],
      "text/plain": [
       "     bsmt_qual bsmt_cond bsmt_exposure bsmtfin_type_1  bsmtfin_sf_1  \\\n",
       "1147        Gd        TA            No            GLQ        1124.0   \n",
       "\n",
       "     bsmtfin_type_2  bsmtfin_sf_2  bsmt_unf_sf  total_bsmt_sf  bsmt_full_bath  \\\n",
       "1147            NaN         479.0       1603.0         3206.0             1.0   \n",
       "\n",
       "      bsmt_half_bath  \n",
       "1147             0.0  "
      ]
     },
     "execution_count": 336,
     "metadata": {},
     "output_type": "execute_result"
    }
   ],
   "source": [
    "df[(df['bsmtfin_type_2'].isnull()) & (df['bsmtfin_type_1'] != 'No Basement')][bsmt_list]"
   ]
  },
  {
   "cell_type": "markdown",
   "id": "26841332-31c1-4b0e-909a-ff57e4ed4f70",
   "metadata": {},
   "source": [
    "In the original data frame there's one instance that has a null 'basmtfin_type_2' that clearly has a basement based on the other entries. Since I have no way of speculating what type that should be, I'm deleting this instance."
   ]
  },
  {
   "cell_type": "code",
   "execution_count": 337,
   "id": "b9dc4b91-f72f-4982-9e21-4f164997c200",
   "metadata": {},
   "outputs": [],
   "source": [
    "df.drop(index = df[(df['bsmtfin_type_2'].isnull()) & (df['bsmtfin_type_1'] != 'No Basement')].index, inplace = True)"
   ]
  },
  {
   "cell_type": "code",
   "execution_count": 338,
   "id": "a627ecab-85a6-4812-af42-fb56150a9a2b",
   "metadata": {},
   "outputs": [
    {
     "data": {
      "text/html": [
       "<div>\n",
       "<style scoped>\n",
       "    .dataframe tbody tr th:only-of-type {\n",
       "        vertical-align: middle;\n",
       "    }\n",
       "\n",
       "    .dataframe tbody tr th {\n",
       "        vertical-align: top;\n",
       "    }\n",
       "\n",
       "    .dataframe thead th {\n",
       "        text-align: right;\n",
       "    }\n",
       "</style>\n",
       "<table border=\"1\" class=\"dataframe\">\n",
       "  <thead>\n",
       "    <tr style=\"text-align: right;\">\n",
       "      <th></th>\n",
       "      <th>bsmt_qual</th>\n",
       "      <th>bsmt_cond</th>\n",
       "      <th>bsmt_exposure</th>\n",
       "      <th>bsmtfin_type_1</th>\n",
       "      <th>bsmtfin_sf_1</th>\n",
       "      <th>bsmtfin_type_2</th>\n",
       "      <th>bsmtfin_sf_2</th>\n",
       "      <th>bsmt_unf_sf</th>\n",
       "      <th>total_bsmt_sf</th>\n",
       "      <th>bsmt_full_bath</th>\n",
       "      <th>bsmt_half_bath</th>\n",
       "    </tr>\n",
       "  </thead>\n",
       "  <tbody>\n",
       "  </tbody>\n",
       "</table>\n",
       "</div>"
      ],
      "text/plain": [
       "Empty DataFrame\n",
       "Columns: [bsmt_qual, bsmt_cond, bsmt_exposure, bsmtfin_type_1, bsmtfin_sf_1, bsmtfin_type_2, bsmtfin_sf_2, bsmt_unf_sf, total_bsmt_sf, bsmt_full_bath, bsmt_half_bath]\n",
       "Index: []"
      ]
     },
     "execution_count": 338,
     "metadata": {},
     "output_type": "execute_result"
    }
   ],
   "source": [
    "df[(df['bsmtfin_type_2'].isnull()) & (df['bsmtfin_type_1'] != 'No Basement')][bsmt_list]"
   ]
  },
  {
   "cell_type": "markdown",
   "id": "f01d1a4e-cfbc-43ba-a13d-f4b4485d6674",
   "metadata": {},
   "source": [
    "Now making the change to 'No Basement' on Finish Type 2"
   ]
  },
  {
   "cell_type": "code",
   "execution_count": 339,
   "id": "8927eec3-eacd-4d38-a799-f1b724b80e78",
   "metadata": {},
   "outputs": [
    {
     "data": {
      "text/plain": [
       "Unf            1749\n",
       "Rec              80\n",
       "LwQ              60\n",
       "No Basement      55\n",
       "BLQ              48\n",
       "ALQ              35\n",
       "GLQ              23\n",
       "Name: bsmtfin_type_2, dtype: int64"
      ]
     },
     "execution_count": 339,
     "metadata": {},
     "output_type": "execute_result"
    }
   ],
   "source": [
    "df['bsmtfin_type_2'] = df['bsmtfin_type_2'].fillna('No Basement')\n",
    "df['bsmtfin_type_2'].value_counts()"
   ]
  },
  {
   "cell_type": "markdown",
   "id": "2edf82aa-75c9-4c5d-94c4-25c0bba6929a",
   "metadata": {},
   "source": [
    "Checking in on which columns still have Na's"
   ]
  },
  {
   "cell_type": "code",
   "execution_count": 340,
   "id": "3812e226-3a9f-417e-8d07-99a3dd47e723",
   "metadata": {},
   "outputs": [
    {
     "data": {
      "text/plain": [
       "['lot_frontage',\n",
       " 'mas_vnr_type',\n",
       " 'mas_vnr_area',\n",
       " 'fireplace_qu',\n",
       " 'garage_type',\n",
       " 'garage_yr_blt',\n",
       " 'garage_finish',\n",
       " 'garage_cars',\n",
       " 'garage_area',\n",
       " 'garage_qual',\n",
       " 'garage_cond',\n",
       " 'pool_qc',\n",
       " 'fence',\n",
       " 'misc_feature']"
      ]
     },
     "execution_count": 340,
     "metadata": {},
     "output_type": "execute_result"
    }
   ],
   "source": [
    "df.columns[df.isnull().any()].tolist()"
   ]
  },
  {
   "cell_type": "markdown",
   "id": "bea63a5a-414f-44d6-9326-0b1701e1f6e2",
   "metadata": {},
   "source": [
    "### Garage Columns"
   ]
  },
  {
   "cell_type": "code",
   "execution_count": 341,
   "id": "0a730e2c-d88b-45a1-a9cd-006b5d4f99de",
   "metadata": {
    "tags": []
   },
   "outputs": [
    {
     "data": {
      "text/plain": [
       "['garage_type',\n",
       " 'garage_yr_blt',\n",
       " 'garage_finish',\n",
       " 'garage_cars',\n",
       " 'garage_area',\n",
       " 'garage_qual',\n",
       " 'garage_cond']"
      ]
     },
     "execution_count": 341,
     "metadata": {},
     "output_type": "execute_result"
    }
   ],
   "source": [
    "garage_list = df.columns[df.columns.str.contains('garage')].tolist()\n",
    "garage_list"
   ]
  },
  {
   "cell_type": "markdown",
   "id": "cabba878-866c-44df-9848-4a6b2014c2e9",
   "metadata": {},
   "source": [
    "Again, I recycled the below for-loop as a final sanity check, returning to this line repeatedly as I worked, rather than rewriting the loop for every step I took."
   ]
  },
  {
   "cell_type": "code",
   "execution_count": 366,
   "id": "ad986571-9241-468d-b80e-3cf5faf72034",
   "metadata": {},
   "outputs": [
    {
     "name": "stdout",
     "output_type": "stream",
     "text": [
      "garage_type has 0 nulls\n",
      "garage_yr_blt has 0 nulls\n",
      "garage_finish has 0 nulls\n",
      "garage_cars has 0 nulls\n",
      "garage_area has 0 nulls\n",
      "garage_qual has 0 nulls\n",
      "garage_cond has 0 nulls\n"
     ]
    }
   ],
   "source": [
    "for i in garage_list:\n",
    "    print(f'{i} has {df[i].isnull().sum()} nulls')"
   ]
  },
  {
   "cell_type": "markdown",
   "id": "55c88a33-b233-4b05-bd75-c35a1c1c2dbe",
   "metadata": {},
   "source": [
    "I did a search to find the not null method for the following, which turned up the [pandas documentation](https://pandas.pydata.org/pandas-docs/stable/reference/api/pandas.notnull.html)."
   ]
  },
  {
   "cell_type": "code",
   "execution_count": 343,
   "id": "29994c61-6c09-4d02-8270-0187f6541827",
   "metadata": {},
   "outputs": [
    {
     "data": {
      "text/html": [
       "<div>\n",
       "<style scoped>\n",
       "    .dataframe tbody tr th:only-of-type {\n",
       "        vertical-align: middle;\n",
       "    }\n",
       "\n",
       "    .dataframe tbody tr th {\n",
       "        vertical-align: top;\n",
       "    }\n",
       "\n",
       "    .dataframe thead th {\n",
       "        text-align: right;\n",
       "    }\n",
       "</style>\n",
       "<table border=\"1\" class=\"dataframe\">\n",
       "  <thead>\n",
       "    <tr style=\"text-align: right;\">\n",
       "      <th></th>\n",
       "      <th>garage_type</th>\n",
       "      <th>garage_yr_blt</th>\n",
       "      <th>garage_finish</th>\n",
       "      <th>garage_cars</th>\n",
       "      <th>garage_area</th>\n",
       "      <th>garage_qual</th>\n",
       "      <th>garage_cond</th>\n",
       "    </tr>\n",
       "  </thead>\n",
       "  <tbody>\n",
       "    <tr>\n",
       "      <th>1712</th>\n",
       "      <td>Detchd</td>\n",
       "      <td>NaN</td>\n",
       "      <td>NaN</td>\n",
       "      <td>NaN</td>\n",
       "      <td>NaN</td>\n",
       "      <td>NaN</td>\n",
       "      <td>NaN</td>\n",
       "    </tr>\n",
       "  </tbody>\n",
       "</table>\n",
       "</div>"
      ],
      "text/plain": [
       "     garage_type  garage_yr_blt garage_finish  garage_cars  garage_area  \\\n",
       "1712      Detchd            NaN           NaN          NaN          NaN   \n",
       "\n",
       "     garage_qual garage_cond  \n",
       "1712         NaN         NaN  "
      ]
     },
     "execution_count": 343,
     "metadata": {},
     "output_type": "execute_result"
    }
   ],
   "source": [
    "df[(df['garage_yr_blt'].isnull()) & (df['garage_type'].notnull())][garage_list]"
   ]
  },
  {
   "cell_type": "markdown",
   "id": "b74b8172-9ad7-4925-a903-d8dfe8258210",
   "metadata": {},
   "source": [
    "A garage_type is listed for this one instance, but NaN in a number of the other columns means 'No Garage' according to the dictionary, so I'm going to operate on the assumption that the garage type is in error, here and change it to 'No Garage'"
   ]
  },
  {
   "cell_type": "code",
   "execution_count": 344,
   "id": "be05460e-2a1d-417a-834f-8f5e5b15a72e",
   "metadata": {},
   "outputs": [
    {
     "data": {
      "text/html": [
       "<div>\n",
       "<style scoped>\n",
       "    .dataframe tbody tr th:only-of-type {\n",
       "        vertical-align: middle;\n",
       "    }\n",
       "\n",
       "    .dataframe tbody tr th {\n",
       "        vertical-align: top;\n",
       "    }\n",
       "\n",
       "    .dataframe thead th {\n",
       "        text-align: right;\n",
       "    }\n",
       "</style>\n",
       "<table border=\"1\" class=\"dataframe\">\n",
       "  <thead>\n",
       "    <tr style=\"text-align: right;\">\n",
       "      <th></th>\n",
       "      <th>index</th>\n",
       "      <th>id</th>\n",
       "      <th>pid</th>\n",
       "      <th>ms_subclass</th>\n",
       "      <th>ms_zoning</th>\n",
       "      <th>lot_frontage</th>\n",
       "      <th>lot_area</th>\n",
       "      <th>street</th>\n",
       "      <th>alley</th>\n",
       "      <th>lot_shape</th>\n",
       "      <th>...</th>\n",
       "      <th>screen_porch</th>\n",
       "      <th>pool_area</th>\n",
       "      <th>pool_qc</th>\n",
       "      <th>fence</th>\n",
       "      <th>misc_feature</th>\n",
       "      <th>misc_val</th>\n",
       "      <th>mo_sold</th>\n",
       "      <th>yr_sold</th>\n",
       "      <th>sale_type</th>\n",
       "      <th>saleprice</th>\n",
       "    </tr>\n",
       "  </thead>\n",
       "  <tbody>\n",
       "    <tr>\n",
       "      <th>0</th>\n",
       "      <td>0</td>\n",
       "      <td>109</td>\n",
       "      <td>533352170</td>\n",
       "      <td>60</td>\n",
       "      <td>RL</td>\n",
       "      <td>NaN</td>\n",
       "      <td>13517</td>\n",
       "      <td>Pave</td>\n",
       "      <td>None</td>\n",
       "      <td>IR1</td>\n",
       "      <td>...</td>\n",
       "      <td>0</td>\n",
       "      <td>0</td>\n",
       "      <td>NaN</td>\n",
       "      <td>NaN</td>\n",
       "      <td>NaN</td>\n",
       "      <td>0</td>\n",
       "      <td>3</td>\n",
       "      <td>2010</td>\n",
       "      <td>WD</td>\n",
       "      <td>130500</td>\n",
       "    </tr>\n",
       "    <tr>\n",
       "      <th>1</th>\n",
       "      <td>1</td>\n",
       "      <td>544</td>\n",
       "      <td>531379050</td>\n",
       "      <td>60</td>\n",
       "      <td>RL</td>\n",
       "      <td>43.0</td>\n",
       "      <td>11492</td>\n",
       "      <td>Pave</td>\n",
       "      <td>None</td>\n",
       "      <td>IR1</td>\n",
       "      <td>...</td>\n",
       "      <td>0</td>\n",
       "      <td>0</td>\n",
       "      <td>NaN</td>\n",
       "      <td>NaN</td>\n",
       "      <td>NaN</td>\n",
       "      <td>0</td>\n",
       "      <td>4</td>\n",
       "      <td>2009</td>\n",
       "      <td>WD</td>\n",
       "      <td>220000</td>\n",
       "    </tr>\n",
       "    <tr>\n",
       "      <th>2</th>\n",
       "      <td>2</td>\n",
       "      <td>153</td>\n",
       "      <td>535304180</td>\n",
       "      <td>20</td>\n",
       "      <td>RL</td>\n",
       "      <td>68.0</td>\n",
       "      <td>7922</td>\n",
       "      <td>Pave</td>\n",
       "      <td>None</td>\n",
       "      <td>Reg</td>\n",
       "      <td>...</td>\n",
       "      <td>0</td>\n",
       "      <td>0</td>\n",
       "      <td>NaN</td>\n",
       "      <td>NaN</td>\n",
       "      <td>NaN</td>\n",
       "      <td>0</td>\n",
       "      <td>1</td>\n",
       "      <td>2010</td>\n",
       "      <td>WD</td>\n",
       "      <td>109000</td>\n",
       "    </tr>\n",
       "    <tr>\n",
       "      <th>3</th>\n",
       "      <td>3</td>\n",
       "      <td>318</td>\n",
       "      <td>916386060</td>\n",
       "      <td>60</td>\n",
       "      <td>RL</td>\n",
       "      <td>73.0</td>\n",
       "      <td>9802</td>\n",
       "      <td>Pave</td>\n",
       "      <td>None</td>\n",
       "      <td>Reg</td>\n",
       "      <td>...</td>\n",
       "      <td>0</td>\n",
       "      <td>0</td>\n",
       "      <td>NaN</td>\n",
       "      <td>NaN</td>\n",
       "      <td>NaN</td>\n",
       "      <td>0</td>\n",
       "      <td>4</td>\n",
       "      <td>2010</td>\n",
       "      <td>WD</td>\n",
       "      <td>174000</td>\n",
       "    </tr>\n",
       "    <tr>\n",
       "      <th>4</th>\n",
       "      <td>4</td>\n",
       "      <td>255</td>\n",
       "      <td>906425045</td>\n",
       "      <td>50</td>\n",
       "      <td>RL</td>\n",
       "      <td>82.0</td>\n",
       "      <td>14235</td>\n",
       "      <td>Pave</td>\n",
       "      <td>None</td>\n",
       "      <td>IR1</td>\n",
       "      <td>...</td>\n",
       "      <td>0</td>\n",
       "      <td>0</td>\n",
       "      <td>NaN</td>\n",
       "      <td>NaN</td>\n",
       "      <td>NaN</td>\n",
       "      <td>0</td>\n",
       "      <td>3</td>\n",
       "      <td>2010</td>\n",
       "      <td>WD</td>\n",
       "      <td>138500</td>\n",
       "    </tr>\n",
       "    <tr>\n",
       "      <th>...</th>\n",
       "      <td>...</td>\n",
       "      <td>...</td>\n",
       "      <td>...</td>\n",
       "      <td>...</td>\n",
       "      <td>...</td>\n",
       "      <td>...</td>\n",
       "      <td>...</td>\n",
       "      <td>...</td>\n",
       "      <td>...</td>\n",
       "      <td>...</td>\n",
       "      <td>...</td>\n",
       "      <td>...</td>\n",
       "      <td>...</td>\n",
       "      <td>...</td>\n",
       "      <td>...</td>\n",
       "      <td>...</td>\n",
       "      <td>...</td>\n",
       "      <td>...</td>\n",
       "      <td>...</td>\n",
       "      <td>...</td>\n",
       "      <td>...</td>\n",
       "    </tr>\n",
       "    <tr>\n",
       "      <th>2045</th>\n",
       "      <td>2046</td>\n",
       "      <td>1587</td>\n",
       "      <td>921126030</td>\n",
       "      <td>20</td>\n",
       "      <td>RL</td>\n",
       "      <td>79.0</td>\n",
       "      <td>11449</td>\n",
       "      <td>Pave</td>\n",
       "      <td>None</td>\n",
       "      <td>IR1</td>\n",
       "      <td>...</td>\n",
       "      <td>0</td>\n",
       "      <td>0</td>\n",
       "      <td>NaN</td>\n",
       "      <td>NaN</td>\n",
       "      <td>NaN</td>\n",
       "      <td>0</td>\n",
       "      <td>1</td>\n",
       "      <td>2008</td>\n",
       "      <td>WD</td>\n",
       "      <td>298751</td>\n",
       "    </tr>\n",
       "    <tr>\n",
       "      <th>2046</th>\n",
       "      <td>2047</td>\n",
       "      <td>785</td>\n",
       "      <td>905377130</td>\n",
       "      <td>30</td>\n",
       "      <td>RL</td>\n",
       "      <td>NaN</td>\n",
       "      <td>12342</td>\n",
       "      <td>Pave</td>\n",
       "      <td>None</td>\n",
       "      <td>IR1</td>\n",
       "      <td>...</td>\n",
       "      <td>0</td>\n",
       "      <td>0</td>\n",
       "      <td>NaN</td>\n",
       "      <td>NaN</td>\n",
       "      <td>NaN</td>\n",
       "      <td>0</td>\n",
       "      <td>3</td>\n",
       "      <td>2009</td>\n",
       "      <td>WD</td>\n",
       "      <td>82500</td>\n",
       "    </tr>\n",
       "    <tr>\n",
       "      <th>2047</th>\n",
       "      <td>2048</td>\n",
       "      <td>916</td>\n",
       "      <td>909253010</td>\n",
       "      <td>50</td>\n",
       "      <td>RL</td>\n",
       "      <td>57.0</td>\n",
       "      <td>7558</td>\n",
       "      <td>Pave</td>\n",
       "      <td>None</td>\n",
       "      <td>Reg</td>\n",
       "      <td>...</td>\n",
       "      <td>0</td>\n",
       "      <td>0</td>\n",
       "      <td>NaN</td>\n",
       "      <td>NaN</td>\n",
       "      <td>NaN</td>\n",
       "      <td>0</td>\n",
       "      <td>3</td>\n",
       "      <td>2009</td>\n",
       "      <td>WD</td>\n",
       "      <td>177000</td>\n",
       "    </tr>\n",
       "    <tr>\n",
       "      <th>2048</th>\n",
       "      <td>2049</td>\n",
       "      <td>639</td>\n",
       "      <td>535179160</td>\n",
       "      <td>20</td>\n",
       "      <td>RL</td>\n",
       "      <td>80.0</td>\n",
       "      <td>10400</td>\n",
       "      <td>Pave</td>\n",
       "      <td>None</td>\n",
       "      <td>Reg</td>\n",
       "      <td>...</td>\n",
       "      <td>0</td>\n",
       "      <td>0</td>\n",
       "      <td>NaN</td>\n",
       "      <td>NaN</td>\n",
       "      <td>NaN</td>\n",
       "      <td>0</td>\n",
       "      <td>11</td>\n",
       "      <td>2009</td>\n",
       "      <td>WD</td>\n",
       "      <td>144000</td>\n",
       "    </tr>\n",
       "    <tr>\n",
       "      <th>2049</th>\n",
       "      <td>2050</td>\n",
       "      <td>10</td>\n",
       "      <td>527162130</td>\n",
       "      <td>60</td>\n",
       "      <td>RL</td>\n",
       "      <td>60.0</td>\n",
       "      <td>7500</td>\n",
       "      <td>Pave</td>\n",
       "      <td>None</td>\n",
       "      <td>Reg</td>\n",
       "      <td>...</td>\n",
       "      <td>0</td>\n",
       "      <td>0</td>\n",
       "      <td>NaN</td>\n",
       "      <td>NaN</td>\n",
       "      <td>NaN</td>\n",
       "      <td>0</td>\n",
       "      <td>6</td>\n",
       "      <td>2010</td>\n",
       "      <td>WD</td>\n",
       "      <td>189000</td>\n",
       "    </tr>\n",
       "  </tbody>\n",
       "</table>\n",
       "<p>2050 rows × 82 columns</p>\n",
       "</div>"
      ],
      "text/plain": [
       "      index    id        pid  ms_subclass ms_zoning  lot_frontage  lot_area  \\\n",
       "0         0   109  533352170           60        RL           NaN     13517   \n",
       "1         1   544  531379050           60        RL          43.0     11492   \n",
       "2         2   153  535304180           20        RL          68.0      7922   \n",
       "3         3   318  916386060           60        RL          73.0      9802   \n",
       "4         4   255  906425045           50        RL          82.0     14235   \n",
       "...     ...   ...        ...          ...       ...           ...       ...   \n",
       "2045   2046  1587  921126030           20        RL          79.0     11449   \n",
       "2046   2047   785  905377130           30        RL           NaN     12342   \n",
       "2047   2048   916  909253010           50        RL          57.0      7558   \n",
       "2048   2049   639  535179160           20        RL          80.0     10400   \n",
       "2049   2050    10  527162130           60        RL          60.0      7500   \n",
       "\n",
       "     street alley lot_shape  ... screen_porch pool_area pool_qc fence  \\\n",
       "0      Pave  None       IR1  ...            0         0     NaN   NaN   \n",
       "1      Pave  None       IR1  ...            0         0     NaN   NaN   \n",
       "2      Pave  None       Reg  ...            0         0     NaN   NaN   \n",
       "3      Pave  None       Reg  ...            0         0     NaN   NaN   \n",
       "4      Pave  None       IR1  ...            0         0     NaN   NaN   \n",
       "...     ...   ...       ...  ...          ...       ...     ...   ...   \n",
       "2045   Pave  None       IR1  ...            0         0     NaN   NaN   \n",
       "2046   Pave  None       IR1  ...            0         0     NaN   NaN   \n",
       "2047   Pave  None       Reg  ...            0         0     NaN   NaN   \n",
       "2048   Pave  None       Reg  ...            0         0     NaN   NaN   \n",
       "2049   Pave  None       Reg  ...            0         0     NaN   NaN   \n",
       "\n",
       "     misc_feature misc_val mo_sold yr_sold sale_type  saleprice  \n",
       "0             NaN        0       3    2010       WD      130500  \n",
       "1             NaN        0       4    2009       WD      220000  \n",
       "2             NaN        0       1    2010       WD      109000  \n",
       "3             NaN        0       4    2010       WD      174000  \n",
       "4             NaN        0       3    2010       WD      138500  \n",
       "...           ...      ...     ...     ...       ...        ...  \n",
       "2045          NaN        0       1    2008       WD      298751  \n",
       "2046          NaN        0       3    2009       WD       82500  \n",
       "2047          NaN        0       3    2009       WD      177000  \n",
       "2048          NaN        0      11    2009       WD      144000  \n",
       "2049          NaN        0       6    2010       WD      189000  \n",
       "\n",
       "[2050 rows x 82 columns]"
      ]
     },
     "execution_count": 344,
     "metadata": {},
     "output_type": "execute_result"
    }
   ],
   "source": [
    "df.reset_index()"
   ]
  },
  {
   "cell_type": "code",
   "execution_count": 345,
   "id": "eae4b49b-26f1-4c1d-ad97-79b3755b3187",
   "metadata": {},
   "outputs": [
    {
     "data": {
      "text/plain": [
       "1713    Attchd\n",
       "Name: garage_type, dtype: object"
      ]
     },
     "execution_count": 345,
     "metadata": {},
     "output_type": "execute_result"
    }
   ],
   "source": [
    "garage_index = df[(df['garage_yr_blt'].isnull()) & (df['garage_type'].notnull())].index\n",
    "\n",
    "df.iloc[garage_index]['garage_type'].map({'garage_type': 'No Basement'})\n",
    "\n",
    "df.iloc[garage_index]['garage_type']"
   ]
  },
  {
   "cell_type": "code",
   "execution_count": 346,
   "id": "52fcbbf9-5c6b-45df-8f87-9011eb76ff9f",
   "metadata": {},
   "outputs": [
    {
     "data": {
      "text/plain": [
       "Int64Index([1712], dtype='int64')"
      ]
     },
     "execution_count": 346,
     "metadata": {},
     "output_type": "execute_result"
    }
   ],
   "source": [
    "garage_index.astype(int)"
   ]
  },
  {
   "cell_type": "code",
   "execution_count": 347,
   "id": "7f8145eb-2a0d-48fd-aa5f-bf080b36521a",
   "metadata": {},
   "outputs": [],
   "source": [
    "df.at[1712, 'garage_type'] = 'No Garage'"
   ]
  },
  {
   "cell_type": "code",
   "execution_count": 348,
   "id": "5e49abdc-5497-4c38-9ad9-e35ff5c01986",
   "metadata": {},
   "outputs": [
    {
     "data": {
      "text/html": [
       "<div>\n",
       "<style scoped>\n",
       "    .dataframe tbody tr th:only-of-type {\n",
       "        vertical-align: middle;\n",
       "    }\n",
       "\n",
       "    .dataframe tbody tr th {\n",
       "        vertical-align: top;\n",
       "    }\n",
       "\n",
       "    .dataframe thead th {\n",
       "        text-align: right;\n",
       "    }\n",
       "</style>\n",
       "<table border=\"1\" class=\"dataframe\">\n",
       "  <thead>\n",
       "    <tr style=\"text-align: right;\">\n",
       "      <th></th>\n",
       "      <th>garage_type</th>\n",
       "      <th>garage_yr_blt</th>\n",
       "      <th>garage_finish</th>\n",
       "      <th>garage_cars</th>\n",
       "      <th>garage_area</th>\n",
       "      <th>garage_qual</th>\n",
       "      <th>garage_cond</th>\n",
       "    </tr>\n",
       "  </thead>\n",
       "  <tbody>\n",
       "    <tr>\n",
       "      <th>1712</th>\n",
       "      <td>No Garage</td>\n",
       "      <td>NaN</td>\n",
       "      <td>NaN</td>\n",
       "      <td>NaN</td>\n",
       "      <td>NaN</td>\n",
       "      <td>NaN</td>\n",
       "      <td>NaN</td>\n",
       "    </tr>\n",
       "  </tbody>\n",
       "</table>\n",
       "</div>"
      ],
      "text/plain": [
       "     garage_type  garage_yr_blt garage_finish  garage_cars  garage_area  \\\n",
       "1712   No Garage            NaN           NaN          NaN          NaN   \n",
       "\n",
       "     garage_qual garage_cond  \n",
       "1712         NaN         NaN  "
      ]
     },
     "execution_count": 348,
     "metadata": {},
     "output_type": "execute_result"
    }
   ],
   "source": [
    "df[(df['garage_yr_blt'].isnull()) & (df['garage_type'].notnull())][garage_list]"
   ]
  },
  {
   "cell_type": "code",
   "execution_count": 349,
   "id": "abd31453-d6a6-4480-b642-1b4ccb701799",
   "metadata": {},
   "outputs": [
    {
     "data": {
      "text/html": [
       "<div>\n",
       "<style scoped>\n",
       "    .dataframe tbody tr th:only-of-type {\n",
       "        vertical-align: middle;\n",
       "    }\n",
       "\n",
       "    .dataframe tbody tr th {\n",
       "        vertical-align: top;\n",
       "    }\n",
       "\n",
       "    .dataframe thead th {\n",
       "        text-align: right;\n",
       "    }\n",
       "</style>\n",
       "<table border=\"1\" class=\"dataframe\">\n",
       "  <thead>\n",
       "    <tr style=\"text-align: right;\">\n",
       "      <th></th>\n",
       "      <th>garage_type</th>\n",
       "      <th>garage_yr_blt</th>\n",
       "      <th>garage_finish</th>\n",
       "      <th>garage_cars</th>\n",
       "      <th>garage_area</th>\n",
       "      <th>garage_qual</th>\n",
       "      <th>garage_cond</th>\n",
       "    </tr>\n",
       "  </thead>\n",
       "  <tbody>\n",
       "    <tr>\n",
       "      <th>1713</th>\n",
       "      <td>Attchd</td>\n",
       "      <td>1952.0</td>\n",
       "      <td>RFn</td>\n",
       "      <td>1.0</td>\n",
       "      <td>280.0</td>\n",
       "      <td>TA</td>\n",
       "      <td>TA</td>\n",
       "    </tr>\n",
       "  </tbody>\n",
       "</table>\n",
       "</div>"
      ],
      "text/plain": [
       "     garage_type  garage_yr_blt garage_finish  garage_cars  garage_area  \\\n",
       "1713      Attchd         1952.0           RFn          1.0        280.0   \n",
       "\n",
       "     garage_qual garage_cond  \n",
       "1713          TA          TA  "
      ]
     },
     "execution_count": 349,
     "metadata": {},
     "output_type": "execute_result"
    }
   ],
   "source": [
    "df.iloc[garage_index][garage_list]"
   ]
  },
  {
   "cell_type": "code",
   "execution_count": 350,
   "id": "60a909e8-4768-431d-816b-6a240132c90f",
   "metadata": {},
   "outputs": [
    {
     "data": {
      "text/html": [
       "<div>\n",
       "<style scoped>\n",
       "    .dataframe tbody tr th:only-of-type {\n",
       "        vertical-align: middle;\n",
       "    }\n",
       "\n",
       "    .dataframe tbody tr th {\n",
       "        vertical-align: top;\n",
       "    }\n",
       "\n",
       "    .dataframe thead th {\n",
       "        text-align: right;\n",
       "    }\n",
       "</style>\n",
       "<table border=\"1\" class=\"dataframe\">\n",
       "  <thead>\n",
       "    <tr style=\"text-align: right;\">\n",
       "      <th></th>\n",
       "      <th>garage_type</th>\n",
       "      <th>garage_yr_blt</th>\n",
       "      <th>garage_finish</th>\n",
       "      <th>garage_cars</th>\n",
       "      <th>garage_area</th>\n",
       "      <th>garage_qual</th>\n",
       "      <th>garage_cond</th>\n",
       "    </tr>\n",
       "  </thead>\n",
       "  <tbody>\n",
       "    <tr>\n",
       "      <th>1712</th>\n",
       "      <td>No Garage</td>\n",
       "      <td>NaN</td>\n",
       "      <td>NaN</td>\n",
       "      <td>NaN</td>\n",
       "      <td>NaN</td>\n",
       "      <td>NaN</td>\n",
       "      <td>NaN</td>\n",
       "    </tr>\n",
       "  </tbody>\n",
       "</table>\n",
       "</div>"
      ],
      "text/plain": [
       "     garage_type  garage_yr_blt garage_finish  garage_cars  garage_area  \\\n",
       "1712   No Garage            NaN           NaN          NaN          NaN   \n",
       "\n",
       "     garage_qual garage_cond  \n",
       "1712         NaN         NaN  "
      ]
     },
     "execution_count": 350,
     "metadata": {},
     "output_type": "execute_result"
    }
   ],
   "source": [
    "df[(df['garage_yr_blt'].isnull()) & (df['garage_type'].notnull())][garage_list]"
   ]
  },
  {
   "cell_type": "code",
   "execution_count": 351,
   "id": "22df91f0-3054-4a6c-9103-76a76083cc87",
   "metadata": {},
   "outputs": [
    {
     "data": {
      "text/plain": [
       "0"
      ]
     },
     "execution_count": 351,
     "metadata": {},
     "output_type": "execute_result"
    }
   ],
   "source": [
    "df['garage_type'] = df['garage_type'].fillna('No Garage')\n",
    "   \n",
    "df['garage_type'].isnull().sum()"
   ]
  },
  {
   "cell_type": "markdown",
   "id": "fc20c37e-5048-4015-a93f-71fd0000d7fd",
   "metadata": {},
   "source": [
    "The dictionary spells out the below \"no_garage_list\" columns as NA = No Garage. This is the first place I copied the df because I wanted a backup in case I made a mistake filling the NAs in multiple columns in one block, as it's the first time I've done it that way. When I succeeded, I moved the copy_df code to afterwards to save it before my next experiment."
   ]
  },
  {
   "cell_type": "code",
   "execution_count": 352,
   "id": "aea55342-bf80-4e56-8f11-2ec882e58a26",
   "metadata": {},
   "outputs": [],
   "source": [
    "no_garage_list = ['garage_finish', 'garage_qual', 'garage_cond']\n",
    "\n",
    "df[no_garage_list] = df[no_garage_list].fillna('No Garage')"
   ]
  },
  {
   "cell_type": "code",
   "execution_count": 353,
   "id": "0dbd727e-cd90-4ed3-b0b1-1053cee9ecc8",
   "metadata": {},
   "outputs": [],
   "source": [
    "copy_df = df.copy()"
   ]
  },
  {
   "cell_type": "code",
   "execution_count": 354,
   "id": "b8bd36f5-8c6a-4312-853d-6bac01e54ab4",
   "metadata": {},
   "outputs": [
    {
     "data": {
      "text/html": [
       "<div>\n",
       "<style scoped>\n",
       "    .dataframe tbody tr th:only-of-type {\n",
       "        vertical-align: middle;\n",
       "    }\n",
       "\n",
       "    .dataframe tbody tr th {\n",
       "        vertical-align: top;\n",
       "    }\n",
       "\n",
       "    .dataframe thead th {\n",
       "        text-align: right;\n",
       "    }\n",
       "</style>\n",
       "<table border=\"1\" class=\"dataframe\">\n",
       "  <thead>\n",
       "    <tr style=\"text-align: right;\">\n",
       "      <th></th>\n",
       "      <th>garage_type</th>\n",
       "      <th>garage_yr_blt</th>\n",
       "      <th>garage_finish</th>\n",
       "      <th>garage_cars</th>\n",
       "      <th>garage_area</th>\n",
       "      <th>garage_qual</th>\n",
       "      <th>garage_cond</th>\n",
       "    </tr>\n",
       "  </thead>\n",
       "  <tbody>\n",
       "    <tr>\n",
       "      <th>1712</th>\n",
       "      <td>No Garage</td>\n",
       "      <td>NaN</td>\n",
       "      <td>No Garage</td>\n",
       "      <td>NaN</td>\n",
       "      <td>NaN</td>\n",
       "      <td>No Garage</td>\n",
       "      <td>No Garage</td>\n",
       "    </tr>\n",
       "  </tbody>\n",
       "</table>\n",
       "</div>"
      ],
      "text/plain": [
       "     garage_type  garage_yr_blt garage_finish  garage_cars  garage_area  \\\n",
       "1712   No Garage            NaN     No Garage          NaN          NaN   \n",
       "\n",
       "     garage_qual garage_cond  \n",
       "1712   No Garage   No Garage  "
      ]
     },
     "execution_count": 354,
     "metadata": {},
     "output_type": "execute_result"
    }
   ],
   "source": [
    "df[df['garage_cars'].isnull()][garage_list]"
   ]
  },
  {
   "cell_type": "code",
   "execution_count": 356,
   "id": "8cc630ad-4330-44ec-90e0-73534ad6f746",
   "metadata": {},
   "outputs": [],
   "source": [
    "no_garage_list2 = ['garage_yr_blt', 'garage_cars', 'garage_area']\n",
    "\n",
    "df.at[1712, no_garage_list2] = 'No Garage'"
   ]
  },
  {
   "cell_type": "code",
   "execution_count": 357,
   "id": "c3913f17-d499-4ea8-830e-43b3f2dc04cf",
   "metadata": {},
   "outputs": [
    {
     "data": {
      "text/html": [
       "<div>\n",
       "<style scoped>\n",
       "    .dataframe tbody tr th:only-of-type {\n",
       "        vertical-align: middle;\n",
       "    }\n",
       "\n",
       "    .dataframe tbody tr th {\n",
       "        vertical-align: top;\n",
       "    }\n",
       "\n",
       "    .dataframe thead th {\n",
       "        text-align: right;\n",
       "    }\n",
       "</style>\n",
       "<table border=\"1\" class=\"dataframe\">\n",
       "  <thead>\n",
       "    <tr style=\"text-align: right;\">\n",
       "      <th></th>\n",
       "      <th>garage_type</th>\n",
       "      <th>garage_yr_blt</th>\n",
       "      <th>garage_finish</th>\n",
       "      <th>garage_cars</th>\n",
       "      <th>garage_area</th>\n",
       "      <th>garage_qual</th>\n",
       "      <th>garage_cond</th>\n",
       "    </tr>\n",
       "  </thead>\n",
       "  <tbody>\n",
       "  </tbody>\n",
       "</table>\n",
       "</div>"
      ],
      "text/plain": [
       "Empty DataFrame\n",
       "Columns: [garage_type, garage_yr_blt, garage_finish, garage_cars, garage_area, garage_qual, garage_cond]\n",
       "Index: []"
      ]
     },
     "execution_count": 357,
     "metadata": {},
     "output_type": "execute_result"
    }
   ],
   "source": [
    "df[df['garage_cars'].isnull()][garage_list]"
   ]
  },
  {
   "cell_type": "markdown",
   "id": "7c15ad00-f603-43f3-ad8e-5a5814343197",
   "metadata": {},
   "source": [
    "I've got to figure out what's going on with 'garage_yr_blt' because it seems possible some of these NAs may be for things other than \"No Garage\"."
   ]
  },
  {
   "cell_type": "code",
   "execution_count": 361,
   "id": "ab5a0990-4bef-443d-a8ee-ab188e8d543b",
   "metadata": {},
   "outputs": [
    {
     "data": {
      "text/html": [
       "<div>\n",
       "<style scoped>\n",
       "    .dataframe tbody tr th:only-of-type {\n",
       "        vertical-align: middle;\n",
       "    }\n",
       "\n",
       "    .dataframe tbody tr th {\n",
       "        vertical-align: top;\n",
       "    }\n",
       "\n",
       "    .dataframe thead th {\n",
       "        text-align: right;\n",
       "    }\n",
       "</style>\n",
       "<table border=\"1\" class=\"dataframe\">\n",
       "  <thead>\n",
       "    <tr style=\"text-align: right;\">\n",
       "      <th></th>\n",
       "      <th>garage_type</th>\n",
       "      <th>garage_yr_blt</th>\n",
       "      <th>garage_finish</th>\n",
       "      <th>garage_cars</th>\n",
       "      <th>garage_area</th>\n",
       "      <th>garage_qual</th>\n",
       "      <th>garage_cond</th>\n",
       "    </tr>\n",
       "  </thead>\n",
       "  <tbody>\n",
       "    <tr>\n",
       "      <th>28</th>\n",
       "      <td>No Garage</td>\n",
       "      <td>NaN</td>\n",
       "      <td>No Garage</td>\n",
       "      <td>0.0</td>\n",
       "      <td>0.0</td>\n",
       "      <td>No Garage</td>\n",
       "      <td>No Garage</td>\n",
       "    </tr>\n",
       "    <tr>\n",
       "      <th>53</th>\n",
       "      <td>No Garage</td>\n",
       "      <td>NaN</td>\n",
       "      <td>No Garage</td>\n",
       "      <td>0.0</td>\n",
       "      <td>0.0</td>\n",
       "      <td>No Garage</td>\n",
       "      <td>No Garage</td>\n",
       "    </tr>\n",
       "    <tr>\n",
       "      <th>65</th>\n",
       "      <td>No Garage</td>\n",
       "      <td>NaN</td>\n",
       "      <td>No Garage</td>\n",
       "      <td>0.0</td>\n",
       "      <td>0.0</td>\n",
       "      <td>No Garage</td>\n",
       "      <td>No Garage</td>\n",
       "    </tr>\n",
       "    <tr>\n",
       "      <th>79</th>\n",
       "      <td>No Garage</td>\n",
       "      <td>NaN</td>\n",
       "      <td>No Garage</td>\n",
       "      <td>0.0</td>\n",
       "      <td>0.0</td>\n",
       "      <td>No Garage</td>\n",
       "      <td>No Garage</td>\n",
       "    </tr>\n",
       "    <tr>\n",
       "      <th>101</th>\n",
       "      <td>No Garage</td>\n",
       "      <td>NaN</td>\n",
       "      <td>No Garage</td>\n",
       "      <td>0.0</td>\n",
       "      <td>0.0</td>\n",
       "      <td>No Garage</td>\n",
       "      <td>No Garage</td>\n",
       "    </tr>\n",
       "  </tbody>\n",
       "</table>\n",
       "</div>"
      ],
      "text/plain": [
       "    garage_type garage_yr_blt garage_finish garage_cars garage_area  \\\n",
       "28    No Garage           NaN     No Garage         0.0         0.0   \n",
       "53    No Garage           NaN     No Garage         0.0         0.0   \n",
       "65    No Garage           NaN     No Garage         0.0         0.0   \n",
       "79    No Garage           NaN     No Garage         0.0         0.0   \n",
       "101   No Garage           NaN     No Garage         0.0         0.0   \n",
       "\n",
       "    garage_qual garage_cond  \n",
       "28    No Garage   No Garage  \n",
       "53    No Garage   No Garage  \n",
       "65    No Garage   No Garage  \n",
       "79    No Garage   No Garage  \n",
       "101   No Garage   No Garage  "
      ]
     },
     "execution_count": 361,
     "metadata": {},
     "output_type": "execute_result"
    }
   ],
   "source": [
    "df[df['garage_yr_blt'].isnull()].head()[garage_list]"
   ]
  },
  {
   "cell_type": "code",
   "execution_count": 363,
   "id": "cf33fdd3-253a-4487-a83a-49b570cb14c3",
   "metadata": {},
   "outputs": [
    {
     "data": {
      "text/html": [
       "<div>\n",
       "<style scoped>\n",
       "    .dataframe tbody tr th:only-of-type {\n",
       "        vertical-align: middle;\n",
       "    }\n",
       "\n",
       "    .dataframe tbody tr th {\n",
       "        vertical-align: top;\n",
       "    }\n",
       "\n",
       "    .dataframe thead th {\n",
       "        text-align: right;\n",
       "    }\n",
       "</style>\n",
       "<table border=\"1\" class=\"dataframe\">\n",
       "  <thead>\n",
       "    <tr style=\"text-align: right;\">\n",
       "      <th></th>\n",
       "      <th>id</th>\n",
       "      <th>pid</th>\n",
       "      <th>ms_subclass</th>\n",
       "      <th>ms_zoning</th>\n",
       "      <th>lot_frontage</th>\n",
       "      <th>lot_area</th>\n",
       "      <th>street</th>\n",
       "      <th>alley</th>\n",
       "      <th>lot_shape</th>\n",
       "      <th>land_contour</th>\n",
       "      <th>...</th>\n",
       "      <th>screen_porch</th>\n",
       "      <th>pool_area</th>\n",
       "      <th>pool_qc</th>\n",
       "      <th>fence</th>\n",
       "      <th>misc_feature</th>\n",
       "      <th>misc_val</th>\n",
       "      <th>mo_sold</th>\n",
       "      <th>yr_sold</th>\n",
       "      <th>sale_type</th>\n",
       "      <th>saleprice</th>\n",
       "    </tr>\n",
       "  </thead>\n",
       "  <tbody>\n",
       "  </tbody>\n",
       "</table>\n",
       "<p>0 rows × 81 columns</p>\n",
       "</div>"
      ],
      "text/plain": [
       "Empty DataFrame\n",
       "Columns: [id, pid, ms_subclass, ms_zoning, lot_frontage, lot_area, street, alley, lot_shape, land_contour, utilities, lot_config, land_slope, neighborhood, condition_1, condition_2, bldg_type, house_style, overall_qual, overall_cond, year_built, year_remod/add, roof_style, roof_matl, exterior_1st, exterior_2nd, mas_vnr_type, mas_vnr_area, exter_qual, exter_cond, foundation, bsmt_qual, bsmt_cond, bsmt_exposure, bsmtfin_type_1, bsmtfin_sf_1, bsmtfin_type_2, bsmtfin_sf_2, bsmt_unf_sf, total_bsmt_sf, heating, heating_qc, central_air, electrical, 1st_flr_sf, 2nd_flr_sf, low_qual_fin_sf, gr_liv_area, bsmt_full_bath, bsmt_half_bath, full_bath, half_bath, bedroom_abvgr, kitchen_abvgr, kitchen_qual, totrms_abvgrd, functional, fireplaces, fireplace_qu, garage_type, garage_yr_blt, garage_finish, garage_cars, garage_area, garage_qual, garage_cond, paved_drive, wood_deck_sf, open_porch_sf, enclosed_porch, 3ssn_porch, screen_porch, pool_area, pool_qc, fence, misc_feature, misc_val, mo_sold, yr_sold, sale_type, saleprice]\n",
       "Index: []\n",
       "\n",
       "[0 rows x 81 columns]"
      ]
     },
     "execution_count": 363,
     "metadata": {},
     "output_type": "execute_result"
    }
   ],
   "source": [
    "df[(df['garage_yr_blt'].isnull()) & (df['garage_finish'] != 'No Garage')]"
   ]
  },
  {
   "cell_type": "markdown",
   "id": "913d1941-68da-4cba-911b-710b259394f2",
   "metadata": {},
   "source": [
    "It appears all the garage_yr_built = NaN rows correspond to No Garage."
   ]
  },
  {
   "cell_type": "code",
   "execution_count": 364,
   "id": "9d434662-b3ef-4dc7-99f4-e28d4b29f70d",
   "metadata": {},
   "outputs": [],
   "source": [
    "df['garage_yr_blt'] = df['garage_yr_blt'].fillna('No Garage')"
   ]
  },
  {
   "cell_type": "code",
   "execution_count": 365,
   "id": "4aebc2d5-1a80-46bc-b9c9-1dd744c26b2b",
   "metadata": {},
   "outputs": [
    {
     "data": {
      "text/html": [
       "<div>\n",
       "<style scoped>\n",
       "    .dataframe tbody tr th:only-of-type {\n",
       "        vertical-align: middle;\n",
       "    }\n",
       "\n",
       "    .dataframe tbody tr th {\n",
       "        vertical-align: top;\n",
       "    }\n",
       "\n",
       "    .dataframe thead th {\n",
       "        text-align: right;\n",
       "    }\n",
       "</style>\n",
       "<table border=\"1\" class=\"dataframe\">\n",
       "  <thead>\n",
       "    <tr style=\"text-align: right;\">\n",
       "      <th></th>\n",
       "      <th>garage_type</th>\n",
       "      <th>garage_yr_blt</th>\n",
       "      <th>garage_finish</th>\n",
       "      <th>garage_cars</th>\n",
       "      <th>garage_area</th>\n",
       "      <th>garage_qual</th>\n",
       "      <th>garage_cond</th>\n",
       "    </tr>\n",
       "  </thead>\n",
       "  <tbody>\n",
       "  </tbody>\n",
       "</table>\n",
       "</div>"
      ],
      "text/plain": [
       "Empty DataFrame\n",
       "Columns: [garage_type, garage_yr_blt, garage_finish, garage_cars, garage_area, garage_qual, garage_cond]\n",
       "Index: []"
      ]
     },
     "execution_count": 365,
     "metadata": {},
     "output_type": "execute_result"
    }
   ],
   "source": [
    "df[df['garage_yr_blt'].isnull()].head()[garage_list]"
   ]
  },
  {
   "cell_type": "markdown",
   "id": "b075141b-fbf8-4faf-bd97-c7965a6a2791",
   "metadata": {},
   "source": [
    "I'm revisiting the null list to see what's left. I came back up to this one a few times, rather than rewriting it below, for additional sanity-check and to keep track of what's left."
   ]
  },
  {
   "cell_type": "code",
   "execution_count": 387,
   "id": "8f34631c-6ef3-4f16-a7bb-965c876c2d52",
   "metadata": {},
   "outputs": [
    {
     "data": {
      "text/plain": [
       "['mas_vnr_type', 'mas_vnr_area']"
      ]
     },
     "execution_count": 387,
     "metadata": {},
     "output_type": "execute_result"
    }
   ],
   "source": [
    "df.columns[df.isna().any()].tolist()"
   ]
  },
  {
   "cell_type": "markdown",
   "id": "fb515daa-777a-402b-9a95-e472e2b04412",
   "metadata": {
    "tags": []
   },
   "source": [
    "#### Lot Frontage"
   ]
  },
  {
   "cell_type": "code",
   "execution_count": 303,
   "id": "06686f62-4f96-483a-856b-dea118bc5e0d",
   "metadata": {},
   "outputs": [
    {
     "data": {
      "text/plain": [
       "NaN      330\n",
       "60.0     179\n",
       "70.0      96\n",
       "80.0      94\n",
       "50.0      90\n",
       "        ... \n",
       "119.0      1\n",
       "122.0      1\n",
       "22.0       1\n",
       "155.0      1\n",
       "135.0      1\n",
       "Name: lot_frontage, Length: 119, dtype: int64"
      ]
     },
     "execution_count": 303,
     "metadata": {},
     "output_type": "execute_result"
    }
   ],
   "source": [
    "df['lot_frontage'].value_counts(dropna = False)"
   ]
  },
  {
   "cell_type": "code",
   "execution_count": 304,
   "id": "c27421f8-f98b-45da-acf1-e94da15359c3",
   "metadata": {},
   "outputs": [
    {
     "data": {
      "text/plain": [
       "0.16089712335446124"
      ]
     },
     "execution_count": 304,
     "metadata": {},
     "output_type": "execute_result"
    }
   ],
   "source": [
    "df['lot_frontage'].isna().sum()/len(df)"
   ]
  },
  {
   "cell_type": "markdown",
   "id": "c2b3c3f4-7821-43cb-885c-25c70b4ab8f1",
   "metadata": {},
   "source": [
    "16% of the data seems like a lot to drop."
   ]
  },
  {
   "cell_type": "code",
   "execution_count": 369,
   "id": "913eab3e-66b7-4622-9023-e19018ac490a",
   "metadata": {},
   "outputs": [
    {
     "data": {
      "text/html": [
       "<div>\n",
       "<style scoped>\n",
       "    .dataframe tbody tr th:only-of-type {\n",
       "        vertical-align: middle;\n",
       "    }\n",
       "\n",
       "    .dataframe tbody tr th {\n",
       "        vertical-align: top;\n",
       "    }\n",
       "\n",
       "    .dataframe thead th {\n",
       "        text-align: right;\n",
       "    }\n",
       "</style>\n",
       "<table border=\"1\" class=\"dataframe\">\n",
       "  <thead>\n",
       "    <tr style=\"text-align: right;\">\n",
       "      <th></th>\n",
       "      <th>id</th>\n",
       "      <th>pid</th>\n",
       "      <th>ms_subclass</th>\n",
       "      <th>ms_zoning</th>\n",
       "      <th>lot_frontage</th>\n",
       "      <th>lot_area</th>\n",
       "      <th>street</th>\n",
       "      <th>alley</th>\n",
       "      <th>lot_shape</th>\n",
       "      <th>land_contour</th>\n",
       "      <th>...</th>\n",
       "      <th>screen_porch</th>\n",
       "      <th>pool_area</th>\n",
       "      <th>pool_qc</th>\n",
       "      <th>fence</th>\n",
       "      <th>misc_feature</th>\n",
       "      <th>misc_val</th>\n",
       "      <th>mo_sold</th>\n",
       "      <th>yr_sold</th>\n",
       "      <th>sale_type</th>\n",
       "      <th>saleprice</th>\n",
       "    </tr>\n",
       "  </thead>\n",
       "  <tbody>\n",
       "  </tbody>\n",
       "</table>\n",
       "<p>0 rows × 81 columns</p>\n",
       "</div>"
      ],
      "text/plain": [
       "Empty DataFrame\n",
       "Columns: [id, pid, ms_subclass, ms_zoning, lot_frontage, lot_area, street, alley, lot_shape, land_contour, utilities, lot_config, land_slope, neighborhood, condition_1, condition_2, bldg_type, house_style, overall_qual, overall_cond, year_built, year_remod/add, roof_style, roof_matl, exterior_1st, exterior_2nd, mas_vnr_type, mas_vnr_area, exter_qual, exter_cond, foundation, bsmt_qual, bsmt_cond, bsmt_exposure, bsmtfin_type_1, bsmtfin_sf_1, bsmtfin_type_2, bsmtfin_sf_2, bsmt_unf_sf, total_bsmt_sf, heating, heating_qc, central_air, electrical, 1st_flr_sf, 2nd_flr_sf, low_qual_fin_sf, gr_liv_area, bsmt_full_bath, bsmt_half_bath, full_bath, half_bath, bedroom_abvgr, kitchen_abvgr, kitchen_qual, totrms_abvgrd, functional, fireplaces, fireplace_qu, garage_type, garage_yr_blt, garage_finish, garage_cars, garage_area, garage_qual, garage_cond, paved_drive, wood_deck_sf, open_porch_sf, enclosed_porch, 3ssn_porch, screen_porch, pool_area, pool_qc, fence, misc_feature, misc_val, mo_sold, yr_sold, sale_type, saleprice]\n",
       "Index: []\n",
       "\n",
       "[0 rows x 81 columns]"
      ]
     },
     "execution_count": 369,
     "metadata": {},
     "output_type": "execute_result"
    }
   ],
   "source": [
    "df[df['lot_frontage'] == 0.0]"
   ]
  },
  {
   "cell_type": "code",
   "execution_count": 372,
   "id": "aa22e4a7-6834-4804-b4ac-53dd5a8eb1f8",
   "metadata": {},
   "outputs": [
    {
     "data": {
      "text/html": [
       "<div>\n",
       "<style scoped>\n",
       "    .dataframe tbody tr th:only-of-type {\n",
       "        vertical-align: middle;\n",
       "    }\n",
       "\n",
       "    .dataframe tbody tr th {\n",
       "        vertical-align: top;\n",
       "    }\n",
       "\n",
       "    .dataframe thead th {\n",
       "        text-align: right;\n",
       "    }\n",
       "</style>\n",
       "<table border=\"1\" class=\"dataframe\">\n",
       "  <thead>\n",
       "    <tr style=\"text-align: right;\">\n",
       "      <th></th>\n",
       "      <th>id</th>\n",
       "      <th>pid</th>\n",
       "      <th>ms_subclass</th>\n",
       "      <th>ms_zoning</th>\n",
       "      <th>lot_frontage</th>\n",
       "      <th>lot_area</th>\n",
       "      <th>street</th>\n",
       "      <th>alley</th>\n",
       "      <th>lot_shape</th>\n",
       "      <th>land_contour</th>\n",
       "      <th>...</th>\n",
       "      <th>screen_porch</th>\n",
       "      <th>pool_area</th>\n",
       "      <th>pool_qc</th>\n",
       "      <th>fence</th>\n",
       "      <th>misc_feature</th>\n",
       "      <th>misc_val</th>\n",
       "      <th>mo_sold</th>\n",
       "      <th>yr_sold</th>\n",
       "      <th>sale_type</th>\n",
       "      <th>saleprice</th>\n",
       "    </tr>\n",
       "  </thead>\n",
       "  <tbody>\n",
       "    <tr>\n",
       "      <th>10</th>\n",
       "      <td>1044</td>\n",
       "      <td>527451290</td>\n",
       "      <td>160</td>\n",
       "      <td>RM</td>\n",
       "      <td>21.0</td>\n",
       "      <td>1680</td>\n",
       "      <td>Pave</td>\n",
       "      <td>None</td>\n",
       "      <td>Reg</td>\n",
       "      <td>Lvl</td>\n",
       "      <td>...</td>\n",
       "      <td>0</td>\n",
       "      <td>0</td>\n",
       "      <td>NaN</td>\n",
       "      <td>NaN</td>\n",
       "      <td>NaN</td>\n",
       "      <td>0</td>\n",
       "      <td>7</td>\n",
       "      <td>2008</td>\n",
       "      <td>COD</td>\n",
       "      <td>85400</td>\n",
       "    </tr>\n",
       "    <tr>\n",
       "      <th>13</th>\n",
       "      <td>1177</td>\n",
       "      <td>533236070</td>\n",
       "      <td>160</td>\n",
       "      <td>FV</td>\n",
       "      <td>24.0</td>\n",
       "      <td>2645</td>\n",
       "      <td>Pave</td>\n",
       "      <td>Pave</td>\n",
       "      <td>Reg</td>\n",
       "      <td>Lvl</td>\n",
       "      <td>...</td>\n",
       "      <td>0</td>\n",
       "      <td>0</td>\n",
       "      <td>NaN</td>\n",
       "      <td>NaN</td>\n",
       "      <td>NaN</td>\n",
       "      <td>0</td>\n",
       "      <td>12</td>\n",
       "      <td>2008</td>\n",
       "      <td>ConLD</td>\n",
       "      <td>200000</td>\n",
       "    </tr>\n",
       "    <tr>\n",
       "      <th>53</th>\n",
       "      <td>330</td>\n",
       "      <td>923226250</td>\n",
       "      <td>160</td>\n",
       "      <td>RM</td>\n",
       "      <td>21.0</td>\n",
       "      <td>1476</td>\n",
       "      <td>Pave</td>\n",
       "      <td>None</td>\n",
       "      <td>Reg</td>\n",
       "      <td>Lvl</td>\n",
       "      <td>...</td>\n",
       "      <td>0</td>\n",
       "      <td>0</td>\n",
       "      <td>NaN</td>\n",
       "      <td>NaN</td>\n",
       "      <td>NaN</td>\n",
       "      <td>0</td>\n",
       "      <td>3</td>\n",
       "      <td>2010</td>\n",
       "      <td>WD</td>\n",
       "      <td>76000</td>\n",
       "    </tr>\n",
       "    <tr>\n",
       "      <th>56</th>\n",
       "      <td>98</td>\n",
       "      <td>533212020</td>\n",
       "      <td>160</td>\n",
       "      <td>FV</td>\n",
       "      <td>24.0</td>\n",
       "      <td>2544</td>\n",
       "      <td>Pave</td>\n",
       "      <td>Pave</td>\n",
       "      <td>Reg</td>\n",
       "      <td>Lvl</td>\n",
       "      <td>...</td>\n",
       "      <td>0</td>\n",
       "      <td>0</td>\n",
       "      <td>NaN</td>\n",
       "      <td>NaN</td>\n",
       "      <td>NaN</td>\n",
       "      <td>0</td>\n",
       "      <td>2</td>\n",
       "      <td>2010</td>\n",
       "      <td>WD</td>\n",
       "      <td>149500</td>\n",
       "    </tr>\n",
       "    <tr>\n",
       "      <th>73</th>\n",
       "      <td>2832</td>\n",
       "      <td>908188140</td>\n",
       "      <td>160</td>\n",
       "      <td>RM</td>\n",
       "      <td>24.0</td>\n",
       "      <td>2522</td>\n",
       "      <td>Pave</td>\n",
       "      <td>None</td>\n",
       "      <td>Reg</td>\n",
       "      <td>Lvl</td>\n",
       "      <td>...</td>\n",
       "      <td>0</td>\n",
       "      <td>0</td>\n",
       "      <td>NaN</td>\n",
       "      <td>NaN</td>\n",
       "      <td>NaN</td>\n",
       "      <td>0</td>\n",
       "      <td>4</td>\n",
       "      <td>2006</td>\n",
       "      <td>WD</td>\n",
       "      <td>137500</td>\n",
       "    </tr>\n",
       "    <tr>\n",
       "      <th>...</th>\n",
       "      <td>...</td>\n",
       "      <td>...</td>\n",
       "      <td>...</td>\n",
       "      <td>...</td>\n",
       "      <td>...</td>\n",
       "      <td>...</td>\n",
       "      <td>...</td>\n",
       "      <td>...</td>\n",
       "      <td>...</td>\n",
       "      <td>...</td>\n",
       "      <td>...</td>\n",
       "      <td>...</td>\n",
       "      <td>...</td>\n",
       "      <td>...</td>\n",
       "      <td>...</td>\n",
       "      <td>...</td>\n",
       "      <td>...</td>\n",
       "      <td>...</td>\n",
       "      <td>...</td>\n",
       "      <td>...</td>\n",
       "      <td>...</td>\n",
       "    </tr>\n",
       "    <tr>\n",
       "      <th>1987</th>\n",
       "      <td>2377</td>\n",
       "      <td>527453070</td>\n",
       "      <td>120</td>\n",
       "      <td>RL</td>\n",
       "      <td>24.0</td>\n",
       "      <td>2280</td>\n",
       "      <td>Pave</td>\n",
       "      <td>None</td>\n",
       "      <td>Reg</td>\n",
       "      <td>Lvl</td>\n",
       "      <td>...</td>\n",
       "      <td>0</td>\n",
       "      <td>0</td>\n",
       "      <td>NaN</td>\n",
       "      <td>NaN</td>\n",
       "      <td>NaN</td>\n",
       "      <td>0</td>\n",
       "      <td>4</td>\n",
       "      <td>2006</td>\n",
       "      <td>WD</td>\n",
       "      <td>137500</td>\n",
       "    </tr>\n",
       "    <tr>\n",
       "      <th>2004</th>\n",
       "      <td>1843</td>\n",
       "      <td>533213130</td>\n",
       "      <td>160</td>\n",
       "      <td>FV</td>\n",
       "      <td>24.0</td>\n",
       "      <td>2280</td>\n",
       "      <td>Pave</td>\n",
       "      <td>Pave</td>\n",
       "      <td>Reg</td>\n",
       "      <td>Lvl</td>\n",
       "      <td>...</td>\n",
       "      <td>0</td>\n",
       "      <td>0</td>\n",
       "      <td>NaN</td>\n",
       "      <td>NaN</td>\n",
       "      <td>NaN</td>\n",
       "      <td>0</td>\n",
       "      <td>9</td>\n",
       "      <td>2007</td>\n",
       "      <td>WD</td>\n",
       "      <td>176500</td>\n",
       "    </tr>\n",
       "    <tr>\n",
       "      <th>2006</th>\n",
       "      <td>1041</td>\n",
       "      <td>527450250</td>\n",
       "      <td>160</td>\n",
       "      <td>RM</td>\n",
       "      <td>21.0</td>\n",
       "      <td>1680</td>\n",
       "      <td>Pave</td>\n",
       "      <td>None</td>\n",
       "      <td>Reg</td>\n",
       "      <td>Lvl</td>\n",
       "      <td>...</td>\n",
       "      <td>0</td>\n",
       "      <td>0</td>\n",
       "      <td>NaN</td>\n",
       "      <td>NaN</td>\n",
       "      <td>NaN</td>\n",
       "      <td>0</td>\n",
       "      <td>11</td>\n",
       "      <td>2008</td>\n",
       "      <td>WD</td>\n",
       "      <td>100000</td>\n",
       "    </tr>\n",
       "    <tr>\n",
       "      <th>2007</th>\n",
       "      <td>980</td>\n",
       "      <td>923228230</td>\n",
       "      <td>160</td>\n",
       "      <td>RM</td>\n",
       "      <td>21.0</td>\n",
       "      <td>2217</td>\n",
       "      <td>Pave</td>\n",
       "      <td>None</td>\n",
       "      <td>Reg</td>\n",
       "      <td>Lvl</td>\n",
       "      <td>...</td>\n",
       "      <td>0</td>\n",
       "      <td>0</td>\n",
       "      <td>NaN</td>\n",
       "      <td>NaN</td>\n",
       "      <td>NaN</td>\n",
       "      <td>0</td>\n",
       "      <td>8</td>\n",
       "      <td>2009</td>\n",
       "      <td>WD</td>\n",
       "      <td>88000</td>\n",
       "    </tr>\n",
       "    <tr>\n",
       "      <th>2039</th>\n",
       "      <td>2288</td>\n",
       "      <td>923228220</td>\n",
       "      <td>160</td>\n",
       "      <td>RM</td>\n",
       "      <td>21.0</td>\n",
       "      <td>1495</td>\n",
       "      <td>Pave</td>\n",
       "      <td>None</td>\n",
       "      <td>Reg</td>\n",
       "      <td>Lvl</td>\n",
       "      <td>...</td>\n",
       "      <td>0</td>\n",
       "      <td>0</td>\n",
       "      <td>NaN</td>\n",
       "      <td>NaN</td>\n",
       "      <td>NaN</td>\n",
       "      <td>0</td>\n",
       "      <td>5</td>\n",
       "      <td>2007</td>\n",
       "      <td>WD</td>\n",
       "      <td>93900</td>\n",
       "    </tr>\n",
       "  </tbody>\n",
       "</table>\n",
       "<p>70 rows × 81 columns</p>\n",
       "</div>"
      ],
      "text/plain": [
       "        id        pid  ms_subclass ms_zoning  lot_frontage  lot_area street  \\\n",
       "10    1044  527451290          160        RM          21.0      1680   Pave   \n",
       "13    1177  533236070          160        FV          24.0      2645   Pave   \n",
       "53     330  923226250          160        RM          21.0      1476   Pave   \n",
       "56      98  533212020          160        FV          24.0      2544   Pave   \n",
       "73    2832  908188140          160        RM          24.0      2522   Pave   \n",
       "...    ...        ...          ...       ...           ...       ...    ...   \n",
       "1987  2377  527453070          120        RL          24.0      2280   Pave   \n",
       "2004  1843  533213130          160        FV          24.0      2280   Pave   \n",
       "2006  1041  527450250          160        RM          21.0      1680   Pave   \n",
       "2007   980  923228230          160        RM          21.0      2217   Pave   \n",
       "2039  2288  923228220          160        RM          21.0      1495   Pave   \n",
       "\n",
       "     alley lot_shape land_contour  ... screen_porch pool_area pool_qc fence  \\\n",
       "10    None       Reg          Lvl  ...            0         0     NaN   NaN   \n",
       "13    Pave       Reg          Lvl  ...            0         0     NaN   NaN   \n",
       "53    None       Reg          Lvl  ...            0         0     NaN   NaN   \n",
       "56    Pave       Reg          Lvl  ...            0         0     NaN   NaN   \n",
       "73    None       Reg          Lvl  ...            0         0     NaN   NaN   \n",
       "...    ...       ...          ...  ...          ...       ...     ...   ...   \n",
       "1987  None       Reg          Lvl  ...            0         0     NaN   NaN   \n",
       "2004  Pave       Reg          Lvl  ...            0         0     NaN   NaN   \n",
       "2006  None       Reg          Lvl  ...            0         0     NaN   NaN   \n",
       "2007  None       Reg          Lvl  ...            0         0     NaN   NaN   \n",
       "2039  None       Reg          Lvl  ...            0         0     NaN   NaN   \n",
       "\n",
       "     misc_feature misc_val mo_sold yr_sold  sale_type  saleprice  \n",
       "10            NaN        0       7    2008        COD      85400  \n",
       "13            NaN        0      12    2008      ConLD     200000  \n",
       "53            NaN        0       3    2010        WD       76000  \n",
       "56            NaN        0       2    2010        WD      149500  \n",
       "73            NaN        0       4    2006        WD      137500  \n",
       "...           ...      ...     ...     ...        ...        ...  \n",
       "1987          NaN        0       4    2006        WD      137500  \n",
       "2004          NaN        0       9    2007        WD      176500  \n",
       "2006          NaN        0      11    2008        WD      100000  \n",
       "2007          NaN        0       8    2009        WD       88000  \n",
       "2039          NaN        0       5    2007        WD       93900  \n",
       "\n",
       "[70 rows x 81 columns]"
      ]
     },
     "execution_count": 372,
     "metadata": {},
     "output_type": "execute_result"
    }
   ],
   "source": [
    "df[df['lot_frontage'] < 30.0]"
   ]
  },
  {
   "cell_type": "markdown",
   "id": "00ffb3b3-4d98-44fc-893c-eb0a329d2fd1",
   "metadata": {},
   "source": [
    "It appears possible that NaN means no frontage because there are no 0.0 lots. In fact, there's nothing less than 21.0 feet of frontage. In reading a little about \"flag lots\" [here](https://www.city-data.com/forum/real-estate/1735402-value-land-without-road-frontage.html), it seems plausible that's what these are, and while 21 feet seems a little small from that reading, it seems possible these smaller lot frontages represent lots that include a path to the road in the property (as opposed to an easement across someone else's property). For now, I'm going to cast those as 0.0."
   ]
  },
  {
   "cell_type": "code",
   "execution_count": 374,
   "id": "c7b13894-117a-4f83-8915-9ac93d642599",
   "metadata": {},
   "outputs": [
    {
     "data": {
      "text/plain": [
       "0"
      ]
     },
     "execution_count": 374,
     "metadata": {},
     "output_type": "execute_result"
    }
   ],
   "source": [
    "df['lot_frontage'] = df['lot_frontage'].fillna(0.0)\n",
    "\n",
    "df['lot_frontage'].isna().sum()"
   ]
  },
  {
   "cell_type": "markdown",
   "id": "9e76e738-b6c4-4ec7-b099-ab8085e24ed9",
   "metadata": {},
   "source": [
    "### Fireplace Quality\n",
    "\n",
    "The dictionary spells out that NA == no fireplace."
   ]
  },
  {
   "cell_type": "code",
   "execution_count": 376,
   "id": "dc28f2c8-195c-46c4-a82e-f9497f14dfcd",
   "metadata": {},
   "outputs": [
    {
     "data": {
      "text/plain": [
       "0"
      ]
     },
     "execution_count": 376,
     "metadata": {},
     "output_type": "execute_result"
    }
   ],
   "source": [
    "df['fireplace_qu'] = df['fireplace_qu'].fillna('No Fireplace')\n",
    "\n",
    "df['fireplace_qu'].isna().sum()"
   ]
  },
  {
   "cell_type": "markdown",
   "id": "19140c69-230d-42c8-8fc7-2731eea383de",
   "metadata": {},
   "source": [
    "### Pool Quality\n",
    "\n",
    "The dictionary spells out that NA == no pool."
   ]
  },
  {
   "cell_type": "code",
   "execution_count": 378,
   "id": "a15312ab-a11c-4187-b752-63e1b3f1008e",
   "metadata": {},
   "outputs": [
    {
     "data": {
      "text/plain": [
       "0"
      ]
     },
     "execution_count": 378,
     "metadata": {},
     "output_type": "execute_result"
    }
   ],
   "source": [
    "df['pool_qc'] = df['pool_qc'].fillna('No Pool')\n",
    "\n",
    "df['fireplace_qu'].isna().sum()"
   ]
  },
  {
   "cell_type": "markdown",
   "id": "336a2326-fd5d-4422-b060-c95520cbb7cd",
   "metadata": {},
   "source": [
    "### Fence\n",
    "\n",
    "The dictionary spells out that NA == no fence."
   ]
  },
  {
   "cell_type": "code",
   "execution_count": 380,
   "id": "428da5b8-e1b7-4da7-bdd3-741b5f16708f",
   "metadata": {},
   "outputs": [
    {
     "data": {
      "text/plain": [
       "0"
      ]
     },
     "execution_count": 380,
     "metadata": {},
     "output_type": "execute_result"
    }
   ],
   "source": [
    "df['fence'] = df['fence'].fillna('No Fence')\n",
    "\n",
    "df['fence'].isna().sum()"
   ]
  },
  {
   "cell_type": "markdown",
   "id": "341b4da3-3bbc-4b03-8748-582fea4bec82",
   "metadata": {},
   "source": [
    "### Misc Features\n",
    "\n",
    "The dictionary spells out that NA == no additional features"
   ]
  },
  {
   "cell_type": "code",
   "execution_count": 382,
   "id": "55d64adf-051c-492f-9230-f844b12331c8",
   "metadata": {},
   "outputs": [
    {
     "data": {
      "text/plain": [
       "0"
      ]
     },
     "execution_count": 382,
     "metadata": {},
     "output_type": "execute_result"
    }
   ],
   "source": [
    "df['misc_feature'] = df['misc_feature'].fillna('No Addl Features')\n",
    "df['misc_feature'].isna().sum()"
   ]
  },
  {
   "cell_type": "markdown",
   "id": "a9e6bfb9-ca69-44dd-ba27-e952ca846a3a",
   "metadata": {},
   "source": [
    "### Masonry Veneer Type"
   ]
  },
  {
   "cell_type": "markdown",
   "id": "3eef39ad-46ef-4e02-b953-34e77e8a2d42",
   "metadata": {},
   "source": [
    "I examined these initially, and wasn't sure about how to handle them. I leaned toward dropping the 22 NaN since it's clear None is another category and hard to know how these NaN should be interpreted. With only 22 instances, I decided to drop these data."
   ]
  },
  {
   "cell_type": "code",
   "execution_count": 307,
   "id": "675559cc-ba0c-4491-a586-dc28b231ec8a",
   "metadata": {},
   "outputs": [
    {
     "data": {
      "text/plain": [
       "None       1218\n",
       "BrkFace     630\n",
       "Stone       168\n",
       "NaN          22\n",
       "BrkCmn       13\n",
       "Name: mas_vnr_type, dtype: int64"
      ]
     },
     "execution_count": 307,
     "metadata": {},
     "output_type": "execute_result"
    }
   ],
   "source": [
    "df['mas_vnr_type'].value_counts(dropna = False)"
   ]
  },
  {
   "cell_type": "code",
   "execution_count": 308,
   "id": "06a3f0a9-6716-42e0-ac2f-8a20dce41632",
   "metadata": {},
   "outputs": [
    {
     "data": {
      "text/html": [
       "<div>\n",
       "<style scoped>\n",
       "    .dataframe tbody tr th:only-of-type {\n",
       "        vertical-align: middle;\n",
       "    }\n",
       "\n",
       "    .dataframe tbody tr th {\n",
       "        vertical-align: top;\n",
       "    }\n",
       "\n",
       "    .dataframe thead th {\n",
       "        text-align: right;\n",
       "    }\n",
       "</style>\n",
       "<table border=\"1\" class=\"dataframe\">\n",
       "  <thead>\n",
       "    <tr style=\"text-align: right;\">\n",
       "      <th></th>\n",
       "      <th>id</th>\n",
       "      <th>pid</th>\n",
       "      <th>ms_subclass</th>\n",
       "      <th>ms_zoning</th>\n",
       "      <th>lot_frontage</th>\n",
       "      <th>lot_area</th>\n",
       "      <th>street</th>\n",
       "      <th>alley</th>\n",
       "      <th>lot_shape</th>\n",
       "      <th>land_contour</th>\n",
       "      <th>...</th>\n",
       "      <th>screen_porch</th>\n",
       "      <th>pool_area</th>\n",
       "      <th>pool_qc</th>\n",
       "      <th>fence</th>\n",
       "      <th>misc_feature</th>\n",
       "      <th>misc_val</th>\n",
       "      <th>mo_sold</th>\n",
       "      <th>yr_sold</th>\n",
       "      <th>sale_type</th>\n",
       "      <th>saleprice</th>\n",
       "    </tr>\n",
       "  </thead>\n",
       "  <tbody>\n",
       "    <tr>\n",
       "      <th>22</th>\n",
       "      <td>2393</td>\n",
       "      <td>528142010</td>\n",
       "      <td>60</td>\n",
       "      <td>RL</td>\n",
       "      <td>103.0</td>\n",
       "      <td>12867</td>\n",
       "      <td>Pave</td>\n",
       "      <td>None</td>\n",
       "      <td>IR1</td>\n",
       "      <td>Lvl</td>\n",
       "      <td>...</td>\n",
       "      <td>0</td>\n",
       "      <td>0</td>\n",
       "      <td>NaN</td>\n",
       "      <td>NaN</td>\n",
       "      <td>NaN</td>\n",
       "      <td>0</td>\n",
       "      <td>7</td>\n",
       "      <td>2006</td>\n",
       "      <td>New</td>\n",
       "      <td>344133</td>\n",
       "    </tr>\n",
       "    <tr>\n",
       "      <th>41</th>\n",
       "      <td>2383</td>\n",
       "      <td>528110050</td>\n",
       "      <td>20</td>\n",
       "      <td>RL</td>\n",
       "      <td>107.0</td>\n",
       "      <td>13891</td>\n",
       "      <td>Pave</td>\n",
       "      <td>None</td>\n",
       "      <td>Reg</td>\n",
       "      <td>Lvl</td>\n",
       "      <td>...</td>\n",
       "      <td>0</td>\n",
       "      <td>0</td>\n",
       "      <td>NaN</td>\n",
       "      <td>NaN</td>\n",
       "      <td>NaN</td>\n",
       "      <td>0</td>\n",
       "      <td>9</td>\n",
       "      <td>2006</td>\n",
       "      <td>New</td>\n",
       "      <td>465000</td>\n",
       "    </tr>\n",
       "    <tr>\n",
       "      <th>86</th>\n",
       "      <td>539</td>\n",
       "      <td>531371050</td>\n",
       "      <td>20</td>\n",
       "      <td>RL</td>\n",
       "      <td>67.0</td>\n",
       "      <td>10083</td>\n",
       "      <td>Pave</td>\n",
       "      <td>None</td>\n",
       "      <td>Reg</td>\n",
       "      <td>Lvl</td>\n",
       "      <td>...</td>\n",
       "      <td>0</td>\n",
       "      <td>0</td>\n",
       "      <td>NaN</td>\n",
       "      <td>NaN</td>\n",
       "      <td>NaN</td>\n",
       "      <td>0</td>\n",
       "      <td>8</td>\n",
       "      <td>2009</td>\n",
       "      <td>WD</td>\n",
       "      <td>184900</td>\n",
       "    </tr>\n",
       "    <tr>\n",
       "      <th>212</th>\n",
       "      <td>518</td>\n",
       "      <td>528458020</td>\n",
       "      <td>20</td>\n",
       "      <td>FV</td>\n",
       "      <td>90.0</td>\n",
       "      <td>7993</td>\n",
       "      <td>Pave</td>\n",
       "      <td>None</td>\n",
       "      <td>IR1</td>\n",
       "      <td>Lvl</td>\n",
       "      <td>...</td>\n",
       "      <td>0</td>\n",
       "      <td>0</td>\n",
       "      <td>NaN</td>\n",
       "      <td>NaN</td>\n",
       "      <td>NaN</td>\n",
       "      <td>0</td>\n",
       "      <td>10</td>\n",
       "      <td>2009</td>\n",
       "      <td>New</td>\n",
       "      <td>225000</td>\n",
       "    </tr>\n",
       "    <tr>\n",
       "      <th>276</th>\n",
       "      <td>2824</td>\n",
       "      <td>908130020</td>\n",
       "      <td>20</td>\n",
       "      <td>RL</td>\n",
       "      <td>75.0</td>\n",
       "      <td>8050</td>\n",
       "      <td>Pave</td>\n",
       "      <td>None</td>\n",
       "      <td>Reg</td>\n",
       "      <td>Lvl</td>\n",
       "      <td>...</td>\n",
       "      <td>0</td>\n",
       "      <td>0</td>\n",
       "      <td>NaN</td>\n",
       "      <td>NaN</td>\n",
       "      <td>NaN</td>\n",
       "      <td>0</td>\n",
       "      <td>4</td>\n",
       "      <td>2006</td>\n",
       "      <td>WD</td>\n",
       "      <td>117250</td>\n",
       "    </tr>\n",
       "    <tr>\n",
       "      <th>338</th>\n",
       "      <td>1800</td>\n",
       "      <td>528458150</td>\n",
       "      <td>60</td>\n",
       "      <td>FV</td>\n",
       "      <td>112.0</td>\n",
       "      <td>12217</td>\n",
       "      <td>Pave</td>\n",
       "      <td>None</td>\n",
       "      <td>IR1</td>\n",
       "      <td>Lvl</td>\n",
       "      <td>...</td>\n",
       "      <td>0</td>\n",
       "      <td>0</td>\n",
       "      <td>NaN</td>\n",
       "      <td>NaN</td>\n",
       "      <td>NaN</td>\n",
       "      <td>0</td>\n",
       "      <td>12</td>\n",
       "      <td>2007</td>\n",
       "      <td>New</td>\n",
       "      <td>310013</td>\n",
       "    </tr>\n",
       "    <tr>\n",
       "      <th>431</th>\n",
       "      <td>1455</td>\n",
       "      <td>907251090</td>\n",
       "      <td>60</td>\n",
       "      <td>RL</td>\n",
       "      <td>75.0</td>\n",
       "      <td>9473</td>\n",
       "      <td>Pave</td>\n",
       "      <td>None</td>\n",
       "      <td>Reg</td>\n",
       "      <td>Lvl</td>\n",
       "      <td>...</td>\n",
       "      <td>0</td>\n",
       "      <td>0</td>\n",
       "      <td>NaN</td>\n",
       "      <td>NaN</td>\n",
       "      <td>NaN</td>\n",
       "      <td>0</td>\n",
       "      <td>3</td>\n",
       "      <td>2008</td>\n",
       "      <td>WD</td>\n",
       "      <td>237000</td>\n",
       "    </tr>\n",
       "    <tr>\n",
       "      <th>451</th>\n",
       "      <td>1120</td>\n",
       "      <td>528439010</td>\n",
       "      <td>20</td>\n",
       "      <td>RL</td>\n",
       "      <td>87.0</td>\n",
       "      <td>10037</td>\n",
       "      <td>Pave</td>\n",
       "      <td>None</td>\n",
       "      <td>Reg</td>\n",
       "      <td>Lvl</td>\n",
       "      <td>...</td>\n",
       "      <td>0</td>\n",
       "      <td>0</td>\n",
       "      <td>NaN</td>\n",
       "      <td>NaN</td>\n",
       "      <td>NaN</td>\n",
       "      <td>0</td>\n",
       "      <td>8</td>\n",
       "      <td>2008</td>\n",
       "      <td>WD</td>\n",
       "      <td>247000</td>\n",
       "    </tr>\n",
       "    <tr>\n",
       "      <th>591</th>\n",
       "      <td>1841</td>\n",
       "      <td>533208040</td>\n",
       "      <td>120</td>\n",
       "      <td>FV</td>\n",
       "      <td>35.0</td>\n",
       "      <td>4274</td>\n",
       "      <td>Pave</td>\n",
       "      <td>Pave</td>\n",
       "      <td>IR1</td>\n",
       "      <td>Lvl</td>\n",
       "      <td>...</td>\n",
       "      <td>0</td>\n",
       "      <td>0</td>\n",
       "      <td>NaN</td>\n",
       "      <td>NaN</td>\n",
       "      <td>NaN</td>\n",
       "      <td>0</td>\n",
       "      <td>11</td>\n",
       "      <td>2007</td>\n",
       "      <td>New</td>\n",
       "      <td>199900</td>\n",
       "    </tr>\n",
       "    <tr>\n",
       "      <th>844</th>\n",
       "      <td>1840</td>\n",
       "      <td>533208030</td>\n",
       "      <td>120</td>\n",
       "      <td>FV</td>\n",
       "      <td>30.0</td>\n",
       "      <td>5330</td>\n",
       "      <td>Pave</td>\n",
       "      <td>Pave</td>\n",
       "      <td>IR2</td>\n",
       "      <td>Lvl</td>\n",
       "      <td>...</td>\n",
       "      <td>0</td>\n",
       "      <td>0</td>\n",
       "      <td>NaN</td>\n",
       "      <td>NaN</td>\n",
       "      <td>NaN</td>\n",
       "      <td>0</td>\n",
       "      <td>7</td>\n",
       "      <td>2007</td>\n",
       "      <td>New</td>\n",
       "      <td>207500</td>\n",
       "    </tr>\n",
       "    <tr>\n",
       "      <th>913</th>\n",
       "      <td>2230</td>\n",
       "      <td>909475070</td>\n",
       "      <td>20</td>\n",
       "      <td>RL</td>\n",
       "      <td>NaN</td>\n",
       "      <td>32668</td>\n",
       "      <td>Pave</td>\n",
       "      <td>None</td>\n",
       "      <td>IR1</td>\n",
       "      <td>Lvl</td>\n",
       "      <td>...</td>\n",
       "      <td>0</td>\n",
       "      <td>0</td>\n",
       "      <td>NaN</td>\n",
       "      <td>NaN</td>\n",
       "      <td>NaN</td>\n",
       "      <td>0</td>\n",
       "      <td>3</td>\n",
       "      <td>2007</td>\n",
       "      <td>WD</td>\n",
       "      <td>200624</td>\n",
       "    </tr>\n",
       "    <tr>\n",
       "      <th>939</th>\n",
       "      <td>1123</td>\n",
       "      <td>528462040</td>\n",
       "      <td>20</td>\n",
       "      <td>FV</td>\n",
       "      <td>95.0</td>\n",
       "      <td>11639</td>\n",
       "      <td>Pave</td>\n",
       "      <td>None</td>\n",
       "      <td>Reg</td>\n",
       "      <td>Lvl</td>\n",
       "      <td>...</td>\n",
       "      <td>0</td>\n",
       "      <td>0</td>\n",
       "      <td>NaN</td>\n",
       "      <td>NaN</td>\n",
       "      <td>NaN</td>\n",
       "      <td>0</td>\n",
       "      <td>12</td>\n",
       "      <td>2008</td>\n",
       "      <td>New</td>\n",
       "      <td>182000</td>\n",
       "    </tr>\n",
       "    <tr>\n",
       "      <th>1025</th>\n",
       "      <td>1784</td>\n",
       "      <td>528435010</td>\n",
       "      <td>20</td>\n",
       "      <td>RL</td>\n",
       "      <td>85.0</td>\n",
       "      <td>9965</td>\n",
       "      <td>Pave</td>\n",
       "      <td>None</td>\n",
       "      <td>Reg</td>\n",
       "      <td>Lvl</td>\n",
       "      <td>...</td>\n",
       "      <td>0</td>\n",
       "      <td>0</td>\n",
       "      <td>NaN</td>\n",
       "      <td>NaN</td>\n",
       "      <td>NaN</td>\n",
       "      <td>0</td>\n",
       "      <td>9</td>\n",
       "      <td>2007</td>\n",
       "      <td>New</td>\n",
       "      <td>235876</td>\n",
       "    </tr>\n",
       "    <tr>\n",
       "      <th>1244</th>\n",
       "      <td>485</td>\n",
       "      <td>528275160</td>\n",
       "      <td>60</td>\n",
       "      <td>RL</td>\n",
       "      <td>NaN</td>\n",
       "      <td>12891</td>\n",
       "      <td>Pave</td>\n",
       "      <td>None</td>\n",
       "      <td>IR1</td>\n",
       "      <td>Lvl</td>\n",
       "      <td>...</td>\n",
       "      <td>0</td>\n",
       "      <td>0</td>\n",
       "      <td>NaN</td>\n",
       "      <td>NaN</td>\n",
       "      <td>NaN</td>\n",
       "      <td>0</td>\n",
       "      <td>7</td>\n",
       "      <td>2009</td>\n",
       "      <td>WD</td>\n",
       "      <td>257500</td>\n",
       "    </tr>\n",
       "    <tr>\n",
       "      <th>1306</th>\n",
       "      <td>1752</td>\n",
       "      <td>528250010</td>\n",
       "      <td>80</td>\n",
       "      <td>RL</td>\n",
       "      <td>NaN</td>\n",
       "      <td>11950</td>\n",
       "      <td>Pave</td>\n",
       "      <td>None</td>\n",
       "      <td>IR1</td>\n",
       "      <td>Lvl</td>\n",
       "      <td>...</td>\n",
       "      <td>0</td>\n",
       "      <td>0</td>\n",
       "      <td>NaN</td>\n",
       "      <td>NaN</td>\n",
       "      <td>NaN</td>\n",
       "      <td>0</td>\n",
       "      <td>10</td>\n",
       "      <td>2007</td>\n",
       "      <td>WD</td>\n",
       "      <td>165500</td>\n",
       "    </tr>\n",
       "    <tr>\n",
       "      <th>1430</th>\n",
       "      <td>1185</td>\n",
       "      <td>534104100</td>\n",
       "      <td>60</td>\n",
       "      <td>FV</td>\n",
       "      <td>NaN</td>\n",
       "      <td>7500</td>\n",
       "      <td>Pave</td>\n",
       "      <td>None</td>\n",
       "      <td>Reg</td>\n",
       "      <td>Lvl</td>\n",
       "      <td>...</td>\n",
       "      <td>0</td>\n",
       "      <td>0</td>\n",
       "      <td>NaN</td>\n",
       "      <td>NaN</td>\n",
       "      <td>NaN</td>\n",
       "      <td>0</td>\n",
       "      <td>4</td>\n",
       "      <td>2008</td>\n",
       "      <td>WD</td>\n",
       "      <td>205000</td>\n",
       "    </tr>\n",
       "    <tr>\n",
       "      <th>1434</th>\n",
       "      <td>1128</td>\n",
       "      <td>528480160</td>\n",
       "      <td>60</td>\n",
       "      <td>FV</td>\n",
       "      <td>65.0</td>\n",
       "      <td>8125</td>\n",
       "      <td>Pave</td>\n",
       "      <td>None</td>\n",
       "      <td>Reg</td>\n",
       "      <td>Lvl</td>\n",
       "      <td>...</td>\n",
       "      <td>0</td>\n",
       "      <td>0</td>\n",
       "      <td>NaN</td>\n",
       "      <td>NaN</td>\n",
       "      <td>NaN</td>\n",
       "      <td>0</td>\n",
       "      <td>5</td>\n",
       "      <td>2008</td>\n",
       "      <td>WD</td>\n",
       "      <td>205950</td>\n",
       "    </tr>\n",
       "    <tr>\n",
       "      <th>1606</th>\n",
       "      <td>1096</td>\n",
       "      <td>528290090</td>\n",
       "      <td>60</td>\n",
       "      <td>RL</td>\n",
       "      <td>NaN</td>\n",
       "      <td>7750</td>\n",
       "      <td>Pave</td>\n",
       "      <td>None</td>\n",
       "      <td>Reg</td>\n",
       "      <td>Lvl</td>\n",
       "      <td>...</td>\n",
       "      <td>0</td>\n",
       "      <td>0</td>\n",
       "      <td>NaN</td>\n",
       "      <td>NaN</td>\n",
       "      <td>NaN</td>\n",
       "      <td>0</td>\n",
       "      <td>4</td>\n",
       "      <td>2008</td>\n",
       "      <td>WD</td>\n",
       "      <td>176000</td>\n",
       "    </tr>\n",
       "    <tr>\n",
       "      <th>1699</th>\n",
       "      <td>2261</td>\n",
       "      <td>916384070</td>\n",
       "      <td>20</td>\n",
       "      <td>RL</td>\n",
       "      <td>68.0</td>\n",
       "      <td>8298</td>\n",
       "      <td>Pave</td>\n",
       "      <td>None</td>\n",
       "      <td>IR1</td>\n",
       "      <td>HLS</td>\n",
       "      <td>...</td>\n",
       "      <td>0</td>\n",
       "      <td>0</td>\n",
       "      <td>NaN</td>\n",
       "      <td>NaN</td>\n",
       "      <td>NaN</td>\n",
       "      <td>0</td>\n",
       "      <td>9</td>\n",
       "      <td>2007</td>\n",
       "      <td>New</td>\n",
       "      <td>267300</td>\n",
       "    </tr>\n",
       "    <tr>\n",
       "      <th>1815</th>\n",
       "      <td>2456</td>\n",
       "      <td>528429100</td>\n",
       "      <td>20</td>\n",
       "      <td>RL</td>\n",
       "      <td>49.0</td>\n",
       "      <td>15218</td>\n",
       "      <td>Pave</td>\n",
       "      <td>None</td>\n",
       "      <td>IR1</td>\n",
       "      <td>Lvl</td>\n",
       "      <td>...</td>\n",
       "      <td>0</td>\n",
       "      <td>0</td>\n",
       "      <td>NaN</td>\n",
       "      <td>NaN</td>\n",
       "      <td>NaN</td>\n",
       "      <td>0</td>\n",
       "      <td>9</td>\n",
       "      <td>2006</td>\n",
       "      <td>New</td>\n",
       "      <td>336820</td>\n",
       "    </tr>\n",
       "    <tr>\n",
       "      <th>1820</th>\n",
       "      <td>1728</td>\n",
       "      <td>528218010</td>\n",
       "      <td>60</td>\n",
       "      <td>RL</td>\n",
       "      <td>59.0</td>\n",
       "      <td>15810</td>\n",
       "      <td>Pave</td>\n",
       "      <td>None</td>\n",
       "      <td>IR1</td>\n",
       "      <td>Lvl</td>\n",
       "      <td>...</td>\n",
       "      <td>0</td>\n",
       "      <td>0</td>\n",
       "      <td>NaN</td>\n",
       "      <td>NaN</td>\n",
       "      <td>NaN</td>\n",
       "      <td>0</td>\n",
       "      <td>5</td>\n",
       "      <td>2007</td>\n",
       "      <td>New</td>\n",
       "      <td>181755</td>\n",
       "    </tr>\n",
       "    <tr>\n",
       "      <th>1941</th>\n",
       "      <td>56</td>\n",
       "      <td>528240070</td>\n",
       "      <td>60</td>\n",
       "      <td>RL</td>\n",
       "      <td>NaN</td>\n",
       "      <td>7851</td>\n",
       "      <td>Pave</td>\n",
       "      <td>None</td>\n",
       "      <td>Reg</td>\n",
       "      <td>Lvl</td>\n",
       "      <td>...</td>\n",
       "      <td>0</td>\n",
       "      <td>0</td>\n",
       "      <td>NaN</td>\n",
       "      <td>NaN</td>\n",
       "      <td>NaN</td>\n",
       "      <td>0</td>\n",
       "      <td>5</td>\n",
       "      <td>2010</td>\n",
       "      <td>WD</td>\n",
       "      <td>216500</td>\n",
       "    </tr>\n",
       "  </tbody>\n",
       "</table>\n",
       "<p>22 rows × 81 columns</p>\n",
       "</div>"
      ],
      "text/plain": [
       "        id        pid  ms_subclass ms_zoning  lot_frontage  lot_area street  \\\n",
       "22    2393  528142010           60        RL         103.0     12867   Pave   \n",
       "41    2383  528110050           20        RL         107.0     13891   Pave   \n",
       "86     539  531371050           20        RL          67.0     10083   Pave   \n",
       "212    518  528458020           20        FV          90.0      7993   Pave   \n",
       "276   2824  908130020           20        RL          75.0      8050   Pave   \n",
       "338   1800  528458150           60        FV         112.0     12217   Pave   \n",
       "431   1455  907251090           60        RL          75.0      9473   Pave   \n",
       "451   1120  528439010           20        RL          87.0     10037   Pave   \n",
       "591   1841  533208040          120        FV          35.0      4274   Pave   \n",
       "844   1840  533208030          120        FV          30.0      5330   Pave   \n",
       "913   2230  909475070           20        RL           NaN     32668   Pave   \n",
       "939   1123  528462040           20        FV          95.0     11639   Pave   \n",
       "1025  1784  528435010           20        RL          85.0      9965   Pave   \n",
       "1244   485  528275160           60        RL           NaN     12891   Pave   \n",
       "1306  1752  528250010           80        RL           NaN     11950   Pave   \n",
       "1430  1185  534104100           60        FV           NaN      7500   Pave   \n",
       "1434  1128  528480160           60        FV          65.0      8125   Pave   \n",
       "1606  1096  528290090           60        RL           NaN      7750   Pave   \n",
       "1699  2261  916384070           20        RL          68.0      8298   Pave   \n",
       "1815  2456  528429100           20        RL          49.0     15218   Pave   \n",
       "1820  1728  528218010           60        RL          59.0     15810   Pave   \n",
       "1941    56  528240070           60        RL           NaN      7851   Pave   \n",
       "\n",
       "     alley lot_shape land_contour  ... screen_porch pool_area pool_qc fence  \\\n",
       "22    None       IR1          Lvl  ...            0         0     NaN   NaN   \n",
       "41    None       Reg          Lvl  ...            0         0     NaN   NaN   \n",
       "86    None       Reg          Lvl  ...            0         0     NaN   NaN   \n",
       "212   None       IR1          Lvl  ...            0         0     NaN   NaN   \n",
       "276   None       Reg          Lvl  ...            0         0     NaN   NaN   \n",
       "338   None       IR1          Lvl  ...            0         0     NaN   NaN   \n",
       "431   None       Reg          Lvl  ...            0         0     NaN   NaN   \n",
       "451   None       Reg          Lvl  ...            0         0     NaN   NaN   \n",
       "591   Pave       IR1          Lvl  ...            0         0     NaN   NaN   \n",
       "844   Pave       IR2          Lvl  ...            0         0     NaN   NaN   \n",
       "913   None       IR1          Lvl  ...            0         0     NaN   NaN   \n",
       "939   None       Reg          Lvl  ...            0         0     NaN   NaN   \n",
       "1025  None       Reg          Lvl  ...            0         0     NaN   NaN   \n",
       "1244  None       IR1          Lvl  ...            0         0     NaN   NaN   \n",
       "1306  None       IR1          Lvl  ...            0         0     NaN   NaN   \n",
       "1430  None       Reg          Lvl  ...            0         0     NaN   NaN   \n",
       "1434  None       Reg          Lvl  ...            0         0     NaN   NaN   \n",
       "1606  None       Reg          Lvl  ...            0         0     NaN   NaN   \n",
       "1699  None       IR1          HLS  ...            0         0     NaN   NaN   \n",
       "1815  None       IR1          Lvl  ...            0         0     NaN   NaN   \n",
       "1820  None       IR1          Lvl  ...            0         0     NaN   NaN   \n",
       "1941  None       Reg          Lvl  ...            0         0     NaN   NaN   \n",
       "\n",
       "     misc_feature misc_val mo_sold yr_sold  sale_type  saleprice  \n",
       "22            NaN        0       7    2006        New     344133  \n",
       "41            NaN        0       9    2006        New     465000  \n",
       "86            NaN        0       8    2009        WD      184900  \n",
       "212           NaN        0      10    2009        New     225000  \n",
       "276           NaN        0       4    2006        WD      117250  \n",
       "338           NaN        0      12    2007        New     310013  \n",
       "431           NaN        0       3    2008        WD      237000  \n",
       "451           NaN        0       8    2008        WD      247000  \n",
       "591           NaN        0      11    2007        New     199900  \n",
       "844           NaN        0       7    2007        New     207500  \n",
       "913           NaN        0       3    2007        WD      200624  \n",
       "939           NaN        0      12    2008        New     182000  \n",
       "1025          NaN        0       9    2007        New     235876  \n",
       "1244          NaN        0       7    2009        WD      257500  \n",
       "1306          NaN        0      10    2007        WD      165500  \n",
       "1430          NaN        0       4    2008        WD      205000  \n",
       "1434          NaN        0       5    2008        WD      205950  \n",
       "1606          NaN        0       4    2008        WD      176000  \n",
       "1699          NaN        0       9    2007        New     267300  \n",
       "1815          NaN        0       9    2006        New     336820  \n",
       "1820          NaN        0       5    2007        New     181755  \n",
       "1941          NaN        0       5    2010        WD      216500  \n",
       "\n",
       "[22 rows x 81 columns]"
      ]
     },
     "execution_count": 308,
     "metadata": {},
     "output_type": "execute_result"
    }
   ],
   "source": [
    "df[df['mas_vnr_type'].isna()]"
   ]
  },
  {
   "cell_type": "markdown",
   "id": "88ad37c8-03e2-4f69-aff5-eecc5503cde2",
   "metadata": {},
   "source": [
    "### Masonry Veneer Area"
   ]
  },
  {
   "cell_type": "code",
   "execution_count": 309,
   "id": "4ad58385-1ddf-4a6b-bcac-669a466e052f",
   "metadata": {},
   "outputs": [
    {
     "data": {
      "text/plain": [
       "0.0      1216\n",
       "NaN        22\n",
       "120.0      11\n",
       "176.0      10\n",
       "200.0      10\n",
       "         ... \n",
       "142.0       1\n",
       "215.0       1\n",
       "235.0       1\n",
       "233.0       1\n",
       "426.0       1\n",
       "Name: mas_vnr_area, Length: 374, dtype: int64"
      ]
     },
     "execution_count": 309,
     "metadata": {},
     "output_type": "execute_result"
    }
   ],
   "source": [
    "df['mas_vnr_area'].value_counts(dropna = False)"
   ]
  },
  {
   "cell_type": "code",
   "execution_count": 310,
   "id": "fa0bc8df-be01-4b07-acfe-229b7ae509b7",
   "metadata": {},
   "outputs": [
    {
     "data": {
      "text/plain": [
       "22"
      ]
     },
     "execution_count": 310,
     "metadata": {},
     "output_type": "execute_result"
    }
   ],
   "source": [
    "len(df[(df['mas_vnr_type'].isna()) & (df['mas_vnr_area'].isna())])"
   ]
  },
  {
   "cell_type": "markdown",
   "id": "1e896eb9-0d9a-4d17-8490-ec0c671eb175",
   "metadata": {},
   "source": [
    "The nulls from Masonry Veneer Type and Area are the same ones."
   ]
  },
  {
   "cell_type": "code",
   "execution_count": 384,
   "id": "81cbf277-7481-4cbc-b974-2fbfda45722f",
   "metadata": {},
   "outputs": [],
   "source": [
    "copy_df = df"
   ]
  },
  {
   "cell_type": "markdown",
   "id": "1b814786-1589-4fc1-8c5e-015ae42190b0",
   "metadata": {},
   "source": [
    "I reviewed the .dropna documentation to understand how to target this to the column I wanted (which had the effect of taking care of the other column, since it was the same rows with the relevant NA)"
   ]
  },
  {
   "cell_type": "code",
   "execution_count": 391,
   "id": "e00e9a69-1e34-4b8e-9c67-f7aedcd984c2",
   "metadata": {},
   "outputs": [],
   "source": [
    "df.dropna(subset = 'mas_vnr_type', inplace = True)"
   ]
  },
  {
   "cell_type": "code",
   "execution_count": 392,
   "id": "d84c6895-8748-4bf8-a4fa-fa51f9a618f4",
   "metadata": {},
   "outputs": [
    {
     "data": {
      "text/plain": [
       "0"
      ]
     },
     "execution_count": 392,
     "metadata": {},
     "output_type": "execute_result"
    }
   ],
   "source": [
    "len(df[(df['mas_vnr_type'].isna()) & (df['mas_vnr_area'].isna())])"
   ]
  },
  {
   "cell_type": "code",
   "execution_count": 396,
   "id": "db43b0d5-07f2-413f-8cf4-2a19ff775235",
   "metadata": {},
   "outputs": [],
   "source": [
    "df.to_csv('datasets/draft1_cleaned_train.csv', index = False)"
   ]
  }
 ],
 "metadata": {
  "kernelspec": {
   "display_name": "Python [conda env:dsi]",
   "language": "python",
   "name": "conda-env-dsi-py"
  },
  "language_info": {
   "codemirror_mode": {
    "name": "ipython",
    "version": 3
   },
   "file_extension": ".py",
   "mimetype": "text/x-python",
   "name": "python",
   "nbconvert_exporter": "python",
   "pygments_lexer": "ipython3",
   "version": "3.9.12"
  }
 },
 "nbformat": 4,
 "nbformat_minor": 5
}
