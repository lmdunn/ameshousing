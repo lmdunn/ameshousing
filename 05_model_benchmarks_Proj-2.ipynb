{
 "cells": [
  {
   "cell_type": "code",
   "execution_count": 2,
   "id": "3d92fd00-ec72-4782-8085-5ce4c1684979",
   "metadata": {},
   "outputs": [],
   "source": [
    "import numpy as np\n",
    "import pandas as pd\n",
    "import matplotlib.pyplot as plt\n",
    "import seaborn as sns\n",
    "\n",
    "from sklearn.preprocessing import PolynomialFeatures, StandardScaler\n",
    "from sklearn.model_selection import train_test_split, cross_val_score\n",
    "from sklearn.linear_model import LinearRegression, LogisticRegression\n",
    "from sklearn import metrics\n"
   ]
  },
  {
   "cell_type": "code",
   "execution_count": 6,
   "id": "5626d84f-10d5-4896-b204-10fe872381cd",
   "metadata": {},
   "outputs": [],
   "source": [
    "df = pd.read_csv('datasets/draft2_no_dummies_train.csv')"
   ]
  },
  {
   "cell_type": "code",
   "execution_count": 17,
   "id": "59b28426-ae18-4b19-a521-4b48e04b4506",
   "metadata": {},
   "outputs": [
    {
     "data": {
      "text/html": [
       "<div>\n",
       "<style scoped>\n",
       "    .dataframe tbody tr th:only-of-type {\n",
       "        vertical-align: middle;\n",
       "    }\n",
       "\n",
       "    .dataframe tbody tr th {\n",
       "        vertical-align: top;\n",
       "    }\n",
       "\n",
       "    .dataframe thead th {\n",
       "        text-align: right;\n",
       "    }\n",
       "</style>\n",
       "<table border=\"1\" class=\"dataframe\">\n",
       "  <thead>\n",
       "    <tr style=\"text-align: right;\">\n",
       "      <th></th>\n",
       "      <th>saleprice</th>\n",
       "    </tr>\n",
       "  </thead>\n",
       "  <tbody>\n",
       "    <tr>\n",
       "      <th>saleprice</th>\n",
       "      <td>1.000000</td>\n",
       "    </tr>\n",
       "    <tr>\n",
       "      <th>overall_qual</th>\n",
       "      <td>0.799028</td>\n",
       "    </tr>\n",
       "    <tr>\n",
       "      <th>exter_qual</th>\n",
       "      <td>0.710894</td>\n",
       "    </tr>\n",
       "    <tr>\n",
       "      <th>gr_liv_area</th>\n",
       "      <td>0.698160</td>\n",
       "    </tr>\n",
       "    <tr>\n",
       "      <th>kitchen_qual</th>\n",
       "      <td>0.691090</td>\n",
       "    </tr>\n",
       "  </tbody>\n",
       "</table>\n",
       "</div>"
      ],
      "text/plain": [
       "              saleprice\n",
       "saleprice      1.000000\n",
       "overall_qual   0.799028\n",
       "exter_qual     0.710894\n",
       "gr_liv_area    0.698160\n",
       "kitchen_qual   0.691090"
      ]
     },
     "execution_count": 17,
     "metadata": {},
     "output_type": "execute_result"
    }
   ],
   "source": [
    "correlations = pd.DataFrame(df.corr()['saleprice'].sort_values(ascending = False))\n",
    "correlations.head()"
   ]
  },
  {
   "cell_type": "code",
   "execution_count": 19,
   "id": "0136ea47-6547-42bc-b28d-c598ef93a339",
   "metadata": {},
   "outputs": [
    {
     "data": {
      "text/html": [
       "<div>\n",
       "<style scoped>\n",
       "    .dataframe tbody tr th:only-of-type {\n",
       "        vertical-align: middle;\n",
       "    }\n",
       "\n",
       "    .dataframe tbody tr th {\n",
       "        vertical-align: top;\n",
       "    }\n",
       "\n",
       "    .dataframe thead th {\n",
       "        text-align: right;\n",
       "    }\n",
       "</style>\n",
       "<table border=\"1\" class=\"dataframe\">\n",
       "  <thead>\n",
       "    <tr style=\"text-align: right;\">\n",
       "      <th></th>\n",
       "      <th>corr</th>\n",
       "    </tr>\n",
       "  </thead>\n",
       "  <tbody>\n",
       "    <tr>\n",
       "      <th>saleprice</th>\n",
       "      <td>1.000000</td>\n",
       "    </tr>\n",
       "    <tr>\n",
       "      <th>overall_qual</th>\n",
       "      <td>0.799028</td>\n",
       "    </tr>\n",
       "    <tr>\n",
       "      <th>exter_qual</th>\n",
       "      <td>0.710894</td>\n",
       "    </tr>\n",
       "    <tr>\n",
       "      <th>gr_liv_area</th>\n",
       "      <td>0.698160</td>\n",
       "    </tr>\n",
       "    <tr>\n",
       "      <th>kitchen_qual</th>\n",
       "      <td>0.691090</td>\n",
       "    </tr>\n",
       "  </tbody>\n",
       "</table>\n",
       "</div>"
      ],
      "text/plain": [
       "                  corr\n",
       "saleprice     1.000000\n",
       "overall_qual  0.799028\n",
       "exter_qual    0.710894\n",
       "gr_liv_area   0.698160\n",
       "kitchen_qual  0.691090"
      ]
     },
     "execution_count": 19,
     "metadata": {},
     "output_type": "execute_result"
    }
   ],
   "source": [
    "correlations.rename(columns = {'saleprice': 'corr'}, inplace = True)\n",
    "correlations.head()"
   ]
  },
  {
   "cell_type": "code",
   "execution_count": 74,
   "id": "f3f96d0b-188b-4c76-a41c-d6fef40c215d",
   "metadata": {},
   "outputs": [],
   "source": [
    "corr_above50 = correlations[correlations['corr']>.5].index.tolist()"
   ]
  },
  {
   "cell_type": "code",
   "execution_count": 75,
   "id": "62117886-032f-401d-b98f-5c898be32a28",
   "metadata": {},
   "outputs": [
    {
     "name": "stdout",
     "output_type": "stream",
     "text": [
      "<class 'list'>\n"
     ]
    },
    {
     "data": {
      "text/plain": [
       "['saleprice',\n",
       " 'overall_qual',\n",
       " 'exter_qual',\n",
       " 'gr_liv_area',\n",
       " 'kitchen_qual',\n",
       " 'total_bsmt_sf',\n",
       " '1st_flr_sf',\n",
       " 'year_built',\n",
       " 'year_remod/add',\n",
       " 'full_bath',\n",
       " 'mas_vnr_area',\n",
       " 'totrms_abvgrd']"
      ]
     },
     "execution_count": 75,
     "metadata": {},
     "output_type": "execute_result"
    }
   ],
   "source": [
    "print(type(corr_above50))\n",
    "corr_above50"
   ]
  },
  {
   "cell_type": "code",
   "execution_count": 77,
   "id": "7bb6f7a8-ced1-498f-810b-a30dc92f7953",
   "metadata": {},
   "outputs": [],
   "source": [
    "corr_above50.remove('saleprice')"
   ]
  },
  {
   "cell_type": "code",
   "execution_count": 78,
   "id": "c6b08ba8-bee0-4464-95b0-4daa11653e96",
   "metadata": {},
   "outputs": [
    {
     "name": "stdout",
     "output_type": "stream",
     "text": [
      "['overall_qual', 'exter_qual', 'gr_liv_area', 'kitchen_qual', 'total_bsmt_sf', '1st_flr_sf', 'year_built', 'year_remod/add', 'full_bath', 'mas_vnr_area', 'totrms_abvgrd']\n"
     ]
    }
   ],
   "source": [
    "print(corr_above50)"
   ]
  },
  {
   "cell_type": "code",
   "execution_count": 79,
   "id": "c6dae1e1-943f-450d-a073-f47f88996817",
   "metadata": {},
   "outputs": [],
   "source": [
    "X = df[corr_above50]\n",
    "y = df['saleprice']"
   ]
  },
  {
   "cell_type": "code",
   "execution_count": 80,
   "id": "df3e55f9-8eb1-48c8-beb4-57e0231749cf",
   "metadata": {},
   "outputs": [
    {
     "data": {
      "text/html": [
       "<div>\n",
       "<style scoped>\n",
       "    .dataframe tbody tr th:only-of-type {\n",
       "        vertical-align: middle;\n",
       "    }\n",
       "\n",
       "    .dataframe tbody tr th {\n",
       "        vertical-align: top;\n",
       "    }\n",
       "\n",
       "    .dataframe thead th {\n",
       "        text-align: right;\n",
       "    }\n",
       "</style>\n",
       "<table border=\"1\" class=\"dataframe\">\n",
       "  <thead>\n",
       "    <tr style=\"text-align: right;\">\n",
       "      <th></th>\n",
       "      <th>overall_qual</th>\n",
       "      <th>exter_qual</th>\n",
       "      <th>gr_liv_area</th>\n",
       "      <th>kitchen_qual</th>\n",
       "      <th>total_bsmt_sf</th>\n",
       "      <th>1st_flr_sf</th>\n",
       "      <th>year_built</th>\n",
       "      <th>year_remod/add</th>\n",
       "      <th>full_bath</th>\n",
       "      <th>mas_vnr_area</th>\n",
       "      <th>totrms_abvgrd</th>\n",
       "    </tr>\n",
       "  </thead>\n",
       "  <tbody>\n",
       "    <tr>\n",
       "      <th>0</th>\n",
       "      <td>6</td>\n",
       "      <td>3</td>\n",
       "      <td>1479</td>\n",
       "      <td>3</td>\n",
       "      <td>725.0</td>\n",
       "      <td>725</td>\n",
       "      <td>1976</td>\n",
       "      <td>2005</td>\n",
       "      <td>2</td>\n",
       "      <td>289.0</td>\n",
       "      <td>6</td>\n",
       "    </tr>\n",
       "    <tr>\n",
       "      <th>1</th>\n",
       "      <td>7</td>\n",
       "      <td>3</td>\n",
       "      <td>2122</td>\n",
       "      <td>3</td>\n",
       "      <td>913.0</td>\n",
       "      <td>913</td>\n",
       "      <td>1996</td>\n",
       "      <td>1997</td>\n",
       "      <td>2</td>\n",
       "      <td>132.0</td>\n",
       "      <td>8</td>\n",
       "    </tr>\n",
       "    <tr>\n",
       "      <th>2</th>\n",
       "      <td>5</td>\n",
       "      <td>2</td>\n",
       "      <td>1057</td>\n",
       "      <td>3</td>\n",
       "      <td>1057.0</td>\n",
       "      <td>1057</td>\n",
       "      <td>1953</td>\n",
       "      <td>2007</td>\n",
       "      <td>1</td>\n",
       "      <td>0.0</td>\n",
       "      <td>5</td>\n",
       "    </tr>\n",
       "    <tr>\n",
       "      <th>3</th>\n",
       "      <td>5</td>\n",
       "      <td>2</td>\n",
       "      <td>1444</td>\n",
       "      <td>2</td>\n",
       "      <td>384.0</td>\n",
       "      <td>744</td>\n",
       "      <td>2006</td>\n",
       "      <td>2007</td>\n",
       "      <td>2</td>\n",
       "      <td>0.0</td>\n",
       "      <td>7</td>\n",
       "    </tr>\n",
       "    <tr>\n",
       "      <th>4</th>\n",
       "      <td>6</td>\n",
       "      <td>2</td>\n",
       "      <td>1445</td>\n",
       "      <td>2</td>\n",
       "      <td>676.0</td>\n",
       "      <td>831</td>\n",
       "      <td>1900</td>\n",
       "      <td>1993</td>\n",
       "      <td>2</td>\n",
       "      <td>0.0</td>\n",
       "      <td>6</td>\n",
       "    </tr>\n",
       "  </tbody>\n",
       "</table>\n",
       "</div>"
      ],
      "text/plain": [
       "   overall_qual  exter_qual  gr_liv_area  kitchen_qual  total_bsmt_sf  \\\n",
       "0             6           3         1479             3          725.0   \n",
       "1             7           3         2122             3          913.0   \n",
       "2             5           2         1057             3         1057.0   \n",
       "3             5           2         1444             2          384.0   \n",
       "4             6           2         1445             2          676.0   \n",
       "\n",
       "   1st_flr_sf  year_built  year_remod/add  full_bath  mas_vnr_area  \\\n",
       "0         725        1976            2005          2         289.0   \n",
       "1         913        1996            1997          2         132.0   \n",
       "2        1057        1953            2007          1           0.0   \n",
       "3         744        2006            2007          2           0.0   \n",
       "4         831        1900            1993          2           0.0   \n",
       "\n",
       "   totrms_abvgrd  \n",
       "0              6  \n",
       "1              8  \n",
       "2              5  \n",
       "3              7  \n",
       "4              6  "
      ]
     },
     "execution_count": 80,
     "metadata": {},
     "output_type": "execute_result"
    }
   ],
   "source": [
    "X.head()"
   ]
  },
  {
   "cell_type": "code",
   "execution_count": 81,
   "id": "04a7947f-fa9b-43e3-8d53-32e217109676",
   "metadata": {},
   "outputs": [],
   "source": [
    "X_train_1, X_test_1, y_train_1, y_test_1 = train_test_split(X, y, random_state = 42)"
   ]
  },
  {
   "cell_type": "code",
   "execution_count": 82,
   "id": "b53bee56-8377-453f-b872-59426ba83f89",
   "metadata": {},
   "outputs": [],
   "source": [
    "lr1 = LinearRegression()"
   ]
  },
  {
   "cell_type": "code",
   "execution_count": 83,
   "id": "f440462d-5a66-4100-9e6b-27a3b01656dd",
   "metadata": {},
   "outputs": [
    {
     "data": {
      "text/plain": [
       "LinearRegression()"
      ]
     },
     "execution_count": 83,
     "metadata": {},
     "output_type": "execute_result"
    }
   ],
   "source": [
    "lr1.fit(X_train_1, y_train_1)"
   ]
  },
  {
   "cell_type": "code",
   "execution_count": 88,
   "id": "d1b58457-1701-4ae8-a508-8169204a4ffc",
   "metadata": {},
   "outputs": [
    {
     "data": {
      "text/plain": [
       "array([0.6901737 , 0.84367594, 0.83813819, 0.83513768, 0.67845218])"
      ]
     },
     "execution_count": 88,
     "metadata": {},
     "output_type": "execute_result"
    }
   ],
   "source": [
    "cross_val_score(lr1, X_train_1, y_train_1)"
   ]
  },
  {
   "cell_type": "code",
   "execution_count": 89,
   "id": "27e20dca-7f46-4ab6-a8bc-f732b17fd865",
   "metadata": {},
   "outputs": [
    {
     "data": {
      "text/plain": [
       "0.7771155387544387"
      ]
     },
     "execution_count": 89,
     "metadata": {},
     "output_type": "execute_result"
    }
   ],
   "source": [
    "cross_val_score(lr1, X_train_1, y_train_1).mean()"
   ]
  },
  {
   "cell_type": "code",
   "execution_count": 84,
   "id": "6e2bb918-5de2-4196-b585-514395c8a4ff",
   "metadata": {},
   "outputs": [
    {
     "data": {
      "text/plain": [
       "0.7916893745017548"
      ]
     },
     "execution_count": 84,
     "metadata": {},
     "output_type": "execute_result"
    }
   ],
   "source": [
    "lr1.score(X_train_1, y_train_1)"
   ]
  },
  {
   "cell_type": "code",
   "execution_count": 85,
   "id": "2f42865a-56c5-4a48-a1a3-f00389889c90",
   "metadata": {},
   "outputs": [
    {
     "data": {
      "text/plain": [
       "0.8436992861320319"
      ]
     },
     "execution_count": 85,
     "metadata": {},
     "output_type": "execute_result"
    }
   ],
   "source": [
    "lr1.score(X_test_1, y_test_1)"
   ]
  },
  {
   "cell_type": "markdown",
   "id": "65ad0b96-c8d6-457d-b29a-229f7c915b3f",
   "metadata": {},
   "source": [
    "I'm very happy with this first model. The $r^2$ score for the training data is reasonably high, and the mean of the cross-validation score is also close. The $r^2$ score for the test data is actually higher than for the training data, so the model is not overfit."
   ]
  },
  {
   "cell_type": "code",
   "execution_count": 86,
   "id": "1b83828a-d1ef-4d84-b391-6156c15f1795",
   "metadata": {},
   "outputs": [
    {
     "data": {
      "text/plain": [
       "array([296047.90410374, 213511.41933565, 156257.17375894, 137364.00208469,\n",
       "       264998.51556001])"
      ]
     },
     "execution_count": 86,
     "metadata": {},
     "output_type": "execute_result"
    }
   ],
   "source": [
    "preds1 = lr1.predict(X_test_1)\n",
    "preds1[:5]"
   ]
  },
  {
   "cell_type": "code",
   "execution_count": 97,
   "id": "d09f7246-e188-45d2-afae-9898fb6c69ea",
   "metadata": {},
   "outputs": [
    {
     "data": {
      "text/plain": [
       "180839.1701183432"
      ]
     },
     "execution_count": 97,
     "metadata": {},
     "output_type": "execute_result"
    }
   ],
   "source": [
    "null_pred = y.mean()\n",
    "null_pred"
   ]
  },
  {
   "cell_type": "code",
   "execution_count": 96,
   "id": "a65e262b-b399-4864-b0c8-d40d5d75e5a2",
   "metadata": {},
   "outputs": [
    {
     "data": {
      "text/plain": [
       "(507,)"
      ]
     },
     "execution_count": 96,
     "metadata": {},
     "output_type": "execute_result"
    }
   ],
   "source": [
    "y_test_1.shape"
   ]
  },
  {
   "cell_type": "code",
   "execution_count": 107,
   "id": "bebaba7d-fef0-4e9b-8f0c-6ca9c175c5e5",
   "metadata": {},
   "outputs": [
    {
     "name": "stdout",
     "output_type": "stream",
     "text": [
      "507\n"
     ]
    },
    {
     "data": {
      "text/plain": [
       "[180839.1701183432,\n",
       " 180839.1701183432,\n",
       " 180839.1701183432,\n",
       " 180839.1701183432,\n",
       " 180839.1701183432]"
      ]
     },
     "execution_count": 107,
     "metadata": {},
     "output_type": "execute_result"
    }
   ],
   "source": [
    "null_pred_list = ([null_pred] * 507)\n",
    "print(len(null_pred_list))\n",
    "null_pred_list[:5]"
   ]
  },
  {
   "cell_type": "code",
   "execution_count": 105,
   "id": "8ed22810-a53c-44bd-b151-ff35ae0d3364",
   "metadata": {},
   "outputs": [
    {
     "data": {
      "text/plain": [
       "list"
      ]
     },
     "execution_count": 105,
     "metadata": {},
     "output_type": "execute_result"
    }
   ],
   "source": [
    "type(null_pred_list)"
   ]
  },
  {
   "cell_type": "code",
   "execution_count": 94,
   "id": "813b172a-c1d8-4bad-92d4-11fa0cbbb6ed",
   "metadata": {},
   "outputs": [
    {
     "data": {
      "text/plain": [
       "30006.834937032247"
      ]
     },
     "execution_count": 94,
     "metadata": {},
     "output_type": "execute_result"
    }
   ],
   "source": [
    "#root mean squared error for model\n",
    "metrics.mean_squared_error(y_test_1, preds1, squared = False)"
   ]
  },
  {
   "cell_type": "code",
   "execution_count": 106,
   "id": "519f1984-9b3a-418a-9b87-ae19e1245a96",
   "metadata": {},
   "outputs": [
    {
     "data": {
      "text/plain": [
       "75922.17182221451"
      ]
     },
     "execution_count": 106,
     "metadata": {},
     "output_type": "execute_result"
    }
   ],
   "source": [
    "#root mean squared error for null\n",
    "metrics.mean_squared_error(y_test_1, null_pred_list, squared = False)"
   ]
  },
  {
   "cell_type": "code",
   "execution_count": 108,
   "id": "df712bd7-157e-45b8-8845-af9792b8c871",
   "metadata": {},
   "outputs": [
    {
     "data": {
      "text/plain": [
       "178989.57001972388"
      ]
     },
     "execution_count": 108,
     "metadata": {},
     "output_type": "execute_result"
    }
   ],
   "source": [
    "#the mean of the test data.\n",
    "y_test_1.mean()"
   ]
  },
  {
   "cell_type": "code",
   "execution_count": 109,
   "id": "94b439b4-ce63-4e2d-a858-a33cac81aee0",
   "metadata": {},
   "outputs": [
    {
     "data": {
      "text/plain": [
       "0.16764569019300957"
      ]
     },
     "execution_count": 109,
     "metadata": {},
     "output_type": "execute_result"
    }
   ],
   "source": [
    "30_006.83/178_989.57"
   ]
  },
  {
   "cell_type": "markdown",
   "id": "9304ef14-b6a9-4cf1-bbee-d58844955787",
   "metadata": {},
   "source": [
    "The model RMSE (\\\\$30,006.83) is higher than I'd want in a real world scenario, as it represents an error of 16\\% of the mean sale price in our test data, but the test RMSE represents a significant improvement over the null RMSE (\\\\$75,922.17)"
   ]
  },
  {
   "cell_type": "code",
   "execution_count": 199,
   "id": "66409c11-24d4-424f-9355-626f566f5aea",
   "metadata": {},
   "outputs": [
    {
     "data": {
      "text/plain": [
       "array([14589.5622664 , 14540.97737392,    41.04146751, 13768.58550128,\n",
       "          16.88916597,    17.74760125,   261.09029334,   189.72632137,\n",
       "       -2329.75197393,    42.47498633,  1234.45199744])"
      ]
     },
     "execution_count": 199,
     "metadata": {},
     "output_type": "execute_result"
    }
   ],
   "source": [
    "lr1.coef_"
   ]
  },
  {
   "cell_type": "markdown",
   "id": "8d0f1f5e-12a6-4914-a6f9-2a5337829ba2",
   "metadata": {},
   "source": [
    "Hank helped me work out how to put these together in the 4.04 exercise. I'm referencing the code from that exercise here."
   ]
  },
  {
   "cell_type": "code",
   "execution_count": 202,
   "id": "f8fd7985-68b7-4293-b37f-597227b573a5",
   "metadata": {},
   "outputs": [
    {
     "data": {
      "text/plain": [
       "overall_qual      14589.562266\n",
       "exter_qual        14540.977374\n",
       "gr_liv_area          41.041468\n",
       "kitchen_qual      13768.585501\n",
       "total_bsmt_sf        16.889166\n",
       "1st_flr_sf           17.747601\n",
       "year_built          261.090293\n",
       "year_remod/add      189.726321\n",
       "full_bath         -2329.751974\n",
       "mas_vnr_area         42.474986\n",
       "totrms_abvgrd      1234.451997\n",
       "dtype: float64"
      ]
     },
     "execution_count": 202,
     "metadata": {},
     "output_type": "execute_result"
    }
   ],
   "source": [
    "pd.Series(lr1.coef_, index = X.columns)"
   ]
  },
  {
   "cell_type": "code",
   "execution_count": 203,
   "id": "6d22951b-03a0-4fba-b3db-492c2aa3dee0",
   "metadata": {},
   "outputs": [
    {
     "data": {
      "text/plain": [
       "count    2028.000000\n",
       "mean     1971.357495\n",
       "std        30.147866\n",
       "min      1872.000000\n",
       "25%      1953.000000\n",
       "50%      1973.000000\n",
       "75%      2000.000000\n",
       "max      2010.000000\n",
       "Name: year_built, dtype: float64"
      ]
     },
     "execution_count": 203,
     "metadata": {},
     "output_type": "execute_result"
    }
   ],
   "source": [
    "df['year_built'].describe()"
   ]
  },
  {
   "cell_type": "markdown",
   "id": "9a802536-7887-4306-8a82-4be9d5db886a",
   "metadata": {},
   "source": [
    "# **COME BACK HERE TO LOOK AT THE COEFFICIENTS FURTHER FOR INFERENCE**"
   ]
  },
  {
   "cell_type": "markdown",
   "id": "98f82e3c-4ff8-4c2d-8a13-a0211be43a1f",
   "metadata": {},
   "source": [
    "## First Kaggle Attempt"
   ]
  },
  {
   "cell_type": "code",
   "execution_count": 184,
   "id": "691d44c1-9922-4809-bc33-f28a896142fa",
   "metadata": {},
   "outputs": [
    {
     "data": {
      "text/html": [
       "<div>\n",
       "<style scoped>\n",
       "    .dataframe tbody tr th:only-of-type {\n",
       "        vertical-align: middle;\n",
       "    }\n",
       "\n",
       "    .dataframe tbody tr th {\n",
       "        vertical-align: top;\n",
       "    }\n",
       "\n",
       "    .dataframe thead th {\n",
       "        text-align: right;\n",
       "    }\n",
       "</style>\n",
       "<table border=\"1\" class=\"dataframe\">\n",
       "  <thead>\n",
       "    <tr style=\"text-align: right;\">\n",
       "      <th></th>\n",
       "      <th>id</th>\n",
       "      <th>pid</th>\n",
       "      <th>ms_subclass</th>\n",
       "      <th>ms_zoning</th>\n",
       "      <th>lot_frontage</th>\n",
       "      <th>lot_area</th>\n",
       "      <th>street_surface</th>\n",
       "      <th>alley</th>\n",
       "      <th>lot_shape</th>\n",
       "      <th>land_contour</th>\n",
       "      <th>...</th>\n",
       "      <th>mo_sold</th>\n",
       "      <th>yr_sold</th>\n",
       "      <th>sale_type</th>\n",
       "      <th>saleprice</th>\n",
       "      <th>has_bsmt</th>\n",
       "      <th>has_garage</th>\n",
       "      <th>has_mas_vnr</th>\n",
       "      <th>has_pool</th>\n",
       "      <th>has_alley</th>\n",
       "      <th>has_fireplace</th>\n",
       "    </tr>\n",
       "  </thead>\n",
       "  <tbody>\n",
       "    <tr>\n",
       "      <th>0</th>\n",
       "      <td>2658</td>\n",
       "      <td>902301120</td>\n",
       "      <td>190</td>\n",
       "      <td>RM</td>\n",
       "      <td>69.0</td>\n",
       "      <td>9142</td>\n",
       "      <td>1</td>\n",
       "      <td>Grvl</td>\n",
       "      <td>0</td>\n",
       "      <td>Lvl</td>\n",
       "      <td>...</td>\n",
       "      <td>4</td>\n",
       "      <td>2006</td>\n",
       "      <td>WD</td>\n",
       "      <td>0</td>\n",
       "      <td>1</td>\n",
       "      <td>1</td>\n",
       "      <td>0</td>\n",
       "      <td>0</td>\n",
       "      <td>1</td>\n",
       "      <td>0</td>\n",
       "    </tr>\n",
       "    <tr>\n",
       "      <th>1</th>\n",
       "      <td>2718</td>\n",
       "      <td>905108090</td>\n",
       "      <td>90</td>\n",
       "      <td>RL</td>\n",
       "      <td>0.0</td>\n",
       "      <td>9662</td>\n",
       "      <td>1</td>\n",
       "      <td>None</td>\n",
       "      <td>1</td>\n",
       "      <td>Lvl</td>\n",
       "      <td>...</td>\n",
       "      <td>8</td>\n",
       "      <td>2006</td>\n",
       "      <td>WD</td>\n",
       "      <td>0</td>\n",
       "      <td>1</td>\n",
       "      <td>1</td>\n",
       "      <td>0</td>\n",
       "      <td>0</td>\n",
       "      <td>0</td>\n",
       "      <td>0</td>\n",
       "    </tr>\n",
       "    <tr>\n",
       "      <th>2</th>\n",
       "      <td>2414</td>\n",
       "      <td>528218130</td>\n",
       "      <td>60</td>\n",
       "      <td>RL</td>\n",
       "      <td>58.0</td>\n",
       "      <td>17104</td>\n",
       "      <td>1</td>\n",
       "      <td>None</td>\n",
       "      <td>1</td>\n",
       "      <td>Lvl</td>\n",
       "      <td>...</td>\n",
       "      <td>9</td>\n",
       "      <td>2006</td>\n",
       "      <td>New</td>\n",
       "      <td>0</td>\n",
       "      <td>1</td>\n",
       "      <td>1</td>\n",
       "      <td>0</td>\n",
       "      <td>0</td>\n",
       "      <td>0</td>\n",
       "      <td>1</td>\n",
       "    </tr>\n",
       "    <tr>\n",
       "      <th>3</th>\n",
       "      <td>1989</td>\n",
       "      <td>902207150</td>\n",
       "      <td>30</td>\n",
       "      <td>RM</td>\n",
       "      <td>60.0</td>\n",
       "      <td>8520</td>\n",
       "      <td>1</td>\n",
       "      <td>None</td>\n",
       "      <td>0</td>\n",
       "      <td>Lvl</td>\n",
       "      <td>...</td>\n",
       "      <td>7</td>\n",
       "      <td>2007</td>\n",
       "      <td>WD</td>\n",
       "      <td>0</td>\n",
       "      <td>1</td>\n",
       "      <td>1</td>\n",
       "      <td>0</td>\n",
       "      <td>0</td>\n",
       "      <td>0</td>\n",
       "      <td>0</td>\n",
       "    </tr>\n",
       "    <tr>\n",
       "      <th>4</th>\n",
       "      <td>625</td>\n",
       "      <td>535105100</td>\n",
       "      <td>20</td>\n",
       "      <td>RL</td>\n",
       "      <td>0.0</td>\n",
       "      <td>9500</td>\n",
       "      <td>1</td>\n",
       "      <td>None</td>\n",
       "      <td>1</td>\n",
       "      <td>Lvl</td>\n",
       "      <td>...</td>\n",
       "      <td>7</td>\n",
       "      <td>2009</td>\n",
       "      <td>WD</td>\n",
       "      <td>0</td>\n",
       "      <td>1</td>\n",
       "      <td>1</td>\n",
       "      <td>1</td>\n",
       "      <td>0</td>\n",
       "      <td>0</td>\n",
       "      <td>1</td>\n",
       "    </tr>\n",
       "  </tbody>\n",
       "</table>\n",
       "<p>5 rows × 86 columns</p>\n",
       "</div>"
      ],
      "text/plain": [
       "     id        pid  ms_subclass ms_zoning  lot_frontage  lot_area  \\\n",
       "0  2658  902301120          190        RM          69.0      9142   \n",
       "1  2718  905108090           90        RL           0.0      9662   \n",
       "2  2414  528218130           60        RL          58.0     17104   \n",
       "3  1989  902207150           30        RM          60.0      8520   \n",
       "4   625  535105100           20        RL           0.0      9500   \n",
       "\n",
       "   street_surface alley  lot_shape land_contour  ... mo_sold  yr_sold  \\\n",
       "0               1  Grvl          0          Lvl  ...       4     2006   \n",
       "1               1  None          1          Lvl  ...       8     2006   \n",
       "2               1  None          1          Lvl  ...       9     2006   \n",
       "3               1  None          0          Lvl  ...       7     2007   \n",
       "4               1  None          1          Lvl  ...       7     2009   \n",
       "\n",
       "  sale_type saleprice has_bsmt has_garage has_mas_vnr  has_pool  has_alley  \\\n",
       "0       WD          0        1          1           0         0          1   \n",
       "1       WD          0        1          1           0         0          0   \n",
       "2       New         0        1          1           0         0          0   \n",
       "3       WD          0        1          1           0         0          0   \n",
       "4       WD          0        1          1           1         0          0   \n",
       "\n",
       "   has_fireplace  \n",
       "0              0  \n",
       "1              0  \n",
       "2              1  \n",
       "3              0  \n",
       "4              1  \n",
       "\n",
       "[5 rows x 86 columns]"
      ]
     },
     "execution_count": 184,
     "metadata": {},
     "output_type": "execute_result"
    }
   ],
   "source": [
    "kaggledf = pd.read_csv('datasets/draft2_no_dummies_kaggle_test.csv')\n",
    "kaggledf.head()"
   ]
  },
  {
   "cell_type": "code",
   "execution_count": 185,
   "id": "59dbb042-ff96-451c-84d9-bca681a85a68",
   "metadata": {},
   "outputs": [],
   "source": [
    "X_k = kaggledf[corr_above50]"
   ]
  },
  {
   "cell_type": "code",
   "execution_count": 186,
   "id": "5e82bd75-69c5-452b-9bb2-ffea964f3e00",
   "metadata": {},
   "outputs": [
    {
     "data": {
      "text/plain": [
       "(878, 11)"
      ]
     },
     "execution_count": 186,
     "metadata": {},
     "output_type": "execute_result"
    }
   ],
   "source": [
    "X_k.shape"
   ]
  },
  {
   "cell_type": "code",
   "execution_count": 187,
   "id": "6a07ef0d-815e-4b21-a7cd-c3b103ab27f0",
   "metadata": {},
   "outputs": [],
   "source": [
    "predsk1 = lr1.predict(X_k)"
   ]
  },
  {
   "cell_type": "code",
   "execution_count": 188,
   "id": "290e3d50-4a4b-4747-816d-a799ac49cd49",
   "metadata": {},
   "outputs": [
    {
     "data": {
      "text/plain": [
       "(878,)"
      ]
     },
     "execution_count": 188,
     "metadata": {},
     "output_type": "execute_result"
    }
   ],
   "source": [
    "predsk1.shape"
   ]
  },
  {
   "cell_type": "code",
   "execution_count": 189,
   "id": "a8686930-8d0e-481f-b27d-ec8e42435892",
   "metadata": {},
   "outputs": [
    {
     "data": {
      "text/plain": [
       "array([140870.02041902, 200288.52311187, 202516.40581009, 126787.62345763,\n",
       "       173086.28988017])"
      ]
     },
     "execution_count": 189,
     "metadata": {},
     "output_type": "execute_result"
    }
   ],
   "source": [
    "predsk1[:5]"
   ]
  },
  {
   "cell_type": "code",
   "execution_count": 190,
   "id": "15a36afc-f072-4c9d-ada8-c8b085870e47",
   "metadata": {},
   "outputs": [],
   "source": [
    "kaggledf['saleprice'] = predsk1"
   ]
  },
  {
   "cell_type": "code",
   "execution_count": 191,
   "id": "9d75aeae-6c4c-4a02-8d4e-07f4055763a3",
   "metadata": {},
   "outputs": [],
   "source": [
    "lr1_submission = kaggledf[['id', 'saleprice']]"
   ]
  },
  {
   "cell_type": "code",
   "execution_count": 192,
   "id": "4741f884-b1ae-4ebb-90e4-3dd025bba588",
   "metadata": {},
   "outputs": [
    {
     "data": {
      "text/html": [
       "<div>\n",
       "<style scoped>\n",
       "    .dataframe tbody tr th:only-of-type {\n",
       "        vertical-align: middle;\n",
       "    }\n",
       "\n",
       "    .dataframe tbody tr th {\n",
       "        vertical-align: top;\n",
       "    }\n",
       "\n",
       "    .dataframe thead th {\n",
       "        text-align: right;\n",
       "    }\n",
       "</style>\n",
       "<table border=\"1\" class=\"dataframe\">\n",
       "  <thead>\n",
       "    <tr style=\"text-align: right;\">\n",
       "      <th></th>\n",
       "      <th>id</th>\n",
       "      <th>saleprice</th>\n",
       "    </tr>\n",
       "  </thead>\n",
       "  <tbody>\n",
       "    <tr>\n",
       "      <th>0</th>\n",
       "      <td>2658</td>\n",
       "      <td>140870.020419</td>\n",
       "    </tr>\n",
       "    <tr>\n",
       "      <th>1</th>\n",
       "      <td>2718</td>\n",
       "      <td>200288.523112</td>\n",
       "    </tr>\n",
       "    <tr>\n",
       "      <th>2</th>\n",
       "      <td>2414</td>\n",
       "      <td>202516.405810</td>\n",
       "    </tr>\n",
       "    <tr>\n",
       "      <th>3</th>\n",
       "      <td>1989</td>\n",
       "      <td>126787.623458</td>\n",
       "    </tr>\n",
       "    <tr>\n",
       "      <th>4</th>\n",
       "      <td>625</td>\n",
       "      <td>173086.289880</td>\n",
       "    </tr>\n",
       "  </tbody>\n",
       "</table>\n",
       "</div>"
      ],
      "text/plain": [
       "     id      saleprice\n",
       "0  2658  140870.020419\n",
       "1  2718  200288.523112\n",
       "2  2414  202516.405810\n",
       "3  1989  126787.623458\n",
       "4   625  173086.289880"
      ]
     },
     "execution_count": 192,
     "metadata": {},
     "output_type": "execute_result"
    }
   ],
   "source": [
    "lr1_submission.head()"
   ]
  },
  {
   "cell_type": "markdown",
   "id": "c8d22e67-a1a8-4f79-a9e9-65c62791425f",
   "metadata": {},
   "source": [
    "I used [this site](https://www.geeksforgeeks.org/change-the-data-type-of-a-column-or-a-pandas-series/) to remind myself of a method to change a column's datatype."
   ]
  },
  {
   "cell_type": "code",
   "execution_count": 193,
   "id": "def3aa2e-ef9b-4226-b50e-9dd3f4f412df",
   "metadata": {},
   "outputs": [],
   "source": [
    "lr1_submission = lr1_submission.astype({'id': int})"
   ]
  },
  {
   "cell_type": "code",
   "execution_count": 194,
   "id": "b35fbcd3-4975-4489-941a-bada714a8710",
   "metadata": {},
   "outputs": [
    {
     "data": {
      "text/html": [
       "<div>\n",
       "<style scoped>\n",
       "    .dataframe tbody tr th:only-of-type {\n",
       "        vertical-align: middle;\n",
       "    }\n",
       "\n",
       "    .dataframe tbody tr th {\n",
       "        vertical-align: top;\n",
       "    }\n",
       "\n",
       "    .dataframe thead th {\n",
       "        text-align: right;\n",
       "    }\n",
       "</style>\n",
       "<table border=\"1\" class=\"dataframe\">\n",
       "  <thead>\n",
       "    <tr style=\"text-align: right;\">\n",
       "      <th></th>\n",
       "      <th>id</th>\n",
       "      <th>saleprice</th>\n",
       "    </tr>\n",
       "  </thead>\n",
       "  <tbody>\n",
       "    <tr>\n",
       "      <th>0</th>\n",
       "      <td>2658</td>\n",
       "      <td>140870.020419</td>\n",
       "    </tr>\n",
       "    <tr>\n",
       "      <th>1</th>\n",
       "      <td>2718</td>\n",
       "      <td>200288.523112</td>\n",
       "    </tr>\n",
       "    <tr>\n",
       "      <th>2</th>\n",
       "      <td>2414</td>\n",
       "      <td>202516.405810</td>\n",
       "    </tr>\n",
       "    <tr>\n",
       "      <th>3</th>\n",
       "      <td>1989</td>\n",
       "      <td>126787.623458</td>\n",
       "    </tr>\n",
       "    <tr>\n",
       "      <th>4</th>\n",
       "      <td>625</td>\n",
       "      <td>173086.289880</td>\n",
       "    </tr>\n",
       "  </tbody>\n",
       "</table>\n",
       "</div>"
      ],
      "text/plain": [
       "     id      saleprice\n",
       "0  2658  140870.020419\n",
       "1  2718  200288.523112\n",
       "2  2414  202516.405810\n",
       "3  1989  126787.623458\n",
       "4   625  173086.289880"
      ]
     },
     "execution_count": 194,
     "metadata": {},
     "output_type": "execute_result"
    }
   ],
   "source": [
    "lr1_submission.head()"
   ]
  },
  {
   "cell_type": "code",
   "execution_count": 195,
   "id": "d71b8451-3a30-4f68-9f88-15b505a33e80",
   "metadata": {
    "jp-MarkdownHeadingCollapsed": true,
    "tags": []
   },
   "outputs": [
    {
     "data": {
      "text/plain": [
       "(878, 2)"
      ]
     },
     "execution_count": 195,
     "metadata": {},
     "output_type": "execute_result"
    }
   ],
   "source": [
    "lr1_submission.shape"
   ]
  },
  {
   "cell_type": "code",
   "execution_count": 196,
   "id": "53a280b3-9f54-49b7-9bde-5902c6aa895e",
   "metadata": {},
   "outputs": [],
   "source": [
    "lr1_submission.set_index('id', inplace = True)"
   ]
  },
  {
   "cell_type": "code",
   "execution_count": 197,
   "id": "0aa8e2ce-92ad-49d6-8afe-af006d8ebb1f",
   "metadata": {},
   "outputs": [
    {
     "data": {
      "text/html": [
       "<div>\n",
       "<style scoped>\n",
       "    .dataframe tbody tr th:only-of-type {\n",
       "        vertical-align: middle;\n",
       "    }\n",
       "\n",
       "    .dataframe tbody tr th {\n",
       "        vertical-align: top;\n",
       "    }\n",
       "\n",
       "    .dataframe thead th {\n",
       "        text-align: right;\n",
       "    }\n",
       "</style>\n",
       "<table border=\"1\" class=\"dataframe\">\n",
       "  <thead>\n",
       "    <tr style=\"text-align: right;\">\n",
       "      <th></th>\n",
       "      <th>saleprice</th>\n",
       "    </tr>\n",
       "    <tr>\n",
       "      <th>id</th>\n",
       "      <th></th>\n",
       "    </tr>\n",
       "  </thead>\n",
       "  <tbody>\n",
       "    <tr>\n",
       "      <th>2658</th>\n",
       "      <td>140870.020419</td>\n",
       "    </tr>\n",
       "    <tr>\n",
       "      <th>2718</th>\n",
       "      <td>200288.523112</td>\n",
       "    </tr>\n",
       "  </tbody>\n",
       "</table>\n",
       "</div>"
      ],
      "text/plain": [
       "          saleprice\n",
       "id                 \n",
       "2658  140870.020419\n",
       "2718  200288.523112"
      ]
     },
     "execution_count": 197,
     "metadata": {},
     "output_type": "execute_result"
    }
   ],
   "source": [
    "lr1_submission.head(2)"
   ]
  },
  {
   "cell_type": "code",
   "execution_count": 198,
   "id": "a4635d3d-a5f5-4e09-bd49-40ee14cd4b69",
   "metadata": {
    "jp-MarkdownHeadingCollapsed": true,
    "tags": []
   },
   "outputs": [],
   "source": [
    "lr1_submission.to_csv('kaggle_submissions/lr1_submission.csv')"
   ]
  },
  {
   "cell_type": "markdown",
   "id": "523b77bb-35af-4e56-8071-ea6ca95d1ee8",
   "metadata": {},
   "source": [
    "# Feature engineering - Interaction Terms 1 using Polynomial Features\n",
    "I worked through this, evaluated it, then prepped the Kaggle test data."
   ]
  },
  {
   "cell_type": "code",
   "execution_count": 207,
   "id": "34651c8d-0082-4eef-a1fc-6640de313da2",
   "metadata": {},
   "outputs": [],
   "source": [
    "poly1 = PolynomialFeatures(include_bias = False)"
   ]
  },
  {
   "cell_type": "code",
   "execution_count": 208,
   "id": "4fa6dab9-1356-40a6-9635-3ee451c330ca",
   "metadata": {},
   "outputs": [
    {
     "data": {
      "text/plain": [
       "PolynomialFeatures(include_bias=False)"
      ]
     },
     "execution_count": 208,
     "metadata": {},
     "output_type": "execute_result"
    }
   ],
   "source": [
    "poly1"
   ]
  },
  {
   "cell_type": "code",
   "execution_count": 219,
   "id": "b76942d9-db0d-4050-95aa-7c27a7284ca1",
   "metadata": {},
   "outputs": [],
   "source": [
    "X_poly_train1 = poly1.fit_transform(X_train_1)"
   ]
  },
  {
   "cell_type": "code",
   "execution_count": null,
   "id": "f7be5fcd-58ab-4a77-a970-93792353c3f9",
   "metadata": {},
   "outputs": [],
   "source": [
    "X_poly_test1 = poly1.fit_transform(X_test_1)"
   ]
  },
  {
   "cell_type": "code",
   "execution_count": 232,
   "id": "975cb1ca-3be9-40cc-9f7e-101924952b2a",
   "metadata": {},
   "outputs": [],
   "source": [
    "lr1_2 = LinearRegression()"
   ]
  },
  {
   "cell_type": "code",
   "execution_count": 233,
   "id": "54d9940a-a493-475f-b6ab-5de5962773de",
   "metadata": {},
   "outputs": [
    {
     "data": {
      "text/plain": [
       "LinearRegression()"
      ]
     },
     "execution_count": 233,
     "metadata": {},
     "output_type": "execute_result"
    }
   ],
   "source": [
    "lr1_2.fit(X_poly_train1, y_train_1)"
   ]
  },
  {
   "cell_type": "code",
   "execution_count": 234,
   "id": "0545af46-b562-4ec3-9655-833f98642ec6",
   "metadata": {},
   "outputs": [
    {
     "data": {
      "text/plain": [
       "0.8960460555737353"
      ]
     },
     "execution_count": 234,
     "metadata": {},
     "output_type": "execute_result"
    }
   ],
   "source": [
    "lr1_2.score(X_poly_train1, y_train_1)"
   ]
  },
  {
   "cell_type": "code",
   "execution_count": 235,
   "id": "0491cc08-15aa-465b-8c2d-972b7bc16344",
   "metadata": {},
   "outputs": [
    {
     "data": {
      "text/plain": [
       "0.8758629643693665"
      ]
     },
     "execution_count": 235,
     "metadata": {},
     "output_type": "execute_result"
    }
   ],
   "source": [
    "lr1_2.score(X_poly_test1, y_test_1)"
   ]
  },
  {
   "cell_type": "code",
   "execution_count": 236,
   "id": "01265b84-4565-4a0b-80e5-ea3fbe8d2183",
   "metadata": {},
   "outputs": [
    {
     "data": {
      "text/plain": [
       "0.8140987984337507"
      ]
     },
     "execution_count": 236,
     "metadata": {},
     "output_type": "execute_result"
    }
   ],
   "source": [
    "cross_val_score(lr1_2, X_poly_train1, y_train_1).mean()"
   ]
  },
  {
   "cell_type": "code",
   "execution_count": 271,
   "id": "7d2907f6-f16d-4d7d-96ee-cf8e0cface3a",
   "metadata": {},
   "outputs": [],
   "source": [
    "# for Kaggle DF\n",
    "\n",
    "X_k_poly_1 = poly1.fit_transform(X_k)"
   ]
  },
  {
   "cell_type": "code",
   "execution_count": 272,
   "id": "98d6e14a-5ab1-4153-b07f-e2b6b8137324",
   "metadata": {},
   "outputs": [],
   "source": [
    "predsk2 = lr1_2.predict(X_k_poly_1)"
   ]
  },
  {
   "cell_type": "code",
   "execution_count": 278,
   "id": "d32ea01b-60f0-4bc5-96af-b704f86541c9",
   "metadata": {},
   "outputs": [],
   "source": [
    "lr1_2submission = lr1_submission.copy()"
   ]
  },
  {
   "cell_type": "code",
   "execution_count": 279,
   "id": "15aef7a7-12a9-4801-a1a0-cf054aac9dad",
   "metadata": {},
   "outputs": [
    {
     "data": {
      "text/html": [
       "<div>\n",
       "<style scoped>\n",
       "    .dataframe tbody tr th:only-of-type {\n",
       "        vertical-align: middle;\n",
       "    }\n",
       "\n",
       "    .dataframe tbody tr th {\n",
       "        vertical-align: top;\n",
       "    }\n",
       "\n",
       "    .dataframe thead th {\n",
       "        text-align: right;\n",
       "    }\n",
       "</style>\n",
       "<table border=\"1\" class=\"dataframe\">\n",
       "  <thead>\n",
       "    <tr style=\"text-align: right;\">\n",
       "      <th></th>\n",
       "      <th>saleprice</th>\n",
       "    </tr>\n",
       "    <tr>\n",
       "      <th>id</th>\n",
       "      <th></th>\n",
       "    </tr>\n",
       "  </thead>\n",
       "  <tbody>\n",
       "    <tr>\n",
       "      <th>2658</th>\n",
       "      <td>140870.020419</td>\n",
       "    </tr>\n",
       "    <tr>\n",
       "      <th>2718</th>\n",
       "      <td>200288.523112</td>\n",
       "    </tr>\n",
       "    <tr>\n",
       "      <th>2414</th>\n",
       "      <td>202516.405810</td>\n",
       "    </tr>\n",
       "    <tr>\n",
       "      <th>1989</th>\n",
       "      <td>126787.623458</td>\n",
       "    </tr>\n",
       "    <tr>\n",
       "      <th>625</th>\n",
       "      <td>173086.289880</td>\n",
       "    </tr>\n",
       "  </tbody>\n",
       "</table>\n",
       "</div>"
      ],
      "text/plain": [
       "          saleprice\n",
       "id                 \n",
       "2658  140870.020419\n",
       "2718  200288.523112\n",
       "2414  202516.405810\n",
       "1989  126787.623458\n",
       "625   173086.289880"
      ]
     },
     "execution_count": 279,
     "metadata": {},
     "output_type": "execute_result"
    }
   ],
   "source": [
    "lr1_2submission.head()"
   ]
  },
  {
   "cell_type": "code",
   "execution_count": 280,
   "id": "0b7c18b2-229e-4352-b23f-e97362e0f37d",
   "metadata": {},
   "outputs": [],
   "source": [
    "lr1_2submission['saleprice'] = predsk2"
   ]
  },
  {
   "cell_type": "code",
   "execution_count": 281,
   "id": "42696415-ede6-4ea5-80a6-081e38f0ac22",
   "metadata": {},
   "outputs": [
    {
     "data": {
      "text/html": [
       "<div>\n",
       "<style scoped>\n",
       "    .dataframe tbody tr th:only-of-type {\n",
       "        vertical-align: middle;\n",
       "    }\n",
       "\n",
       "    .dataframe tbody tr th {\n",
       "        vertical-align: top;\n",
       "    }\n",
       "\n",
       "    .dataframe thead th {\n",
       "        text-align: right;\n",
       "    }\n",
       "</style>\n",
       "<table border=\"1\" class=\"dataframe\">\n",
       "  <thead>\n",
       "    <tr style=\"text-align: right;\">\n",
       "      <th></th>\n",
       "      <th>saleprice</th>\n",
       "    </tr>\n",
       "    <tr>\n",
       "      <th>id</th>\n",
       "      <th></th>\n",
       "    </tr>\n",
       "  </thead>\n",
       "  <tbody>\n",
       "    <tr>\n",
       "      <th>2658</th>\n",
       "      <td>148307.435681</td>\n",
       "    </tr>\n",
       "    <tr>\n",
       "      <th>2718</th>\n",
       "      <td>152657.518099</td>\n",
       "    </tr>\n",
       "    <tr>\n",
       "      <th>2414</th>\n",
       "      <td>164377.607226</td>\n",
       "    </tr>\n",
       "    <tr>\n",
       "      <th>1989</th>\n",
       "      <td>123334.485195</td>\n",
       "    </tr>\n",
       "    <tr>\n",
       "      <th>625</th>\n",
       "      <td>171071.038972</td>\n",
       "    </tr>\n",
       "  </tbody>\n",
       "</table>\n",
       "</div>"
      ],
      "text/plain": [
       "          saleprice\n",
       "id                 \n",
       "2658  148307.435681\n",
       "2718  152657.518099\n",
       "2414  164377.607226\n",
       "1989  123334.485195\n",
       "625   171071.038972"
      ]
     },
     "execution_count": 281,
     "metadata": {},
     "output_type": "execute_result"
    }
   ],
   "source": [
    "lr1_2submission.head()"
   ]
  },
  {
   "cell_type": "code",
   "execution_count": 282,
   "id": "f744d091-13e9-441a-9469-04758da1d71c",
   "metadata": {},
   "outputs": [],
   "source": [
    "lr1_2submission.to_csv('kaggle_submissions/lr1_2submission.csv')"
   ]
  },
  {
   "cell_type": "markdown",
   "id": "9160f157-9fb0-4d01-9fc3-de0121f670e8",
   "metadata": {},
   "source": [
    "-----"
   ]
  },
  {
   "cell_type": "markdown",
   "id": "2748065a-994a-4bf3-81ea-d18b8d45cb2e",
   "metadata": {},
   "source": [
    "The mean cross val above is a bit lower than the train score. I'm going to try playing with taking out a couple things I think might be overfit. See below.\n",
    "\n",
    "After determining removing Overall Quality didn't help, I decided to proceed with evalyating lr1_2."
   ]
  },
  {
   "cell_type": "code",
   "execution_count": 263,
   "id": "f14ac5df-8abe-436a-a5bd-b09ace76ff7b",
   "metadata": {},
   "outputs": [],
   "source": [
    "preds1_2 = lr1_2.predict(X_poly_test1)"
   ]
  },
  {
   "cell_type": "code",
   "execution_count": 265,
   "id": "d9a87f4d-6835-4a0f-8233-d6561f38c442",
   "metadata": {},
   "outputs": [
    {
     "data": {
      "text/plain": [
       "(507,)"
      ]
     },
     "execution_count": 265,
     "metadata": {},
     "output_type": "execute_result"
    }
   ],
   "source": [
    "y_test_1.shape"
   ]
  },
  {
   "cell_type": "code",
   "execution_count": 268,
   "id": "07aab850-4a55-4f6b-ab52-9a2409cfdc81",
   "metadata": {},
   "outputs": [
    {
     "data": {
      "text/plain": [
       "507"
      ]
     },
     "execution_count": 268,
     "metadata": {},
     "output_type": "execute_result"
    }
   ],
   "source": [
    "len(X_poly_test1)"
   ]
  },
  {
   "cell_type": "code",
   "execution_count": 269,
   "id": "7b8a1494-467d-4409-83eb-288e9b6be213",
   "metadata": {},
   "outputs": [
    {
     "data": {
      "text/plain": [
       "26741.78505207465"
      ]
     },
     "execution_count": 269,
     "metadata": {},
     "output_type": "execute_result"
    }
   ],
   "source": [
    "metrics.mean_squared_error(y_test_1, preds1_2, squared = False)"
   ]
  },
  {
   "cell_type": "code",
   "execution_count": 270,
   "id": "6e19d773-c26d-4e65-9970-f06d74094f72",
   "metadata": {},
   "outputs": [
    {
     "data": {
      "text/plain": [
       "75922.17182221451"
      ]
     },
     "execution_count": 270,
     "metadata": {},
     "output_type": "execute_result"
    }
   ],
   "source": [
    "#root mean squared error for null\n",
    "metrics.mean_squared_error(y_test_1, null_pred_list, squared = False)"
   ]
  },
  {
   "cell_type": "markdown",
   "id": "be96d87c-6e0f-4ac3-bfce-8456dd4d4fad",
   "metadata": {},
   "source": [
    "This RMSE of \\\\$26,741 represents an improvement over lr_1's RMSE (\\\\$30,006.83) and a significant improvement over the null RMSE (\\\\$75,922.17)."
   ]
  },
  {
   "cell_type": "code",
   "execution_count": null,
   "id": "e9e475f2-a918-4832-8c0d-7aeaa5468659",
   "metadata": {},
   "outputs": [],
   "source": []
  },
  {
   "cell_type": "markdown",
   "id": "8f89bc0b-7ce7-481d-a541-1519788d580a",
   "metadata": {},
   "source": [
    "-------"
   ]
  },
  {
   "cell_type": "markdown",
   "id": "7f18e32b-9e16-4e6c-9d10-267fa70f0308",
   "metadata": {
    "jp-MarkdownHeadingCollapsed": true,
    "tags": []
   },
   "source": [
    "# Playing with Removing Overall Quality both without and with interaction terms.\n",
    "\n",
    "I suspected overall quality wasn't independent of other features here, but removing it didn't really seem to help that. See below."
   ]
  },
  {
   "cell_type": "code",
   "execution_count": 226,
   "id": "ff0d7c22-da22-4b72-8e39-bacc973c79dd",
   "metadata": {},
   "outputs": [
    {
     "data": {
      "text/html": [
       "<div>\n",
       "<style scoped>\n",
       "    .dataframe tbody tr th:only-of-type {\n",
       "        vertical-align: middle;\n",
       "    }\n",
       "\n",
       "    .dataframe tbody tr th {\n",
       "        vertical-align: top;\n",
       "    }\n",
       "\n",
       "    .dataframe thead th {\n",
       "        text-align: right;\n",
       "    }\n",
       "</style>\n",
       "<table border=\"1\" class=\"dataframe\">\n",
       "  <thead>\n",
       "    <tr style=\"text-align: right;\">\n",
       "      <th></th>\n",
       "      <th>overall_qual</th>\n",
       "      <th>exter_qual</th>\n",
       "      <th>gr_liv_area</th>\n",
       "      <th>kitchen_qual</th>\n",
       "      <th>total_bsmt_sf</th>\n",
       "      <th>1st_flr_sf</th>\n",
       "      <th>year_built</th>\n",
       "      <th>year_remod/add</th>\n",
       "      <th>full_bath</th>\n",
       "      <th>mas_vnr_area</th>\n",
       "      <th>totrms_abvgrd</th>\n",
       "    </tr>\n",
       "  </thead>\n",
       "  <tbody>\n",
       "    <tr>\n",
       "      <th>0</th>\n",
       "      <td>6</td>\n",
       "      <td>3</td>\n",
       "      <td>1479</td>\n",
       "      <td>3</td>\n",
       "      <td>725.0</td>\n",
       "      <td>725</td>\n",
       "      <td>1976</td>\n",
       "      <td>2005</td>\n",
       "      <td>2</td>\n",
       "      <td>289.0</td>\n",
       "      <td>6</td>\n",
       "    </tr>\n",
       "    <tr>\n",
       "      <th>1</th>\n",
       "      <td>7</td>\n",
       "      <td>3</td>\n",
       "      <td>2122</td>\n",
       "      <td>3</td>\n",
       "      <td>913.0</td>\n",
       "      <td>913</td>\n",
       "      <td>1996</td>\n",
       "      <td>1997</td>\n",
       "      <td>2</td>\n",
       "      <td>132.0</td>\n",
       "      <td>8</td>\n",
       "    </tr>\n",
       "    <tr>\n",
       "      <th>2</th>\n",
       "      <td>5</td>\n",
       "      <td>2</td>\n",
       "      <td>1057</td>\n",
       "      <td>3</td>\n",
       "      <td>1057.0</td>\n",
       "      <td>1057</td>\n",
       "      <td>1953</td>\n",
       "      <td>2007</td>\n",
       "      <td>1</td>\n",
       "      <td>0.0</td>\n",
       "      <td>5</td>\n",
       "    </tr>\n",
       "    <tr>\n",
       "      <th>3</th>\n",
       "      <td>5</td>\n",
       "      <td>2</td>\n",
       "      <td>1444</td>\n",
       "      <td>2</td>\n",
       "      <td>384.0</td>\n",
       "      <td>744</td>\n",
       "      <td>2006</td>\n",
       "      <td>2007</td>\n",
       "      <td>2</td>\n",
       "      <td>0.0</td>\n",
       "      <td>7</td>\n",
       "    </tr>\n",
       "    <tr>\n",
       "      <th>4</th>\n",
       "      <td>6</td>\n",
       "      <td>2</td>\n",
       "      <td>1445</td>\n",
       "      <td>2</td>\n",
       "      <td>676.0</td>\n",
       "      <td>831</td>\n",
       "      <td>1900</td>\n",
       "      <td>1993</td>\n",
       "      <td>2</td>\n",
       "      <td>0.0</td>\n",
       "      <td>6</td>\n",
       "    </tr>\n",
       "  </tbody>\n",
       "</table>\n",
       "</div>"
      ],
      "text/plain": [
       "   overall_qual  exter_qual  gr_liv_area  kitchen_qual  total_bsmt_sf  \\\n",
       "0             6           3         1479             3          725.0   \n",
       "1             7           3         2122             3          913.0   \n",
       "2             5           2         1057             3         1057.0   \n",
       "3             5           2         1444             2          384.0   \n",
       "4             6           2         1445             2          676.0   \n",
       "\n",
       "   1st_flr_sf  year_built  year_remod/add  full_bath  mas_vnr_area  \\\n",
       "0         725        1976            2005          2         289.0   \n",
       "1         913        1996            1997          2         132.0   \n",
       "2        1057        1953            2007          1           0.0   \n",
       "3         744        2006            2007          2           0.0   \n",
       "4         831        1900            1993          2           0.0   \n",
       "\n",
       "   totrms_abvgrd  \n",
       "0              6  \n",
       "1              8  \n",
       "2              5  \n",
       "3              7  \n",
       "4              6  "
      ]
     },
     "execution_count": 226,
     "metadata": {},
     "output_type": "execute_result"
    }
   ],
   "source": [
    "corr_50plusdf = df[corr_above50]\n",
    "corr_50plusdf.head()"
   ]
  },
  {
   "cell_type": "code",
   "execution_count": 227,
   "id": "4b233dd7-91f5-4a9b-be5c-a3219ddee307",
   "metadata": {},
   "outputs": [],
   "source": [
    "leaner_corr50df = corr_50plusdf.drop(columns = 'overall_qual')"
   ]
  },
  {
   "cell_type": "code",
   "execution_count": 228,
   "id": "99942e8c-8c60-46fd-a444-d5faf51d6d6d",
   "metadata": {},
   "outputs": [
    {
     "data": {
      "text/html": [
       "<div>\n",
       "<style scoped>\n",
       "    .dataframe tbody tr th:only-of-type {\n",
       "        vertical-align: middle;\n",
       "    }\n",
       "\n",
       "    .dataframe tbody tr th {\n",
       "        vertical-align: top;\n",
       "    }\n",
       "\n",
       "    .dataframe thead th {\n",
       "        text-align: right;\n",
       "    }\n",
       "</style>\n",
       "<table border=\"1\" class=\"dataframe\">\n",
       "  <thead>\n",
       "    <tr style=\"text-align: right;\">\n",
       "      <th></th>\n",
       "      <th>exter_qual</th>\n",
       "      <th>gr_liv_area</th>\n",
       "      <th>kitchen_qual</th>\n",
       "      <th>total_bsmt_sf</th>\n",
       "      <th>1st_flr_sf</th>\n",
       "      <th>year_built</th>\n",
       "      <th>year_remod/add</th>\n",
       "      <th>full_bath</th>\n",
       "      <th>mas_vnr_area</th>\n",
       "      <th>totrms_abvgrd</th>\n",
       "    </tr>\n",
       "  </thead>\n",
       "  <tbody>\n",
       "    <tr>\n",
       "      <th>0</th>\n",
       "      <td>3</td>\n",
       "      <td>1479</td>\n",
       "      <td>3</td>\n",
       "      <td>725.0</td>\n",
       "      <td>725</td>\n",
       "      <td>1976</td>\n",
       "      <td>2005</td>\n",
       "      <td>2</td>\n",
       "      <td>289.0</td>\n",
       "      <td>6</td>\n",
       "    </tr>\n",
       "    <tr>\n",
       "      <th>1</th>\n",
       "      <td>3</td>\n",
       "      <td>2122</td>\n",
       "      <td>3</td>\n",
       "      <td>913.0</td>\n",
       "      <td>913</td>\n",
       "      <td>1996</td>\n",
       "      <td>1997</td>\n",
       "      <td>2</td>\n",
       "      <td>132.0</td>\n",
       "      <td>8</td>\n",
       "    </tr>\n",
       "  </tbody>\n",
       "</table>\n",
       "</div>"
      ],
      "text/plain": [
       "   exter_qual  gr_liv_area  kitchen_qual  total_bsmt_sf  1st_flr_sf  \\\n",
       "0           3         1479             3          725.0         725   \n",
       "1           3         2122             3          913.0         913   \n",
       "\n",
       "   year_built  year_remod/add  full_bath  mas_vnr_area  totrms_abvgrd  \n",
       "0        1976            2005          2         289.0              6  \n",
       "1        1996            1997          2         132.0              8  "
      ]
     },
     "execution_count": 228,
     "metadata": {},
     "output_type": "execute_result"
    }
   ],
   "source": [
    "leaner_corr50df.head(2)"
   ]
  },
  {
   "cell_type": "code",
   "execution_count": 229,
   "id": "05caf577-8a69-490b-b03d-890406b6d92c",
   "metadata": {},
   "outputs": [],
   "source": [
    "X_2 = leaner_corr50df"
   ]
  },
  {
   "cell_type": "code",
   "execution_count": 230,
   "id": "079eef32-1b99-472f-b9c5-d41ef6b3236b",
   "metadata": {},
   "outputs": [],
   "source": [
    "X_train_2, X_test_2, y_train_2, y_test_2 = train_test_split(X_2, y)"
   ]
  },
  {
   "cell_type": "code",
   "execution_count": 237,
   "id": "642dfe54-d66b-4224-8515-f4f7aa2ed031",
   "metadata": {},
   "outputs": [],
   "source": [
    "lr2 = LinearRegression()"
   ]
  },
  {
   "cell_type": "code",
   "execution_count": 238,
   "id": "cedf4088-a172-4976-90b6-bf67a32610a8",
   "metadata": {},
   "outputs": [
    {
     "data": {
      "text/plain": [
       "LinearRegression()"
      ]
     },
     "execution_count": 238,
     "metadata": {},
     "output_type": "execute_result"
    }
   ],
   "source": [
    "lr2.fit(X_train_2, y_train_2)"
   ]
  },
  {
   "cell_type": "code",
   "execution_count": 239,
   "id": "32ea2173-a3c1-4bba-aa6b-7b2346a2fced",
   "metadata": {},
   "outputs": [
    {
     "data": {
      "text/plain": [
       "0.7649574977818029"
      ]
     },
     "execution_count": 239,
     "metadata": {},
     "output_type": "execute_result"
    }
   ],
   "source": [
    "lr2.score(X_train_2, y_train_2)"
   ]
  },
  {
   "cell_type": "code",
   "execution_count": 240,
   "id": "75c3ac16-b26f-4308-a57e-cd3640ceaea7",
   "metadata": {},
   "outputs": [
    {
     "data": {
      "text/plain": [
       "0.8254198781269102"
      ]
     },
     "execution_count": 240,
     "metadata": {},
     "output_type": "execute_result"
    }
   ],
   "source": [
    "lr2.score(X_test_2, y_test_2)"
   ]
  },
  {
   "cell_type": "markdown",
   "id": "3aac455e-7be0-4270-8825-366b2c76c70f",
   "metadata": {},
   "source": [
    "This model is a little worse than the one without it. But I'll see if I wind up a little less overfit with the interaction terms."
   ]
  },
  {
   "cell_type": "code",
   "execution_count": 241,
   "id": "5a8c0fbe-7dd2-42ec-b367-4b91ed0c6946",
   "metadata": {},
   "outputs": [],
   "source": [
    "poly2 = PolynomialFeatures(include_bias = False)"
   ]
  },
  {
   "cell_type": "code",
   "execution_count": 245,
   "id": "da158cc1-1c9f-4ccb-bd08-ebbc330c0c93",
   "metadata": {},
   "outputs": [],
   "source": [
    "X_poly_train2 = poly2.fit_transform(X_train_2)"
   ]
  },
  {
   "cell_type": "code",
   "execution_count": 258,
   "id": "e0438a98-67cc-43a9-8d39-b10fecacbe68",
   "metadata": {},
   "outputs": [],
   "source": [
    "X_poly_test2 = poly2.fit_transform(X_test_2)"
   ]
  },
  {
   "cell_type": "code",
   "execution_count": 247,
   "id": "65926748-57cd-4bd4-a912-7a06eb8ea195",
   "metadata": {},
   "outputs": [],
   "source": [
    "lr2_1 = LinearRegression()"
   ]
  },
  {
   "cell_type": "code",
   "execution_count": 255,
   "id": "3fd685b4-b2c5-4317-9d76-ab05dc24339c",
   "metadata": {},
   "outputs": [
    {
     "data": {
      "text/plain": [
       "LinearRegression()"
      ]
     },
     "execution_count": 255,
     "metadata": {},
     "output_type": "execute_result"
    }
   ],
   "source": [
    "lr2_1.fit(X_poly_train2, y_train_2)"
   ]
  },
  {
   "cell_type": "code",
   "execution_count": 256,
   "id": "70446d6a-5b01-43cd-8f80-7c14565c3c60",
   "metadata": {},
   "outputs": [
    {
     "data": {
      "text/plain": [
       "0.8711776033067937"
      ]
     },
     "execution_count": 256,
     "metadata": {},
     "output_type": "execute_result"
    }
   ],
   "source": [
    "lr2_1.score(X_poly_train2, y_train_2)"
   ]
  },
  {
   "cell_type": "code",
   "execution_count": 259,
   "id": "f877395d-1f6c-4ac7-847c-d3e6bd517653",
   "metadata": {},
   "outputs": [
    {
     "data": {
      "text/plain": [
       "0.8644453036617653"
      ]
     },
     "execution_count": 259,
     "metadata": {},
     "output_type": "execute_result"
    }
   ],
   "source": [
    "lr2_1.score(X_poly_test2, y_test_2)"
   ]
  },
  {
   "cell_type": "code",
   "execution_count": 262,
   "id": "d774a471-7946-4754-b703-963bdd1267c1",
   "metadata": {},
   "outputs": [
    {
     "data": {
      "text/plain": [
       "0.7976298133133373"
      ]
     },
     "execution_count": 262,
     "metadata": {},
     "output_type": "execute_result"
    }
   ],
   "source": [
    "cross_val_score(lr2_1, X_poly_train2, y_train_2).mean()"
   ]
  },
  {
   "cell_type": "markdown",
   "id": "5eed3aa1-f224-46b6-aa65-0143206db4ef",
   "metadata": {},
   "source": [
    "-----"
   ]
  },
  {
   "cell_type": "markdown",
   "id": "1f7b1849-a64b-40dd-b32f-dc3d4885b0a0",
   "metadata": {
    "tags": []
   },
   "source": [
    "# Building DataFrames with the lr1_2 Interaction Terms\n",
    "I'm going to prepare to concatenate the training data with the Kaggle test data so I can add some categorical variables."
   ]
  },
  {
   "cell_type": "code",
   "execution_count": 284,
   "id": "c1a03a64-6d16-46cc-b883-bf2154986217",
   "metadata": {},
   "outputs": [
    {
     "data": {
      "text/html": [
       "<div>\n",
       "<style scoped>\n",
       "    .dataframe tbody tr th:only-of-type {\n",
       "        vertical-align: middle;\n",
       "    }\n",
       "\n",
       "    .dataframe tbody tr th {\n",
       "        vertical-align: top;\n",
       "    }\n",
       "\n",
       "    .dataframe thead th {\n",
       "        text-align: right;\n",
       "    }\n",
       "</style>\n",
       "<table border=\"1\" class=\"dataframe\">\n",
       "  <thead>\n",
       "    <tr style=\"text-align: right;\">\n",
       "      <th></th>\n",
       "      <th>overall_qual</th>\n",
       "      <th>exter_qual</th>\n",
       "      <th>gr_liv_area</th>\n",
       "      <th>kitchen_qual</th>\n",
       "      <th>total_bsmt_sf</th>\n",
       "      <th>1st_flr_sf</th>\n",
       "      <th>year_built</th>\n",
       "      <th>year_remod/add</th>\n",
       "      <th>full_bath</th>\n",
       "      <th>mas_vnr_area</th>\n",
       "      <th>totrms_abvgrd</th>\n",
       "    </tr>\n",
       "  </thead>\n",
       "  <tbody>\n",
       "    <tr>\n",
       "      <th>0</th>\n",
       "      <td>6</td>\n",
       "      <td>3</td>\n",
       "      <td>1479</td>\n",
       "      <td>3</td>\n",
       "      <td>725.0</td>\n",
       "      <td>725</td>\n",
       "      <td>1976</td>\n",
       "      <td>2005</td>\n",
       "      <td>2</td>\n",
       "      <td>289.0</td>\n",
       "      <td>6</td>\n",
       "    </tr>\n",
       "    <tr>\n",
       "      <th>1</th>\n",
       "      <td>7</td>\n",
       "      <td>3</td>\n",
       "      <td>2122</td>\n",
       "      <td>3</td>\n",
       "      <td>913.0</td>\n",
       "      <td>913</td>\n",
       "      <td>1996</td>\n",
       "      <td>1997</td>\n",
       "      <td>2</td>\n",
       "      <td>132.0</td>\n",
       "      <td>8</td>\n",
       "    </tr>\n",
       "  </tbody>\n",
       "</table>\n",
       "</div>"
      ],
      "text/plain": [
       "   overall_qual  exter_qual  gr_liv_area  kitchen_qual  total_bsmt_sf  \\\n",
       "0             6           3         1479             3          725.0   \n",
       "1             7           3         2122             3          913.0   \n",
       "\n",
       "   1st_flr_sf  year_built  year_remod/add  full_bath  mas_vnr_area  \\\n",
       "0         725        1976            2005          2         289.0   \n",
       "1         913        1996            1997          2         132.0   \n",
       "\n",
       "   totrms_abvgrd  \n",
       "0              6  \n",
       "1              8  "
      ]
     },
     "execution_count": 284,
     "metadata": {},
     "output_type": "execute_result"
    }
   ],
   "source": [
    "corr_50plusdf.head(2)"
   ]
  },
  {
   "cell_type": "code",
   "execution_count": 305,
   "id": "efedac09-6aac-4726-bcab-80336715e68d",
   "metadata": {},
   "outputs": [],
   "source": [
    "corr_50_interactions = poly1.fit_transform(corr_50plusdf)"
   ]
  },
  {
   "cell_type": "markdown",
   "id": "05444a90-eb5c-4d5a-a4b8-a2a8934a8f81",
   "metadata": {},
   "source": [
    "I took this code from the feature engineering lesson:"
   ]
  },
  {
   "cell_type": "code",
   "execution_count": 307,
   "id": "a502e7dd-a48d-4d27-b551-75da98e74532",
   "metadata": {},
   "outputs": [],
   "source": [
    "corr_50_interactions = pd.DataFrame(corr_50_interactions, columns = poly1.get_feature_names_out(corr_50plusdf.columns))\n"
   ]
  },
  {
   "cell_type": "code",
   "execution_count": 308,
   "id": "5fb9d2de-a793-4cb7-8e24-29aa82dca339",
   "metadata": {},
   "outputs": [
    {
     "data": {
      "text/html": [
       "<div>\n",
       "<style scoped>\n",
       "    .dataframe tbody tr th:only-of-type {\n",
       "        vertical-align: middle;\n",
       "    }\n",
       "\n",
       "    .dataframe tbody tr th {\n",
       "        vertical-align: top;\n",
       "    }\n",
       "\n",
       "    .dataframe thead th {\n",
       "        text-align: right;\n",
       "    }\n",
       "</style>\n",
       "<table border=\"1\" class=\"dataframe\">\n",
       "  <thead>\n",
       "    <tr style=\"text-align: right;\">\n",
       "      <th></th>\n",
       "      <th>overall_qual</th>\n",
       "      <th>exter_qual</th>\n",
       "      <th>gr_liv_area</th>\n",
       "      <th>kitchen_qual</th>\n",
       "      <th>total_bsmt_sf</th>\n",
       "      <th>1st_flr_sf</th>\n",
       "      <th>year_built</th>\n",
       "      <th>year_remod/add</th>\n",
       "      <th>full_bath</th>\n",
       "      <th>mas_vnr_area</th>\n",
       "      <th>...</th>\n",
       "      <th>year_remod/add^2</th>\n",
       "      <th>year_remod/add full_bath</th>\n",
       "      <th>year_remod/add mas_vnr_area</th>\n",
       "      <th>year_remod/add totrms_abvgrd</th>\n",
       "      <th>full_bath^2</th>\n",
       "      <th>full_bath mas_vnr_area</th>\n",
       "      <th>full_bath totrms_abvgrd</th>\n",
       "      <th>mas_vnr_area^2</th>\n",
       "      <th>mas_vnr_area totrms_abvgrd</th>\n",
       "      <th>totrms_abvgrd^2</th>\n",
       "    </tr>\n",
       "  </thead>\n",
       "  <tbody>\n",
       "    <tr>\n",
       "      <th>0</th>\n",
       "      <td>6.0</td>\n",
       "      <td>3.0</td>\n",
       "      <td>1479.0</td>\n",
       "      <td>3.0</td>\n",
       "      <td>725.0</td>\n",
       "      <td>725.0</td>\n",
       "      <td>1976.0</td>\n",
       "      <td>2005.0</td>\n",
       "      <td>2.0</td>\n",
       "      <td>289.0</td>\n",
       "      <td>...</td>\n",
       "      <td>4020025.0</td>\n",
       "      <td>4010.0</td>\n",
       "      <td>579445.0</td>\n",
       "      <td>12030.0</td>\n",
       "      <td>4.0</td>\n",
       "      <td>578.0</td>\n",
       "      <td>12.0</td>\n",
       "      <td>83521.0</td>\n",
       "      <td>1734.0</td>\n",
       "      <td>36.0</td>\n",
       "    </tr>\n",
       "    <tr>\n",
       "      <th>1</th>\n",
       "      <td>7.0</td>\n",
       "      <td>3.0</td>\n",
       "      <td>2122.0</td>\n",
       "      <td>3.0</td>\n",
       "      <td>913.0</td>\n",
       "      <td>913.0</td>\n",
       "      <td>1996.0</td>\n",
       "      <td>1997.0</td>\n",
       "      <td>2.0</td>\n",
       "      <td>132.0</td>\n",
       "      <td>...</td>\n",
       "      <td>3988009.0</td>\n",
       "      <td>3994.0</td>\n",
       "      <td>263604.0</td>\n",
       "      <td>15976.0</td>\n",
       "      <td>4.0</td>\n",
       "      <td>264.0</td>\n",
       "      <td>16.0</td>\n",
       "      <td>17424.0</td>\n",
       "      <td>1056.0</td>\n",
       "      <td>64.0</td>\n",
       "    </tr>\n",
       "    <tr>\n",
       "      <th>2</th>\n",
       "      <td>5.0</td>\n",
       "      <td>2.0</td>\n",
       "      <td>1057.0</td>\n",
       "      <td>3.0</td>\n",
       "      <td>1057.0</td>\n",
       "      <td>1057.0</td>\n",
       "      <td>1953.0</td>\n",
       "      <td>2007.0</td>\n",
       "      <td>1.0</td>\n",
       "      <td>0.0</td>\n",
       "      <td>...</td>\n",
       "      <td>4028049.0</td>\n",
       "      <td>2007.0</td>\n",
       "      <td>0.0</td>\n",
       "      <td>10035.0</td>\n",
       "      <td>1.0</td>\n",
       "      <td>0.0</td>\n",
       "      <td>5.0</td>\n",
       "      <td>0.0</td>\n",
       "      <td>0.0</td>\n",
       "      <td>25.0</td>\n",
       "    </tr>\n",
       "    <tr>\n",
       "      <th>3</th>\n",
       "      <td>5.0</td>\n",
       "      <td>2.0</td>\n",
       "      <td>1444.0</td>\n",
       "      <td>2.0</td>\n",
       "      <td>384.0</td>\n",
       "      <td>744.0</td>\n",
       "      <td>2006.0</td>\n",
       "      <td>2007.0</td>\n",
       "      <td>2.0</td>\n",
       "      <td>0.0</td>\n",
       "      <td>...</td>\n",
       "      <td>4028049.0</td>\n",
       "      <td>4014.0</td>\n",
       "      <td>0.0</td>\n",
       "      <td>14049.0</td>\n",
       "      <td>4.0</td>\n",
       "      <td>0.0</td>\n",
       "      <td>14.0</td>\n",
       "      <td>0.0</td>\n",
       "      <td>0.0</td>\n",
       "      <td>49.0</td>\n",
       "    </tr>\n",
       "    <tr>\n",
       "      <th>4</th>\n",
       "      <td>6.0</td>\n",
       "      <td>2.0</td>\n",
       "      <td>1445.0</td>\n",
       "      <td>2.0</td>\n",
       "      <td>676.0</td>\n",
       "      <td>831.0</td>\n",
       "      <td>1900.0</td>\n",
       "      <td>1993.0</td>\n",
       "      <td>2.0</td>\n",
       "      <td>0.0</td>\n",
       "      <td>...</td>\n",
       "      <td>3972049.0</td>\n",
       "      <td>3986.0</td>\n",
       "      <td>0.0</td>\n",
       "      <td>11958.0</td>\n",
       "      <td>4.0</td>\n",
       "      <td>0.0</td>\n",
       "      <td>12.0</td>\n",
       "      <td>0.0</td>\n",
       "      <td>0.0</td>\n",
       "      <td>36.0</td>\n",
       "    </tr>\n",
       "  </tbody>\n",
       "</table>\n",
       "<p>5 rows × 77 columns</p>\n",
       "</div>"
      ],
      "text/plain": [
       "   overall_qual  exter_qual  gr_liv_area  kitchen_qual  total_bsmt_sf  \\\n",
       "0           6.0         3.0       1479.0           3.0          725.0   \n",
       "1           7.0         3.0       2122.0           3.0          913.0   \n",
       "2           5.0         2.0       1057.0           3.0         1057.0   \n",
       "3           5.0         2.0       1444.0           2.0          384.0   \n",
       "4           6.0         2.0       1445.0           2.0          676.0   \n",
       "\n",
       "   1st_flr_sf  year_built  year_remod/add  full_bath  mas_vnr_area  ...  \\\n",
       "0       725.0      1976.0          2005.0        2.0         289.0  ...   \n",
       "1       913.0      1996.0          1997.0        2.0         132.0  ...   \n",
       "2      1057.0      1953.0          2007.0        1.0           0.0  ...   \n",
       "3       744.0      2006.0          2007.0        2.0           0.0  ...   \n",
       "4       831.0      1900.0          1993.0        2.0           0.0  ...   \n",
       "\n",
       "   year_remod/add^2  year_remod/add full_bath  year_remod/add mas_vnr_area  \\\n",
       "0         4020025.0                    4010.0                     579445.0   \n",
       "1         3988009.0                    3994.0                     263604.0   \n",
       "2         4028049.0                    2007.0                          0.0   \n",
       "3         4028049.0                    4014.0                          0.0   \n",
       "4         3972049.0                    3986.0                          0.0   \n",
       "\n",
       "   year_remod/add totrms_abvgrd  full_bath^2  full_bath mas_vnr_area  \\\n",
       "0                       12030.0          4.0                   578.0   \n",
       "1                       15976.0          4.0                   264.0   \n",
       "2                       10035.0          1.0                     0.0   \n",
       "3                       14049.0          4.0                     0.0   \n",
       "4                       11958.0          4.0                     0.0   \n",
       "\n",
       "   full_bath totrms_abvgrd  mas_vnr_area^2  mas_vnr_area totrms_abvgrd  \\\n",
       "0                     12.0         83521.0                      1734.0   \n",
       "1                     16.0         17424.0                      1056.0   \n",
       "2                      5.0             0.0                         0.0   \n",
       "3                     14.0             0.0                         0.0   \n",
       "4                     12.0             0.0                         0.0   \n",
       "\n",
       "   totrms_abvgrd^2  \n",
       "0             36.0  \n",
       "1             64.0  \n",
       "2             25.0  \n",
       "3             49.0  \n",
       "4             36.0  \n",
       "\n",
       "[5 rows x 77 columns]"
      ]
     },
     "execution_count": 308,
     "metadata": {},
     "output_type": "execute_result"
    }
   ],
   "source": [
    "corr_50_interactions.head()"
   ]
  },
  {
   "cell_type": "code",
   "execution_count": 309,
   "id": "434d11fd-0da5-4325-9933-c713c3992ff8",
   "metadata": {},
   "outputs": [
    {
     "data": {
      "text/plain": [
       "(2028, 77)"
      ]
     },
     "execution_count": 309,
     "metadata": {},
     "output_type": "execute_result"
    }
   ],
   "source": [
    "corr_50_interactions.shape"
   ]
  },
  {
   "cell_type": "code",
   "execution_count": 321,
   "id": "b2ae79f3-39bb-42d5-a212-b39a0be10d0a",
   "metadata": {},
   "outputs": [
    {
     "data": {
      "text/html": [
       "<div>\n",
       "<style scoped>\n",
       "    .dataframe tbody tr th:only-of-type {\n",
       "        vertical-align: middle;\n",
       "    }\n",
       "\n",
       "    .dataframe tbody tr th {\n",
       "        vertical-align: top;\n",
       "    }\n",
       "\n",
       "    .dataframe thead th {\n",
       "        text-align: right;\n",
       "    }\n",
       "</style>\n",
       "<table border=\"1\" class=\"dataframe\">\n",
       "  <thead>\n",
       "    <tr style=\"text-align: right;\">\n",
       "      <th></th>\n",
       "      <th>overall_qual</th>\n",
       "      <th>exter_qual</th>\n",
       "      <th>gr_liv_area</th>\n",
       "      <th>kitchen_qual</th>\n",
       "      <th>total_bsmt_sf</th>\n",
       "      <th>1st_flr_sf</th>\n",
       "      <th>year_built</th>\n",
       "      <th>year_remod/add</th>\n",
       "      <th>full_bath</th>\n",
       "      <th>mas_vnr_area</th>\n",
       "      <th>...</th>\n",
       "      <th>year_remod/add full_bath</th>\n",
       "      <th>year_remod/add mas_vnr_area</th>\n",
       "      <th>year_remod/add totrms_abvgrd</th>\n",
       "      <th>full_bath^2</th>\n",
       "      <th>full_bath mas_vnr_area</th>\n",
       "      <th>full_bath totrms_abvgrd</th>\n",
       "      <th>mas_vnr_area^2</th>\n",
       "      <th>mas_vnr_area totrms_abvgrd</th>\n",
       "      <th>totrms_abvgrd^2</th>\n",
       "      <th>saleprice</th>\n",
       "    </tr>\n",
       "  </thead>\n",
       "  <tbody>\n",
       "    <tr>\n",
       "      <th>0</th>\n",
       "      <td>6.0</td>\n",
       "      <td>3.0</td>\n",
       "      <td>1479.0</td>\n",
       "      <td>3.0</td>\n",
       "      <td>725.0</td>\n",
       "      <td>725.0</td>\n",
       "      <td>1976.0</td>\n",
       "      <td>2005.0</td>\n",
       "      <td>2.0</td>\n",
       "      <td>289.0</td>\n",
       "      <td>...</td>\n",
       "      <td>4010.0</td>\n",
       "      <td>579445.0</td>\n",
       "      <td>12030.0</td>\n",
       "      <td>4.0</td>\n",
       "      <td>578.0</td>\n",
       "      <td>12.0</td>\n",
       "      <td>83521.0</td>\n",
       "      <td>1734.0</td>\n",
       "      <td>36.0</td>\n",
       "      <td>130500</td>\n",
       "    </tr>\n",
       "  </tbody>\n",
       "</table>\n",
       "<p>1 rows × 78 columns</p>\n",
       "</div>"
      ],
      "text/plain": [
       "   overall_qual  exter_qual  gr_liv_area  kitchen_qual  total_bsmt_sf  \\\n",
       "0           6.0         3.0       1479.0           3.0          725.0   \n",
       "\n",
       "   1st_flr_sf  year_built  year_remod/add  full_bath  mas_vnr_area  ...  \\\n",
       "0       725.0      1976.0          2005.0        2.0         289.0  ...   \n",
       "\n",
       "   year_remod/add full_bath  year_remod/add mas_vnr_area  \\\n",
       "0                    4010.0                     579445.0   \n",
       "\n",
       "   year_remod/add totrms_abvgrd  full_bath^2  full_bath mas_vnr_area  \\\n",
       "0                       12030.0          4.0                   578.0   \n",
       "\n",
       "   full_bath totrms_abvgrd  mas_vnr_area^2  mas_vnr_area totrms_abvgrd  \\\n",
       "0                     12.0         83521.0                      1734.0   \n",
       "\n",
       "   totrms_abvgrd^2  saleprice  \n",
       "0             36.0     130500  \n",
       "\n",
       "[1 rows x 78 columns]"
      ]
     },
     "execution_count": 321,
     "metadata": {},
     "output_type": "execute_result"
    }
   ],
   "source": [
    "corr_50_interactions.head(1)"
   ]
  },
  {
   "cell_type": "markdown",
   "id": "007d349a-1459-499a-bb6c-7037f3024d3e",
   "metadata": {},
   "source": [
    "I referenced [this webpage](https://www.geeksforgeeks.org/how-to-add-column-from-another-dataframe-in-pandas/) to review how to return the 'saleprice' column to the new dataframe."
   ]
  },
  {
   "cell_type": "code",
   "execution_count": 287,
   "id": "8e988eb8-e06b-4663-b0f6-1e564a86c610",
   "metadata": {},
   "outputs": [],
   "source": [
    "extracted_column = df['saleprice']"
   ]
  },
  {
   "cell_type": "code",
   "execution_count": 310,
   "id": "32f134c6-e136-47a5-bba9-6a0026acdf1a",
   "metadata": {},
   "outputs": [],
   "source": [
    "corr_50_interactions = corr_50_interactions.join(extracted_column)"
   ]
  },
  {
   "cell_type": "code",
   "execution_count": 311,
   "id": "e417dd20-7108-4eb8-92d5-0c49ab75c4bc",
   "metadata": {},
   "outputs": [
    {
     "data": {
      "text/plain": [
       "(2028, 78)"
      ]
     },
     "execution_count": 311,
     "metadata": {},
     "output_type": "execute_result"
    }
   ],
   "source": [
    "corr_50_interactions.shape"
   ]
  },
  {
   "cell_type": "markdown",
   "id": "9144cfc7-6f22-4140-8998-a70dc64cc620",
   "metadata": {},
   "source": [
    "# This is where I left of the night 6/15/22\n",
    "I want to add neighborhood, zoning, and house type into this dataframe to cast dummies. I have to do the same beneath as well."
   ]
  },
  {
   "cell_type": "markdown",
   "id": "ec9dc554-ac82-4427-b124-0b88a628f597",
   "metadata": {},
   "source": [
    "-----"
   ]
  },
  {
   "cell_type": "code",
   "execution_count": 312,
   "id": "b26b2543-1e13-4469-9d16-e66cd65c716a",
   "metadata": {},
   "outputs": [
    {
     "data": {
      "text/plain": [
       "(878, 11)"
      ]
     },
     "execution_count": 312,
     "metadata": {},
     "output_type": "execute_result"
    }
   ],
   "source": [
    "X_k.shape"
   ]
  },
  {
   "cell_type": "code",
   "execution_count": 314,
   "id": "be5279f0-9e39-449a-9b3e-b8a8635f9cf1",
   "metadata": {},
   "outputs": [
    {
     "data": {
      "text/html": [
       "<div>\n",
       "<style scoped>\n",
       "    .dataframe tbody tr th:only-of-type {\n",
       "        vertical-align: middle;\n",
       "    }\n",
       "\n",
       "    .dataframe tbody tr th {\n",
       "        vertical-align: top;\n",
       "    }\n",
       "\n",
       "    .dataframe thead th {\n",
       "        text-align: right;\n",
       "    }\n",
       "</style>\n",
       "<table border=\"1\" class=\"dataframe\">\n",
       "  <thead>\n",
       "    <tr style=\"text-align: right;\">\n",
       "      <th></th>\n",
       "      <th>overall_qual</th>\n",
       "      <th>exter_qual</th>\n",
       "      <th>gr_liv_area</th>\n",
       "      <th>kitchen_qual</th>\n",
       "      <th>total_bsmt_sf</th>\n",
       "      <th>1st_flr_sf</th>\n",
       "      <th>year_built</th>\n",
       "      <th>year_remod/add</th>\n",
       "      <th>full_bath</th>\n",
       "      <th>mas_vnr_area</th>\n",
       "      <th>totrms_abvgrd</th>\n",
       "    </tr>\n",
       "  </thead>\n",
       "  <tbody>\n",
       "    <tr>\n",
       "      <th>0</th>\n",
       "      <td>6</td>\n",
       "      <td>2</td>\n",
       "      <td>1928</td>\n",
       "      <td>1</td>\n",
       "      <td>1020</td>\n",
       "      <td>908</td>\n",
       "      <td>1910</td>\n",
       "      <td>1950</td>\n",
       "      <td>2</td>\n",
       "      <td>0.0</td>\n",
       "      <td>9</td>\n",
       "    </tr>\n",
       "    <tr>\n",
       "      <th>1</th>\n",
       "      <td>5</td>\n",
       "      <td>2</td>\n",
       "      <td>1967</td>\n",
       "      <td>2</td>\n",
       "      <td>1967</td>\n",
       "      <td>1967</td>\n",
       "      <td>1977</td>\n",
       "      <td>1977</td>\n",
       "      <td>2</td>\n",
       "      <td>0.0</td>\n",
       "      <td>10</td>\n",
       "    </tr>\n",
       "    <tr>\n",
       "      <th>2</th>\n",
       "      <td>7</td>\n",
       "      <td>3</td>\n",
       "      <td>1496</td>\n",
       "      <td>3</td>\n",
       "      <td>654</td>\n",
       "      <td>664</td>\n",
       "      <td>2006</td>\n",
       "      <td>2006</td>\n",
       "      <td>2</td>\n",
       "      <td>0.0</td>\n",
       "      <td>7</td>\n",
       "    </tr>\n",
       "    <tr>\n",
       "      <th>3</th>\n",
       "      <td>5</td>\n",
       "      <td>3</td>\n",
       "      <td>968</td>\n",
       "      <td>2</td>\n",
       "      <td>968</td>\n",
       "      <td>968</td>\n",
       "      <td>1923</td>\n",
       "      <td>2006</td>\n",
       "      <td>1</td>\n",
       "      <td>0.0</td>\n",
       "      <td>5</td>\n",
       "    </tr>\n",
       "    <tr>\n",
       "      <th>4</th>\n",
       "      <td>6</td>\n",
       "      <td>2</td>\n",
       "      <td>1394</td>\n",
       "      <td>2</td>\n",
       "      <td>1394</td>\n",
       "      <td>1394</td>\n",
       "      <td>1963</td>\n",
       "      <td>1963</td>\n",
       "      <td>1</td>\n",
       "      <td>247.0</td>\n",
       "      <td>6</td>\n",
       "    </tr>\n",
       "  </tbody>\n",
       "</table>\n",
       "</div>"
      ],
      "text/plain": [
       "   overall_qual  exter_qual  gr_liv_area  kitchen_qual  total_bsmt_sf  \\\n",
       "0             6           2         1928             1           1020   \n",
       "1             5           2         1967             2           1967   \n",
       "2             7           3         1496             3            654   \n",
       "3             5           3          968             2            968   \n",
       "4             6           2         1394             2           1394   \n",
       "\n",
       "   1st_flr_sf  year_built  year_remod/add  full_bath  mas_vnr_area  \\\n",
       "0         908        1910            1950          2           0.0   \n",
       "1        1967        1977            1977          2           0.0   \n",
       "2         664        2006            2006          2           0.0   \n",
       "3         968        1923            2006          1           0.0   \n",
       "4        1394        1963            1963          1         247.0   \n",
       "\n",
       "   totrms_abvgrd  \n",
       "0              9  \n",
       "1             10  \n",
       "2              7  \n",
       "3              5  \n",
       "4              6  "
      ]
     },
     "execution_count": 314,
     "metadata": {},
     "output_type": "execute_result"
    }
   ],
   "source": [
    "X_k.head()"
   ]
  },
  {
   "cell_type": "code",
   "execution_count": 316,
   "id": "dc20a9f5-7dad-4d63-8ee7-b7e1f610abcf",
   "metadata": {},
   "outputs": [],
   "source": [
    "kaggle_interactions = poly1.fit_transform(X_k)"
   ]
  },
  {
   "cell_type": "code",
   "execution_count": 319,
   "id": "7550e679-341c-4541-bed5-a543cec31dc8",
   "metadata": {},
   "outputs": [],
   "source": [
    "kaggle_interactions = pd.DataFrame(kaggle_interactions, \n",
    "                                   columns = poly1.get_feature_names_out(X_k.columns))\n"
   ]
  },
  {
   "cell_type": "code",
   "execution_count": 320,
   "id": "d67829a2-c275-4561-9e53-1475edba1823",
   "metadata": {},
   "outputs": [
    {
     "data": {
      "text/html": [
       "<div>\n",
       "<style scoped>\n",
       "    .dataframe tbody tr th:only-of-type {\n",
       "        vertical-align: middle;\n",
       "    }\n",
       "\n",
       "    .dataframe tbody tr th {\n",
       "        vertical-align: top;\n",
       "    }\n",
       "\n",
       "    .dataframe thead th {\n",
       "        text-align: right;\n",
       "    }\n",
       "</style>\n",
       "<table border=\"1\" class=\"dataframe\">\n",
       "  <thead>\n",
       "    <tr style=\"text-align: right;\">\n",
       "      <th></th>\n",
       "      <th>overall_qual</th>\n",
       "      <th>exter_qual</th>\n",
       "      <th>gr_liv_area</th>\n",
       "      <th>kitchen_qual</th>\n",
       "      <th>total_bsmt_sf</th>\n",
       "      <th>1st_flr_sf</th>\n",
       "      <th>year_built</th>\n",
       "      <th>year_remod/add</th>\n",
       "      <th>full_bath</th>\n",
       "      <th>mas_vnr_area</th>\n",
       "      <th>...</th>\n",
       "      <th>year_remod/add^2</th>\n",
       "      <th>year_remod/add full_bath</th>\n",
       "      <th>year_remod/add mas_vnr_area</th>\n",
       "      <th>year_remod/add totrms_abvgrd</th>\n",
       "      <th>full_bath^2</th>\n",
       "      <th>full_bath mas_vnr_area</th>\n",
       "      <th>full_bath totrms_abvgrd</th>\n",
       "      <th>mas_vnr_area^2</th>\n",
       "      <th>mas_vnr_area totrms_abvgrd</th>\n",
       "      <th>totrms_abvgrd^2</th>\n",
       "    </tr>\n",
       "  </thead>\n",
       "  <tbody>\n",
       "    <tr>\n",
       "      <th>0</th>\n",
       "      <td>6.0</td>\n",
       "      <td>2.0</td>\n",
       "      <td>1928.0</td>\n",
       "      <td>1.0</td>\n",
       "      <td>1020.0</td>\n",
       "      <td>908.0</td>\n",
       "      <td>1910.0</td>\n",
       "      <td>1950.0</td>\n",
       "      <td>2.0</td>\n",
       "      <td>0.0</td>\n",
       "      <td>...</td>\n",
       "      <td>3802500.0</td>\n",
       "      <td>3900.0</td>\n",
       "      <td>0.0</td>\n",
       "      <td>17550.0</td>\n",
       "      <td>4.0</td>\n",
       "      <td>0.0</td>\n",
       "      <td>18.0</td>\n",
       "      <td>0.0</td>\n",
       "      <td>0.0</td>\n",
       "      <td>81.0</td>\n",
       "    </tr>\n",
       "  </tbody>\n",
       "</table>\n",
       "<p>1 rows × 77 columns</p>\n",
       "</div>"
      ],
      "text/plain": [
       "   overall_qual  exter_qual  gr_liv_area  kitchen_qual  total_bsmt_sf  \\\n",
       "0           6.0         2.0       1928.0           1.0         1020.0   \n",
       "\n",
       "   1st_flr_sf  year_built  year_remod/add  full_bath  mas_vnr_area  ...  \\\n",
       "0       908.0      1910.0          1950.0        2.0           0.0  ...   \n",
       "\n",
       "   year_remod/add^2  year_remod/add full_bath  year_remod/add mas_vnr_area  \\\n",
       "0         3802500.0                    3900.0                          0.0   \n",
       "\n",
       "   year_remod/add totrms_abvgrd  full_bath^2  full_bath mas_vnr_area  \\\n",
       "0                       17550.0          4.0                     0.0   \n",
       "\n",
       "   full_bath totrms_abvgrd  mas_vnr_area^2  mas_vnr_area totrms_abvgrd  \\\n",
       "0                     18.0             0.0                         0.0   \n",
       "\n",
       "   totrms_abvgrd^2  \n",
       "0             81.0  \n",
       "\n",
       "[1 rows x 77 columns]"
      ]
     },
     "execution_count": 320,
     "metadata": {},
     "output_type": "execute_result"
    }
   ],
   "source": [
    "kaggle_interactions.head(1)"
   ]
  },
  {
   "cell_type": "code",
   "execution_count": 322,
   "id": "d445de3f-fd59-44b1-889c-23cbb09407b1",
   "metadata": {},
   "outputs": [
    {
     "data": {
      "text/plain": [
       "(878, 77)"
      ]
     },
     "execution_count": 322,
     "metadata": {},
     "output_type": "execute_result"
    }
   ],
   "source": [
    "kaggle_interactions.shape"
   ]
  },
  {
   "cell_type": "code",
   "execution_count": 323,
   "id": "88ec688a-8136-432c-ba9d-b68c4b396f2c",
   "metadata": {},
   "outputs": [],
   "source": [
    "kaggle_interactions['saleprice'] = 0"
   ]
  },
  {
   "cell_type": "code",
   "execution_count": 324,
   "id": "118a5df0-4237-4738-8e7c-fc8c033f2055",
   "metadata": {},
   "outputs": [
    {
     "data": {
      "text/plain": [
       "(878, 78)"
      ]
     },
     "execution_count": 324,
     "metadata": {},
     "output_type": "execute_result"
    }
   ],
   "source": [
    "kaggle_interactions.shape"
   ]
  },
  {
   "cell_type": "code",
   "execution_count": 325,
   "id": "e8d94b6a-faec-456b-90b6-76b791f64d7a",
   "metadata": {},
   "outputs": [
    {
     "data": {
      "text/html": [
       "<div>\n",
       "<style scoped>\n",
       "    .dataframe tbody tr th:only-of-type {\n",
       "        vertical-align: middle;\n",
       "    }\n",
       "\n",
       "    .dataframe tbody tr th {\n",
       "        vertical-align: top;\n",
       "    }\n",
       "\n",
       "    .dataframe thead th {\n",
       "        text-align: right;\n",
       "    }\n",
       "</style>\n",
       "<table border=\"1\" class=\"dataframe\">\n",
       "  <thead>\n",
       "    <tr style=\"text-align: right;\">\n",
       "      <th></th>\n",
       "      <th>overall_qual</th>\n",
       "      <th>exter_qual</th>\n",
       "      <th>gr_liv_area</th>\n",
       "      <th>kitchen_qual</th>\n",
       "      <th>total_bsmt_sf</th>\n",
       "      <th>1st_flr_sf</th>\n",
       "      <th>year_built</th>\n",
       "      <th>year_remod/add</th>\n",
       "      <th>full_bath</th>\n",
       "      <th>mas_vnr_area</th>\n",
       "      <th>...</th>\n",
       "      <th>year_remod/add full_bath</th>\n",
       "      <th>year_remod/add mas_vnr_area</th>\n",
       "      <th>year_remod/add totrms_abvgrd</th>\n",
       "      <th>full_bath^2</th>\n",
       "      <th>full_bath mas_vnr_area</th>\n",
       "      <th>full_bath totrms_abvgrd</th>\n",
       "      <th>mas_vnr_area^2</th>\n",
       "      <th>mas_vnr_area totrms_abvgrd</th>\n",
       "      <th>totrms_abvgrd^2</th>\n",
       "      <th>saleprice</th>\n",
       "    </tr>\n",
       "  </thead>\n",
       "  <tbody>\n",
       "    <tr>\n",
       "      <th>0</th>\n",
       "      <td>6.0</td>\n",
       "      <td>2.0</td>\n",
       "      <td>1928.0</td>\n",
       "      <td>1.0</td>\n",
       "      <td>1020.0</td>\n",
       "      <td>908.0</td>\n",
       "      <td>1910.0</td>\n",
       "      <td>1950.0</td>\n",
       "      <td>2.0</td>\n",
       "      <td>0.0</td>\n",
       "      <td>...</td>\n",
       "      <td>3900.0</td>\n",
       "      <td>0.0</td>\n",
       "      <td>17550.0</td>\n",
       "      <td>4.0</td>\n",
       "      <td>0.0</td>\n",
       "      <td>18.0</td>\n",
       "      <td>0.0</td>\n",
       "      <td>0.0</td>\n",
       "      <td>81.0</td>\n",
       "      <td>0</td>\n",
       "    </tr>\n",
       "  </tbody>\n",
       "</table>\n",
       "<p>1 rows × 78 columns</p>\n",
       "</div>"
      ],
      "text/plain": [
       "   overall_qual  exter_qual  gr_liv_area  kitchen_qual  total_bsmt_sf  \\\n",
       "0           6.0         2.0       1928.0           1.0         1020.0   \n",
       "\n",
       "   1st_flr_sf  year_built  year_remod/add  full_bath  mas_vnr_area  ...  \\\n",
       "0       908.0      1910.0          1950.0        2.0           0.0  ...   \n",
       "\n",
       "   year_remod/add full_bath  year_remod/add mas_vnr_area  \\\n",
       "0                    3900.0                          0.0   \n",
       "\n",
       "   year_remod/add totrms_abvgrd  full_bath^2  full_bath mas_vnr_area  \\\n",
       "0                       17550.0          4.0                     0.0   \n",
       "\n",
       "   full_bath totrms_abvgrd  mas_vnr_area^2  mas_vnr_area totrms_abvgrd  \\\n",
       "0                     18.0             0.0                         0.0   \n",
       "\n",
       "   totrms_abvgrd^2  saleprice  \n",
       "0             81.0          0  \n",
       "\n",
       "[1 rows x 78 columns]"
      ]
     },
     "execution_count": 325,
     "metadata": {},
     "output_type": "execute_result"
    }
   ],
   "source": [
    "kaggle_interactions.head(1)"
   ]
  },
  {
   "cell_type": "code",
   "execution_count": null,
   "id": "64389c50-121c-455f-b1e1-ffc4c6e5a3d2",
   "metadata": {},
   "outputs": [],
   "source": []
  }
 ],
 "metadata": {
  "kernelspec": {
   "display_name": "Python [conda env:dsi]",
   "language": "python",
   "name": "conda-env-dsi-py"
  },
  "language_info": {
   "codemirror_mode": {
    "name": "ipython",
    "version": 3
   },
   "file_extension": ".py",
   "mimetype": "text/x-python",
   "name": "python",
   "nbconvert_exporter": "python",
   "pygments_lexer": "ipython3",
   "version": "3.9.12"
  }
 },
 "nbformat": 4,
 "nbformat_minor": 5
}
