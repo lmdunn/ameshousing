{
 "cells": [
  {
   "cell_type": "markdown",
   "id": "c894e27e-9b64-430e-bf06-3255b693394c",
   "metadata": {},
   "source": [
    "# Prepping Kaggle Test Dataframe, Part 2\n",
    "\n",
    "In this notebook, I put the cleaned Kaggle test.csv dataframe (aka \"draft1_cleaned_kaggle_test.csv\" ) through the feature engineering I did with the training dataframe.\n",
    "\n",
    "I've taken some of the EDA out, but otherwise I've left many of my notes from the original EDA and Feature Engineering notebook intact to make it easier to follow the workflow. "
   ]
  },
  {
   "cell_type": "code",
   "execution_count": 114,
   "id": "0811b7fa-fb1a-4283-9726-6781ebc93c62",
   "metadata": {},
   "outputs": [],
   "source": [
    "import pandas as pd\n",
    "import matplotlib.pyplot as plt\n",
    "import seaborn as sns"
   ]
  },
  {
   "cell_type": "code",
   "execution_count": 115,
   "id": "e573bb4f-9f1a-4b91-ac93-f0a87ffa84ac",
   "metadata": {},
   "outputs": [],
   "source": [
    "df = pd.read_csv('datasets/draft1_cleaned_kaggle_test.csv')"
   ]
  },
  {
   "cell_type": "code",
   "execution_count": 116,
   "id": "8c4ac9cf-d41c-4210-9198-c0fb8076fb3f",
   "metadata": {
    "tags": []
   },
   "outputs": [
    {
     "data": {
      "text/html": [
       "<div>\n",
       "<style scoped>\n",
       "    .dataframe tbody tr th:only-of-type {\n",
       "        vertical-align: middle;\n",
       "    }\n",
       "\n",
       "    .dataframe tbody tr th {\n",
       "        vertical-align: top;\n",
       "    }\n",
       "\n",
       "    .dataframe thead th {\n",
       "        text-align: right;\n",
       "    }\n",
       "</style>\n",
       "<table border=\"1\" class=\"dataframe\">\n",
       "  <thead>\n",
       "    <tr style=\"text-align: right;\">\n",
       "      <th></th>\n",
       "      <th>id</th>\n",
       "      <th>pid</th>\n",
       "      <th>ms_subclass</th>\n",
       "      <th>ms_zoning</th>\n",
       "      <th>lot_frontage</th>\n",
       "      <th>lot_area</th>\n",
       "      <th>street</th>\n",
       "      <th>alley</th>\n",
       "      <th>lot_shape</th>\n",
       "      <th>land_contour</th>\n",
       "      <th>...</th>\n",
       "      <th>screen_porch</th>\n",
       "      <th>pool_area</th>\n",
       "      <th>pool_qc</th>\n",
       "      <th>fence</th>\n",
       "      <th>misc_feature</th>\n",
       "      <th>misc_val</th>\n",
       "      <th>mo_sold</th>\n",
       "      <th>yr_sold</th>\n",
       "      <th>sale_type</th>\n",
       "      <th>saleprice</th>\n",
       "    </tr>\n",
       "  </thead>\n",
       "  <tbody>\n",
       "    <tr>\n",
       "      <th>0</th>\n",
       "      <td>2658</td>\n",
       "      <td>902301120</td>\n",
       "      <td>190</td>\n",
       "      <td>RM</td>\n",
       "      <td>69.0</td>\n",
       "      <td>9142</td>\n",
       "      <td>Pave</td>\n",
       "      <td>Grvl</td>\n",
       "      <td>Reg</td>\n",
       "      <td>Lvl</td>\n",
       "      <td>...</td>\n",
       "      <td>0</td>\n",
       "      <td>0</td>\n",
       "      <td>No Pool</td>\n",
       "      <td>No Fence</td>\n",
       "      <td>No Addl Features</td>\n",
       "      <td>0</td>\n",
       "      <td>4</td>\n",
       "      <td>2006</td>\n",
       "      <td>WD</td>\n",
       "      <td>0</td>\n",
       "    </tr>\n",
       "    <tr>\n",
       "      <th>1</th>\n",
       "      <td>2718</td>\n",
       "      <td>905108090</td>\n",
       "      <td>90</td>\n",
       "      <td>RL</td>\n",
       "      <td>0.0</td>\n",
       "      <td>9662</td>\n",
       "      <td>Pave</td>\n",
       "      <td>None</td>\n",
       "      <td>IR1</td>\n",
       "      <td>Lvl</td>\n",
       "      <td>...</td>\n",
       "      <td>0</td>\n",
       "      <td>0</td>\n",
       "      <td>No Pool</td>\n",
       "      <td>No Fence</td>\n",
       "      <td>No Addl Features</td>\n",
       "      <td>0</td>\n",
       "      <td>8</td>\n",
       "      <td>2006</td>\n",
       "      <td>WD</td>\n",
       "      <td>0</td>\n",
       "    </tr>\n",
       "  </tbody>\n",
       "</table>\n",
       "<p>2 rows × 81 columns</p>\n",
       "</div>"
      ],
      "text/plain": [
       "     id        pid  ms_subclass ms_zoning  lot_frontage  lot_area street  \\\n",
       "0  2658  902301120          190        RM          69.0      9142   Pave   \n",
       "1  2718  905108090           90        RL           0.0      9662   Pave   \n",
       "\n",
       "  alley lot_shape land_contour  ... screen_porch pool_area  pool_qc     fence  \\\n",
       "0  Grvl       Reg          Lvl  ...            0         0  No Pool  No Fence   \n",
       "1  None       IR1          Lvl  ...            0         0  No Pool  No Fence   \n",
       "\n",
       "       misc_feature misc_val mo_sold yr_sold  sale_type  saleprice  \n",
       "0  No Addl Features        0       4    2006        WD           0  \n",
       "1  No Addl Features        0       8    2006        WD           0  \n",
       "\n",
       "[2 rows x 81 columns]"
      ]
     },
     "execution_count": 116,
     "metadata": {},
     "output_type": "execute_result"
    }
   ],
   "source": [
    "df.head(2)"
   ]
  },
  {
   "cell_type": "code",
   "execution_count": 117,
   "id": "217994b4-9cc7-4d99-aa7e-d2104056ee6c",
   "metadata": {},
   "outputs": [
    {
     "data": {
      "text/plain": [
       "(878, 81)"
      ]
     },
     "execution_count": 117,
     "metadata": {},
     "output_type": "execute_result"
    }
   ],
   "source": [
    "df.shape"
   ]
  },
  {
   "cell_type": "markdown",
   "id": "809a4b15-5979-49fb-82d1-8a2991ceaa6c",
   "metadata": {},
   "source": [
    "I'm returning here to double check things that may need further cleaning, to see if they were correct or not correct in the 'draft1_cleaned_train.csv' file"
   ]
  },
  {
   "cell_type": "code",
   "execution_count": 118,
   "id": "44827072-b6b2-4063-b39f-f07fd85a5169",
   "metadata": {},
   "outputs": [
    {
     "data": {
      "text/plain": [
       "Pave    873\n",
       "Grvl      5\n",
       "Name: street, dtype: int64"
      ]
     },
     "execution_count": 118,
     "metadata": {},
     "output_type": "execute_result"
    }
   ],
   "source": [
    "df['street'].value_counts()"
   ]
  },
  {
   "cell_type": "code",
   "execution_count": 119,
   "id": "5c38bcdf-ef16-4cdc-a8cf-42ae69dff9db",
   "metadata": {},
   "outputs": [
    {
     "data": {
      "text/plain": [
       "TA             396\n",
       "Gd             355\n",
       "Ex              73\n",
       "Fa              28\n",
       "No Basement     25\n",
       "Po               1\n",
       "Name: bsmt_qual, dtype: int64"
      ]
     },
     "execution_count": 119,
     "metadata": {},
     "output_type": "execute_result"
    }
   ],
   "source": [
    "df['bsmt_qual'].value_counts()"
   ]
  },
  {
   "cell_type": "markdown",
   "id": "624900f8-00d3-4dd5-811d-0d85ed2b7e64",
   "metadata": {},
   "source": [
    "I found this `df.loc[(df.name == None) & (df.weight == 1), 'name'] = 'defaut'` at [this site](https://stackoverflow.com/questions/44641577/how-to-change-value-for-rows-that-meet-specific-conditions-in-pandas) and modified it to make the change I want."
   ]
  },
  {
   "cell_type": "code",
   "execution_count": 120,
   "id": "13fa9d22-59b4-4874-9d9f-cc0d36fdadef",
   "metadata": {},
   "outputs": [],
   "source": [
    "df['has_bsmt'] = 0\n",
    "\n",
    "df.loc[(df['bsmt_qual'] != 'No Basement'), 'has_bsmt'] = 1"
   ]
  },
  {
   "cell_type": "code",
   "execution_count": 121,
   "id": "190ba9e8-ae9c-4324-b881-563618d29a71",
   "metadata": {},
   "outputs": [
    {
     "data": {
      "text/plain": [
       "1    853\n",
       "0     25\n",
       "Name: has_bsmt, dtype: int64"
      ]
     },
     "execution_count": 121,
     "metadata": {},
     "output_type": "execute_result"
    }
   ],
   "source": [
    "df['has_bsmt'].value_counts()"
   ]
  },
  {
   "cell_type": "code",
   "execution_count": 122,
   "id": "d46be554-98bd-4203-ac0b-035a30e1cb65",
   "metadata": {},
   "outputs": [
    {
     "data": {
      "text/plain": [
       "TA           782\n",
       "No Garage     45\n",
       "Fa            42\n",
       "Gd             6\n",
       "Po             3\n",
       "Name: garage_qual, dtype: int64"
      ]
     },
     "execution_count": 122,
     "metadata": {},
     "output_type": "execute_result"
    }
   ],
   "source": [
    "df['garage_qual'].value_counts()"
   ]
  },
  {
   "cell_type": "code",
   "execution_count": 123,
   "id": "3b40b8d8-0949-41fa-a6cf-a1731f5d60cb",
   "metadata": {},
   "outputs": [],
   "source": [
    "df['has_garage'] = 0\n",
    "\n",
    "df.loc[(df['garage_qual'] != 'No Garage'), 'has_garage']=1"
   ]
  },
  {
   "cell_type": "code",
   "execution_count": 124,
   "id": "532a23a9-8cb4-410e-bade-092fdb4680a8",
   "metadata": {},
   "outputs": [
    {
     "data": {
      "text/plain": [
       "1    833\n",
       "0     45\n",
       "Name: has_garage, dtype: int64"
      ]
     },
     "execution_count": 124,
     "metadata": {},
     "output_type": "execute_result"
    }
   ],
   "source": [
    "df['has_garage'].value_counts()"
   ]
  },
  {
   "cell_type": "code",
   "execution_count": 125,
   "id": "7d1e75a8-2ec3-4247-ad33-5a727a9bd58a",
   "metadata": {},
   "outputs": [
    {
     "data": {
      "text/plain": [
       "None       535\n",
       "BrkFace    250\n",
       "Stone       80\n",
       "BrkCmn      12\n",
       "CBlock       1\n",
       "Name: mas_vnr_type, dtype: int64"
      ]
     },
     "execution_count": 125,
     "metadata": {},
     "output_type": "execute_result"
    }
   ],
   "source": [
    "df['mas_vnr_type'].value_counts()"
   ]
  },
  {
   "cell_type": "code",
   "execution_count": 126,
   "id": "5b02efc3-4bd4-4e04-bbf6-e0d50c7e4714",
   "metadata": {},
   "outputs": [],
   "source": [
    "df['has_mas_vnr'] = 0\n",
    "\n",
    "df.loc[(df['mas_vnr_type'] != 'None'), 'has_mas_vnr'] = 1"
   ]
  },
  {
   "cell_type": "code",
   "execution_count": 127,
   "id": "263e847e-e6ec-4c64-a62a-b91e13b16965",
   "metadata": {},
   "outputs": [
    {
     "data": {
      "text/plain": [
       "0    535\n",
       "1    343\n",
       "Name: has_mas_vnr, dtype: int64"
      ]
     },
     "execution_count": 127,
     "metadata": {},
     "output_type": "execute_result"
    }
   ],
   "source": [
    "df['has_mas_vnr'].value_counts()"
   ]
  },
  {
   "cell_type": "code",
   "execution_count": 128,
   "id": "bc1901f1-ad27-4b94-bd5d-76248ad7b091",
   "metadata": {},
   "outputs": [
    {
     "data": {
      "text/plain": [
       "No Pool    874\n",
       "Ex           3\n",
       "TA           1\n",
       "Name: pool_qc, dtype: int64"
      ]
     },
     "execution_count": 128,
     "metadata": {},
     "output_type": "execute_result"
    }
   ],
   "source": [
    "df['pool_qc'].value_counts()"
   ]
  },
  {
   "cell_type": "code",
   "execution_count": 129,
   "id": "2c298a1d-0f84-47a6-b982-7b1ca8cd7ba9",
   "metadata": {},
   "outputs": [],
   "source": [
    "df['has_pool'] = 0\n",
    "df.loc[(df['pool_qc'] != 'No Pool'), 'has_pool'] = 1"
   ]
  },
  {
   "cell_type": "code",
   "execution_count": 130,
   "id": "d42d8397-e66f-47e4-af07-b08edcba1058",
   "metadata": {},
   "outputs": [
    {
     "data": {
      "text/plain": [
       "0    874\n",
       "1      4\n",
       "Name: has_pool, dtype: int64"
      ]
     },
     "execution_count": 130,
     "metadata": {},
     "output_type": "execute_result"
    }
   ],
   "source": [
    "df['has_pool'].value_counts()"
   ]
  },
  {
   "cell_type": "markdown",
   "id": "8e089fa1-69ca-4272-8314-d7b2b426ec27",
   "metadata": {},
   "source": [
    "I'm interested in instantiating a model that takes into account the variables that show a correlation of above 0.5 or maybe 0.4, seeing what that looks like."
   ]
  },
  {
   "cell_type": "markdown",
   "id": "65a18bfc-78b2-418a-b77f-dc4a69288e4f",
   "metadata": {
    "tags": []
   },
   "source": [
    "### Exploring Categorical Columns\n",
    "\n",
    "In order to start grasping what's going on in the categorical columns, I wanted to get to a list of categorical column names. I created a data frame with the column names (as index) and data types. I used that to create a dataframe that consisted only of the categorical variables. I then turned the index for that into a list, my list of categorical columns, which I could then pass through the data frame to look at those a little more carefully.\n",
    "\n",
    "NOTE: I returned up here repeatedly to clean out my categorical list when I recast things to numericals to make it easier to keep track of what I had left to work through."
   ]
  },
  {
   "cell_type": "code",
   "execution_count": 131,
   "id": "39eb293f-e0c5-44e5-83f5-c4ceea63b25b",
   "metadata": {},
   "outputs": [
    {
     "data": {
      "text/plain": [
       "dtype    object\n",
       "dtype: object"
      ]
     },
     "execution_count": 131,
     "metadata": {},
     "output_type": "execute_result"
    }
   ],
   "source": [
    "column_dtype = pd.DataFrame(df.dtypes, df.columns)\n",
    "column_dtype.rename(columns = {0: 'dtype'}, inplace = True)\n",
    "column_dtype.dtypes"
   ]
  },
  {
   "cell_type": "code",
   "execution_count": 132,
   "id": "98c18c9c-da4d-4f8b-9805-02a3d1f18785",
   "metadata": {},
   "outputs": [],
   "source": [
    "categorical_columns = column_dtype[(column_dtype['dtype'] != 'int64') & (column_dtype['dtype'] != 'float64')]\n"
   ]
  },
  {
   "cell_type": "code",
   "execution_count": 133,
   "id": "911d7a5b-d2ec-42e5-b3cd-f4109992cb4a",
   "metadata": {},
   "outputs": [
    {
     "data": {
      "text/html": [
       "<div>\n",
       "<style scoped>\n",
       "    .dataframe tbody tr th:only-of-type {\n",
       "        vertical-align: middle;\n",
       "    }\n",
       "\n",
       "    .dataframe tbody tr th {\n",
       "        vertical-align: top;\n",
       "    }\n",
       "\n",
       "    .dataframe thead th {\n",
       "        text-align: right;\n",
       "    }\n",
       "</style>\n",
       "<table border=\"1\" class=\"dataframe\">\n",
       "  <thead>\n",
       "    <tr style=\"text-align: right;\">\n",
       "      <th></th>\n",
       "      <th>ms_zoning</th>\n",
       "      <th>street</th>\n",
       "      <th>alley</th>\n",
       "      <th>lot_shape</th>\n",
       "      <th>land_contour</th>\n",
       "      <th>utilities</th>\n",
       "      <th>lot_config</th>\n",
       "      <th>land_slope</th>\n",
       "      <th>neighborhood</th>\n",
       "      <th>condition_1</th>\n",
       "      <th>...</th>\n",
       "      <th>garage_type</th>\n",
       "      <th>garage_yr_blt</th>\n",
       "      <th>garage_finish</th>\n",
       "      <th>garage_qual</th>\n",
       "      <th>garage_cond</th>\n",
       "      <th>paved_drive</th>\n",
       "      <th>pool_qc</th>\n",
       "      <th>fence</th>\n",
       "      <th>misc_feature</th>\n",
       "      <th>sale_type</th>\n",
       "    </tr>\n",
       "  </thead>\n",
       "  <tbody>\n",
       "    <tr>\n",
       "      <th>0</th>\n",
       "      <td>RM</td>\n",
       "      <td>Pave</td>\n",
       "      <td>Grvl</td>\n",
       "      <td>Reg</td>\n",
       "      <td>Lvl</td>\n",
       "      <td>AllPub</td>\n",
       "      <td>Inside</td>\n",
       "      <td>Gtl</td>\n",
       "      <td>OldTown</td>\n",
       "      <td>Norm</td>\n",
       "      <td>...</td>\n",
       "      <td>Detchd</td>\n",
       "      <td>1910.0</td>\n",
       "      <td>Unf</td>\n",
       "      <td>Po</td>\n",
       "      <td>Po</td>\n",
       "      <td>Y</td>\n",
       "      <td>No Pool</td>\n",
       "      <td>No Fence</td>\n",
       "      <td>No Addl Features</td>\n",
       "      <td>WD</td>\n",
       "    </tr>\n",
       "    <tr>\n",
       "      <th>1</th>\n",
       "      <td>RL</td>\n",
       "      <td>Pave</td>\n",
       "      <td>None</td>\n",
       "      <td>IR1</td>\n",
       "      <td>Lvl</td>\n",
       "      <td>AllPub</td>\n",
       "      <td>Inside</td>\n",
       "      <td>Gtl</td>\n",
       "      <td>Sawyer</td>\n",
       "      <td>Norm</td>\n",
       "      <td>...</td>\n",
       "      <td>Attchd</td>\n",
       "      <td>1977.0</td>\n",
       "      <td>Fin</td>\n",
       "      <td>TA</td>\n",
       "      <td>TA</td>\n",
       "      <td>Y</td>\n",
       "      <td>No Pool</td>\n",
       "      <td>No Fence</td>\n",
       "      <td>No Addl Features</td>\n",
       "      <td>WD</td>\n",
       "    </tr>\n",
       "    <tr>\n",
       "      <th>2</th>\n",
       "      <td>RL</td>\n",
       "      <td>Pave</td>\n",
       "      <td>None</td>\n",
       "      <td>IR1</td>\n",
       "      <td>Lvl</td>\n",
       "      <td>AllPub</td>\n",
       "      <td>Inside</td>\n",
       "      <td>Gtl</td>\n",
       "      <td>Gilbert</td>\n",
       "      <td>Norm</td>\n",
       "      <td>...</td>\n",
       "      <td>Attchd</td>\n",
       "      <td>2006.0</td>\n",
       "      <td>RFn</td>\n",
       "      <td>TA</td>\n",
       "      <td>TA</td>\n",
       "      <td>Y</td>\n",
       "      <td>No Pool</td>\n",
       "      <td>No Fence</td>\n",
       "      <td>No Addl Features</td>\n",
       "      <td>New</td>\n",
       "    </tr>\n",
       "    <tr>\n",
       "      <th>3</th>\n",
       "      <td>RM</td>\n",
       "      <td>Pave</td>\n",
       "      <td>None</td>\n",
       "      <td>Reg</td>\n",
       "      <td>Lvl</td>\n",
       "      <td>AllPub</td>\n",
       "      <td>Inside</td>\n",
       "      <td>Gtl</td>\n",
       "      <td>OldTown</td>\n",
       "      <td>Norm</td>\n",
       "      <td>...</td>\n",
       "      <td>Detchd</td>\n",
       "      <td>1935.0</td>\n",
       "      <td>Unf</td>\n",
       "      <td>Fa</td>\n",
       "      <td>TA</td>\n",
       "      <td>N</td>\n",
       "      <td>No Pool</td>\n",
       "      <td>No Fence</td>\n",
       "      <td>No Addl Features</td>\n",
       "      <td>WD</td>\n",
       "    </tr>\n",
       "    <tr>\n",
       "      <th>4</th>\n",
       "      <td>RL</td>\n",
       "      <td>Pave</td>\n",
       "      <td>None</td>\n",
       "      <td>IR1</td>\n",
       "      <td>Lvl</td>\n",
       "      <td>AllPub</td>\n",
       "      <td>Inside</td>\n",
       "      <td>Gtl</td>\n",
       "      <td>NAmes</td>\n",
       "      <td>Norm</td>\n",
       "      <td>...</td>\n",
       "      <td>Attchd</td>\n",
       "      <td>1963.0</td>\n",
       "      <td>RFn</td>\n",
       "      <td>TA</td>\n",
       "      <td>TA</td>\n",
       "      <td>Y</td>\n",
       "      <td>No Pool</td>\n",
       "      <td>No Fence</td>\n",
       "      <td>No Addl Features</td>\n",
       "      <td>WD</td>\n",
       "    </tr>\n",
       "  </tbody>\n",
       "</table>\n",
       "<p>5 rows × 43 columns</p>\n",
       "</div>"
      ],
      "text/plain": [
       "  ms_zoning street alley lot_shape land_contour utilities lot_config  \\\n",
       "0        RM   Pave  Grvl       Reg          Lvl    AllPub     Inside   \n",
       "1        RL   Pave  None       IR1          Lvl    AllPub     Inside   \n",
       "2        RL   Pave  None       IR1          Lvl    AllPub     Inside   \n",
       "3        RM   Pave  None       Reg          Lvl    AllPub     Inside   \n",
       "4        RL   Pave  None       IR1          Lvl    AllPub     Inside   \n",
       "\n",
       "  land_slope neighborhood condition_1  ... garage_type garage_yr_blt  \\\n",
       "0        Gtl      OldTown        Norm  ...      Detchd        1910.0   \n",
       "1        Gtl       Sawyer        Norm  ...      Attchd        1977.0   \n",
       "2        Gtl      Gilbert        Norm  ...      Attchd        2006.0   \n",
       "3        Gtl      OldTown        Norm  ...      Detchd        1935.0   \n",
       "4        Gtl        NAmes        Norm  ...      Attchd        1963.0   \n",
       "\n",
       "  garage_finish garage_qual garage_cond paved_drive  pool_qc     fence  \\\n",
       "0           Unf          Po          Po           Y  No Pool  No Fence   \n",
       "1           Fin          TA          TA           Y  No Pool  No Fence   \n",
       "2           RFn          TA          TA           Y  No Pool  No Fence   \n",
       "3           Unf          Fa          TA           N  No Pool  No Fence   \n",
       "4           RFn          TA          TA           Y  No Pool  No Fence   \n",
       "\n",
       "       misc_feature sale_type  \n",
       "0  No Addl Features       WD   \n",
       "1  No Addl Features       WD   \n",
       "2  No Addl Features       New  \n",
       "3  No Addl Features       WD   \n",
       "4  No Addl Features       WD   \n",
       "\n",
       "[5 rows x 43 columns]"
      ]
     },
     "execution_count": 133,
     "metadata": {},
     "output_type": "execute_result"
    }
   ],
   "source": [
    "categorical_col_list = list(categorical_columns.index)\n",
    "df[categorical_col_list].head()"
   ]
  },
  {
   "cell_type": "markdown",
   "id": "7fb2d009-81c4-4d8a-977d-b65fb438d8bd",
   "metadata": {},
   "source": [
    "#### A Note on how I organized my work.\n",
    "I used the following code block to keep track of the categorical values I had left to decide how to deal with.\n",
    "\n",
    "I took the list of details about the \"has_(BLANK)\" categories I created out in order to make the list more manageable. I left in categorical columns that I haven't used at all in the list for easy reference.\n",
    "\n",
    "As I turned values into numericals (i.e. 0 = No, 1 = Yes; scaled ratings, etc.) and when I eliminated 'utilites', I took them out of the list to make it easier to keep track of which variables I needed to look at. \n",
    "\n",
    "As a result, I went back and forth to these next two blocks as I eliminated things I was working on, just to keep track.\n",
    "\n",
    "Also, this [stackoverflow](https://stackoverflow.com/questions/52797035/how-to-remove-an-item-from-a-list-in-python-with-substring-match) gave me the idea to use a list comprehension to do this, though I varied the actual code."
   ]
  },
  {
   "cell_type": "code",
   "execution_count": 134,
   "id": "0f8528ea-7e49-405f-a2cb-6a6123fbc87b",
   "metadata": {},
   "outputs": [
    {
     "data": {
      "text/plain": [
       "['ms_zoning',\n",
       " 'land_contour',\n",
       " 'lot_config',\n",
       " 'neighborhood',\n",
       " 'condition_1',\n",
       " 'condition_2',\n",
       " 'bldg_type',\n",
       " 'house_style',\n",
       " 'roof_style',\n",
       " 'roof_matl',\n",
       " 'mas_vnr_type',\n",
       " 'foundation',\n",
       " 'heating',\n",
       " 'electrical',\n",
       " 'fence',\n",
       " 'misc_feature',\n",
       " 'sale_type']"
      ]
     },
     "execution_count": 134,
     "metadata": {},
     "output_type": "execute_result"
    }
   ],
   "source": [
    "clean_categorical_col_list = [i for i in categorical_col_list if 'bsmt' not in i and 'garage' not in i\\\n",
    "                             and 'utilities' not in i and 'alley' not in i and 'pool' not in i\\\n",
    "                             and 'fireplace' not in i and 'street' not in i and 'lot_shape' not in i\\\n",
    "                             and 'land_slope' not in i and 'exter' not in i and 'paved_drive' not in i\\\n",
    "                             and 'central_air' not in i and 'heating_qc' not in i and 'kitchen_qual' not in i\\\n",
    "                             and 'functional' not in i]\n",
    "clean_categorical_col_list"
   ]
  },
  {
   "cell_type": "code",
   "execution_count": 135,
   "id": "9f6e889a-4197-4b95-b93b-8a067d1dd801",
   "metadata": {},
   "outputs": [
    {
     "data": {
      "text/html": [
       "<div>\n",
       "<style scoped>\n",
       "    .dataframe tbody tr th:only-of-type {\n",
       "        vertical-align: middle;\n",
       "    }\n",
       "\n",
       "    .dataframe tbody tr th {\n",
       "        vertical-align: top;\n",
       "    }\n",
       "\n",
       "    .dataframe thead th {\n",
       "        text-align: right;\n",
       "    }\n",
       "</style>\n",
       "<table border=\"1\" class=\"dataframe\">\n",
       "  <thead>\n",
       "    <tr style=\"text-align: right;\">\n",
       "      <th></th>\n",
       "      <th>ms_zoning</th>\n",
       "      <th>land_contour</th>\n",
       "      <th>lot_config</th>\n",
       "      <th>neighborhood</th>\n",
       "      <th>condition_1</th>\n",
       "      <th>condition_2</th>\n",
       "      <th>bldg_type</th>\n",
       "      <th>house_style</th>\n",
       "      <th>roof_style</th>\n",
       "      <th>roof_matl</th>\n",
       "      <th>mas_vnr_type</th>\n",
       "      <th>foundation</th>\n",
       "      <th>heating</th>\n",
       "      <th>electrical</th>\n",
       "      <th>fence</th>\n",
       "      <th>misc_feature</th>\n",
       "      <th>sale_type</th>\n",
       "    </tr>\n",
       "  </thead>\n",
       "  <tbody>\n",
       "    <tr>\n",
       "      <th>0</th>\n",
       "      <td>RM</td>\n",
       "      <td>Lvl</td>\n",
       "      <td>Inside</td>\n",
       "      <td>OldTown</td>\n",
       "      <td>Norm</td>\n",
       "      <td>Norm</td>\n",
       "      <td>2fmCon</td>\n",
       "      <td>2Story</td>\n",
       "      <td>Gable</td>\n",
       "      <td>CompShg</td>\n",
       "      <td>None</td>\n",
       "      <td>Stone</td>\n",
       "      <td>GasA</td>\n",
       "      <td>FuseP</td>\n",
       "      <td>No Fence</td>\n",
       "      <td>No Addl Features</td>\n",
       "      <td>WD</td>\n",
       "    </tr>\n",
       "    <tr>\n",
       "      <th>1</th>\n",
       "      <td>RL</td>\n",
       "      <td>Lvl</td>\n",
       "      <td>Inside</td>\n",
       "      <td>Sawyer</td>\n",
       "      <td>Norm</td>\n",
       "      <td>Norm</td>\n",
       "      <td>Duplex</td>\n",
       "      <td>1Story</td>\n",
       "      <td>Gable</td>\n",
       "      <td>CompShg</td>\n",
       "      <td>None</td>\n",
       "      <td>CBlock</td>\n",
       "      <td>GasA</td>\n",
       "      <td>SBrkr</td>\n",
       "      <td>No Fence</td>\n",
       "      <td>No Addl Features</td>\n",
       "      <td>WD</td>\n",
       "    </tr>\n",
       "    <tr>\n",
       "      <th>2</th>\n",
       "      <td>RL</td>\n",
       "      <td>Lvl</td>\n",
       "      <td>Inside</td>\n",
       "      <td>Gilbert</td>\n",
       "      <td>Norm</td>\n",
       "      <td>Norm</td>\n",
       "      <td>1Fam</td>\n",
       "      <td>2Story</td>\n",
       "      <td>Gable</td>\n",
       "      <td>CompShg</td>\n",
       "      <td>None</td>\n",
       "      <td>PConc</td>\n",
       "      <td>GasA</td>\n",
       "      <td>SBrkr</td>\n",
       "      <td>No Fence</td>\n",
       "      <td>No Addl Features</td>\n",
       "      <td>New</td>\n",
       "    </tr>\n",
       "    <tr>\n",
       "      <th>3</th>\n",
       "      <td>RM</td>\n",
       "      <td>Lvl</td>\n",
       "      <td>Inside</td>\n",
       "      <td>OldTown</td>\n",
       "      <td>Norm</td>\n",
       "      <td>Norm</td>\n",
       "      <td>1Fam</td>\n",
       "      <td>1Story</td>\n",
       "      <td>Gable</td>\n",
       "      <td>CompShg</td>\n",
       "      <td>None</td>\n",
       "      <td>CBlock</td>\n",
       "      <td>GasA</td>\n",
       "      <td>SBrkr</td>\n",
       "      <td>No Fence</td>\n",
       "      <td>No Addl Features</td>\n",
       "      <td>WD</td>\n",
       "    </tr>\n",
       "    <tr>\n",
       "      <th>4</th>\n",
       "      <td>RL</td>\n",
       "      <td>Lvl</td>\n",
       "      <td>Inside</td>\n",
       "      <td>NAmes</td>\n",
       "      <td>Norm</td>\n",
       "      <td>Norm</td>\n",
       "      <td>1Fam</td>\n",
       "      <td>1Story</td>\n",
       "      <td>Gable</td>\n",
       "      <td>CompShg</td>\n",
       "      <td>BrkFace</td>\n",
       "      <td>CBlock</td>\n",
       "      <td>GasA</td>\n",
       "      <td>SBrkr</td>\n",
       "      <td>No Fence</td>\n",
       "      <td>No Addl Features</td>\n",
       "      <td>WD</td>\n",
       "    </tr>\n",
       "  </tbody>\n",
       "</table>\n",
       "</div>"
      ],
      "text/plain": [
       "  ms_zoning land_contour lot_config neighborhood condition_1 condition_2  \\\n",
       "0        RM          Lvl     Inside      OldTown        Norm        Norm   \n",
       "1        RL          Lvl     Inside       Sawyer        Norm        Norm   \n",
       "2        RL          Lvl     Inside      Gilbert        Norm        Norm   \n",
       "3        RM          Lvl     Inside      OldTown        Norm        Norm   \n",
       "4        RL          Lvl     Inside        NAmes        Norm        Norm   \n",
       "\n",
       "  bldg_type house_style roof_style roof_matl mas_vnr_type foundation heating  \\\n",
       "0    2fmCon      2Story      Gable   CompShg         None      Stone    GasA   \n",
       "1    Duplex      1Story      Gable   CompShg         None     CBlock    GasA   \n",
       "2      1Fam      2Story      Gable   CompShg         None      PConc    GasA   \n",
       "3      1Fam      1Story      Gable   CompShg         None     CBlock    GasA   \n",
       "4      1Fam      1Story      Gable   CompShg      BrkFace     CBlock    GasA   \n",
       "\n",
       "  electrical     fence      misc_feature sale_type  \n",
       "0      FuseP  No Fence  No Addl Features       WD   \n",
       "1      SBrkr  No Fence  No Addl Features       WD   \n",
       "2      SBrkr  No Fence  No Addl Features       New  \n",
       "3      SBrkr  No Fence  No Addl Features       WD   \n",
       "4      SBrkr  No Fence  No Addl Features       WD   "
      ]
     },
     "execution_count": 135,
     "metadata": {},
     "output_type": "execute_result"
    }
   ],
   "source": [
    "df[clean_categorical_col_list].head()"
   ]
  },
  {
   "cell_type": "code",
   "execution_count": 136,
   "id": "abc4c135-714f-41ce-a0b9-0f693b24cb11",
   "metadata": {},
   "outputs": [],
   "source": [
    "df['has_alley'] = 0\n",
    "df.loc[(df['alley'] != 'None'), 'has_alley'] = 1"
   ]
  },
  {
   "cell_type": "code",
   "execution_count": 137,
   "id": "b4af7382-7839-495b-ad7d-8267a21c4fc3",
   "metadata": {},
   "outputs": [
    {
     "data": {
      "text/plain": [
       "0    820\n",
       "1     58\n",
       "Name: has_alley, dtype: int64"
      ]
     },
     "execution_count": 137,
     "metadata": {},
     "output_type": "execute_result"
    }
   ],
   "source": [
    "df['has_alley'].value_counts()"
   ]
  },
  {
   "cell_type": "code",
   "execution_count": 138,
   "id": "5ce7afdc-e856-45f9-8992-9af20c8f7ccc",
   "metadata": {},
   "outputs": [
    {
     "data": {
      "text/plain": [
       "1    456\n",
       "0    422\n",
       "Name: has_fireplace, dtype: int64"
      ]
     },
     "execution_count": 138,
     "metadata": {},
     "output_type": "execute_result"
    }
   ],
   "source": [
    "df['has_fireplace'] = 0\n",
    "df.loc[(df['fireplace_qu'] != 'No Fireplace'), 'has_fireplace'] = 1\n",
    "df['has_fireplace'].value_counts()"
   ]
  },
  {
   "cell_type": "markdown",
   "id": "b5ecc2d2-9809-4d7f-853e-255a3dafc69a",
   "metadata": {},
   "source": [
    "-----"
   ]
  },
  {
   "cell_type": "code",
   "execution_count": 139,
   "id": "24d5b8a0-d201-47b6-9257-c619e2ab6daf",
   "metadata": {},
   "outputs": [
    {
     "data": {
      "text/plain": [
       "Y    823\n",
       "N     55\n",
       "Name: central_air, dtype: int64"
      ]
     },
     "execution_count": 139,
     "metadata": {},
     "output_type": "execute_result"
    }
   ],
   "source": [
    "df['central_air'].value_counts()"
   ]
  },
  {
   "cell_type": "code",
   "execution_count": 140,
   "id": "4603d71b-367f-455a-a666-e4146ac95a54",
   "metadata": {},
   "outputs": [
    {
     "data": {
      "text/plain": [
       "1    823\n",
       "0     55\n",
       "Name: central_air, dtype: int64"
      ]
     },
     "execution_count": 140,
     "metadata": {},
     "output_type": "execute_result"
    }
   ],
   "source": [
    "df['central_air'] = df['central_air'].map({'Y':1, 'N': 0})\n",
    "df['central_air'].value_counts()"
   ]
  },
  {
   "cell_type": "markdown",
   "id": "6b07b0ef-8066-4b4a-8a18-7d6a757a5d5e",
   "metadata": {},
   "source": [
    "------"
   ]
  },
  {
   "cell_type": "code",
   "execution_count": 141,
   "id": "ca300321-6732-451a-a2ec-ccaf54a6ff39",
   "metadata": {},
   "outputs": [
    {
     "data": {
      "text/plain": [
       "Pave    873\n",
       "Grvl      5\n",
       "Name: street, dtype: int64"
      ]
     },
     "execution_count": 141,
     "metadata": {},
     "output_type": "execute_result"
    }
   ],
   "source": [
    "df['street'].value_counts()"
   ]
  },
  {
   "cell_type": "code",
   "execution_count": 142,
   "id": "39cb208e-fdc3-45fd-8659-25ac630fe90b",
   "metadata": {},
   "outputs": [
    {
     "data": {
      "text/plain": [
       "0    1\n",
       "1    1\n",
       "2    1\n",
       "3    1\n",
       "4    1\n",
       "Name: street_surface, dtype: int64"
      ]
     },
     "execution_count": 142,
     "metadata": {},
     "output_type": "execute_result"
    }
   ],
   "source": [
    "df.rename(columns = {'street':'street_surface'}, inplace = True)\n",
    "df['street_surface'] = df['street_surface'].map({'Pave': 1, 'Grvl': 0})\n",
    "df['street_surface'].head()"
   ]
  },
  {
   "cell_type": "code",
   "execution_count": 143,
   "id": "e876ada0-d069-4f32-93a6-a1cf2a87b712",
   "metadata": {},
   "outputs": [
    {
     "data": {
      "text/plain": [
       "Y    790\n",
       "N     65\n",
       "P     23\n",
       "Name: paved_drive, dtype: int64"
      ]
     },
     "execution_count": 143,
     "metadata": {},
     "output_type": "execute_result"
    }
   ],
   "source": [
    "df['paved_drive'].value_counts()"
   ]
  },
  {
   "cell_type": "code",
   "execution_count": 144,
   "id": "31e8570f-7110-4f16-b677-c929fd4ecb41",
   "metadata": {},
   "outputs": [],
   "source": [
    "df['paved_drive'] = df['paved_drive'].map({'N': 0, 'P': 1, 'Y': 2})"
   ]
  },
  {
   "cell_type": "code",
   "execution_count": 145,
   "id": "9af2460e-2c26-4540-94ea-faf9040b0c7e",
   "metadata": {},
   "outputs": [
    {
     "data": {
      "text/plain": [
       "2    790\n",
       "0     65\n",
       "1     23\n",
       "Name: paved_drive, dtype: int64"
      ]
     },
     "execution_count": 145,
     "metadata": {},
     "output_type": "execute_result"
    }
   ],
   "source": [
    "df['paved_drive'].value_counts()"
   ]
  },
  {
   "cell_type": "markdown",
   "id": "a1b5bc09-a1e7-4b08-9733-0a1cfbd92f1d",
   "metadata": {},
   "source": [
    "------"
   ]
  },
  {
   "cell_type": "code",
   "execution_count": 146,
   "id": "f9f5a931-727d-4506-9ae6-35334f28431d",
   "metadata": {
    "tags": []
   },
   "outputs": [
    {
     "data": {
      "text/plain": [
       "Reg    564\n",
       "IR1    286\n",
       "IR2     21\n",
       "IR3      7\n",
       "Name: lot_shape, dtype: int64"
      ]
     },
     "execution_count": 146,
     "metadata": {},
     "output_type": "execute_result"
    }
   ],
   "source": [
    "df['lot_shape'].value_counts()"
   ]
  },
  {
   "cell_type": "code",
   "execution_count": 147,
   "id": "66ced38d-6263-4d85-926d-0bf6a00ece42",
   "metadata": {},
   "outputs": [
    {
     "data": {
      "text/plain": [
       "0    564\n",
       "1    286\n",
       "2     21\n",
       "3      7\n",
       "Name: lot_shape, dtype: int64"
      ]
     },
     "execution_count": 147,
     "metadata": {},
     "output_type": "execute_result"
    }
   ],
   "source": [
    "df['lot_shape'] = df['lot_shape'].map({'Reg': 0, 'IR1': 1, 'IR2': 2, 'IR3':3})\n",
    "df['lot_shape'].value_counts()"
   ]
  },
  {
   "cell_type": "code",
   "execution_count": 148,
   "id": "7f25357a-620a-4074-a03c-9c3296dfec3a",
   "metadata": {},
   "outputs": [
    {
     "data": {
      "text/plain": [
       "Gtl    835\n",
       "Mod     37\n",
       "Sev      6\n",
       "Name: land_slope, dtype: int64"
      ]
     },
     "execution_count": 148,
     "metadata": {},
     "output_type": "execute_result"
    }
   ],
   "source": [
    "df['land_slope'].value_counts()"
   ]
  },
  {
   "cell_type": "code",
   "execution_count": 149,
   "id": "3ec04ba5-c147-4730-9e88-7a008b3db9bd",
   "metadata": {},
   "outputs": [
    {
     "data": {
      "text/plain": [
       "0    835\n",
       "1     37\n",
       "2      6\n",
       "Name: land_slope, dtype: int64"
      ]
     },
     "execution_count": 149,
     "metadata": {},
     "output_type": "execute_result"
    }
   ],
   "source": [
    "df['land_slope'] = df['land_slope'].map({'Gtl':0, 'Mod':1, 'Sev':2})\n",
    "df['land_slope'].value_counts()"
   ]
  },
  {
   "cell_type": "code",
   "execution_count": 150,
   "id": "8dcb184f-e68f-4769-a3bf-47e7a349115c",
   "metadata": {},
   "outputs": [],
   "source": [
    "df['pool_qc'] = df['pool_qc'].map({'No Pool': 0, 'Fa': 1, 'TA': 2, 'Gd': 3, 'Ex':4})"
   ]
  },
  {
   "cell_type": "code",
   "execution_count": 151,
   "id": "eaa713e5-5cc4-4c7c-9e5e-297d7f4edacf",
   "metadata": {},
   "outputs": [
    {
     "data": {
      "text/plain": [
       "0    874\n",
       "4      3\n",
       "2      1\n",
       "Name: pool_qc, dtype: int64"
      ]
     },
     "execution_count": 151,
     "metadata": {},
     "output_type": "execute_result"
    }
   ],
   "source": [
    "df['pool_qc'].value_counts()"
   ]
  },
  {
   "cell_type": "code",
   "execution_count": 152,
   "id": "162662a3-c3c1-4036-acf6-922091e4420f",
   "metadata": {},
   "outputs": [],
   "source": [
    "df['garage_qual'] = df['garage_qual'].map({'No Garage': 0, 'Po': 1, 'Fa': 2, 'TA': 3, 'Gd':4, 'Ex':5})"
   ]
  },
  {
   "cell_type": "code",
   "execution_count": 153,
   "id": "acce6135-c147-4ef5-b226-8b755c942366",
   "metadata": {},
   "outputs": [
    {
     "data": {
      "text/plain": [
       "3    782\n",
       "0     45\n",
       "2     42\n",
       "4      6\n",
       "1      3\n",
       "Name: garage_qual, dtype: int64"
      ]
     },
     "execution_count": 153,
     "metadata": {},
     "output_type": "execute_result"
    }
   ],
   "source": [
    "df['garage_qual'].value_counts()"
   ]
  },
  {
   "cell_type": "code",
   "execution_count": 154,
   "id": "56d3b4ed-5f76-4de9-9169-506dff2e65a0",
   "metadata": {},
   "outputs": [],
   "source": [
    "df['garage_cond'] = df['garage_cond'].map({'No Garage': 0, 'Po': 1, 'Fa': 2, 'TA': 3, 'Gd':4, 'Ex':5})"
   ]
  },
  {
   "cell_type": "code",
   "execution_count": 155,
   "id": "63434f83-4d81-431f-853d-c2b729a91cfb",
   "metadata": {},
   "outputs": [
    {
     "data": {
      "text/plain": [
       "3    796\n",
       "0     45\n",
       "2     27\n",
       "1      6\n",
       "4      3\n",
       "5      1\n",
       "Name: garage_cond, dtype: int64"
      ]
     },
     "execution_count": 155,
     "metadata": {},
     "output_type": "execute_result"
    }
   ],
   "source": [
    "df['garage_cond'].value_counts()"
   ]
  },
  {
   "cell_type": "code",
   "execution_count": 156,
   "id": "84ebb268-29e3-42c4-b576-ffcb3c52db3e",
   "metadata": {},
   "outputs": [
    {
     "data": {
      "text/plain": [
       "TA    770\n",
       "Gd     84\n",
       "Fa     18\n",
       "Ex      5\n",
       "Po      1\n",
       "Name: exter_cond, dtype: int64"
      ]
     },
     "execution_count": 156,
     "metadata": {},
     "output_type": "execute_result"
    }
   ],
   "source": [
    "df['exter_cond'].value_counts()"
   ]
  },
  {
   "cell_type": "code",
   "execution_count": 157,
   "id": "c7092bb3-3945-4ef9-ac39-610be4f26906",
   "metadata": {},
   "outputs": [],
   "source": [
    "df['exter_cond'] = df['exter_cond'].map({'Po': 0, 'Fa': 1, 'TA': 2, 'Gd': 3, 'Ex':4})"
   ]
  },
  {
   "cell_type": "code",
   "execution_count": 158,
   "id": "30cf3fa7-6052-4c6b-a329-9bc86d9b7d4b",
   "metadata": {},
   "outputs": [
    {
     "data": {
      "text/plain": [
       "2    770\n",
       "3     84\n",
       "1     18\n",
       "4      5\n",
       "0      1\n",
       "Name: exter_cond, dtype: int64"
      ]
     },
     "execution_count": 158,
     "metadata": {},
     "output_type": "execute_result"
    }
   ],
   "source": [
    "df['exter_cond'].value_counts()"
   ]
  },
  {
   "cell_type": "code",
   "execution_count": 159,
   "id": "ef7abb93-4447-4254-9b72-0f16778e3523",
   "metadata": {},
   "outputs": [],
   "source": [
    "df['exter_qual'] = df['exter_qual'].map({'Po': 0, 'Fa': 1, 'TA': 2, 'Gd': 3, 'Ex':4})"
   ]
  },
  {
   "cell_type": "code",
   "execution_count": 160,
   "id": "25ced29e-e1d9-4d35-af4f-0287e725917f",
   "metadata": {},
   "outputs": [
    {
     "data": {
      "text/plain": [
       "2    552\n",
       "3    292\n",
       "4     25\n",
       "1      9\n",
       "Name: exter_qual, dtype: int64"
      ]
     },
     "execution_count": 160,
     "metadata": {},
     "output_type": "execute_result"
    }
   ],
   "source": [
    "df['exter_qual'].value_counts()"
   ]
  },
  {
   "cell_type": "code",
   "execution_count": 161,
   "id": "2084daa9-8139-4bbb-ac00-656e0e829680",
   "metadata": {},
   "outputs": [
    {
     "data": {
      "text/plain": [
       "Ex    429\n",
       "TA    267\n",
       "Gd    157\n",
       "Fa     25\n",
       "Name: heating_qc, dtype: int64"
      ]
     },
     "execution_count": 161,
     "metadata": {},
     "output_type": "execute_result"
    }
   ],
   "source": [
    "df['heating_qc'].value_counts()"
   ]
  },
  {
   "cell_type": "code",
   "execution_count": 162,
   "id": "433a6979-4923-40d8-9941-0063ee88c5e6",
   "metadata": {},
   "outputs": [],
   "source": [
    "df['heating_qc'] = df['heating_qc'].map({'Po': 0, 'Fa': 1, 'TA': 2, 'Gd': 3, 'Ex':4})"
   ]
  },
  {
   "cell_type": "code",
   "execution_count": 163,
   "id": "6128aec1-4f10-48f0-9285-8e73bf0c73d3",
   "metadata": {},
   "outputs": [
    {
     "data": {
      "text/plain": [
       "4    429\n",
       "2    267\n",
       "3    157\n",
       "1     25\n",
       "Name: heating_qc, dtype: int64"
      ]
     },
     "execution_count": 163,
     "metadata": {},
     "output_type": "execute_result"
    }
   ],
   "source": [
    "df['heating_qc'].value_counts()"
   ]
  },
  {
   "cell_type": "code",
   "execution_count": 164,
   "id": "a25a3f41-123a-4554-8302-d52dd52329e4",
   "metadata": {},
   "outputs": [
    {
     "data": {
      "text/plain": [
       "TA    447\n",
       "Gd    354\n",
       "Ex     53\n",
       "Fa     23\n",
       "Po      1\n",
       "Name: kitchen_qual, dtype: int64"
      ]
     },
     "execution_count": 164,
     "metadata": {},
     "output_type": "execute_result"
    }
   ],
   "source": [
    "df['kitchen_qual'].value_counts()"
   ]
  },
  {
   "cell_type": "code",
   "execution_count": 165,
   "id": "739f3779-0825-4e4d-b0ca-e029f19f5067",
   "metadata": {},
   "outputs": [],
   "source": [
    "df['kitchen_qual'] = df['kitchen_qual'].map({'Po': 0, 'Fa': 1, 'TA': 2, 'Gd': 3, 'Ex':4})"
   ]
  },
  {
   "cell_type": "code",
   "execution_count": 166,
   "id": "b09fdd1e-3bba-455b-a25a-9fa63406937f",
   "metadata": {},
   "outputs": [
    {
     "data": {
      "text/plain": [
       "2    447\n",
       "3    354\n",
       "4     53\n",
       "1     23\n",
       "0      1\n",
       "Name: kitchen_qual, dtype: int64"
      ]
     },
     "execution_count": 166,
     "metadata": {},
     "output_type": "execute_result"
    }
   ],
   "source": [
    "df['kitchen_qual'].value_counts()"
   ]
  },
  {
   "cell_type": "markdown",
   "id": "fdeaa45f-ac16-4e9e-9145-2052f49cc526",
   "metadata": {},
   "source": [
    "0 is Typical, 1 is Minor Deductions 1, 2 is Minor Deductions 2, 3 is Moderate Deductions, 4 is Major Deductions 1, 5 is Major Deductions 2, 6 is Severely Damaged, 7 is Salvage only."
   ]
  },
  {
   "cell_type": "code",
   "execution_count": 167,
   "id": "21e99705-6930-4b3b-893d-4c9c44aad798",
   "metadata": {},
   "outputs": [
    {
     "data": {
      "text/plain": [
       "Typ     812\n",
       "Min2     28\n",
       "Min1     23\n",
       "Maj1      7\n",
       "Mod       6\n",
       "Maj2      2\n",
       "Name: functional, dtype: int64"
      ]
     },
     "execution_count": 167,
     "metadata": {},
     "output_type": "execute_result"
    }
   ],
   "source": [
    "df['functional'].value_counts()"
   ]
  },
  {
   "cell_type": "code",
   "execution_count": 168,
   "id": "513f5457-eba6-4e75-82ef-6925ebc3828f",
   "metadata": {},
   "outputs": [],
   "source": [
    "df['functional'] = df['functional'].map({'Typ': 0, 'Min1': 1, 'Min2': 2, 'Mod': 3, 'Maj1': 4, \n",
    "                                         'Maj2': 5, 'Sev': 6, 'Sal':7})"
   ]
  },
  {
   "cell_type": "code",
   "execution_count": 169,
   "id": "a4c0ab3e-72e9-4dfb-8a4f-b62ac7656fe6",
   "metadata": {},
   "outputs": [
    {
     "data": {
      "text/plain": [
       "0    812\n",
       "2     28\n",
       "1     23\n",
       "4      7\n",
       "3      6\n",
       "5      2\n",
       "Name: functional, dtype: int64"
      ]
     },
     "execution_count": 169,
     "metadata": {},
     "output_type": "execute_result"
    }
   ],
   "source": [
    "df['functional'].value_counts()"
   ]
  },
  {
   "cell_type": "markdown",
   "id": "6c98d55a-f9e7-4d90-a656-0f98945fe06a",
   "metadata": {},
   "source": [
    "-----"
   ]
  },
  {
   "cell_type": "code",
   "execution_count": 170,
   "id": "bf3449b9-9d5f-45dc-8d6c-62ee2e4d46d7",
   "metadata": {},
   "outputs": [
    {
     "data": {
      "text/plain": [
       "NAmes      133\n",
       "CollgCr     87\n",
       "OldTown     76\n",
       "Somerst     52\n",
       "Edwards     50\n",
       "Gilbert     49\n",
       "NridgHt     44\n",
       "NWAmes      44\n",
       "Sawyer      40\n",
       "SawyerW     38\n",
       "Mitchel     32\n",
       "Crawfor     32\n",
       "BrkSide     32\n",
       "Timber      24\n",
       "IDOTRR      24\n",
       "NoRidge     23\n",
       "ClearCr     17\n",
       "SWISU       16\n",
       "MeadowV     13\n",
       "StoneBr     13\n",
       "BrDale      11\n",
       "Veenker      7\n",
       "Blmngtn      6\n",
       "NPkVill      6\n",
       "Greens       5\n",
       "Blueste      4\n",
       "Name: neighborhood, dtype: int64"
      ]
     },
     "execution_count": 170,
     "metadata": {},
     "output_type": "execute_result"
    }
   ],
   "source": [
    "df['neighborhood'].value_counts()"
   ]
  },
  {
   "cell_type": "code",
   "execution_count": 171,
   "id": "b06da2a2-56c0-4943-bc9e-0ac30cbe75ff",
   "metadata": {},
   "outputs": [
    {
     "data": {
      "text/plain": [
       "RL         674\n",
       "RM         146\n",
       "FV          38\n",
       "RH          13\n",
       "C (all)      6\n",
       "I (all)      1\n",
       "Name: ms_zoning, dtype: int64"
      ]
     },
     "execution_count": 171,
     "metadata": {},
     "output_type": "execute_result"
    }
   ],
   "source": [
    "df['ms_zoning'].value_counts()"
   ]
  },
  {
   "cell_type": "code",
   "execution_count": 172,
   "id": "1c1f353b-b0fb-4516-b27d-727a5ab15901",
   "metadata": {},
   "outputs": [
    {
     "data": {
      "text/plain": [
       "Inside     636\n",
       "Corner     163\n",
       "CulDSac     49\n",
       "FR2         25\n",
       "FR3          5\n",
       "Name: lot_config, dtype: int64"
      ]
     },
     "execution_count": 172,
     "metadata": {},
     "output_type": "execute_result"
    }
   ],
   "source": [
    "df['lot_config'].value_counts()"
   ]
  },
  {
   "cell_type": "code",
   "execution_count": 173,
   "id": "cd3dfa25-4bc2-4c42-bb96-4d5087985d48",
   "metadata": {},
   "outputs": [
    {
     "data": {
      "text/plain": [
       "Lvl    790\n",
       "Bnk     36\n",
       "HLS     35\n",
       "Low     17\n",
       "Name: land_contour, dtype: int64"
      ]
     },
     "execution_count": 173,
     "metadata": {},
     "output_type": "execute_result"
    }
   ],
   "source": [
    "df['land_contour'].value_counts()"
   ]
  },
  {
   "cell_type": "code",
   "execution_count": 174,
   "id": "5fa482db-f4d1-45c1-bd99-e94da146ecd6",
   "metadata": {},
   "outputs": [
    {
     "data": {
      "text/plain": [
       "Norm      755\n",
       "Feedr      55\n",
       "Artery     22\n",
       "RRAn       14\n",
       "PosN       11\n",
       "PosA        8\n",
       "RRAe        7\n",
       "RRNn        3\n",
       "RRNe        3\n",
       "Name: condition_1, dtype: int64"
      ]
     },
     "execution_count": 174,
     "metadata": {},
     "output_type": "execute_result"
    }
   ],
   "source": [
    "df['condition_1'].value_counts()"
   ]
  },
  {
   "cell_type": "code",
   "execution_count": 175,
   "id": "2e9dc029-319c-475d-9d0e-c854de1e811d",
   "metadata": {},
   "outputs": [
    {
     "data": {
      "text/plain": [
       "1Fam      724\n",
       "TwnhsE     72\n",
       "Duplex     34\n",
       "Twnhs      32\n",
       "2fmCon     16\n",
       "Name: bldg_type, dtype: int64"
      ]
     },
     "execution_count": 175,
     "metadata": {},
     "output_type": "execute_result"
    }
   ],
   "source": [
    "df['bldg_type'].value_counts()"
   ]
  },
  {
   "cell_type": "code",
   "execution_count": 176,
   "id": "bd55368c-fa91-4f8d-a909-10c6e536a0f6",
   "metadata": {},
   "outputs": [
    {
     "data": {
      "text/plain": [
       "1Story    422\n",
       "2Story    274\n",
       "1.5Fin     96\n",
       "SLvl       34\n",
       "SFoyer     33\n",
       "2.5Unf     10\n",
       "1.5Unf      7\n",
       "2.5Fin      2\n",
       "Name: house_style, dtype: int64"
      ]
     },
     "execution_count": 176,
     "metadata": {},
     "output_type": "execute_result"
    }
   ],
   "source": [
    "df['house_style'].value_counts()"
   ]
  },
  {
   "cell_type": "code",
   "execution_count": 177,
   "id": "0c13990f-eeac-4098-a9a6-34d8c935989a",
   "metadata": {},
   "outputs": [
    {
     "data": {
      "text/plain": [
       "CompShg    861\n",
       "Tar&Grv      8\n",
       "WdShake      5\n",
       "WdShngl      2\n",
       "Metal        1\n",
       "Roll         1\n",
       "Name: roof_matl, dtype: int64"
      ]
     },
     "execution_count": 177,
     "metadata": {},
     "output_type": "execute_result"
    }
   ],
   "source": [
    "df['roof_matl'].value_counts()"
   ]
  },
  {
   "cell_type": "code",
   "execution_count": 178,
   "id": "c087d6d9-80de-4130-b411-5eb7e860e7e0",
   "metadata": {},
   "outputs": [
    {
     "data": {
      "text/plain": [
       "Gable      702\n",
       "Hip        153\n",
       "Gambrel     10\n",
       "Flat         7\n",
       "Mansard      4\n",
       "Shed         2\n",
       "Name: roof_style, dtype: int64"
      ]
     },
     "execution_count": 178,
     "metadata": {},
     "output_type": "execute_result"
    }
   ],
   "source": [
    "df['roof_style'].value_counts()"
   ]
  },
  {
   "cell_type": "markdown",
   "id": "b8aa28d8-f5b1-449f-9cbd-00204261f4c5",
   "metadata": {},
   "source": [
    "-----"
   ]
  },
  {
   "cell_type": "code",
   "execution_count": 179,
   "id": "58b87911-18b7-441a-9c9a-c207b810a554",
   "metadata": {},
   "outputs": [
    {
     "data": {
      "text/plain": [
       "AllPub    877\n",
       "NoSewr      1\n",
       "Name: utilities, dtype: int64"
      ]
     },
     "execution_count": 179,
     "metadata": {},
     "output_type": "execute_result"
    }
   ],
   "source": [
    "df['utilities'].value_counts()"
   ]
  },
  {
   "cell_type": "code",
   "execution_count": 180,
   "id": "4ac8b96c-c7e8-4a2c-88cc-0c28008c541f",
   "metadata": {},
   "outputs": [
    {
     "data": {
      "text/html": [
       "<div>\n",
       "<style scoped>\n",
       "    .dataframe tbody tr th:only-of-type {\n",
       "        vertical-align: middle;\n",
       "    }\n",
       "\n",
       "    .dataframe tbody tr th {\n",
       "        vertical-align: top;\n",
       "    }\n",
       "\n",
       "    .dataframe thead th {\n",
       "        text-align: right;\n",
       "    }\n",
       "</style>\n",
       "<table border=\"1\" class=\"dataframe\">\n",
       "  <thead>\n",
       "    <tr style=\"text-align: right;\">\n",
       "      <th></th>\n",
       "      <th>id</th>\n",
       "      <th>pid</th>\n",
       "      <th>ms_subclass</th>\n",
       "      <th>ms_zoning</th>\n",
       "      <th>lot_frontage</th>\n",
       "      <th>lot_area</th>\n",
       "      <th>street_surface</th>\n",
       "      <th>alley</th>\n",
       "      <th>lot_shape</th>\n",
       "      <th>land_contour</th>\n",
       "      <th>...</th>\n",
       "      <th>mo_sold</th>\n",
       "      <th>yr_sold</th>\n",
       "      <th>sale_type</th>\n",
       "      <th>saleprice</th>\n",
       "      <th>has_bsmt</th>\n",
       "      <th>has_garage</th>\n",
       "      <th>has_mas_vnr</th>\n",
       "      <th>has_pool</th>\n",
       "      <th>has_alley</th>\n",
       "      <th>has_fireplace</th>\n",
       "    </tr>\n",
       "  </thead>\n",
       "  <tbody>\n",
       "  </tbody>\n",
       "</table>\n",
       "<p>0 rows × 87 columns</p>\n",
       "</div>"
      ],
      "text/plain": [
       "Empty DataFrame\n",
       "Columns: [id, pid, ms_subclass, ms_zoning, lot_frontage, lot_area, street_surface, alley, lot_shape, land_contour, utilities, lot_config, land_slope, neighborhood, condition_1, condition_2, bldg_type, house_style, overall_qual, overall_cond, year_built, year_remod/add, roof_style, roof_matl, exterior_1st, exterior_2nd, mas_vnr_type, mas_vnr_area, exter_qual, exter_cond, foundation, bsmt_qual, bsmt_cond, bsmt_exposure, bsmtfin_type_1, bsmtfin_sf_1, bsmtfin_type_2, bsmtfin_sf_2, bsmt_unf_sf, total_bsmt_sf, heating, heating_qc, central_air, electrical, 1st_flr_sf, 2nd_flr_sf, low_qual_fin_sf, gr_liv_area, bsmt_full_bath, bsmt_half_bath, full_bath, half_bath, bedroom_abvgr, kitchen_abvgr, kitchen_qual, totrms_abvgrd, functional, fireplaces, fireplace_qu, garage_type, garage_yr_blt, garage_finish, garage_cars, garage_area, garage_qual, garage_cond, paved_drive, wood_deck_sf, open_porch_sf, enclosed_porch, 3ssn_porch, screen_porch, pool_area, pool_qc, fence, misc_feature, misc_val, mo_sold, yr_sold, sale_type, saleprice, has_bsmt, has_garage, has_mas_vnr, has_pool, has_alley, has_fireplace]\n",
       "Index: []\n",
       "\n",
       "[0 rows x 87 columns]"
      ]
     },
     "execution_count": 180,
     "metadata": {},
     "output_type": "execute_result"
    }
   ],
   "source": [
    "df[df['utilities'] == 'NoSeWa']"
   ]
  },
  {
   "cell_type": "code",
   "execution_count": 181,
   "id": "e5662153-ebcc-4345-bc96-c6d214f45e6a",
   "metadata": {},
   "outputs": [
    {
     "data": {
      "text/html": [
       "<div>\n",
       "<style scoped>\n",
       "    .dataframe tbody tr th:only-of-type {\n",
       "        vertical-align: middle;\n",
       "    }\n",
       "\n",
       "    .dataframe tbody tr th {\n",
       "        vertical-align: top;\n",
       "    }\n",
       "\n",
       "    .dataframe thead th {\n",
       "        text-align: right;\n",
       "    }\n",
       "</style>\n",
       "<table border=\"1\" class=\"dataframe\">\n",
       "  <thead>\n",
       "    <tr style=\"text-align: right;\">\n",
       "      <th></th>\n",
       "      <th>id</th>\n",
       "      <th>pid</th>\n",
       "      <th>ms_subclass</th>\n",
       "      <th>ms_zoning</th>\n",
       "      <th>lot_frontage</th>\n",
       "      <th>lot_area</th>\n",
       "      <th>street_surface</th>\n",
       "      <th>alley</th>\n",
       "      <th>lot_shape</th>\n",
       "      <th>land_contour</th>\n",
       "      <th>...</th>\n",
       "      <th>mo_sold</th>\n",
       "      <th>yr_sold</th>\n",
       "      <th>sale_type</th>\n",
       "      <th>saleprice</th>\n",
       "      <th>has_bsmt</th>\n",
       "      <th>has_garage</th>\n",
       "      <th>has_mas_vnr</th>\n",
       "      <th>has_pool</th>\n",
       "      <th>has_alley</th>\n",
       "      <th>has_fireplace</th>\n",
       "    </tr>\n",
       "  </thead>\n",
       "  <tbody>\n",
       "    <tr>\n",
       "      <th>143</th>\n",
       "      <td>1014</td>\n",
       "      <td>527226020</td>\n",
       "      <td>20</td>\n",
       "      <td>RL</td>\n",
       "      <td>0.0</td>\n",
       "      <td>31220</td>\n",
       "      <td>1</td>\n",
       "      <td>None</td>\n",
       "      <td>1</td>\n",
       "      <td>Bnk</td>\n",
       "      <td>...</td>\n",
       "      <td>5</td>\n",
       "      <td>2008</td>\n",
       "      <td>WD</td>\n",
       "      <td>0</td>\n",
       "      <td>1</td>\n",
       "      <td>1</td>\n",
       "      <td>0</td>\n",
       "      <td>0</td>\n",
       "      <td>0</td>\n",
       "      <td>1</td>\n",
       "    </tr>\n",
       "  </tbody>\n",
       "</table>\n",
       "<p>1 rows × 87 columns</p>\n",
       "</div>"
      ],
      "text/plain": [
       "       id        pid  ms_subclass ms_zoning  lot_frontage  lot_area  \\\n",
       "143  1014  527226020           20        RL           0.0     31220   \n",
       "\n",
       "     street_surface alley  lot_shape land_contour  ... mo_sold yr_sold  \\\n",
       "143               1  None          1          Bnk  ...       5    2008   \n",
       "\n",
       "     sale_type saleprice has_bsmt has_garage has_mas_vnr has_pool  has_alley  \\\n",
       "143        WD          0        1          1           0        0          0   \n",
       "\n",
       "     has_fireplace  \n",
       "143              1  \n",
       "\n",
       "[1 rows x 87 columns]"
      ]
     },
     "execution_count": 181,
     "metadata": {},
     "output_type": "execute_result"
    }
   ],
   "source": [
    "df[df['utilities'] == 'NoSewr']"
   ]
  },
  {
   "cell_type": "markdown",
   "id": "98cecf16-add4-42a3-86ed-3d7f211e3198",
   "metadata": {},
   "source": [
    "Deleting 'utilities'."
   ]
  },
  {
   "cell_type": "code",
   "execution_count": 182,
   "id": "8d5d4e34-2379-49b8-a79f-f8c226257474",
   "metadata": {},
   "outputs": [],
   "source": [
    "df.drop(columns = 'utilities', inplace = True)"
   ]
  },
  {
   "cell_type": "code",
   "execution_count": 183,
   "id": "4ed93284-c096-4a4d-aea6-e05b093b4b5a",
   "metadata": {},
   "outputs": [
    {
     "data": {
      "text/plain": [
       "(878, 86)"
      ]
     },
     "execution_count": 183,
     "metadata": {},
     "output_type": "execute_result"
    }
   ],
   "source": [
    "df.shape"
   ]
  },
  {
   "cell_type": "code",
   "execution_count": 184,
   "id": "dfff8348-ff32-4c6b-9ffb-0b5f79405b92",
   "metadata": {},
   "outputs": [],
   "source": [
    "df.to_csv('datasets/draft2_no_dummies_kaggle_test.csv', index = False)"
   ]
  }
 ],
 "metadata": {
  "kernelspec": {
   "display_name": "Python [conda env:dsi]",
   "language": "python",
   "name": "conda-env-dsi-py"
  },
  "language_info": {
   "codemirror_mode": {
    "name": "ipython",
    "version": 3
   },
   "file_extension": ".py",
   "mimetype": "text/x-python",
   "name": "python",
   "nbconvert_exporter": "python",
   "pygments_lexer": "ipython3",
   "version": "3.9.12"
  }
 },
 "nbformat": 4,
 "nbformat_minor": 5
}
